{
 "cells": [
  {
   "cell_type": "markdown",
   "id": "5422fde4",
   "metadata": {},
   "source": [
    "# Анализ сервиса аренды самокатов Go Fast"
   ]
  },
  {
   "cell_type": "markdown",
   "id": "5e925c33",
   "metadata": {},
   "source": [
    "### Введение"
   ]
  },
  {
   "cell_type": "markdown",
   "id": "871fd222",
   "metadata": {},
   "source": [
    "В данном проекте был проведён анализ данных сервиса аренды самокатов Go Fast на основании информации о его пользователях, их поездках и подписках. Нашей основной целью было ознакомиться с особенностями эксплуатации сервиса в зависимости категории пользователя - с подпиской и без, а также выяснить, являются ли пользователи с подпиской более выгодной аудиторией для сервиса.\n",
    "\n",
    "Чтобы совершать поездки по городу, пользователи сервиса GoFast пользуются мобильным приложением. Сервисом можно пользоваться:\n",
    "- без подписки \n",
    " * абонентская плата отсутствует;\n",
    " * стоимость одной минуты поездки — 8 рублей;\n",
    " * стоимость старта (начала поездки) — 50 рублей;\n",
    "\n",
    "- с подпиской Ultra\n",
    " * абонентская плата — 199 рублей в месяц;\n",
    " * стоимость одной минуты поездки — 6 рублей;\n",
    " * стоимость старта — бесплатно.\n",
    "\n"
   ]
  },
  {
   "cell_type": "markdown",
   "id": "ac734a8f",
   "metadata": {},
   "source": [
    "### Описание данных"
   ]
  },
  {
   "cell_type": "markdown",
   "id": "93387cce",
   "metadata": {},
   "source": [
    "В предосталенных для анализа данных есть информация о пользователях, их поездках и подписках.\n",
    "\n",
    "**Пользователи** — *users_go.csv*\n",
    " * user_id - уникальный идентификатор пользователя\n",
    " * name\t- имя пользователя\n",
    " * age - возраст\n",
    " * city - город\n",
    " * subscription_type - тип подписки (free, ultra)\n",
    "\n",
    "**Поездки** — *rides_go.csv*\n",
    " * user_id - уникальный идентификатор пользователя\n",
    " * distance - расстояние, которое пользователь проехал в текущей сессии (в метрах)\n",
    " * duration - продолжительность сессии (в минутах) — время с того момента, как пользователь нажал кнопку «Начать поездку» до момента, как он нажал кнопку «Завершить поездку»\n",
    " * date - дата совершения поездки\n",
    "\n",
    "**Подписки** — *subscriptions_go.csv*\n",
    " * subscription_type - тип подписки\n",
    " * minute_price - стоимость одной минуты поездки по данной подписке\n",
    " * start_ride_price - стоимость начала поездки\n",
    " * subscription_fee - стоимость ежемесячного платежа"
   ]
  },
  {
   "cell_type": "markdown",
   "id": "3da55e1d",
   "metadata": {},
   "source": [
    "### План работы"
   ]
  },
  {
   "cell_type": "markdown",
   "id": "2711d426",
   "metadata": {},
   "source": [
    "<ol> \n",
    "<li>Введение</li>\n",
    "<li>Описание данных</li>\n",
    "<li>План работы</li>\n",
    "<li>Выгрузка данных. Библиотеки</li>\n",
    "<li>Предобработка данных</li>\n",
    "<li>Исследовательский анализ данных</li>\n",
    "<ol>\n",
    "<li>Частота встречаемости городов</li>\n",
    "<li>Соотношение пользователей с подпиской и без подписки</li>\n",
    "<li>Возраст пользователей</li>\n",
    "<li>Расстояние за одну поездку</li>\n",
    "<li>Продолжительность поездок</li>\n",
    "</ol>\n",
    "<li>Объединение данных</li>\n",
    "<ol>\n",
    "<li>Данные о пользователях, поездках и подписках в одном датафрейм</li>\n",
    "<li>Расстояние за одну поездку</li>\n",
    "<li>Время поездки</li>\n",
    "    </ol>\n",
    "<li>Подсчёт выручки</li>\n",
    "<ol>\n",
    "<li>Датафрейм с агрегированными данными о поездках</li> \n",
    "</ol>\n",
    "<li>Проверка гипотез</li>\n",
    "<ol>\n",
    "<li>Тратят ли пользователи с подпиской больше времени на поездку, чем бользователи без подписки?</li>    \n",
    "<li>Сравнение среднего расстояния одной поездки пользователя с подпиской с оптимальной дистанцией.</li>    \n",
    "<li>Сравнение помесячной выручки пользователй с подпиской и без.</li>\n",
    "<li>Теоретическая гипотеза</li>\n",
    "</ol>\n",
    "<li>Общий вывод</li>\n",
    "</ol>"
   ]
  },
  {
   "cell_type": "markdown",
   "id": "c42cbe00",
   "metadata": {},
   "source": [
    "### Выгрузка данных. Библиотеки"
   ]
  },
  {
   "cell_type": "code",
   "execution_count": 1,
   "id": "72576667",
   "metadata": {},
   "outputs": [],
   "source": [
    "import pandas as pd\n",
    "import numpy as np\n",
    "from scipy import stats as st\n",
    "import matplotlib.pyplot as plt"
   ]
  },
  {
   "cell_type": "code",
   "execution_count": 2,
   "id": "eff9f206",
   "metadata": {},
   "outputs": [],
   "source": [
    "users_data = pd.read_csv('/datasets/users_go.csv')\n",
    "rides_data = pd.read_csv('/datasets/rides_go.csv')\n",
    "subscriptions_data = pd.read_csv('/datasets/subscriptions_go.csv')"
   ]
  },
  {
   "cell_type": "code",
   "execution_count": 3,
   "id": "6532e3dc",
   "metadata": {},
   "outputs": [
    {
     "data": {
      "text/html": [
       "<div>\n",
       "<style scoped>\n",
       "    .dataframe tbody tr th:only-of-type {\n",
       "        vertical-align: middle;\n",
       "    }\n",
       "\n",
       "    .dataframe tbody tr th {\n",
       "        vertical-align: top;\n",
       "    }\n",
       "\n",
       "    .dataframe thead th {\n",
       "        text-align: right;\n",
       "    }\n",
       "</style>\n",
       "<table border=\"1\" class=\"dataframe\">\n",
       "  <thead>\n",
       "    <tr style=\"text-align: right;\">\n",
       "      <th></th>\n",
       "      <th>user_id</th>\n",
       "      <th>name</th>\n",
       "      <th>age</th>\n",
       "      <th>city</th>\n",
       "      <th>subscription_type</th>\n",
       "    </tr>\n",
       "  </thead>\n",
       "  <tbody>\n",
       "    <tr>\n",
       "      <th>1545</th>\n",
       "      <td>807</td>\n",
       "      <td>Александр</td>\n",
       "      <td>28</td>\n",
       "      <td>Екатеринбург</td>\n",
       "      <td>free</td>\n",
       "    </tr>\n",
       "    <tr>\n",
       "      <th>1546</th>\n",
       "      <td>924</td>\n",
       "      <td>Мария</td>\n",
       "      <td>23</td>\n",
       "      <td>Пятигорск</td>\n",
       "      <td>free</td>\n",
       "    </tr>\n",
       "    <tr>\n",
       "      <th>1547</th>\n",
       "      <td>635</td>\n",
       "      <td>Герман</td>\n",
       "      <td>21</td>\n",
       "      <td>Москва</td>\n",
       "      <td>ultra</td>\n",
       "    </tr>\n",
       "    <tr>\n",
       "      <th>1548</th>\n",
       "      <td>136</td>\n",
       "      <td>Марсель</td>\n",
       "      <td>25</td>\n",
       "      <td>Тюмень</td>\n",
       "      <td>ultra</td>\n",
       "    </tr>\n",
       "    <tr>\n",
       "      <th>1549</th>\n",
       "      <td>108</td>\n",
       "      <td>Влада</td>\n",
       "      <td>29</td>\n",
       "      <td>Тюмень</td>\n",
       "      <td>ultra</td>\n",
       "    </tr>\n",
       "    <tr>\n",
       "      <th>1550</th>\n",
       "      <td>737</td>\n",
       "      <td>Мелания</td>\n",
       "      <td>27</td>\n",
       "      <td>Ростов-на-Дону</td>\n",
       "      <td>free</td>\n",
       "    </tr>\n",
       "    <tr>\n",
       "      <th>1551</th>\n",
       "      <td>666</td>\n",
       "      <td>Зарина</td>\n",
       "      <td>29</td>\n",
       "      <td>Москва</td>\n",
       "      <td>ultra</td>\n",
       "    </tr>\n",
       "    <tr>\n",
       "      <th>1552</th>\n",
       "      <td>297</td>\n",
       "      <td>Егор</td>\n",
       "      <td>33</td>\n",
       "      <td>Пятигорск</td>\n",
       "      <td>ultra</td>\n",
       "    </tr>\n",
       "    <tr>\n",
       "      <th>1553</th>\n",
       "      <td>121</td>\n",
       "      <td>Алина</td>\n",
       "      <td>25</td>\n",
       "      <td>Пятигорск</td>\n",
       "      <td>ultra</td>\n",
       "    </tr>\n",
       "    <tr>\n",
       "      <th>1554</th>\n",
       "      <td>1198</td>\n",
       "      <td>Демид</td>\n",
       "      <td>29</td>\n",
       "      <td>Ростов-на-Дону</td>\n",
       "      <td>free</td>\n",
       "    </tr>\n",
       "    <tr>\n",
       "      <th>1555</th>\n",
       "      <td>72</td>\n",
       "      <td>Никита</td>\n",
       "      <td>25</td>\n",
       "      <td>Москва</td>\n",
       "      <td>ultra</td>\n",
       "    </tr>\n",
       "    <tr>\n",
       "      <th>1556</th>\n",
       "      <td>422</td>\n",
       "      <td>Кирилл</td>\n",
       "      <td>27</td>\n",
       "      <td>Сочи</td>\n",
       "      <td>ultra</td>\n",
       "    </tr>\n",
       "    <tr>\n",
       "      <th>1557</th>\n",
       "      <td>611</td>\n",
       "      <td>Владимир</td>\n",
       "      <td>28</td>\n",
       "      <td>Омск</td>\n",
       "      <td>ultra</td>\n",
       "    </tr>\n",
       "    <tr>\n",
       "      <th>1558</th>\n",
       "      <td>1237</td>\n",
       "      <td>Евгения</td>\n",
       "      <td>23</td>\n",
       "      <td>Тюмень</td>\n",
       "      <td>free</td>\n",
       "    </tr>\n",
       "    <tr>\n",
       "      <th>1559</th>\n",
       "      <td>209</td>\n",
       "      <td>Андрей</td>\n",
       "      <td>23</td>\n",
       "      <td>Омск</td>\n",
       "      <td>ultra</td>\n",
       "    </tr>\n",
       "    <tr>\n",
       "      <th>1560</th>\n",
       "      <td>829</td>\n",
       "      <td>Федор</td>\n",
       "      <td>29</td>\n",
       "      <td>Пятигорск</td>\n",
       "      <td>free</td>\n",
       "    </tr>\n",
       "    <tr>\n",
       "      <th>1561</th>\n",
       "      <td>809</td>\n",
       "      <td>Юрий</td>\n",
       "      <td>26</td>\n",
       "      <td>Сочи</td>\n",
       "      <td>free</td>\n",
       "    </tr>\n",
       "    <tr>\n",
       "      <th>1562</th>\n",
       "      <td>307</td>\n",
       "      <td>Ясмина</td>\n",
       "      <td>19</td>\n",
       "      <td>Краснодар</td>\n",
       "      <td>ultra</td>\n",
       "    </tr>\n",
       "    <tr>\n",
       "      <th>1563</th>\n",
       "      <td>47</td>\n",
       "      <td>Юрий</td>\n",
       "      <td>28</td>\n",
       "      <td>Тюмень</td>\n",
       "      <td>ultra</td>\n",
       "    </tr>\n",
       "    <tr>\n",
       "      <th>1564</th>\n",
       "      <td>1045</td>\n",
       "      <td>Артемий</td>\n",
       "      <td>28</td>\n",
       "      <td>Ростов-на-Дону</td>\n",
       "      <td>free</td>\n",
       "    </tr>\n",
       "  </tbody>\n",
       "</table>\n",
       "</div>"
      ],
      "text/plain": [
       "      user_id       name  age            city subscription_type\n",
       "1545      807  Александр   28    Екатеринбург              free\n",
       "1546      924      Мария   23       Пятигорск              free\n",
       "1547      635     Герман   21          Москва             ultra\n",
       "1548      136    Марсель   25          Тюмень             ultra\n",
       "1549      108      Влада   29          Тюмень             ultra\n",
       "1550      737    Мелания   27  Ростов-на-Дону              free\n",
       "1551      666     Зарина   29          Москва             ultra\n",
       "1552      297       Егор   33       Пятигорск             ultra\n",
       "1553      121      Алина   25       Пятигорск             ultra\n",
       "1554     1198      Демид   29  Ростов-на-Дону              free\n",
       "1555       72     Никита   25          Москва             ultra\n",
       "1556      422     Кирилл   27            Сочи             ultra\n",
       "1557      611   Владимир   28            Омск             ultra\n",
       "1558     1237    Евгения   23          Тюмень              free\n",
       "1559      209     Андрей   23            Омск             ultra\n",
       "1560      829      Федор   29       Пятигорск              free\n",
       "1561      809       Юрий   26            Сочи              free\n",
       "1562      307     Ясмина   19       Краснодар             ultra\n",
       "1563       47       Юрий   28          Тюмень             ultra\n",
       "1564     1045    Артемий   28  Ростов-на-Дону              free"
      ]
     },
     "execution_count": 3,
     "metadata": {},
     "output_type": "execute_result"
    }
   ],
   "source": [
    "users_data.tail(20)"
   ]
  },
  {
   "cell_type": "code",
   "execution_count": 4,
   "id": "cd8ece71",
   "metadata": {},
   "outputs": [
    {
     "name": "stdout",
     "output_type": "stream",
     "text": [
      "<class 'pandas.core.frame.DataFrame'>\n",
      "RangeIndex: 1565 entries, 0 to 1564\n",
      "Data columns (total 5 columns):\n",
      " #   Column             Non-Null Count  Dtype \n",
      "---  ------             --------------  ----- \n",
      " 0   user_id            1565 non-null   int64 \n",
      " 1   name               1565 non-null   object\n",
      " 2   age                1565 non-null   int64 \n",
      " 3   city               1565 non-null   object\n",
      " 4   subscription_type  1565 non-null   object\n",
      "dtypes: int64(2), object(3)\n",
      "memory usage: 61.3+ KB\n"
     ]
    }
   ],
   "source": [
    "users_data.info()"
   ]
  },
  {
   "cell_type": "code",
   "execution_count": 5,
   "id": "9621f1cb",
   "metadata": {},
   "outputs": [
    {
     "data": {
      "text/plain": [
       "array([[<AxesSubplot:title={'center':'user_id'}>,\n",
       "        <AxesSubplot:title={'center':'age'}>]], dtype=object)"
      ]
     },
     "execution_count": 5,
     "metadata": {},
     "output_type": "execute_result"
    },
    {
     "data": {
      "image/png": "[encoded data removed]",
      "text/plain": [
       "<Figure size 720x288 with 2 Axes>"
      ]
     },
     "metadata": {
      "needs_background": "light"
     },
     "output_type": "display_data"
    }
   ],
   "source": [
    "users_data.hist(figsize=(10, 4))"
   ]
  },
  {
   "cell_type": "markdown",
   "id": "7efa9ab9",
   "metadata": {},
   "source": [
    "В данных о пользователях 5 строк, 1565 строк, нет пропусков, названия колонок корректны, возможно стоит поменять тип данных в некоторых столбцах. По \"хвосту\" видим, что id пользователей меньше, чем строк д/ф, предполагаю дубликаты. "
   ]
  },
  {
   "cell_type": "code",
   "execution_count": 6,
   "id": "c5701b70",
   "metadata": {},
   "outputs": [
    {
     "data": {
      "text/html": [
       "<div>\n",
       "<style scoped>\n",
       "    .dataframe tbody tr th:only-of-type {\n",
       "        vertical-align: middle;\n",
       "    }\n",
       "\n",
       "    .dataframe tbody tr th {\n",
       "        vertical-align: top;\n",
       "    }\n",
       "\n",
       "    .dataframe thead th {\n",
       "        text-align: right;\n",
       "    }\n",
       "</style>\n",
       "<table border=\"1\" class=\"dataframe\">\n",
       "  <thead>\n",
       "    <tr style=\"text-align: right;\">\n",
       "      <th></th>\n",
       "      <th>user_id</th>\n",
       "      <th>distance</th>\n",
       "      <th>duration</th>\n",
       "      <th>date</th>\n",
       "    </tr>\n",
       "  </thead>\n",
       "  <tbody>\n",
       "    <tr>\n",
       "      <th>0</th>\n",
       "      <td>1</td>\n",
       "      <td>4409.919140</td>\n",
       "      <td>25.599769</td>\n",
       "      <td>2021-01-01</td>\n",
       "    </tr>\n",
       "    <tr>\n",
       "      <th>1</th>\n",
       "      <td>1</td>\n",
       "      <td>2617.592153</td>\n",
       "      <td>15.816871</td>\n",
       "      <td>2021-01-18</td>\n",
       "    </tr>\n",
       "    <tr>\n",
       "      <th>2</th>\n",
       "      <td>1</td>\n",
       "      <td>754.159807</td>\n",
       "      <td>6.232113</td>\n",
       "      <td>2021-04-20</td>\n",
       "    </tr>\n",
       "    <tr>\n",
       "      <th>3</th>\n",
       "      <td>1</td>\n",
       "      <td>2694.783254</td>\n",
       "      <td>18.511000</td>\n",
       "      <td>2021-08-11</td>\n",
       "    </tr>\n",
       "    <tr>\n",
       "      <th>4</th>\n",
       "      <td>1</td>\n",
       "      <td>4028.687306</td>\n",
       "      <td>26.265803</td>\n",
       "      <td>2021-08-28</td>\n",
       "    </tr>\n",
       "    <tr>\n",
       "      <th>5</th>\n",
       "      <td>1</td>\n",
       "      <td>2770.890808</td>\n",
       "      <td>16.650138</td>\n",
       "      <td>2021-10-09</td>\n",
       "    </tr>\n",
       "    <tr>\n",
       "      <th>6</th>\n",
       "      <td>1</td>\n",
       "      <td>3039.020292</td>\n",
       "      <td>14.927879</td>\n",
       "      <td>2021-10-19</td>\n",
       "    </tr>\n",
       "    <tr>\n",
       "      <th>7</th>\n",
       "      <td>1</td>\n",
       "      <td>2842.118050</td>\n",
       "      <td>23.117468</td>\n",
       "      <td>2021-11-06</td>\n",
       "    </tr>\n",
       "    <tr>\n",
       "      <th>8</th>\n",
       "      <td>1</td>\n",
       "      <td>3412.690668</td>\n",
       "      <td>15.238072</td>\n",
       "      <td>2021-11-14</td>\n",
       "    </tr>\n",
       "    <tr>\n",
       "      <th>9</th>\n",
       "      <td>1</td>\n",
       "      <td>748.690645</td>\n",
       "      <td>15.041884</td>\n",
       "      <td>2021-11-22</td>\n",
       "    </tr>\n",
       "    <tr>\n",
       "      <th>10</th>\n",
       "      <td>1</td>\n",
       "      <td>4031.020195</td>\n",
       "      <td>17.674448</td>\n",
       "      <td>2021-12-14</td>\n",
       "    </tr>\n",
       "    <tr>\n",
       "      <th>11</th>\n",
       "      <td>1</td>\n",
       "      <td>2720.609748</td>\n",
       "      <td>9.529463</td>\n",
       "      <td>2021-12-22</td>\n",
       "    </tr>\n",
       "    <tr>\n",
       "      <th>12</th>\n",
       "      <td>2</td>\n",
       "      <td>3105.086678</td>\n",
       "      <td>24.307514</td>\n",
       "      <td>2021-03-15</td>\n",
       "    </tr>\n",
       "    <tr>\n",
       "      <th>13</th>\n",
       "      <td>2</td>\n",
       "      <td>3053.519401</td>\n",
       "      <td>11.543256</td>\n",
       "      <td>2021-03-18</td>\n",
       "    </tr>\n",
       "    <tr>\n",
       "      <th>14</th>\n",
       "      <td>2</td>\n",
       "      <td>4029.116927</td>\n",
       "      <td>25.109188</td>\n",
       "      <td>2021-03-23</td>\n",
       "    </tr>\n",
       "    <tr>\n",
       "      <th>15</th>\n",
       "      <td>2</td>\n",
       "      <td>2805.786329</td>\n",
       "      <td>20.652145</td>\n",
       "      <td>2021-04-08</td>\n",
       "    </tr>\n",
       "    <tr>\n",
       "      <th>16</th>\n",
       "      <td>2</td>\n",
       "      <td>3358.595495</td>\n",
       "      <td>18.396489</td>\n",
       "      <td>2021-04-13</td>\n",
       "    </tr>\n",
       "    <tr>\n",
       "      <th>17</th>\n",
       "      <td>2</td>\n",
       "      <td>3255.338202</td>\n",
       "      <td>13.851127</td>\n",
       "      <td>2021-06-20</td>\n",
       "    </tr>\n",
       "    <tr>\n",
       "      <th>18</th>\n",
       "      <td>2</td>\n",
       "      <td>3942.817648</td>\n",
       "      <td>20.142725</td>\n",
       "      <td>2021-07-02</td>\n",
       "    </tr>\n",
       "    <tr>\n",
       "      <th>19</th>\n",
       "      <td>2</td>\n",
       "      <td>2837.905316</td>\n",
       "      <td>26.027432</td>\n",
       "      <td>2021-07-18</td>\n",
       "    </tr>\n",
       "  </tbody>\n",
       "</table>\n",
       "</div>"
      ],
      "text/plain": [
       "    user_id     distance   duration        date\n",
       "0         1  4409.919140  25.599769  2021-01-01\n",
       "1         1  2617.592153  15.816871  2021-01-18\n",
       "2         1   754.159807   6.232113  2021-04-20\n",
       "3         1  2694.783254  18.511000  2021-08-11\n",
       "4         1  4028.687306  26.265803  2021-08-28\n",
       "5         1  2770.890808  16.650138  2021-10-09\n",
       "6         1  3039.020292  14.927879  2021-10-19\n",
       "7         1  2842.118050  23.117468  2021-11-06\n",
       "8         1  3412.690668  15.238072  2021-11-14\n",
       "9         1   748.690645  15.041884  2021-11-22\n",
       "10        1  4031.020195  17.674448  2021-12-14\n",
       "11        1  2720.609748   9.529463  2021-12-22\n",
       "12        2  3105.086678  24.307514  2021-03-15\n",
       "13        2  3053.519401  11.543256  2021-03-18\n",
       "14        2  4029.116927  25.109188  2021-03-23\n",
       "15        2  2805.786329  20.652145  2021-04-08\n",
       "16        2  3358.595495  18.396489  2021-04-13\n",
       "17        2  3255.338202  13.851127  2021-06-20\n",
       "18        2  3942.817648  20.142725  2021-07-02\n",
       "19        2  2837.905316  26.027432  2021-07-18"
      ]
     },
     "execution_count": 6,
     "metadata": {},
     "output_type": "execute_result"
    }
   ],
   "source": [
    "rides_data.head(20)"
   ]
  },
  {
   "cell_type": "code",
   "execution_count": 7,
   "id": "6de6b8e8",
   "metadata": {},
   "outputs": [
    {
     "name": "stdout",
     "output_type": "stream",
     "text": [
      "<class 'pandas.core.frame.DataFrame'>\n",
      "RangeIndex: 18068 entries, 0 to 18067\n",
      "Data columns (total 4 columns):\n",
      " #   Column    Non-Null Count  Dtype  \n",
      "---  ------    --------------  -----  \n",
      " 0   user_id   18068 non-null  int64  \n",
      " 1   distance  18068 non-null  float64\n",
      " 2   duration  18068 non-null  float64\n",
      " 3   date      18068 non-null  object \n",
      "dtypes: float64(2), int64(1), object(1)\n",
      "memory usage: 564.8+ KB\n"
     ]
    }
   ],
   "source": [
    "rides_data.info()"
   ]
  },
  {
   "cell_type": "code",
   "execution_count": 8,
   "id": "c439ac3d",
   "metadata": {},
   "outputs": [
    {
     "data": {
      "text/plain": [
       "array([[<AxesSubplot:title={'center':'user_id'}>,\n",
       "        <AxesSubplot:title={'center':'distance'}>],\n",
       "       [<AxesSubplot:title={'center':'duration'}>, <AxesSubplot:>]],\n",
       "      dtype=object)"
      ]
     },
     "execution_count": 8,
     "metadata": {},
     "output_type": "execute_result"
    },
    {
     "data": {
      "image/png": "[encoded data removed]",
      "text/plain": [
       "<Figure size 576x576 with 4 Axes>"
      ]
     },
     "metadata": {
      "needs_background": "light"
     },
     "output_type": "display_data"
    }
   ],
   "source": [
    "rides_data.hist(figsize=(8, 8))"
   ]
  },
  {
   "cell_type": "markdown",
   "id": "466709c4",
   "metadata": {},
   "source": [
    "В данных о поездках 4 столбца, 18068 строк, нет пропусков, названия колонок корректны, стоит поменять тип данных в некоторых столбцах, как минимум с датой. Подозреваю аномальные значения: 0м в расстоянии, но нет 0 мин во времени поездки."
   ]
  },
  {
   "cell_type": "code",
   "execution_count": 9,
   "id": "3b7c23ad",
   "metadata": {},
   "outputs": [
    {
     "data": {
      "text/html": [
       "<div>\n",
       "<style scoped>\n",
       "    .dataframe tbody tr th:only-of-type {\n",
       "        vertical-align: middle;\n",
       "    }\n",
       "\n",
       "    .dataframe tbody tr th {\n",
       "        vertical-align: top;\n",
       "    }\n",
       "\n",
       "    .dataframe thead th {\n",
       "        text-align: right;\n",
       "    }\n",
       "</style>\n",
       "<table border=\"1\" class=\"dataframe\">\n",
       "  <thead>\n",
       "    <tr style=\"text-align: right;\">\n",
       "      <th></th>\n",
       "      <th>subscription_type</th>\n",
       "      <th>minute_price</th>\n",
       "      <th>start_ride_price</th>\n",
       "      <th>subscription_fee</th>\n",
       "    </tr>\n",
       "  </thead>\n",
       "  <tbody>\n",
       "    <tr>\n",
       "      <th>0</th>\n",
       "      <td>free</td>\n",
       "      <td>8</td>\n",
       "      <td>50</td>\n",
       "      <td>0</td>\n",
       "    </tr>\n",
       "    <tr>\n",
       "      <th>1</th>\n",
       "      <td>ultra</td>\n",
       "      <td>6</td>\n",
       "      <td>0</td>\n",
       "      <td>199</td>\n",
       "    </tr>\n",
       "  </tbody>\n",
       "</table>\n",
       "</div>"
      ],
      "text/plain": [
       "  subscription_type  minute_price  start_ride_price  subscription_fee\n",
       "0              free             8                50                 0\n",
       "1             ultra             6                 0               199"
      ]
     },
     "execution_count": 9,
     "metadata": {},
     "output_type": "execute_result"
    }
   ],
   "source": [
    "subscriptions_data"
   ]
  },
  {
   "cell_type": "code",
   "execution_count": 10,
   "id": "e91a08ef",
   "metadata": {
    "scrolled": true
   },
   "outputs": [
    {
     "name": "stdout",
     "output_type": "stream",
     "text": [
      "<class 'pandas.core.frame.DataFrame'>\n",
      "RangeIndex: 2 entries, 0 to 1\n",
      "Data columns (total 4 columns):\n",
      " #   Column             Non-Null Count  Dtype \n",
      "---  ------             --------------  ----- \n",
      " 0   subscription_type  2 non-null      object\n",
      " 1   minute_price       2 non-null      int64 \n",
      " 2   start_ride_price   2 non-null      int64 \n",
      " 3   subscription_fee   2 non-null      int64 \n",
      "dtypes: int64(3), object(1)\n",
      "memory usage: 192.0+ bytes\n"
     ]
    }
   ],
   "source": [
    "subscriptions_data.info()"
   ]
  },
  {
   "cell_type": "markdown",
   "id": "24c84638",
   "metadata": {},
   "source": [
    "В данных о подписках 4 столбца, 2 строки, нет пропусков, названия колонок корректны, типы данных менять не стоит."
   ]
  },
  {
   "cell_type": "markdown",
   "id": "e95ebca7",
   "metadata": {},
   "source": [
    "### Предобработка данных"
   ]
  },
  {
   "cell_type": "markdown",
   "id": "2a177a95",
   "metadata": {},
   "source": [
    "Поменяем типы данных в столбцах, где это необходимо."
   ]
  },
  {
   "cell_type": "code",
   "execution_count": 11,
   "id": "1a195f87",
   "metadata": {},
   "outputs": [],
   "source": [
    "rides_data['date'] = pd.to_datetime(\n",
    "    rides_data['date'], format='%Y.%m.%d')\n"
   ]
  },
  {
   "cell_type": "markdown",
   "id": "fbe7664a",
   "metadata": {},
   "source": [
    "\n",
    "Выведем в отдельный столбец номер месяца, когда была совершена поездка. Перед этим проверим, за сколько лет предоставлены данные, чтобы учесть это при классификации."
   ]
  },
  {
   "cell_type": "code",
   "execution_count": 12,
   "id": "e13d7a1c",
   "metadata": {},
   "outputs": [
    {
     "data": {
      "text/plain": [
       "array([2021])"
      ]
     },
     "execution_count": 12,
     "metadata": {},
     "output_type": "execute_result"
    }
   ],
   "source": [
    "rides_data['date'].dt.year.unique()"
   ]
  },
  {
   "cell_type": "markdown",
   "id": "fa8e98ef",
   "metadata": {},
   "source": [
    "\n",
    "  Данные предоставлены только за один год - 2021."
   ]
  },
  {
   "cell_type": "code",
   "execution_count": 13,
   "id": "5380ec6f",
   "metadata": {},
   "outputs": [],
   "source": [
    "rides_data['month'] = rides_data['date'].dt.month"
   ]
  },
  {
   "cell_type": "code",
   "execution_count": 14,
   "id": "121567d7",
   "metadata": {},
   "outputs": [
    {
     "data": {
      "text/html": [
       "<div>\n",
       "<style scoped>\n",
       "    .dataframe tbody tr th:only-of-type {\n",
       "        vertical-align: middle;\n",
       "    }\n",
       "\n",
       "    .dataframe tbody tr th {\n",
       "        vertical-align: top;\n",
       "    }\n",
       "\n",
       "    .dataframe thead th {\n",
       "        text-align: right;\n",
       "    }\n",
       "</style>\n",
       "<table border=\"1\" class=\"dataframe\">\n",
       "  <thead>\n",
       "    <tr style=\"text-align: right;\">\n",
       "      <th></th>\n",
       "      <th>user_id</th>\n",
       "      <th>distance</th>\n",
       "      <th>duration</th>\n",
       "      <th>date</th>\n",
       "      <th>month</th>\n",
       "    </tr>\n",
       "  </thead>\n",
       "  <tbody>\n",
       "    <tr>\n",
       "      <th>0</th>\n",
       "      <td>1</td>\n",
       "      <td>4409.919140</td>\n",
       "      <td>25.599769</td>\n",
       "      <td>2021-01-01</td>\n",
       "      <td>1</td>\n",
       "    </tr>\n",
       "    <tr>\n",
       "      <th>1</th>\n",
       "      <td>1</td>\n",
       "      <td>2617.592153</td>\n",
       "      <td>15.816871</td>\n",
       "      <td>2021-01-18</td>\n",
       "      <td>1</td>\n",
       "    </tr>\n",
       "    <tr>\n",
       "      <th>2</th>\n",
       "      <td>1</td>\n",
       "      <td>754.159807</td>\n",
       "      <td>6.232113</td>\n",
       "      <td>2021-04-20</td>\n",
       "      <td>4</td>\n",
       "    </tr>\n",
       "    <tr>\n",
       "      <th>3</th>\n",
       "      <td>1</td>\n",
       "      <td>2694.783254</td>\n",
       "      <td>18.511000</td>\n",
       "      <td>2021-08-11</td>\n",
       "      <td>8</td>\n",
       "    </tr>\n",
       "    <tr>\n",
       "      <th>4</th>\n",
       "      <td>1</td>\n",
       "      <td>4028.687306</td>\n",
       "      <td>26.265803</td>\n",
       "      <td>2021-08-28</td>\n",
       "      <td>8</td>\n",
       "    </tr>\n",
       "  </tbody>\n",
       "</table>\n",
       "</div>"
      ],
      "text/plain": [
       "   user_id     distance   duration       date  month\n",
       "0        1  4409.919140  25.599769 2021-01-01      1\n",
       "1        1  2617.592153  15.816871 2021-01-18      1\n",
       "2        1   754.159807   6.232113 2021-04-20      4\n",
       "3        1  2694.783254  18.511000 2021-08-11      8\n",
       "4        1  4028.687306  26.265803 2021-08-28      8"
      ]
     },
     "execution_count": 14,
     "metadata": {},
     "output_type": "execute_result"
    }
   ],
   "source": [
    "rides_data.head()"
   ]
  },
  {
   "cell_type": "markdown",
   "id": "a23d7903",
   "metadata": {},
   "source": [
    "Проверим наличие пропусков."
   ]
  },
  {
   "cell_type": "code",
   "execution_count": 15,
   "id": "34c6bb8c",
   "metadata": {},
   "outputs": [
    {
     "data": {
      "text/plain": [
       "user_id              0\n",
       "name                 0\n",
       "age                  0\n",
       "city                 0\n",
       "subscription_type    0\n",
       "dtype: int64"
      ]
     },
     "execution_count": 15,
     "metadata": {},
     "output_type": "execute_result"
    }
   ],
   "source": [
    "users_data.isna().sum()"
   ]
  },
  {
   "cell_type": "code",
   "execution_count": 16,
   "id": "5ad83927",
   "metadata": {},
   "outputs": [
    {
     "data": {
      "text/plain": [
       "user_id     0\n",
       "distance    0\n",
       "duration    0\n",
       "date        0\n",
       "month       0\n",
       "dtype: int64"
      ]
     },
     "execution_count": 16,
     "metadata": {},
     "output_type": "execute_result"
    }
   ],
   "source": [
    "rides_data.isna().sum()"
   ]
  },
  {
   "cell_type": "code",
   "execution_count": 17,
   "id": "ddd7d761",
   "metadata": {},
   "outputs": [
    {
     "data": {
      "text/plain": [
       "subscription_type    0\n",
       "minute_price         0\n",
       "start_ride_price     0\n",
       "subscription_fee     0\n",
       "dtype: int64"
      ]
     },
     "execution_count": 17,
     "metadata": {},
     "output_type": "execute_result"
    }
   ],
   "source": [
    "subscriptions_data.isna().sum()"
   ]
  },
  {
   "cell_type": "markdown",
   "id": "8940f14e",
   "metadata": {},
   "source": [
    "Проверим на наличие дубликатов. Избавимся от явных дубликатов."
   ]
  },
  {
   "cell_type": "code",
   "execution_count": 18,
   "id": "6cabfd8b",
   "metadata": {},
   "outputs": [
    {
     "data": {
      "text/plain": [
       "31"
      ]
     },
     "execution_count": 18,
     "metadata": {},
     "output_type": "execute_result"
    }
   ],
   "source": [
    "users_data.duplicated().sum()"
   ]
  },
  {
   "cell_type": "code",
   "execution_count": 19,
   "id": "727b3905",
   "metadata": {},
   "outputs": [],
   "source": [
    "users_data.drop_duplicates(inplace=True)"
   ]
  },
  {
   "cell_type": "code",
   "execution_count": 20,
   "id": "b058af0a",
   "metadata": {},
   "outputs": [
    {
     "data": {
      "text/plain": [
       "0"
      ]
     },
     "execution_count": 20,
     "metadata": {},
     "output_type": "execute_result"
    }
   ],
   "source": [
    "users_data.duplicated().sum()"
   ]
  },
  {
   "cell_type": "markdown",
   "id": "41389121",
   "metadata": {},
   "source": [
    "Проверим на наличие неявных дубликатов в столбце с названиями городов и именами."
   ]
  },
  {
   "cell_type": "code",
   "execution_count": 21,
   "id": "cc7b6a8c",
   "metadata": {},
   "outputs": [
    {
     "data": {
      "text/plain": [
       "array(['Тюмень', 'Омск', 'Москва', 'Ростов-на-Дону', 'Краснодар',\n",
       "       'Пятигорск', 'Екатеринбург', 'Сочи'], dtype=object)"
      ]
     },
     "execution_count": 21,
     "metadata": {},
     "output_type": "execute_result"
    }
   ],
   "source": [
    "users_data['city'].unique()"
   ]
  },
  {
   "cell_type": "code",
   "execution_count": 22,
   "id": "280a09fc",
   "metadata": {},
   "outputs": [
    {
     "data": {
      "text/plain": [
       "array(['Кира', 'Станислав', 'Алексей', 'Константин', 'Адель', 'Регина',\n",
       "       'Игорь', 'Юрий', 'Ян', 'Валерий', 'Агата', 'Марк', 'Ева',\n",
       "       'Антонина', 'Валерия', 'Амалия', 'Даниил', 'Аделина', 'Святогор',\n",
       "       'Борис', 'Вероника', 'Ростислав', 'Назар', 'Эдуард', 'Василий',\n",
       "       'Денис', 'Тамара', 'Николай', 'Эвелина', 'Федор', 'Руслан', 'Иван',\n",
       "       'Любовь', 'Ярослава', 'Майя', 'Ильдар', 'Данила', 'Нина',\n",
       "       'Стефания', 'Ясмина', 'Дмитрий', 'Александр', 'Одиссей', 'Арсений',\n",
       "       'Алла', 'Таисия', 'Максим', 'Юлиана', 'Павел', 'Карина', 'Алиса',\n",
       "       'Лидия', 'Рамиль', 'Родион', 'Ника', 'Оксана', 'Анастасия',\n",
       "       'Маргарита', 'Вера', 'Тимур', 'Никита', 'Лев', 'Влад', 'Артур',\n",
       "       'Анна', 'Ольга', 'Вячеслав', 'Ксения', 'Виталина', 'Владислав',\n",
       "       'Тамерлан', 'Амина', 'Вадим', 'Олеся', 'Зарина', 'Егор', 'Гордей',\n",
       "       'Лилия', 'Святослав', 'Роберт', 'Амир', 'Влада', 'Богдан',\n",
       "       'Полина', 'Марат', 'Елисей', 'Макар', 'Алина', 'Глеб', 'Андрей',\n",
       "       'Альбина', 'Людмила', 'Марсель', 'Милена', 'Диана', 'Дарина',\n",
       "       'Данил', 'Артемий', 'Лиана', 'Альберт', 'Герман', 'Жанна', 'Нелли',\n",
       "       'Евгения', 'Ариана', 'Самира', 'Захар', 'Эльвира', 'Екатерина',\n",
       "       'Инна', 'Демид', 'Яна', 'Михаил', 'Татьяна', 'Степан', 'Мелания',\n",
       "       'Тимофей', 'Ирина', 'Анжелика', 'Владислава', 'Елизавета',\n",
       "       'Мадина', 'Снежана', 'Даниэль', 'Рустам', 'Каролина', 'Ангелина',\n",
       "       'Владимир', 'Виктория', 'Валентина', 'Семен', 'Арина', 'Лариса',\n",
       "       'Есения', 'Галина', 'Кирилл', 'Игнат', 'Виталий', 'Эмилия',\n",
       "       'Виолетта', 'Яромир', 'Софья', 'Мирослава', 'Евгений', 'Варвара',\n",
       "       'Платон', 'Наталия', 'Анатолий', 'Кристина', 'Всеволод', 'Дарья',\n",
       "       'Наташа', 'Мария', 'Марина', 'Василиса', 'Юлия', 'Илья', 'Злата',\n",
       "       'Роман', 'Наталья', 'Элина', 'Арсен', 'Айдар', 'Алия', 'Виктор',\n",
       "       'Мирон', 'Ульяна', 'Георгий', 'Петр', 'Эльмира', 'Олег', 'Дамир',\n",
       "       'Самир', 'Ярослав', 'Камилла', 'Сергей', 'Эмиль', 'Радмир',\n",
       "       'Савелий', 'Елена', 'Антон', 'Мирослав', 'София', 'Тихон', 'Артём',\n",
       "       'Давид', 'Григорий', 'Алёна', 'Светлана', 'Леонид', 'Александра',\n",
       "       'Василина', 'Милана', 'Матвей'], dtype=object)"
      ]
     },
     "execution_count": 22,
     "metadata": {},
     "output_type": "execute_result"
    }
   ],
   "source": [
    "users_data['name'].unique()"
   ]
  },
  {
   "cell_type": "code",
   "execution_count": 23,
   "id": "b1b9fcab",
   "metadata": {},
   "outputs": [
    {
     "data": {
      "text/plain": [
       "0"
      ]
     },
     "execution_count": 23,
     "metadata": {},
     "output_type": "execute_result"
    }
   ],
   "source": [
    "rides_data.duplicated().sum()"
   ]
  },
  {
   "cell_type": "code",
   "execution_count": 24,
   "id": "9db199d1",
   "metadata": {
    "scrolled": true
   },
   "outputs": [
    {
     "data": {
      "text/plain": [
       "0"
      ]
     },
     "execution_count": 24,
     "metadata": {},
     "output_type": "execute_result"
    }
   ],
   "source": [
    "subscriptions_data.duplicated().sum()"
   ]
  },
  {
   "cell_type": "markdown",
   "id": "90eb5e1b",
   "metadata": {},
   "source": [
    "Проверим, нет ли аномальных значений в столбце с возрастом пользователей."
   ]
  },
  {
   "cell_type": "code",
   "execution_count": 25,
   "id": "943a79fe",
   "metadata": {
    "scrolled": true
   },
   "outputs": [
    {
     "data": {
      "text/plain": [
       "12"
      ]
     },
     "execution_count": 25,
     "metadata": {},
     "output_type": "execute_result"
    }
   ],
   "source": [
    "users_data['age'].min()"
   ]
  },
  {
   "cell_type": "markdown",
   "id": "212593c7",
   "metadata": {},
   "source": [
    "### Исследовательский анализ данных"
   ]
  },
  {
   "cell_type": "markdown",
   "id": "06c7f81c",
   "metadata": {},
   "source": [
    "Опишем и визуализируем общую информацию о пользователях и поездках."
   ]
  },
  {
   "cell_type": "markdown",
   "id": "33b1efd5",
   "metadata": {},
   "source": [
    "#### Частота встречаемости городов"
   ]
  },
  {
   "cell_type": "code",
   "execution_count": 26,
   "id": "1ca1b80e",
   "metadata": {},
   "outputs": [
    {
     "data": {
      "image/png": "[encoded data removed]",
      "text/plain": [
       "<Figure size 576x432 with 1 Axes>"
      ]
     },
     "metadata": {
      "needs_background": "light"
     },
     "output_type": "display_data"
    },
    {
     "name": "stdout",
     "output_type": "stream",
     "text": [
      "Количество использований по городам:\n"
     ]
    },
    {
     "data": {
      "text/plain": [
       "Пятигорск         219\n",
       "Екатеринбург      204\n",
       "Ростов-на-Дону    198\n",
       "Краснодар         193\n",
       "Сочи              189\n",
       "Омск              183\n",
       "Тюмень            180\n",
       "Москва            168\n",
       "Name: city, dtype: int64"
      ]
     },
     "execution_count": 26,
     "metadata": {},
     "output_type": "execute_result"
    }
   ],
   "source": [
    "users_data.pivot_table(\n",
    "    index='city', values='user_id', aggfunc='count'\n",
    ").sort_values(\n",
    "    by='user_id', ascending=True\n",
    ").plot(\n",
    "    kind='barh', grid=True, legend=False, title='Количество использований по городам', xlabel='Города', figsize=(8,6))\n",
    "plt.xlabel('Количество использований сервиса')\n",
    "plt.show()\n",
    "\n",
    "print('Количество использований по городам:')\n",
    "users_data['city'].value_counts()"
   ]
  },
  {
   "cell_type": "markdown",
   "id": "3901153f",
   "metadata": {},
   "source": [
    "\n",
    "Количество пользователей распределено между упомянутыми городами примерно одинаково. Однако больше всего испоьзований сервиса в Пятигорске - 219, а меньше остальных в Москве - 168."
   ]
  },
  {
   "cell_type": "markdown",
   "id": "d4f2f36b",
   "metadata": {},
   "source": [
    "#### Соотношение пользователей с подпиской и без подписки"
   ]
  },
  {
   "cell_type": "code",
   "execution_count": 27,
   "id": "ad7fc86a",
   "metadata": {},
   "outputs": [
    {
     "data": {
      "image/png": "[encoded data removed]",
      "text/plain": [
       "<Figure size 432x432 with 1 Axes>"
      ]
     },
     "metadata": {},
     "output_type": "display_data"
    },
    {
     "name": "stdout",
     "output_type": "stream",
     "text": [
      "Соотношение пользователей с подпиской и без:\n"
     ]
    },
    {
     "data": {
      "text/plain": [
       "free     835\n",
       "ultra    699\n",
       "Name: subscription_type, dtype: int64"
      ]
     },
     "execution_count": 27,
     "metadata": {},
     "output_type": "execute_result"
    }
   ],
   "source": [
    "users_data['subscription_type'].value_counts().plot(\n",
    "    kind='pie', figsize=(6, 6), autopct= '%0.0f%%', legend=False, \n",
    "    title='Соотношение пользователей с подпиской и без')\n",
    "plt.show()\n",
    "\n",
    "print('Соотношение пользователей с подпиской и без:')\n",
    "users_data['subscription_type'].value_counts()"
   ]
  },
  {
   "cell_type": "markdown",
   "id": "8b209b57",
   "metadata": {},
   "source": [
    "\n",
    "Соотношение с небольшим перевесом: не оформили подписку 835 человек, оформили - 699."
   ]
  },
  {
   "cell_type": "markdown",
   "id": "ce935054",
   "metadata": {},
   "source": [
    "#### Возраст пользователей"
   ]
  },
  {
   "cell_type": "code",
   "execution_count": 28,
   "id": "61035119",
   "metadata": {},
   "outputs": [
    {
     "data": {
      "text/plain": [
       "Text(0, 0.5, 'Количество пользователей')"
      ]
     },
     "execution_count": 28,
     "metadata": {},
     "output_type": "execute_result"
    },
    {
     "data": {
      "image/png": "[encoded data removed]",
      "text/plain": [
       "<Figure size 432x432 with 1 Axes>"
      ]
     },
     "metadata": {
      "needs_background": "light"
     },
     "output_type": "display_data"
    }
   ],
   "source": [
    "users_data['age'].plot(kind='hist', figsize=(6, 6), grid=True, title='Возраст пользователей')\n",
    "plt.xlabel('Возраст')\n",
    "plt.ylabel('Количество пользователей')"
   ]
  },
  {
   "cell_type": "code",
   "execution_count": 29,
   "id": "10332f0a",
   "metadata": {},
   "outputs": [
    {
     "name": "stdout",
     "output_type": "stream",
     "text": [
      "Возраст пользователей\n"
     ]
    },
    {
     "data": {
      "text/plain": [
       "count    1534.000000\n",
       "mean       24.903520\n",
       "std         4.572367\n",
       "min        12.000000\n",
       "25%        22.000000\n",
       "50%        25.000000\n",
       "75%        28.000000\n",
       "max        43.000000\n",
       "Name: age, dtype: float64"
      ]
     },
     "execution_count": 29,
     "metadata": {},
     "output_type": "execute_result"
    }
   ],
   "source": [
    "print('Возраст пользователей')\n",
    "users_data['age'].describe()"
   ]
  },
  {
   "cell_type": "markdown",
   "id": "b9c411df",
   "metadata": {},
   "source": [
    "Видим, что распределение возрастоов пользователей похоже на нормальное, без выбросов. В среднем возраст пользователя сервиса составляет 25 лет, минимальный - 12, а максимальный - 43."
   ]
  },
  {
   "cell_type": "markdown",
   "id": "f72ead9a",
   "metadata": {},
   "source": [
    "#### Расстояние за одну поездку"
   ]
  },
  {
   "cell_type": "code",
   "execution_count": 30,
   "id": "f74dd095",
   "metadata": {
    "scrolled": true
   },
   "outputs": [
    {
     "data": {
      "image/png": "[encoded data removed]",
      "text/plain": [
       "<Figure size 360x360 with 1 Axes>"
      ]
     },
     "metadata": {
      "needs_background": "light"
     },
     "output_type": "display_data"
    },
    {
     "data": {
      "image/png": "[encoded data removed]",
      "text/plain": [
       "<Figure size 360x360 with 1 Axes>"
      ]
     },
     "metadata": {
      "needs_background": "light"
     },
     "output_type": "display_data"
    }
   ],
   "source": [
    "rides_data['distance'].plot(kind='hist', figsize=(5, 5), grid=True, title='Расстояние за одну поездку')\n",
    "plt.xlabel('Дистанция, м')\n",
    "plt.ylabel('Количество пользователей')\n",
    "plt.show()\n",
    "\n",
    "rides_data['distance'].plot(kind='hist', figsize=(5, 5), grid=True, range=(0, 1000), title='Расстояние за одну поездку')\n",
    "plt.xlabel('Дистанция, м')\n",
    "plt.ylabel('Количество пользователей')\n",
    "plt.show()\n"
   ]
  },
  {
   "cell_type": "code",
   "execution_count": 31,
   "id": "d5b66034",
   "metadata": {},
   "outputs": [
    {
     "name": "stdout",
     "output_type": "stream",
     "text": [
      "Расстояние, преодалённое за одну поездку:\n"
     ]
    },
    {
     "data": {
      "text/plain": [
       "count    18068.000000\n",
       "mean      3070.659976\n",
       "std       1116.831209\n",
       "min          0.855683\n",
       "25%       2543.226360\n",
       "50%       3133.609994\n",
       "75%       3776.222735\n",
       "max       7211.007745\n",
       "Name: distance, dtype: float64"
      ]
     },
     "execution_count": 31,
     "metadata": {},
     "output_type": "execute_result"
    }
   ],
   "source": [
    "print('Расстояние, преодалённое за одну поездку:')\n",
    "rides_data['distance'].describe()"
   ]
  },
  {
   "cell_type": "markdown",
   "id": "da5853e9",
   "metadata": {},
   "source": [
    "Видим, что минимальная преодолённая дистанция менее 1м. Изучим подробнее строки со сврхкороткой дистанцией, возьмём < 100м."
   ]
  },
  {
   "cell_type": "code",
   "execution_count": 32,
   "id": "f1931e1e",
   "metadata": {},
   "outputs": [
    {
     "data": {
      "text/html": [
       "<div>\n",
       "<style scoped>\n",
       "    .dataframe tbody tr th:only-of-type {\n",
       "        vertical-align: middle;\n",
       "    }\n",
       "\n",
       "    .dataframe tbody tr th {\n",
       "        vertical-align: top;\n",
       "    }\n",
       "\n",
       "    .dataframe thead th {\n",
       "        text-align: right;\n",
       "    }\n",
       "</style>\n",
       "<table border=\"1\" class=\"dataframe\">\n",
       "  <thead>\n",
       "    <tr style=\"text-align: right;\">\n",
       "      <th></th>\n",
       "      <th>time</th>\n",
       "      <th>distance</th>\n",
       "    </tr>\n",
       "  </thead>\n",
       "  <tbody>\n",
       "    <tr>\n",
       "      <th>11555</th>\n",
       "      <td>10.001902</td>\n",
       "      <td>0.855683</td>\n",
       "    </tr>\n",
       "    <tr>\n",
       "      <th>9541</th>\n",
       "      <td>3.011018</td>\n",
       "      <td>2.570787</td>\n",
       "    </tr>\n",
       "    <tr>\n",
       "      <th>13690</th>\n",
       "      <td>4.008958</td>\n",
       "      <td>4.329506</td>\n",
       "    </tr>\n",
       "    <tr>\n",
       "      <th>8658</th>\n",
       "      <td>6.015656</td>\n",
       "      <td>6.784447</td>\n",
       "    </tr>\n",
       "    <tr>\n",
       "      <th>7841</th>\n",
       "      <td>10.026614</td>\n",
       "      <td>7.097072</td>\n",
       "    </tr>\n",
       "    <tr>\n",
       "      <th>8906</th>\n",
       "      <td>2.035632</td>\n",
       "      <td>11.283615</td>\n",
       "    </tr>\n",
       "    <tr>\n",
       "      <th>8324</th>\n",
       "      <td>4.034952</td>\n",
       "      <td>12.233115</td>\n",
       "    </tr>\n",
       "    <tr>\n",
       "      <th>13940</th>\n",
       "      <td>10.045002</td>\n",
       "      <td>15.000606</td>\n",
       "    </tr>\n",
       "    <tr>\n",
       "      <th>15626</th>\n",
       "      <td>6.057623</td>\n",
       "      <td>15.366168</td>\n",
       "    </tr>\n",
       "    <tr>\n",
       "      <th>11862</th>\n",
       "      <td>13.044660</td>\n",
       "      <td>15.630873</td>\n",
       "    </tr>\n",
       "  </tbody>\n",
       "</table>\n",
       "</div>"
      ],
      "text/plain": [
       "            time   distance\n",
       "11555  10.001902   0.855683\n",
       "9541    3.011018   2.570787\n",
       "13690   4.008958   4.329506\n",
       "8658    6.015656   6.784447\n",
       "7841   10.026614   7.097072\n",
       "8906    2.035632  11.283615\n",
       "8324    4.034952  12.233115\n",
       "13940  10.045002  15.000606\n",
       "15626   6.057623  15.366168\n",
       "11862  13.044660  15.630873"
      ]
     },
     "execution_count": 32,
     "metadata": {},
     "output_type": "execute_result"
    }
   ],
   "source": [
    "short_distance = pd.DataFrame()\n",
    "short_distance['time'] = rides_data['duration']\n",
    "short_distance['distance'] = rides_data['distance']\n",
    "short_distance.sort_values(by='distance').head(10)"
   ]
  },
  {
   "cell_type": "code",
   "execution_count": 33,
   "id": "c7f9e750",
   "metadata": {},
   "outputs": [],
   "source": [
    "#rides_data.loc[rides_data['distance'] < 100, 'duration'].describe()"
   ]
  },
  {
   "cell_type": "markdown",
   "id": "f4820228",
   "metadata": {},
   "source": [
    "\n",
    "    \n",
    "Всего в данных насчитывается 78 строк с расстоянием поездки менее 100м. Отфильтровав эти строки по затраченному времени, мы видим, что было расстояние было преодолено за слабо правдоподобное короткое время. Так мы можем видеть 2 метра проехали за 3 минуты. По причине человеческого фактора или технического сбоя сервиса, но эти данные являются аномальными и неиформативными. Так как таких строк относительно небольшое количество, то просто избавимся от них."
   ]
  },
  {
   "cell_type": "markdown",
   "id": "87b8ae16",
   "metadata": {},
   "source": [
    "\n",
    "    \n",
    "Отфильтровав строки с короткой дистанцией, видим, что это единичные случаи, возможно связанные с какой-либо технической проблемой в работе самоката или сервиса. Поэтому преодолённое расстояние может быть мало, хотя время продолжало идти.\n",
    "    "
   ]
  },
  {
   "cell_type": "code",
   "execution_count": 34,
   "id": "34b3755b",
   "metadata": {},
   "outputs": [],
   "source": [
    "#rides_data = rides_data.drop(rides_data[rides_data['distance'] < 100].index, axis=0)\n",
    "#rides_data.loc[rides_data['distance'] < 100, 'duration'].describe()"
   ]
  },
  {
   "cell_type": "markdown",
   "id": "a164c1bd",
   "metadata": {},
   "source": [
    "На гистограмме видим, что распределение дистанции за одну поездку близко к нормальному. Однако есть выброс в промежутке с короткими дистанциями. При ближайшем рассмотрении видно, что есть пик в значениях 600-700м. Также есть поездки с 0м. В общем чаще всего пользователи совершают поездки 2543-3776м, в среднем - 3070м."
   ]
  },
  {
   "cell_type": "markdown",
   "id": "42190ea2",
   "metadata": {},
   "source": [
    "#### Продолжительность поездок"
   ]
  },
  {
   "cell_type": "code",
   "execution_count": 35,
   "id": "50d8c010",
   "metadata": {},
   "outputs": [
    {
     "data": {
      "image/png": "[encoded data removed]",
      "text/plain": [
       "<Figure size 360x504 with 1 Axes>"
      ]
     },
     "metadata": {
      "needs_background": "light"
     },
     "output_type": "display_data"
    },
    {
     "name": "stdout",
     "output_type": "stream",
     "text": [
      "Продолжительность поездок:\n"
     ]
    },
    {
     "data": {
      "text/plain": [
       "count    18068.000000\n",
       "mean        17.805011\n",
       "std          6.091051\n",
       "min          0.500000\n",
       "25%         13.597563\n",
       "50%         17.678395\n",
       "75%         21.724800\n",
       "max         40.823963\n",
       "Name: duration, dtype: float64"
      ]
     },
     "execution_count": 35,
     "metadata": {},
     "output_type": "execute_result"
    }
   ],
   "source": [
    "rides_data.boxplot('duration', figsize=(5, 7))\n",
    "plt.title('Продолжительность поездок')\n",
    "plt.ylabel('Время, мин')\n",
    "plt.show()\n",
    "\n",
    "print('Продолжительность поездок:')\n",
    "rides_data['duration'].describe()"
   ]
  },
  {
   "cell_type": "markdown",
   "id": "5f295718",
   "metadata": {},
   "source": [
    "По диаграмме видим, что 50% всех поездок длятся от 13.6 до 21.7 минут, медианное время - 17.7 минут. Есть несколько десятков сверхкоротких поездок продолжительностью менее минуты. Самыми продолжительными были несколько поездок до 41 мин."
   ]
  },
  {
   "cell_type": "code",
   "execution_count": 36,
   "id": "ade24af9",
   "metadata": {},
   "outputs": [
    {
     "data": {
      "text/plain": [
       "count      95.000000\n",
       "mean     5113.176549\n",
       "std       658.254104\n",
       "min      4030.308008\n",
       "25%      4611.510820\n",
       "50%      5052.769411\n",
       "75%      5488.459099\n",
       "max      7211.007745\n",
       "Name: distance, dtype: float64"
      ]
     },
     "execution_count": 36,
     "metadata": {},
     "output_type": "execute_result"
    }
   ],
   "source": [
    "rides_data.loc[rides_data['duration'] <= 1, 'distance'].describe()"
   ]
  },
  {
   "cell_type": "markdown",
   "id": "b3c38f14",
   "metadata": {},
   "source": [
    "\n",
    "    \n",
    "Всего в данных насчитывается 95 строк со временем поездки менее 1 минуты. Отфильтровав эти строки по пройдённой дистанции, мы видим, что было преодолено неправдоподобное расстояние за столь короткое время (в среднем 5км). По причине человеческого фактора или технического сбоя сервиса, но эти данные являются аномальными и неиформативными. Так как таких строк относительно небольшое количество, то просто избавимся от них."
   ]
  },
  {
   "cell_type": "markdown",
   "id": "f0fad49c",
   "metadata": {},
   "source": [
    "\n",
    "    \n",
    "Всего насчитывается 95 строк со сверх коротким временем поездки - 0,5 мин. Отфильтровав данные по пройденной за это время дистанции, мы видим, что было преодалено неправдоподобно большое расстояние за столь короткое время. Самокату необходимо было бы развить скорость > 480 км/ч. Очевидно, это аномальные значения, полученные скорее всего из-за сбоя в работе системы определения местоположения. Чтобы не терять данные, обработаем их - заменим значения дистанции на то, которое могло бы быть преодалено со средней скоростью всех поездок без учёта данных аномальных строк. Это важно сделать, иначе в дальнейшем мы получим искажения при анализе информации о дистанции поездок. "
   ]
  },
  {
   "cell_type": "code",
   "execution_count": 37,
   "id": "b6075e60",
   "metadata": {},
   "outputs": [
    {
     "data": {
      "text/plain": [
       "count    0.0\n",
       "mean     NaN\n",
       "std      NaN\n",
       "min      NaN\n",
       "25%      NaN\n",
       "50%      NaN\n",
       "75%      NaN\n",
       "max      NaN\n",
       "Name: distance, dtype: float64"
      ]
     },
     "execution_count": 37,
     "metadata": {},
     "output_type": "execute_result"
    }
   ],
   "source": [
    "rides_data_good = rides_data.drop(rides_data[rides_data['duration'] <= 1].index, axis=0)\n",
    "rides_data_good.loc[rides_data_good['duration'] <= 1, 'distance'].describe()"
   ]
  },
  {
   "cell_type": "code",
   "execution_count": 38,
   "id": "c3a6438e",
   "metadata": {},
   "outputs": [
    {
     "data": {
      "text/plain": [
       "0.500000     95\n",
       "22.184080     1\n",
       "25.866000     1\n",
       "22.837062     1\n",
       "19.173800     1\n",
       "             ..\n",
       "18.843765     1\n",
       "17.644888     1\n",
       "22.477965     1\n",
       "19.745218     1\n",
       "16.537044     1\n",
       "Name: duration, Length: 17974, dtype: int64"
      ]
     },
     "execution_count": 38,
     "metadata": {},
     "output_type": "execute_result"
    }
   ],
   "source": [
    "rides_data['duration'].value_counts()"
   ]
  },
  {
   "cell_type": "code",
   "execution_count": 39,
   "id": "9693f228",
   "metadata": {},
   "outputs": [
    {
     "data": {
      "text/plain": [
       "176.91526708769788"
      ]
     },
     "execution_count": 39,
     "metadata": {},
     "output_type": "execute_result"
    }
   ],
   "source": [
    "rides_data_good['speed'] = rides_data_good['distance'] / rides_data_good['duration']\n",
    "rides_data_good['speed'].mean()"
   ]
  },
  {
   "cell_type": "markdown",
   "id": "1ee19344",
   "metadata": {},
   "source": [
    "Средняя скорость без учёта аномалий - 176 м/мин. Менее минуты одно значение - 0,5 мин. В строках с таким временем заменим значение в distance на 176 х 0,5 = 88 метров. Таким образом иправим аномальные значениях в этих строках, чтобы они не искажали в дальнейшем данные, и сохраним строки (не удалим)."
   ]
  },
  {
   "cell_type": "code",
   "execution_count": 40,
   "id": "51f449cf",
   "metadata": {},
   "outputs": [
    {
     "data": {
      "text/plain": [
       "count    95.0\n",
       "mean     88.0\n",
       "std       0.0\n",
       "min      88.0\n",
       "25%      88.0\n",
       "50%      88.0\n",
       "75%      88.0\n",
       "max      88.0\n",
       "Name: distance, dtype: float64"
      ]
     },
     "execution_count": 40,
     "metadata": {},
     "output_type": "execute_result"
    }
   ],
   "source": [
    "rides_data.loc[rides_data['duration'] == 0.5, 'distance'] = 88\n",
    "rides_data.loc[rides_data['duration'] <= 1, 'distance'].describe()"
   ]
  },
  {
   "cell_type": "markdown",
   "id": "4ef51331",
   "metadata": {},
   "source": [
    "### Объединение данных"
   ]
  },
  {
   "cell_type": "markdown",
   "id": "3b7bf88a",
   "metadata": {},
   "source": [
    "#### Данные о пользователях, поездках и подписках в одном датафрейме."
   ]
  },
  {
   "cell_type": "code",
   "execution_count": null,
   "id": "1e5402a7",
   "metadata": {
    "scrolled": true
   },
   "outputs": [],
   "source": [
    "data = users_data.merge(rides_data, on='user_id').merge(subscriptions_data, on='subscription_type')\n",
    "data"
   ]
  },
  {
   "cell_type": "markdown",
   "id": "6593c8a0",
   "metadata": {},
   "source": [
    "Получили единую таблицу по трём исходным."
   ]
  },
  {
   "cell_type": "markdown",
   "id": "647e3fa9",
   "metadata": {},
   "source": [
    "\n",
    "Проверим, прошло ли объединение данных корректно: не потерялись ли данные и не появились ли лишние записи?\n",
    "   "
   ]
  },
  {
   "cell_type": "code",
   "execution_count": null,
   "id": "a59e08a7",
   "metadata": {},
   "outputs": [],
   "source": [
    "data.isna().sum()"
   ]
  },
  {
   "cell_type": "code",
   "execution_count": null,
   "id": "5114fe4a",
   "metadata": {},
   "outputs": [],
   "source": [
    "data.duplicated().sum()"
   ]
  },
  {
   "cell_type": "code",
   "execution_count": null,
   "id": "1e45140b",
   "metadata": {},
   "outputs": [],
   "source": [
    "rides_data.info()"
   ]
  },
  {
   "cell_type": "markdown",
   "id": "cda0a1bf",
   "metadata": {},
   "source": [
    "\n",
    "Количество строк в полученном датафрейме - 18086, совпадает с первоначальным датафреймом о поездках, так что появление лишних строк исключаем. Дубликатов и пропусков также нет."
   ]
  },
  {
   "cell_type": "markdown",
   "id": "c0fee243",
   "metadata": {},
   "source": [
    "Разобъём единую таблицу на две в зависимости от типа подписки пользователя."
   ]
  },
  {
   "cell_type": "code",
   "execution_count": null,
   "id": "fb808690",
   "metadata": {},
   "outputs": [],
   "source": [
    "free_data = data.query('subscription_type ==\"free\"')\n",
    "free_data.head(10)"
   ]
  },
  {
   "cell_type": "code",
   "execution_count": null,
   "id": "001faad1",
   "metadata": {
    "scrolled": true
   },
   "outputs": [],
   "source": [
    "ultra_data = data.query('subscription_type == \"ultra\"')\n",
    "ultra_data.head(10)"
   ]
  },
  {
   "cell_type": "markdown",
   "id": "d0f52a77",
   "metadata": {},
   "source": [
    "#### Расстояние за одну поездку"
   ]
  },
  {
   "cell_type": "code",
   "execution_count": null,
   "id": "c2486373",
   "metadata": {
    "scrolled": true
   },
   "outputs": [],
   "source": [
    "plt.hist([free_data['distance'], ultra_data['distance']], bins=30)\n",
    "plt.gca().set(xlabel='Дистанция, м', ylabel='Количество поездок', title='Расстояние одной поездки')\n",
    "plt.legend(['free', 'ultra'])\n",
    "plt.show()"
   ]
  },
  {
   "cell_type": "code",
   "execution_count": null,
   "id": "7b873706",
   "metadata": {},
   "outputs": [],
   "source": [
    "free_data['distance'].hist(bins=20, range=(0, 500))\n",
    "plt.gca().set(xlabel='Дистанция, м', ylabel='Количество поездок', title='Расстояние одной поездки')\n",
    "plt.show()\n",
    "print('Растояние поездок без подписки:')\n",
    "free_data['distance'].describe()"
   ]
  },
  {
   "cell_type": "code",
   "execution_count": null,
   "id": "a4a4fce7",
   "metadata": {},
   "outputs": [],
   "source": [
    "print('Растояние поездок с подпиской Ultra:')\n",
    "ultra_data['distance'].describe()"
   ]
  },
  {
   "cell_type": "markdown",
   "id": "17c23954",
   "metadata": {},
   "source": [
    "\n",
    "Половина пользователей без подписки проезжает 2340-3877м, среднее растояние в этой категории - 3004м, медианное - 3088м. Максимальная преодалённая дистанция - 7066м. Видим пик в промежутке 0-1000м - единичные короткие поездки. Общее количество поездок 11568.\n",
    "\n",
    "Половина пользователей с подпиской проезжает 2785-3560м, среднее растояние в этой категории - 3115м, медианное - 3148м. Максимальная преодолённая дистанция - 5699м. Минимальное растояние поездки составило 244м, отсутствуют поездки в 0м. Общее количество поездок 6500.\n",
    "\n",
    "Можем сделать вывод, что поездки пользователей без подписки более разнообразны в плане преодолённого растояния. Это особенно заметно, если обратиться к стандартному отлонению: у пользователей с подпиской оно составило 836м, а без подписки - целых 1258м.\n",
    "\n",
    "Также именно пользователи без подписки чаще совершают как короткие поездки (до 500м) - более широкий пик у начала оси, так и поездки в целом совершают чаще практически в 2 раза. Пользователям же с подпиской более характерны более длительные поездки в целом. У этой категории на графике более остарые пики, меньший разброс."
   ]
  },
  {
   "cell_type": "markdown",
   "id": "518f76b5",
   "metadata": {},
   "source": [
    "#### Время поезки."
   ]
  },
  {
   "cell_type": "code",
   "execution_count": null,
   "id": "5b45bfdd",
   "metadata": {},
   "outputs": [],
   "source": [
    "plt.hist([free_data['duration'], ultra_data['duration']], bins=30)\n",
    "plt.gca().set(xlabel='Время, мин', ylabel='Количество поездок', title='Продолжительность одной поездки')\n",
    "plt.legend(['free', 'ultra'])\n",
    "plt.show()"
   ]
  },
  {
   "cell_type": "code",
   "execution_count": null,
   "id": "af537777",
   "metadata": {},
   "outputs": [],
   "source": [
    "print('Продолжительность поездки без подписки:')\n",
    "free_data['duration'].describe()"
   ]
  },
  {
   "cell_type": "code",
   "execution_count": null,
   "id": "1671af55",
   "metadata": {},
   "outputs": [],
   "source": [
    "print('Продолжительность поездки с подпиской:')\n",
    "ultra_data['duration'].describe()"
   ]
  },
  {
   "cell_type": "markdown",
   "id": "e5ceabd7",
   "metadata": {},
   "source": [
    "\n",
    "Продолжительность поездки половины пользователей без подписки составляет 12,9-21.6 мин, средняя продолжительность данной категории - 17.4 мин. Пользователи без подписки не проезжали дольше 35 мин.\n",
    "\n",
    "Продолжительность поездки половины пользователей с подпиской составляет 14.5-21.8 мин, средняя продолжительность данной категории - 18.5 мин. Пользователи без подписки не проезжали дольше 40 мин. Самая короткая поездка составила менее 4-х минут.\n",
    "\n",
    "У пользователй обоих категорий практически совпадает среднее и медианное значение, небольшие стандартные отклонения. Хотя как и с графиком дистанций, у пользователй без подписки наблюдается чуть больший разброс, более широкий пик."
   ]
  },
  {
   "cell_type": "markdown",
   "id": "402d620f",
   "metadata": {},
   "source": [
    "### Подсчёт выручки"
   ]
  },
  {
   "cell_type": "markdown",
   "id": "09d53c86",
   "metadata": {},
   "source": [
    "#### Датафрейм с агрегированными данными о поездках на основе датафрейма с объединёнными данными из шага 4.\n",
    "\n",
    "Найдём суммарное расстояние, количество поездок и суммарное время для каждого пользователя за каждый месяц, также помесячную выручку от каждого пользователя. Округлим длительность поездок."
   ]
  },
  {
   "cell_type": "code",
   "execution_count": null,
   "id": "f4b6175e",
   "metadata": {},
   "outputs": [],
   "source": [
    "data['duration'] = np.ceil(data['duration'])"
   ]
  },
  {
   "cell_type": "code",
   "execution_count": null,
   "id": "18b5381c",
   "metadata": {
    "scrolled": false
   },
   "outputs": [],
   "source": [
    "total_revenue = data.pivot_table(\n",
    "    index=('user_id', 'subscription_type', 'month'), \n",
    "    values=('name',\n",
    "        'distance', \n",
    "        'duration', \n",
    "        'minute_price', \n",
    "        'start_ride_price', \n",
    "        'subscription_fee'\n",
    "    ), \n",
    "    aggfunc=({'name':'count',\n",
    "             'distance':'sum', \n",
    "             'duration':'sum',\n",
    "             'minute_price': 'mean',\n",
    "             'start_ride_price':'mean',\n",
    "             'subscription_fee':'mean',})\n",
    ")\n",
    "\n",
    "total_revenue.rename(columns={'name':'count'}, inplace=True)\n",
    "\n",
    "total_revenue['revenue_per_month'] = total_revenue['duration'] * total_revenue['minute_price'] + total_revenue['start_ride_price'] * total_revenue['count'] + total_revenue['subscription_fee']\n",
    "         \n",
    "total_revenue.head(20)\n",
    "#я не придумала ничего лучше"
   ]
  },
  {
   "cell_type": "code",
   "execution_count": null,
   "id": "f0944f5a",
   "metadata": {},
   "outputs": [],
   "source": [
    "total_revenue['revenue_per_month'].plot(kind='hist', bins=50, grid=True, legend=True, figsize=(8,6), \n",
    "                                        title='Выручка за месяц от каждого пользователя')\n",
    "plt.xlabel('Сумма, руб')\n",
    "plt.ylabel('Количество пользователей')\n",
    "plt.show()\n",
    "print('Выручка за 1 месяц от каждого пользователя:')\n",
    "total_revenue['revenue_per_month'].describe()"
   ]
  },
  {
   "cell_type": "code",
   "execution_count": null,
   "id": "0ee47c94",
   "metadata": {},
   "outputs": [],
   "source": [
    "total_revenue.groupby('month')['revenue_per_month'].sum().plot(style='o-', grid=True, title='Выручка в течение года')\n",
    "plt.xlabel('Месяц')\n",
    "plt.ylabel('Сумма, руб.')\n",
    "plt.show()"
   ]
  },
  {
   "cell_type": "code",
   "execution_count": null,
   "id": "6267709c",
   "metadata": {},
   "outputs": [],
   "source": [
    "total_revenue['revenue_per_month'].sum()"
   ]
  },
  {
   "cell_type": "markdown",
   "id": "2c7a9dba",
   "metadata": {},
   "source": [
    "Создана сводная таблица по ежемесячному доходу от каждого пользователя в отдельности. По ней видно, что зачастую пользователи прибегают к услуге сервиса не единожды. На графике видим распределение выручки по месяцам, практически каждый месяц более 300 тыс руб. Самая низкая выручка - в феврале, а наибольшая май, июнь и январь. Интересно, в каком это городе? Суммарная выручка сервиса за год 3 878 641 руб."
   ]
  },
  {
   "cell_type": "code",
   "execution_count": null,
   "id": "2e50b746",
   "metadata": {},
   "outputs": [],
   "source": [
    "data.groupby('city')['month'].plot(kind='hist', histtype='step', legend=True, figsize=(10,10), bins=12, \n",
    "                                   title='Количество пользователей по городам в течение года')\n",
    "plt.xlabel('Месяц')\n",
    "plt.ylabel('Количество пользователей')\n",
    "plt.show()"
   ]
  },
  {
   "cell_type": "markdown",
   "id": "eefa2fc5",
   "metadata": {},
   "source": [
    "Пик в январе сформирован Пятигорском, Ростовом-на-Дону и Сочи. Города с довольно мягкой зимой, так что этот пик не аномален. Хотя Екатеринбург сложно объяснить."
   ]
  },
  {
   "cell_type": "markdown",
   "id": "41545ac0",
   "metadata": {},
   "source": [
    "### Проверка гипотез"
   ]
  },
  {
   "cell_type": "markdown",
   "id": "8bf20a24",
   "metadata": {},
   "source": [
    "Продакт-менеджеры сервиса хотят увеличить количество пользователей с подпиской. Для этого они будут проводить различные акции, но сначала выясним несколько важных моментов."
   ]
  },
  {
   "cell_type": "markdown",
   "id": "fddbd66a",
   "metadata": {},
   "source": [
    "#### Тратят ли пользователи с подпиской больше времени на поездку, чем бользователи без подписки?"
   ]
  },
  {
   "cell_type": "markdown",
   "id": "6bc8952e",
   "metadata": {},
   "source": [
    "* H0: Среднее время поездки пользователей с подпиской Ultra равно среднему времени поездки пользователей без подписки.\n",
    "\n",
    "* Н1: Среднее время поездки пользователей с подпиской Ultra больше среднего времени поездки пользователей без подписки.\n",
    "\n",
    "Уровень статистической значимости 5%."
   ]
  },
  {
   "cell_type": "code",
   "execution_count": null,
   "id": "723d62c2",
   "metadata": {},
   "outputs": [],
   "source": [
    "#обе совок-ти раср. норм-но, ср.зн. обеих совок-тей примерно равны\n",
    "alpha = 0.05\n",
    "results = st.ttest_ind(\n",
    "    ultra_data['duration'],\n",
    "    free_data['duration'],\n",
    "    alternative='greater')\n",
    "\n",
    "print('p-значение:', results.pvalue)\n",
    "\n",
    "if results.pvalue < alpha:\n",
    "    print('Отвергаем нулевую гипотезу')\n",
    "else:\n",
    "    print('Не получилось отвергнуть нулевую гипотезу')"
   ]
  },
  {
   "cell_type": "markdown",
   "id": "dd7df17c",
   "metadata": {},
   "source": [
    "По результатам t-теста мы можем отвергнуть нулевую гепотезу и равенстве средних продолжительностей поездки пользователей с подпиской и без в пользу альтернативной. Не очень выраженно, но это прослеживается и на гистограммах - с подпиской продолжительность немного больше."
   ]
  },
  {
   "cell_type": "markdown",
   "id": "936d85fa",
   "metadata": {},
   "source": [
    "#### Сравнение среднего расстояния одной поездки пользователя с подпиской с оптимальной дистанцией."
   ]
  },
  {
   "cell_type": "markdown",
   "id": "1c3eb140",
   "metadata": {},
   "source": [
    "\n",
    "    \n",
    "  Известно, что 3130м это оптимальная дистанция с точки зрения износа самоката. В связи с этим, проверим следующие гипотезы:<br>\n",
    "* H0: Среднее расстояние поездки пользователей с подпиской не превышает 3130м.\n",
    "* H1: Среднее расстояние поездки пользователей с подпиской превышает 3130м.\n",
    "\n",
    "Уровень статистической значимости 5%."
   ]
  },
  {
   "cell_type": "code",
   "execution_count": null,
   "id": "8c36fda0",
   "metadata": {},
   "outputs": [],
   "source": [
    "#обе совок-ти раср. норм-но, ср.зн. обеих совок-тей примерно равны\n",
    "value = 3130\n",
    "alpha = 0.05\n",
    "results = st.ttest_1samp(\n",
    "    ultra_data['distance'],\n",
    "    value,\n",
    "    alternative='greater')\n",
    "\n",
    "print('p-значение:', results.pvalue)\n",
    "\n",
    "if results.pvalue < alpha:\n",
    "    print('Отвергаем нулевую гипотезу')\n",
    "else:\n",
    "    print('Не получилось отвергнуть нулевую гипотезу')"
   ]
  },
  {
   "cell_type": "markdown",
   "id": "69a148d5",
   "metadata": {},
   "source": [
    "\n",
    "\n",
    "По резльтататм t-теста мы не можем отвергнуть гипотезу о том, что среднее расстояние поездок пользователей с подпиской не превышает 3130м. То есть можем считать расстояние поездок пользователей с подпиской оптимальным с точки зрения износа самоката."
   ]
  },
  {
   "cell_type": "markdown",
   "id": "9f4a028e",
   "metadata": {},
   "source": [
    "#### Сравнение помесячной выручки пользователй с подпиской и без.\n",
    "Проверьте гипотезу о том, будет ли помесячная выручка от пользователей с подпиской по месяцам выше, чем выручка от пользователей без подписки. Сделайте вывод."
   ]
  },
  {
   "cell_type": "markdown",
   "id": "4bbcbece",
   "metadata": {},
   "source": [
    "* Н0: Помесячная выручка пользователей с подпиской равна выручке пользователей без подписки.\n",
    "\n",
    "* Н1: Помесячная выручка пользователей с подпиской выше, чем выручка пользователей без подписки.\n",
    "\n",
    "Уровень статистической значимости 5%."
   ]
  },
  {
   "cell_type": "code",
   "execution_count": null,
   "id": "8dd2391a",
   "metadata": {
    "scrolled": true
   },
   "outputs": [],
   "source": [
    "alpha = 0.05\n",
    "results = st.ttest_ind(\n",
    "    total_revenue.loc[total_revenue.subscription_fee > 0, 'revenue_per_month'],\n",
    "    total_revenue.loc[total_revenue.subscription_fee == 0, 'revenue_per_month'],\n",
    "    alternative='greater')\n",
    "\n",
    "print('p-значение:', results.pvalue)\n",
    "\n",
    "if results.pvalue < alpha:\n",
    "    print('Отвергаем нулевую гипотезу')\n",
    "else:\n",
    "    print('Не получилось отвергнуть нулевую гипотезу')"
   ]
  },
  {
   "cell_type": "markdown",
   "id": "070f719d",
   "metadata": {},
   "source": [
    "На основании t-теста мы можем отвергнуть нулевую гипотезу о равенстве ежемесячной выручки от пользователей с подпиской и без в пользу альтернативной гипотезы."
   ]
  },
  {
   "cell_type": "markdown",
   "id": "ac98cdf3",
   "metadata": {},
   "source": [
    "### Общий вывод"
   ]
  },
  {
   "cell_type": "markdown",
   "id": "28621bc9",
   "metadata": {},
   "source": [
    "В проведённом исследовании мы проанализировали данные о пользователях из нескольких городов и их поездках.  Были рассмотрены такие параметры, как длительность и расстояние поездок, влияние на эти факторы подписки Ultra, возраст пользователей, ежемесячная выручка и некоторые другие. В исследовании использовались данные примерно 1,5 тыс пользователей о 18 тыс поездок за 2021г., мы пришли к следующим выводам.\n",
    "\n",
    "Были приведены данные пользователей из 8-ми городов: Тюмень, Омск, Москва, Ростов-на-Дону, Краснодар, Пятигорск, Екатеринбург, Сочи. Сервис Go Fast востребован в этих городах примерно одинаково, но можно отметить, что большая востребованность в Пятигорске (14% от общего количества, 219 использований за год), а самая низкая - в Москве (11%, 168 использований). Это может быть связано с тем, что несмотря на значительно большую населённость Москвы, в ней лучше развит общественный транспорт, а также подобные сервисы-конкуренты.\n",
    "\n",
    "Возраст пользователя сервиса чаще всего составляет 22-28 лет. Самому юному пользователю было - 12 лет, а самому зрелому - 43 года.\n",
    "\n",
    "Подписка Ultra оформлена у 46% пользователей, остальные 54% - не воспользовались подпиской на момент сбора данных.\n",
    "\n",
    "Параметры растояния и длительности поездок рассмотрим в контексте оформленной либо нет подписки:\n",
    "* Среднее расстояние, преодолённое за одну поездку на 110м метров больше у пользователей с подпиской (3115м). По построенной гистограмме можно сделать вывод, что пользователи без подписки больше совершают поездки разаной протяжённости, половина поездок приходится на диапозон 2300-3900м. Пользователи же с подпиской Ultra реже совершают более короткие или слидком длительные поездки, половина поездок пользователей этой категории приходится на диапазон 2700-3500м.\n",
    "* Среднее время поездки пользователей с подпиской на 1 минуту дольше его у пользователей без подписки: 18 и 17 минут соответственно. У пользоватеелй с подпиской максимальное зафиксированное время поездки больше аналогичного у клиентов без подписки на 5 минут: 40 и 35 минут соответственно. Половина поездок пользователей без подписки находится в диапозоне 13-21 мин, с подпиской - 14-22 мин.\n",
    "\n",
    "Были проанализированы данные по выручке, в т.ч. ежемесячной. Ежемесячно большинство клиентов платит 200-400 руб. Суммарная ежемесячная выручка преимущественно более 300 000 руб. Исключением является февраль 290 000 руб. В течение года именно этот месяц приносит дохода менее остальных. Максимальная выручка наблюдается в январе, мае и июне - около 340 000 руб. Удивительно высокий спрос на самокаты январе объясгяется тем, в каких городах это происходит: Пятигорск, Ростов-на-Дону и Сочи. Города с довольно мягкой зимой, где использование подобного транспорта остаётся возможным. Итоговая выручка сервиса за год 3 878 641 руб.\n",
    "\n",
    "С целью планирования привлечения бОльшего количества пользователей с подпиской были проверены несколько гипотез и сделаны следующие выводы:\n",
    "* пользователи с подпиской в среднем тратят больше времени на поездку;\n",
    "* среднее расстояние поездки пользователя с подпиской (3115м) укладывается в оптимальную с точки зрения износа самоката дистанцию;\n",
    "* пользователи с подпиской приносят больше выручки ежемесячно.\n",
    "\n",
    "С учётом всех рассмотренных характеристик можно сделать вывод, что пользователи с подпиской Ultra являются более выгодными клиентами для сервиса аренды самокатов GO Fast."
   ]
  }
 ],
 "metadata": {
  "ExecuteTimeLog": [
   {
    "duration": 1290,
    "start_time": "2024-05-11T16:18:56.210Z"
   },
   {
    "duration": 51,
    "start_time": "2024-05-12T21:00:59.153Z"
   },
   {
    "duration": 1144,
    "start_time": "2024-05-12T21:01:07.593Z"
   },
   {
    "duration": 131,
    "start_time": "2024-05-12T21:01:08.739Z"
   },
   {
    "duration": 156,
    "start_time": "2024-05-12T21:02:15.181Z"
   },
   {
    "duration": 16,
    "start_time": "2024-05-12T21:02:55.374Z"
   },
   {
    "duration": 11,
    "start_time": "2024-05-12T21:02:59.296Z"
   },
   {
    "duration": 14,
    "start_time": "2024-05-12T21:03:21.845Z"
   },
   {
    "duration": 13,
    "start_time": "2024-05-12T21:03:31.380Z"
   },
   {
    "duration": 13,
    "start_time": "2024-05-12T21:03:38.707Z"
   },
   {
    "duration": 14,
    "start_time": "2024-05-12T21:03:47.059Z"
   },
   {
    "duration": 89,
    "start_time": "2024-05-12T21:04:28.944Z"
   },
   {
    "duration": 13,
    "start_time": "2024-05-12T21:04:34.209Z"
   },
   {
    "duration": 11,
    "start_time": "2024-05-12T21:04:43.723Z"
   },
   {
    "duration": 14,
    "start_time": "2024-05-12T21:05:00.490Z"
   },
   {
    "duration": 11,
    "start_time": "2024-05-12T21:05:05.438Z"
   },
   {
    "duration": 6,
    "start_time": "2024-05-12T21:06:06.028Z"
   },
   {
    "duration": 7,
    "start_time": "2024-05-12T21:06:14.046Z"
   },
   {
    "duration": 11,
    "start_time": "2024-05-12T21:06:26.952Z"
   },
   {
    "duration": 269,
    "start_time": "2024-05-12T21:12:25.477Z"
   },
   {
    "duration": 433,
    "start_time": "2024-05-12T21:12:49.053Z"
   },
   {
    "duration": 368,
    "start_time": "2024-05-12T21:12:56.695Z"
   },
   {
    "duration": 350,
    "start_time": "2024-05-12T21:13:09.140Z"
   },
   {
    "duration": 328,
    "start_time": "2024-05-12T21:13:29.925Z"
   },
   {
    "duration": 301,
    "start_time": "2024-05-12T21:13:50.029Z"
   },
   {
    "duration": 290,
    "start_time": "2024-05-12T21:14:05.784Z"
   },
   {
    "duration": 258,
    "start_time": "2024-05-12T21:14:19.751Z"
   },
   {
    "duration": 276,
    "start_time": "2024-05-12T21:14:24.657Z"
   },
   {
    "duration": 277,
    "start_time": "2024-05-12T21:14:29.500Z"
   },
   {
    "duration": 262,
    "start_time": "2024-05-12T21:14:37.230Z"
   },
   {
    "duration": 221,
    "start_time": "2024-05-12T21:15:16.873Z"
   },
   {
    "duration": 157,
    "start_time": "2024-05-12T21:15:24.252Z"
   },
   {
    "duration": 165,
    "start_time": "2024-05-12T21:15:31.118Z"
   },
   {
    "duration": 11,
    "start_time": "2024-05-12T21:16:58.000Z"
   },
   {
    "duration": 292,
    "start_time": "2024-05-12T21:17:07.427Z"
   },
   {
    "duration": 1047,
    "start_time": "2024-05-12T21:17:24.985Z"
   },
   {
    "duration": 115,
    "start_time": "2024-05-12T21:17:26.034Z"
   },
   {
    "duration": 12,
    "start_time": "2024-05-12T21:17:26.150Z"
   },
   {
    "duration": 14,
    "start_time": "2024-05-12T21:17:26.164Z"
   },
   {
    "duration": 149,
    "start_time": "2024-05-12T21:17:26.180Z"
   },
   {
    "duration": 10,
    "start_time": "2024-05-12T21:17:26.331Z"
   },
   {
    "duration": 22,
    "start_time": "2024-05-12T21:17:26.343Z"
   },
   {
    "duration": 325,
    "start_time": "2024-05-12T21:17:26.367Z"
   },
   {
    "duration": 7,
    "start_time": "2024-05-12T21:17:26.694Z"
   },
   {
    "duration": 11,
    "start_time": "2024-05-12T21:17:26.703Z"
   },
   {
    "duration": 221,
    "start_time": "2024-05-12T21:17:56.818Z"
   },
   {
    "duration": 267,
    "start_time": "2024-05-12T21:18:05.261Z"
   },
   {
    "duration": 274,
    "start_time": "2024-05-12T21:18:12.295Z"
   },
   {
    "duration": 9,
    "start_time": "2024-05-12T21:18:36.012Z"
   },
   {
    "duration": 11,
    "start_time": "2024-05-12T21:18:56.489Z"
   },
   {
    "duration": 10,
    "start_time": "2024-05-12T21:19:21.731Z"
   },
   {
    "duration": 10,
    "start_time": "2024-05-12T21:19:26.720Z"
   },
   {
    "duration": 10,
    "start_time": "2024-05-12T21:19:40.162Z"
   },
   {
    "duration": 55,
    "start_time": "2024-05-12T22:34:21.672Z"
   },
   {
    "duration": 1080,
    "start_time": "2024-05-13T16:06:51.603Z"
   },
   {
    "duration": 246,
    "start_time": "2024-05-13T16:06:52.685Z"
   },
   {
    "duration": 12,
    "start_time": "2024-05-13T16:06:52.932Z"
   },
   {
    "duration": 31,
    "start_time": "2024-05-13T16:06:52.945Z"
   },
   {
    "duration": 266,
    "start_time": "2024-05-13T16:06:52.977Z"
   },
   {
    "duration": 8,
    "start_time": "2024-05-13T16:06:53.245Z"
   },
   {
    "duration": 14,
    "start_time": "2024-05-13T16:06:53.254Z"
   },
   {
    "duration": 268,
    "start_time": "2024-05-13T16:06:53.269Z"
   },
   {
    "duration": 5,
    "start_time": "2024-05-13T16:06:53.538Z"
   },
   {
    "duration": 32,
    "start_time": "2024-05-13T16:06:53.545Z"
   },
   {
    "duration": 938,
    "start_time": "2024-05-13T16:38:03.588Z"
   },
   {
    "duration": 95,
    "start_time": "2024-05-13T16:38:04.527Z"
   },
   {
    "duration": 11,
    "start_time": "2024-05-13T16:38:04.623Z"
   },
   {
    "duration": 11,
    "start_time": "2024-05-13T16:38:04.636Z"
   },
   {
    "duration": 211,
    "start_time": "2024-05-13T16:38:04.648Z"
   },
   {
    "duration": 8,
    "start_time": "2024-05-13T16:38:04.860Z"
   },
   {
    "duration": 24,
    "start_time": "2024-05-13T16:38:04.869Z"
   },
   {
    "duration": 279,
    "start_time": "2024-05-13T16:38:04.895Z"
   },
   {
    "duration": 7,
    "start_time": "2024-05-13T16:38:05.176Z"
   },
   {
    "duration": 23,
    "start_time": "2024-05-13T16:38:05.185Z"
   },
   {
    "duration": 44,
    "start_time": "2024-05-13T18:05:09.275Z"
   },
   {
    "duration": 7,
    "start_time": "2024-05-13T18:06:34.700Z"
   },
   {
    "duration": 10,
    "start_time": "2024-05-13T18:06:49.224Z"
   },
   {
    "duration": 83,
    "start_time": "2024-05-13T18:08:40.142Z"
   },
   {
    "duration": 4,
    "start_time": "2024-05-13T18:08:47.560Z"
   },
   {
    "duration": 8,
    "start_time": "2024-05-13T18:09:10.222Z"
   },
   {
    "duration": 11,
    "start_time": "2024-05-13T18:29:17.440Z"
   },
   {
    "duration": 4,
    "start_time": "2024-05-13T18:29:17.909Z"
   },
   {
    "duration": 7,
    "start_time": "2024-05-13T18:29:18.304Z"
   },
   {
    "duration": 5,
    "start_time": "2024-05-13T18:36:18.476Z"
   },
   {
    "duration": 5,
    "start_time": "2024-05-13T18:36:31.501Z"
   },
   {
    "duration": 5,
    "start_time": "2024-05-13T18:36:48.235Z"
   },
   {
    "duration": 5,
    "start_time": "2024-05-13T19:12:03.647Z"
   },
   {
    "duration": 5,
    "start_time": "2024-05-13T19:12:13.783Z"
   },
   {
    "duration": 4,
    "start_time": "2024-05-13T19:13:02.209Z"
   },
   {
    "duration": 4,
    "start_time": "2024-05-13T19:13:12.595Z"
   },
   {
    "duration": 7,
    "start_time": "2024-05-13T19:13:18.263Z"
   },
   {
    "duration": 7,
    "start_time": "2024-05-13T19:13:38.461Z"
   },
   {
    "duration": 4,
    "start_time": "2024-05-13T19:13:48.192Z"
   },
   {
    "duration": 920,
    "start_time": "2024-05-13T19:22:50.817Z"
   },
   {
    "duration": 75,
    "start_time": "2024-05-13T19:22:51.739Z"
   },
   {
    "duration": 11,
    "start_time": "2024-05-13T19:22:51.815Z"
   },
   {
    "duration": 12,
    "start_time": "2024-05-13T19:22:51.828Z"
   },
   {
    "duration": 208,
    "start_time": "2024-05-13T19:22:51.842Z"
   },
   {
    "duration": 9,
    "start_time": "2024-05-13T19:22:52.051Z"
   },
   {
    "duration": 53,
    "start_time": "2024-05-13T19:22:52.061Z"
   },
   {
    "duration": 286,
    "start_time": "2024-05-13T19:22:52.115Z"
   },
   {
    "duration": 6,
    "start_time": "2024-05-13T19:22:52.403Z"
   },
   {
    "duration": 16,
    "start_time": "2024-05-13T19:22:52.410Z"
   },
   {
    "duration": 25,
    "start_time": "2024-05-13T19:22:52.427Z"
   },
   {
    "duration": 12,
    "start_time": "2024-05-13T19:22:52.453Z"
   },
   {
    "duration": 9,
    "start_time": "2024-05-13T19:22:52.466Z"
   },
   {
    "duration": 15,
    "start_time": "2024-05-13T19:22:52.477Z"
   },
   {
    "duration": 11,
    "start_time": "2024-05-13T19:22:52.493Z"
   },
   {
    "duration": 31,
    "start_time": "2024-05-13T19:22:52.505Z"
   },
   {
    "duration": 5,
    "start_time": "2024-05-13T19:22:52.538Z"
   },
   {
    "duration": 10,
    "start_time": "2024-05-13T19:22:52.544Z"
   },
   {
    "duration": 19,
    "start_time": "2024-05-13T19:22:52.555Z"
   },
   {
    "duration": 12,
    "start_time": "2024-05-13T19:22:52.575Z"
   },
   {
    "duration": 6,
    "start_time": "2024-05-13T19:22:52.588Z"
   },
   {
    "duration": 87,
    "start_time": "2024-05-13T19:25:49.597Z"
   },
   {
    "duration": 8,
    "start_time": "2024-05-13T19:26:00.170Z"
   },
   {
    "duration": 8,
    "start_time": "2024-05-13T19:26:05.031Z"
   },
   {
    "duration": 12,
    "start_time": "2024-05-13T19:26:08.702Z"
   },
   {
    "duration": 4,
    "start_time": "2024-05-13T19:26:32.661Z"
   },
   {
    "duration": 4,
    "start_time": "2024-05-13T19:28:40.718Z"
   },
   {
    "duration": 4,
    "start_time": "2024-05-13T19:29:12.520Z"
   },
   {
    "duration": 5,
    "start_time": "2024-05-13T19:30:12.331Z"
   },
   {
    "duration": 5,
    "start_time": "2024-05-13T19:30:25.901Z"
   },
   {
    "duration": 3,
    "start_time": "2024-05-13T19:32:30.995Z"
   },
   {
    "duration": 7,
    "start_time": "2024-05-13T19:32:35.842Z"
   },
   {
    "duration": 4,
    "start_time": "2024-05-13T19:32:42.491Z"
   },
   {
    "duration": 7,
    "start_time": "2024-05-13T19:33:06.936Z"
   },
   {
    "duration": 7,
    "start_time": "2024-05-13T19:33:11.675Z"
   },
   {
    "duration": 4,
    "start_time": "2024-05-13T19:33:18.925Z"
   },
   {
    "duration": 4,
    "start_time": "2024-05-13T19:33:25.024Z"
   },
   {
    "duration": 4,
    "start_time": "2024-05-13T19:40:12.590Z"
   },
   {
    "duration": 3,
    "start_time": "2024-05-13T19:44:47.522Z"
   },
   {
    "duration": 68,
    "start_time": "2024-05-13T19:46:24.497Z"
   },
   {
    "duration": 130,
    "start_time": "2024-05-13T19:46:38.464Z"
   },
   {
    "duration": 15,
    "start_time": "2024-05-13T19:46:46.737Z"
   },
   {
    "duration": 627,
    "start_time": "2024-05-13T19:48:19.614Z"
   },
   {
    "duration": 177,
    "start_time": "2024-05-13T19:48:38.478Z"
   },
   {
    "duration": 205,
    "start_time": "2024-05-13T19:48:55.422Z"
   },
   {
    "duration": 216,
    "start_time": "2024-05-13T19:49:57.183Z"
   },
   {
    "duration": 191,
    "start_time": "2024-05-13T19:50:57.559Z"
   },
   {
    "duration": 196,
    "start_time": "2024-05-13T19:51:04.989Z"
   },
   {
    "duration": 105,
    "start_time": "2024-05-13T19:55:04.644Z"
   },
   {
    "duration": 5,
    "start_time": "2024-05-13T19:56:29.267Z"
   },
   {
    "duration": 4,
    "start_time": "2024-05-13T19:57:50.350Z"
   },
   {
    "duration": 3,
    "start_time": "2024-05-13T19:58:54.526Z"
   },
   {
    "duration": 8,
    "start_time": "2024-05-13T20:01:29.999Z"
   },
   {
    "duration": 13,
    "start_time": "2024-05-13T20:01:53.768Z"
   },
   {
    "duration": 8,
    "start_time": "2024-05-13T20:02:01.722Z"
   },
   {
    "duration": 14,
    "start_time": "2024-05-13T20:02:12.449Z"
   },
   {
    "duration": 8,
    "start_time": "2024-05-13T20:03:21.197Z"
   },
   {
    "duration": 6,
    "start_time": "2024-05-13T20:03:32.109Z"
   },
   {
    "duration": 4,
    "start_time": "2024-05-13T20:04:02.244Z"
   },
   {
    "duration": 6,
    "start_time": "2024-05-13T20:04:09.624Z"
   },
   {
    "duration": 7,
    "start_time": "2024-05-13T20:04:29.190Z"
   },
   {
    "duration": 6,
    "start_time": "2024-05-13T20:05:12.219Z"
   },
   {
    "duration": 6,
    "start_time": "2024-05-13T20:05:17.775Z"
   },
   {
    "duration": 6,
    "start_time": "2024-05-13T20:05:26.036Z"
   },
   {
    "duration": 700,
    "start_time": "2024-05-13T20:06:21.708Z"
   },
   {
    "duration": 9,
    "start_time": "2024-05-13T20:06:59.748Z"
   },
   {
    "duration": 726,
    "start_time": "2024-05-13T20:07:07.586Z"
   },
   {
    "duration": 148,
    "start_time": "2024-05-13T20:07:26.296Z"
   },
   {
    "duration": 95,
    "start_time": "2024-05-13T20:07:37.411Z"
   },
   {
    "duration": 6,
    "start_time": "2024-05-13T20:08:36.776Z"
   },
   {
    "duration": 6,
    "start_time": "2024-05-13T20:08:49.258Z"
   },
   {
    "duration": 6,
    "start_time": "2024-05-13T20:08:56.308Z"
   },
   {
    "duration": 96,
    "start_time": "2024-05-13T20:08:59.269Z"
   },
   {
    "duration": 4,
    "start_time": "2024-05-13T20:09:47.262Z"
   },
   {
    "duration": 98,
    "start_time": "2024-05-13T20:09:47.878Z"
   },
   {
    "duration": 116,
    "start_time": "2024-05-13T20:10:38.247Z"
   },
   {
    "duration": 112,
    "start_time": "2024-05-13T20:10:42.862Z"
   },
   {
    "duration": 121,
    "start_time": "2024-05-13T20:10:50.850Z"
   },
   {
    "duration": 115,
    "start_time": "2024-05-13T20:10:58.353Z"
   },
   {
    "duration": 118,
    "start_time": "2024-05-13T20:11:02.708Z"
   },
   {
    "duration": 117,
    "start_time": "2024-05-13T20:11:08.086Z"
   },
   {
    "duration": 116,
    "start_time": "2024-05-13T20:11:12.160Z"
   },
   {
    "duration": 130,
    "start_time": "2024-05-13T20:11:19.061Z"
   },
   {
    "duration": 124,
    "start_time": "2024-05-13T20:11:23.197Z"
   },
   {
    "duration": 120,
    "start_time": "2024-05-13T20:11:27.047Z"
   },
   {
    "duration": 4,
    "start_time": "2024-05-13T20:11:48.397Z"
   },
   {
    "duration": 178,
    "start_time": "2024-05-13T20:11:51.076Z"
   },
   {
    "duration": 122,
    "start_time": "2024-05-13T20:12:10.910Z"
   },
   {
    "duration": 144,
    "start_time": "2024-05-13T20:12:21.466Z"
   },
   {
    "duration": 122,
    "start_time": "2024-05-13T20:12:30.084Z"
   },
   {
    "duration": 8,
    "start_time": "2024-05-13T20:15:30.392Z"
   },
   {
    "duration": 75,
    "start_time": "2024-05-13T20:15:37.494Z"
   },
   {
    "duration": 956,
    "start_time": "2024-05-13T20:16:17.984Z"
   },
   {
    "duration": 102,
    "start_time": "2024-05-13T20:16:18.942Z"
   },
   {
    "duration": 11,
    "start_time": "2024-05-13T20:16:19.046Z"
   },
   {
    "duration": 19,
    "start_time": "2024-05-13T20:16:19.058Z"
   },
   {
    "duration": 222,
    "start_time": "2024-05-13T20:16:19.079Z"
   },
   {
    "duration": 8,
    "start_time": "2024-05-13T20:16:19.302Z"
   },
   {
    "duration": 18,
    "start_time": "2024-05-13T20:16:19.311Z"
   },
   {
    "duration": 288,
    "start_time": "2024-05-13T20:16:19.330Z"
   },
   {
    "duration": 5,
    "start_time": "2024-05-13T20:16:19.620Z"
   },
   {
    "duration": 24,
    "start_time": "2024-05-13T20:16:19.627Z"
   },
   {
    "duration": 11,
    "start_time": "2024-05-13T20:16:19.652Z"
   },
   {
    "duration": 5,
    "start_time": "2024-05-13T20:16:19.665Z"
   },
   {
    "duration": 13,
    "start_time": "2024-05-13T20:16:19.671Z"
   },
   {
    "duration": 34,
    "start_time": "2024-05-13T20:16:19.685Z"
   },
   {
    "duration": 18,
    "start_time": "2024-05-13T20:16:19.720Z"
   },
   {
    "duration": 12,
    "start_time": "2024-05-13T20:16:19.740Z"
   },
   {
    "duration": 15,
    "start_time": "2024-05-13T20:16:19.754Z"
   },
   {
    "duration": 13,
    "start_time": "2024-05-13T20:16:19.770Z"
   },
   {
    "duration": 17,
    "start_time": "2024-05-13T20:16:19.784Z"
   },
   {
    "duration": 23,
    "start_time": "2024-05-13T20:16:19.802Z"
   },
   {
    "duration": 19,
    "start_time": "2024-05-13T20:16:19.826Z"
   },
   {
    "duration": 50,
    "start_time": "2024-05-13T20:16:19.846Z"
   },
   {
    "duration": 25,
    "start_time": "2024-05-13T20:16:19.898Z"
   },
   {
    "duration": 39,
    "start_time": "2024-05-13T20:16:19.924Z"
   },
   {
    "duration": 142,
    "start_time": "2024-05-13T20:16:19.964Z"
   },
   {
    "duration": 76,
    "start_time": "2024-05-13T20:16:20.107Z"
   },
   {
    "duration": 227,
    "start_time": "2024-05-13T20:17:19.360Z"
   },
   {
    "duration": 179,
    "start_time": "2024-05-13T20:17:50.253Z"
   },
   {
    "duration": 58,
    "start_time": "2024-05-13T20:21:52.915Z"
   },
   {
    "duration": 91,
    "start_time": "2024-05-13T20:22:16.288Z"
   },
   {
    "duration": 6,
    "start_time": "2024-05-13T20:22:27.154Z"
   },
   {
    "duration": 45,
    "start_time": "2024-05-13T20:22:48.294Z"
   },
   {
    "duration": 4,
    "start_time": "2024-05-13T20:22:57.214Z"
   },
   {
    "duration": 3,
    "start_time": "2024-05-13T20:23:09.133Z"
   },
   {
    "duration": 4,
    "start_time": "2024-05-13T20:23:32.269Z"
   },
   {
    "duration": 5,
    "start_time": "2024-05-13T20:23:43.821Z"
   },
   {
    "duration": 54,
    "start_time": "2024-05-13T20:23:54.241Z"
   },
   {
    "duration": 72,
    "start_time": "2024-05-13T20:24:05.359Z"
   },
   {
    "duration": 73,
    "start_time": "2024-05-13T20:24:27.672Z"
   },
   {
    "duration": 180,
    "start_time": "2024-05-13T20:24:43.167Z"
   },
   {
    "duration": 40,
    "start_time": "2024-05-13T20:24:58.805Z"
   },
   {
    "duration": 210,
    "start_time": "2024-05-13T20:25:16.863Z"
   },
   {
    "duration": 105,
    "start_time": "2024-05-13T20:26:45.547Z"
   },
   {
    "duration": 186,
    "start_time": "2024-05-13T20:26:58.973Z"
   },
   {
    "duration": 214,
    "start_time": "2024-05-13T20:27:05.118Z"
   },
   {
    "duration": 202,
    "start_time": "2024-05-13T20:27:11.638Z"
   },
   {
    "duration": 121,
    "start_time": "2024-05-13T20:27:24.934Z"
   },
   {
    "duration": 104,
    "start_time": "2024-05-13T20:27:32.389Z"
   },
   {
    "duration": 63,
    "start_time": "2024-05-13T20:27:49.478Z"
   },
   {
    "duration": 5,
    "start_time": "2024-05-13T20:28:26.621Z"
   },
   {
    "duration": 10,
    "start_time": "2024-05-13T20:29:01.654Z"
   },
   {
    "duration": 5,
    "start_time": "2024-05-13T20:29:41.742Z"
   },
   {
    "duration": 5,
    "start_time": "2024-05-13T20:30:03.660Z"
   },
   {
    "duration": 5,
    "start_time": "2024-05-13T20:30:21.221Z"
   },
   {
    "duration": 99,
    "start_time": "2024-05-13T20:30:37.245Z"
   },
   {
    "duration": 102,
    "start_time": "2024-05-13T20:30:46.192Z"
   },
   {
    "duration": 116,
    "start_time": "2024-05-13T20:31:06.003Z"
   },
   {
    "duration": 173,
    "start_time": "2024-05-13T20:31:32.012Z"
   },
   {
    "duration": 4,
    "start_time": "2024-05-13T20:31:59.918Z"
   },
   {
    "duration": 938,
    "start_time": "2024-05-13T20:47:15.805Z"
   },
   {
    "duration": 95,
    "start_time": "2024-05-13T20:47:16.744Z"
   },
   {
    "duration": 10,
    "start_time": "2024-05-13T20:47:16.840Z"
   },
   {
    "duration": 14,
    "start_time": "2024-05-13T20:47:16.852Z"
   },
   {
    "duration": 212,
    "start_time": "2024-05-13T20:47:16.867Z"
   },
   {
    "duration": 8,
    "start_time": "2024-05-13T20:47:17.080Z"
   },
   {
    "duration": 18,
    "start_time": "2024-05-13T20:47:17.089Z"
   },
   {
    "duration": 267,
    "start_time": "2024-05-13T20:47:17.108Z"
   },
   {
    "duration": 14,
    "start_time": "2024-05-13T20:47:17.377Z"
   },
   {
    "duration": 65,
    "start_time": "2024-05-13T20:47:17.399Z"
   },
   {
    "duration": 125,
    "start_time": "2024-05-13T20:47:17.465Z"
   },
   {
    "duration": 29,
    "start_time": "2024-05-13T20:47:17.591Z"
   },
   {
    "duration": 15,
    "start_time": "2024-05-13T20:47:17.622Z"
   },
   {
    "duration": 20,
    "start_time": "2024-05-13T20:47:17.639Z"
   },
   {
    "duration": 19,
    "start_time": "2024-05-13T20:47:17.660Z"
   },
   {
    "duration": 16,
    "start_time": "2024-05-13T20:47:17.680Z"
   },
   {
    "duration": 8,
    "start_time": "2024-05-13T20:47:17.697Z"
   },
   {
    "duration": 5,
    "start_time": "2024-05-13T20:47:17.706Z"
   },
   {
    "duration": 39,
    "start_time": "2024-05-13T20:47:17.712Z"
   },
   {
    "duration": 19,
    "start_time": "2024-05-13T20:47:17.752Z"
   },
   {
    "duration": 15,
    "start_time": "2024-05-13T20:47:17.773Z"
   },
   {
    "duration": 17,
    "start_time": "2024-05-13T20:47:17.789Z"
   },
   {
    "duration": 18,
    "start_time": "2024-05-13T20:47:17.807Z"
   },
   {
    "duration": 9,
    "start_time": "2024-05-13T20:47:17.826Z"
   },
   {
    "duration": 116,
    "start_time": "2024-05-13T20:47:17.836Z"
   },
   {
    "duration": 69,
    "start_time": "2024-05-13T20:47:17.954Z"
   },
   {
    "duration": 124,
    "start_time": "2024-05-13T20:47:18.024Z"
   },
   {
    "duration": 3,
    "start_time": "2024-05-13T20:47:18.151Z"
   },
   {
    "duration": 3,
    "start_time": "2024-05-13T21:18:12.733Z"
   },
   {
    "duration": 4,
    "start_time": "2024-05-13T21:18:44.095Z"
   },
   {
    "duration": 106,
    "start_time": "2024-05-13T21:19:00.965Z"
   },
   {
    "duration": 4,
    "start_time": "2024-05-13T21:21:28.090Z"
   },
   {
    "duration": 713,
    "start_time": "2024-05-13T21:22:55.097Z"
   },
   {
    "duration": 116,
    "start_time": "2024-05-13T21:23:20.666Z"
   },
   {
    "duration": 207,
    "start_time": "2024-05-13T21:25:20.636Z"
   },
   {
    "duration": 247,
    "start_time": "2024-05-13T21:25:40.543Z"
   },
   {
    "duration": 206,
    "start_time": "2024-05-13T21:25:54.404Z"
   },
   {
    "duration": 1261,
    "start_time": "2024-05-14T21:19:38.932Z"
   },
   {
    "duration": 322,
    "start_time": "2024-05-14T21:19:40.195Z"
   },
   {
    "duration": 14,
    "start_time": "2024-05-14T21:19:40.519Z"
   },
   {
    "duration": 28,
    "start_time": "2024-05-14T21:19:40.536Z"
   },
   {
    "duration": 282,
    "start_time": "2024-05-14T21:19:40.566Z"
   },
   {
    "duration": 10,
    "start_time": "2024-05-14T21:19:40.849Z"
   },
   {
    "duration": 10,
    "start_time": "2024-05-14T21:19:40.870Z"
   },
   {
    "duration": 342,
    "start_time": "2024-05-14T21:19:40.882Z"
   },
   {
    "duration": 6,
    "start_time": "2024-05-14T21:19:41.226Z"
   },
   {
    "duration": 22,
    "start_time": "2024-05-14T21:19:41.234Z"
   },
   {
    "duration": 8,
    "start_time": "2024-05-14T21:19:41.257Z"
   },
   {
    "duration": 6,
    "start_time": "2024-05-14T21:19:41.266Z"
   },
   {
    "duration": 8,
    "start_time": "2024-05-14T21:19:41.273Z"
   },
   {
    "duration": 8,
    "start_time": "2024-05-14T21:19:41.282Z"
   },
   {
    "duration": 6,
    "start_time": "2024-05-14T21:19:41.291Z"
   },
   {
    "duration": 13,
    "start_time": "2024-05-14T21:19:41.299Z"
   },
   {
    "duration": 13,
    "start_time": "2024-05-14T21:19:41.313Z"
   },
   {
    "duration": 7,
    "start_time": "2024-05-14T21:19:41.328Z"
   },
   {
    "duration": 5,
    "start_time": "2024-05-14T21:19:41.337Z"
   },
   {
    "duration": 16,
    "start_time": "2024-05-14T21:19:41.343Z"
   },
   {
    "duration": 4,
    "start_time": "2024-05-14T21:19:41.370Z"
   },
   {
    "duration": 9,
    "start_time": "2024-05-14T21:19:41.376Z"
   },
   {
    "duration": 5,
    "start_time": "2024-05-14T21:19:41.386Z"
   },
   {
    "duration": 5,
    "start_time": "2024-05-14T21:19:41.392Z"
   },
   {
    "duration": 8,
    "start_time": "2024-05-14T21:19:41.399Z"
   },
   {
    "duration": 161,
    "start_time": "2024-05-14T21:19:41.408Z"
   },
   {
    "duration": 76,
    "start_time": "2024-05-14T21:19:41.571Z"
   },
   {
    "duration": 184,
    "start_time": "2024-05-14T21:19:41.650Z"
   },
   {
    "duration": 4,
    "start_time": "2024-05-14T21:19:41.836Z"
   },
   {
    "duration": 271,
    "start_time": "2024-05-14T21:19:41.841Z"
   },
   {
    "duration": 3,
    "start_time": "2024-05-14T21:19:42.113Z"
   },
   {
    "duration": 139,
    "start_time": "2024-05-14T21:29:17.920Z"
   },
   {
    "duration": 119,
    "start_time": "2024-05-14T21:31:40.999Z"
   },
   {
    "duration": 267,
    "start_time": "2024-05-14T21:35:50.167Z"
   },
   {
    "duration": 111,
    "start_time": "2024-05-14T21:35:54.616Z"
   },
   {
    "duration": 134,
    "start_time": "2024-05-14T21:36:16.210Z"
   },
   {
    "duration": 127,
    "start_time": "2024-05-14T21:36:20.810Z"
   },
   {
    "duration": 106,
    "start_time": "2024-05-14T21:36:26.361Z"
   },
   {
    "duration": 127,
    "start_time": "2024-05-14T21:36:34.163Z"
   },
   {
    "duration": 7,
    "start_time": "2024-05-14T21:41:00.642Z"
   },
   {
    "duration": 8,
    "start_time": "2024-05-14T21:41:06.268Z"
   },
   {
    "duration": 8,
    "start_time": "2024-05-14T21:41:11.393Z"
   },
   {
    "duration": 7,
    "start_time": "2024-05-14T21:41:18.914Z"
   },
   {
    "duration": 24,
    "start_time": "2024-05-14T21:45:04.069Z"
   },
   {
    "duration": 24,
    "start_time": "2024-05-14T21:45:59.090Z"
   },
   {
    "duration": 23,
    "start_time": "2024-05-14T21:46:29.195Z"
   },
   {
    "duration": 12,
    "start_time": "2024-05-14T21:47:50.492Z"
   },
   {
    "duration": 9,
    "start_time": "2024-05-14T21:47:54.820Z"
   },
   {
    "duration": 7,
    "start_time": "2024-05-14T21:48:34.679Z"
   },
   {
    "duration": 23,
    "start_time": "2024-05-14T21:48:45.437Z"
   },
   {
    "duration": 22,
    "start_time": "2024-05-14T21:49:36.701Z"
   },
   {
    "duration": 1122,
    "start_time": "2024-05-14T21:49:48.376Z"
   },
   {
    "duration": 110,
    "start_time": "2024-05-14T21:49:49.499Z"
   },
   {
    "duration": 13,
    "start_time": "2024-05-14T21:49:49.611Z"
   },
   {
    "duration": 10,
    "start_time": "2024-05-14T21:49:49.626Z"
   },
   {
    "duration": 288,
    "start_time": "2024-05-14T21:49:49.638Z"
   },
   {
    "duration": 10,
    "start_time": "2024-05-14T21:49:49.927Z"
   },
   {
    "duration": 19,
    "start_time": "2024-05-14T21:49:49.939Z"
   },
   {
    "duration": 338,
    "start_time": "2024-05-14T21:49:49.960Z"
   },
   {
    "duration": 7,
    "start_time": "2024-05-14T21:49:50.300Z"
   },
   {
    "duration": 18,
    "start_time": "2024-05-14T21:49:50.311Z"
   },
   {
    "duration": 20,
    "start_time": "2024-05-14T21:49:50.331Z"
   },
   {
    "duration": 6,
    "start_time": "2024-05-14T21:49:50.353Z"
   },
   {
    "duration": 44,
    "start_time": "2024-05-14T21:49:50.361Z"
   },
   {
    "duration": 11,
    "start_time": "2024-05-14T21:49:50.407Z"
   },
   {
    "duration": 21,
    "start_time": "2024-05-14T21:49:50.419Z"
   },
   {
    "duration": 18,
    "start_time": "2024-05-14T21:49:50.441Z"
   },
   {
    "duration": 33,
    "start_time": "2024-05-14T21:49:50.460Z"
   },
   {
    "duration": 21,
    "start_time": "2024-05-14T21:49:50.494Z"
   },
   {
    "duration": 8,
    "start_time": "2024-05-14T21:49:50.516Z"
   },
   {
    "duration": 10,
    "start_time": "2024-05-14T21:49:50.525Z"
   },
   {
    "duration": 10,
    "start_time": "2024-05-14T21:49:50.536Z"
   },
   {
    "duration": 8,
    "start_time": "2024-05-14T21:49:50.548Z"
   },
   {
    "duration": 23,
    "start_time": "2024-05-14T21:49:50.558Z"
   },
   {
    "duration": 9,
    "start_time": "2024-05-14T21:49:50.582Z"
   },
   {
    "duration": 19,
    "start_time": "2024-05-14T21:49:50.592Z"
   },
   {
    "duration": 130,
    "start_time": "2024-05-14T21:49:50.612Z"
   },
   {
    "duration": 85,
    "start_time": "2024-05-14T21:49:50.744Z"
   },
   {
    "duration": 149,
    "start_time": "2024-05-14T21:49:50.832Z"
   },
   {
    "duration": 4,
    "start_time": "2024-05-14T21:49:50.983Z"
   },
   {
    "duration": 318,
    "start_time": "2024-05-14T21:49:50.988Z"
   },
   {
    "duration": 125,
    "start_time": "2024-05-14T21:49:51.307Z"
   },
   {
    "duration": 8,
    "start_time": "2024-05-14T21:49:51.433Z"
   },
   {
    "duration": 37,
    "start_time": "2024-05-14T21:49:51.443Z"
   },
   {
    "duration": 26,
    "start_time": "2024-05-14T21:49:51.482Z"
   },
   {
    "duration": 75,
    "start_time": "2024-05-14T21:49:51.510Z"
   },
   {
    "duration": 1397,
    "start_time": "2024-05-15T06:07:34.243Z"
   },
   {
    "duration": 374,
    "start_time": "2024-05-15T06:07:35.643Z"
   },
   {
    "duration": 16,
    "start_time": "2024-05-15T06:07:36.019Z"
   },
   {
    "duration": 12,
    "start_time": "2024-05-15T06:07:36.037Z"
   },
   {
    "duration": 359,
    "start_time": "2024-05-15T06:07:36.053Z"
   },
   {
    "duration": 12,
    "start_time": "2024-05-15T06:07:36.414Z"
   },
   {
    "duration": 69,
    "start_time": "2024-05-15T06:07:36.427Z"
   },
   {
    "duration": 411,
    "start_time": "2024-05-15T06:07:36.498Z"
   },
   {
    "duration": 8,
    "start_time": "2024-05-15T06:07:36.911Z"
   },
   {
    "duration": 14,
    "start_time": "2024-05-15T06:07:36.921Z"
   },
   {
    "duration": 19,
    "start_time": "2024-05-15T06:07:36.937Z"
   },
   {
    "duration": 45,
    "start_time": "2024-05-15T06:07:36.957Z"
   },
   {
    "duration": 24,
    "start_time": "2024-05-15T06:07:37.004Z"
   },
   {
    "duration": 13,
    "start_time": "2024-05-15T06:07:37.031Z"
   },
   {
    "duration": 38,
    "start_time": "2024-05-15T06:07:37.046Z"
   },
   {
    "duration": 24,
    "start_time": "2024-05-15T06:07:37.086Z"
   },
   {
    "duration": 29,
    "start_time": "2024-05-15T06:07:37.112Z"
   },
   {
    "duration": 11,
    "start_time": "2024-05-15T06:07:37.143Z"
   },
   {
    "duration": 18,
    "start_time": "2024-05-15T06:07:37.155Z"
   },
   {
    "duration": 28,
    "start_time": "2024-05-15T06:07:37.175Z"
   },
   {
    "duration": 11,
    "start_time": "2024-05-15T06:07:37.204Z"
   },
   {
    "duration": 28,
    "start_time": "2024-05-15T06:07:37.217Z"
   },
   {
    "duration": 9,
    "start_time": "2024-05-15T06:07:37.246Z"
   },
   {
    "duration": 30,
    "start_time": "2024-05-15T06:07:37.257Z"
   },
   {
    "duration": 28,
    "start_time": "2024-05-15T06:07:37.290Z"
   },
   {
    "duration": 151,
    "start_time": "2024-05-15T06:07:37.319Z"
   },
   {
    "duration": 91,
    "start_time": "2024-05-15T06:07:37.472Z"
   },
   {
    "duration": 163,
    "start_time": "2024-05-15T06:07:37.580Z"
   },
   {
    "duration": 4,
    "start_time": "2024-05-15T06:07:37.745Z"
   },
   {
    "duration": 331,
    "start_time": "2024-05-15T06:07:37.751Z"
   },
   {
    "duration": 151,
    "start_time": "2024-05-15T06:07:38.083Z"
   },
   {
    "duration": 8,
    "start_time": "2024-05-15T06:07:38.236Z"
   },
   {
    "duration": 22,
    "start_time": "2024-05-15T06:07:38.245Z"
   },
   {
    "duration": 19,
    "start_time": "2024-05-15T06:07:38.269Z"
   },
   {
    "duration": 32,
    "start_time": "2024-05-15T06:07:38.290Z"
   },
   {
    "duration": 133,
    "start_time": "2024-05-15T06:09:38.502Z"
   },
   {
    "duration": 9,
    "start_time": "2024-05-15T06:09:58.407Z"
   },
   {
    "duration": 9,
    "start_time": "2024-05-15T06:10:04.137Z"
   },
   {
    "duration": 10,
    "start_time": "2024-05-15T06:11:31.479Z"
   },
   {
    "duration": 8,
    "start_time": "2024-05-15T06:11:58.936Z"
   },
   {
    "duration": 17,
    "start_time": "2024-05-15T06:12:21.486Z"
   },
   {
    "duration": 17,
    "start_time": "2024-05-15T06:13:26.790Z"
   },
   {
    "duration": 15,
    "start_time": "2024-05-15T06:19:14.871Z"
   },
   {
    "duration": 129,
    "start_time": "2024-05-15T06:19:27.792Z"
   },
   {
    "duration": 214,
    "start_time": "2024-05-15T06:20:02.192Z"
   },
   {
    "duration": 268,
    "start_time": "2024-05-15T06:20:09.918Z"
   },
   {
    "duration": 260,
    "start_time": "2024-05-15T06:21:47.595Z"
   },
   {
    "duration": 260,
    "start_time": "2024-05-15T06:23:52.290Z"
   },
   {
    "duration": 274,
    "start_time": "2024-05-15T06:24:21.244Z"
   },
   {
    "duration": 422,
    "start_time": "2024-05-15T06:34:30.465Z"
   },
   {
    "duration": 497,
    "start_time": "2024-05-15T06:34:41.283Z"
   },
   {
    "duration": 405,
    "start_time": "2024-05-15T06:35:33.104Z"
   },
   {
    "duration": 395,
    "start_time": "2024-05-15T06:36:02.792Z"
   },
   {
    "duration": 373,
    "start_time": "2024-05-15T06:36:12.843Z"
   },
   {
    "duration": 268,
    "start_time": "2024-05-15T06:36:48.625Z"
   },
   {
    "duration": 530,
    "start_time": "2024-05-15T06:36:59.588Z"
   },
   {
    "duration": 398,
    "start_time": "2024-05-15T06:37:33.300Z"
   },
   {
    "duration": 427,
    "start_time": "2024-05-15T06:38:05.633Z"
   },
   {
    "duration": 5,
    "start_time": "2024-05-15T06:41:53.672Z"
   },
   {
    "duration": 6,
    "start_time": "2024-05-15T06:42:02.764Z"
   },
   {
    "duration": 5,
    "start_time": "2024-05-15T06:42:54.445Z"
   },
   {
    "duration": 5,
    "start_time": "2024-05-15T06:43:25.264Z"
   },
   {
    "duration": 12,
    "start_time": "2024-05-15T06:44:13.224Z"
   },
   {
    "duration": 11,
    "start_time": "2024-05-15T06:44:22.421Z"
   },
   {
    "duration": 1012,
    "start_time": "2024-05-15T06:44:37.133Z"
   },
   {
    "duration": 102,
    "start_time": "2024-05-15T06:44:38.147Z"
   },
   {
    "duration": 14,
    "start_time": "2024-05-15T06:44:38.251Z"
   },
   {
    "duration": 23,
    "start_time": "2024-05-15T06:44:38.267Z"
   },
   {
    "duration": 317,
    "start_time": "2024-05-15T06:44:38.292Z"
   },
   {
    "duration": 11,
    "start_time": "2024-05-15T06:44:38.611Z"
   },
   {
    "duration": 53,
    "start_time": "2024-05-15T06:44:38.624Z"
   },
   {
    "duration": 386,
    "start_time": "2024-05-15T06:44:38.679Z"
   },
   {
    "duration": 14,
    "start_time": "2024-05-15T06:44:39.067Z"
   },
   {
    "duration": 27,
    "start_time": "2024-05-15T06:44:39.082Z"
   },
   {
    "duration": 27,
    "start_time": "2024-05-15T06:44:39.111Z"
   },
   {
    "duration": 36,
    "start_time": "2024-05-15T06:44:39.140Z"
   },
   {
    "duration": 29,
    "start_time": "2024-05-15T06:44:39.177Z"
   },
   {
    "duration": 24,
    "start_time": "2024-05-15T06:44:39.209Z"
   },
   {
    "duration": 32,
    "start_time": "2024-05-15T06:44:39.234Z"
   },
   {
    "duration": 24,
    "start_time": "2024-05-15T06:44:39.268Z"
   },
   {
    "duration": 18,
    "start_time": "2024-05-15T06:44:39.294Z"
   },
   {
    "duration": 18,
    "start_time": "2024-05-15T06:44:39.313Z"
   },
   {
    "duration": 32,
    "start_time": "2024-05-15T06:44:39.332Z"
   },
   {
    "duration": 34,
    "start_time": "2024-05-15T06:44:39.366Z"
   },
   {
    "duration": 31,
    "start_time": "2024-05-15T06:44:39.402Z"
   },
   {
    "duration": 18,
    "start_time": "2024-05-15T06:44:39.435Z"
   },
   {
    "duration": 30,
    "start_time": "2024-05-15T06:44:39.455Z"
   },
   {
    "duration": 20,
    "start_time": "2024-05-15T06:44:39.486Z"
   },
   {
    "duration": 19,
    "start_time": "2024-05-15T06:44:39.508Z"
   },
   {
    "duration": 148,
    "start_time": "2024-05-15T06:44:39.529Z"
   },
   {
    "duration": 84,
    "start_time": "2024-05-15T06:44:39.680Z"
   },
   {
    "duration": 158,
    "start_time": "2024-05-15T06:44:39.781Z"
   },
   {
    "duration": 5,
    "start_time": "2024-05-15T06:44:39.941Z"
   },
   {
    "duration": 306,
    "start_time": "2024-05-15T06:44:39.948Z"
   },
   {
    "duration": 144,
    "start_time": "2024-05-15T06:44:40.256Z"
   },
   {
    "duration": 7,
    "start_time": "2024-05-15T06:44:40.401Z"
   },
   {
    "duration": 19,
    "start_time": "2024-05-15T06:44:40.409Z"
   },
   {
    "duration": 10,
    "start_time": "2024-05-15T06:44:40.429Z"
   },
   {
    "duration": 43,
    "start_time": "2024-05-15T06:44:40.441Z"
   },
   {
    "duration": 25,
    "start_time": "2024-05-15T06:44:40.486Z"
   },
   {
    "duration": 21,
    "start_time": "2024-05-15T06:44:40.512Z"
   },
   {
    "duration": 526,
    "start_time": "2024-05-15T06:44:40.535Z"
   },
   {
    "duration": 254,
    "start_time": "2024-05-15T06:44:41.063Z"
   },
   {
    "duration": 12,
    "start_time": "2024-05-15T06:44:41.318Z"
   },
   {
    "duration": 256,
    "start_time": "2024-05-15T06:44:41.333Z"
   },
   {
    "duration": 282,
    "start_time": "2024-05-15T06:44:41.591Z"
   },
   {
    "duration": 118,
    "start_time": "2024-05-15T06:45:17.461Z"
   },
   {
    "duration": 18,
    "start_time": "2024-05-15T06:45:27.173Z"
   },
   {
    "duration": 5,
    "start_time": "2024-05-15T06:46:09.853Z"
   },
   {
    "duration": 10,
    "start_time": "2024-05-15T06:46:17.210Z"
   },
   {
    "duration": 7,
    "start_time": "2024-05-15T06:47:29.074Z"
   },
   {
    "duration": 7,
    "start_time": "2024-05-15T06:47:37.106Z"
   },
   {
    "duration": 3,
    "start_time": "2024-05-15T06:53:59.675Z"
   },
   {
    "duration": 149,
    "start_time": "2024-05-15T06:54:30.815Z"
   },
   {
    "duration": 141,
    "start_time": "2024-05-15T06:54:53.451Z"
   },
   {
    "duration": 181,
    "start_time": "2024-05-15T06:55:15.366Z"
   },
   {
    "duration": 468,
    "start_time": "2024-05-15T06:55:51.743Z"
   },
   {
    "duration": 131,
    "start_time": "2024-05-15T06:56:44.730Z"
   },
   {
    "duration": 1171,
    "start_time": "2024-05-15T06:57:21.067Z"
   },
   {
    "duration": 180,
    "start_time": "2024-05-15T06:57:30.458Z"
   },
   {
    "duration": 179,
    "start_time": "2024-05-15T06:57:36.575Z"
   },
   {
    "duration": 186,
    "start_time": "2024-05-15T06:57:44.267Z"
   },
   {
    "duration": 357,
    "start_time": "2024-05-15T06:57:54.667Z"
   },
   {
    "duration": 357,
    "start_time": "2024-05-15T06:57:57.688Z"
   },
   {
    "duration": 449,
    "start_time": "2024-05-15T06:58:09.395Z"
   },
   {
    "duration": 20,
    "start_time": "2024-05-15T07:16:51.316Z"
   },
   {
    "duration": 18,
    "start_time": "2024-05-15T07:17:01.887Z"
   },
   {
    "duration": 17,
    "start_time": "2024-05-15T07:19:08.168Z"
   },
   {
    "duration": 16,
    "start_time": "2024-05-15T07:20:20.764Z"
   },
   {
    "duration": 17,
    "start_time": "2024-05-15T07:20:50.175Z"
   },
   {
    "duration": 31,
    "start_time": "2024-05-15T07:20:59.436Z"
   },
   {
    "duration": 10,
    "start_time": "2024-05-15T07:21:19.215Z"
   },
   {
    "duration": 30,
    "start_time": "2024-05-15T07:21:28.087Z"
   },
   {
    "duration": 1266,
    "start_time": "2024-05-15T09:31:50.724Z"
   },
   {
    "duration": 277,
    "start_time": "2024-05-15T09:31:51.993Z"
   },
   {
    "duration": 15,
    "start_time": "2024-05-15T09:31:52.272Z"
   },
   {
    "duration": 15,
    "start_time": "2024-05-15T09:31:52.288Z"
   },
   {
    "duration": 320,
    "start_time": "2024-05-15T09:31:52.306Z"
   },
   {
    "duration": 11,
    "start_time": "2024-05-15T09:31:52.627Z"
   },
   {
    "duration": 32,
    "start_time": "2024-05-15T09:31:52.639Z"
   },
   {
    "duration": 331,
    "start_time": "2024-05-15T09:31:52.673Z"
   },
   {
    "duration": 6,
    "start_time": "2024-05-15T09:31:53.006Z"
   },
   {
    "duration": 25,
    "start_time": "2024-05-15T09:31:53.014Z"
   },
   {
    "duration": 15,
    "start_time": "2024-05-15T09:31:53.041Z"
   },
   {
    "duration": 10,
    "start_time": "2024-05-15T09:31:53.057Z"
   },
   {
    "duration": 11,
    "start_time": "2024-05-15T09:31:53.069Z"
   },
   {
    "duration": 14,
    "start_time": "2024-05-15T09:31:53.083Z"
   },
   {
    "duration": 10,
    "start_time": "2024-05-15T09:31:53.099Z"
   },
   {
    "duration": 11,
    "start_time": "2024-05-15T09:31:53.111Z"
   },
   {
    "duration": 6,
    "start_time": "2024-05-15T09:31:53.124Z"
   },
   {
    "duration": 5,
    "start_time": "2024-05-15T09:31:53.131Z"
   },
   {
    "duration": 7,
    "start_time": "2024-05-15T09:31:53.138Z"
   },
   {
    "duration": 4,
    "start_time": "2024-05-15T09:31:53.161Z"
   },
   {
    "duration": 9,
    "start_time": "2024-05-15T09:31:53.166Z"
   },
   {
    "duration": 10,
    "start_time": "2024-05-15T09:31:53.176Z"
   },
   {
    "duration": 4,
    "start_time": "2024-05-15T09:31:53.187Z"
   },
   {
    "duration": 5,
    "start_time": "2024-05-15T09:31:53.193Z"
   },
   {
    "duration": 8,
    "start_time": "2024-05-15T09:31:53.199Z"
   },
   {
    "duration": 155,
    "start_time": "2024-05-15T09:31:53.208Z"
   },
   {
    "duration": 80,
    "start_time": "2024-05-15T09:31:53.365Z"
   },
   {
    "duration": 149,
    "start_time": "2024-05-15T09:31:53.461Z"
   },
   {
    "duration": 4,
    "start_time": "2024-05-15T09:31:53.611Z"
   },
   {
    "duration": 332,
    "start_time": "2024-05-15T09:31:53.617Z"
   },
   {
    "duration": 150,
    "start_time": "2024-05-15T09:31:53.950Z"
   },
   {
    "duration": 7,
    "start_time": "2024-05-15T09:31:54.102Z"
   },
   {
    "duration": 24,
    "start_time": "2024-05-15T09:31:54.111Z"
   },
   {
    "duration": 20,
    "start_time": "2024-05-15T09:31:54.137Z"
   },
   {
    "duration": 27,
    "start_time": "2024-05-15T09:31:54.160Z"
   },
   {
    "duration": 19,
    "start_time": "2024-05-15T09:31:54.189Z"
   },
   {
    "duration": 16,
    "start_time": "2024-05-15T09:31:54.210Z"
   },
   {
    "duration": 401,
    "start_time": "2024-05-15T09:31:54.228Z"
   },
   {
    "duration": 177,
    "start_time": "2024-05-15T09:31:54.630Z"
   },
   {
    "duration": 3,
    "start_time": "2024-05-15T09:31:54.808Z"
   },
   {
    "duration": 164,
    "start_time": "2024-05-15T09:31:54.815Z"
   },
   {
    "duration": 189,
    "start_time": "2024-05-15T09:31:54.980Z"
   },
   {
    "duration": 30,
    "start_time": "2024-05-15T09:31:55.170Z"
   },
   {
    "duration": 103,
    "start_time": "2024-05-15T09:37:31.312Z"
   },
   {
    "duration": 31,
    "start_time": "2024-05-15T09:39:37.731Z"
   },
   {
    "duration": 14,
    "start_time": "2024-05-15T09:42:42.234Z"
   },
   {
    "duration": 22,
    "start_time": "2024-05-15T09:42:56.175Z"
   },
   {
    "duration": 1236,
    "start_time": "2024-05-15T13:38:44.992Z"
   },
   {
    "duration": 287,
    "start_time": "2024-05-15T13:38:46.230Z"
   },
   {
    "duration": 21,
    "start_time": "2024-05-15T13:38:46.520Z"
   },
   {
    "duration": 11,
    "start_time": "2024-05-15T13:38:46.544Z"
   },
   {
    "duration": 302,
    "start_time": "2024-05-15T13:38:46.557Z"
   },
   {
    "duration": 12,
    "start_time": "2024-05-15T13:38:46.861Z"
   },
   {
    "duration": 20,
    "start_time": "2024-05-15T13:38:46.875Z"
   },
   {
    "duration": 356,
    "start_time": "2024-05-15T13:38:46.897Z"
   },
   {
    "duration": 15,
    "start_time": "2024-05-15T13:38:47.255Z"
   },
   {
    "duration": 23,
    "start_time": "2024-05-15T13:38:47.274Z"
   },
   {
    "duration": 22,
    "start_time": "2024-05-15T13:38:47.300Z"
   },
   {
    "duration": 14,
    "start_time": "2024-05-15T13:38:47.324Z"
   },
   {
    "duration": 17,
    "start_time": "2024-05-15T13:38:47.340Z"
   },
   {
    "duration": 16,
    "start_time": "2024-05-15T13:38:47.359Z"
   },
   {
    "duration": 9,
    "start_time": "2024-05-15T13:38:47.377Z"
   },
   {
    "duration": 12,
    "start_time": "2024-05-15T13:38:47.388Z"
   },
   {
    "duration": 13,
    "start_time": "2024-05-15T13:38:47.403Z"
   },
   {
    "duration": 30,
    "start_time": "2024-05-15T13:38:47.418Z"
   },
   {
    "duration": 16,
    "start_time": "2024-05-15T13:38:47.450Z"
   },
   {
    "duration": 7,
    "start_time": "2024-05-15T13:38:47.469Z"
   },
   {
    "duration": 11,
    "start_time": "2024-05-15T13:38:47.478Z"
   },
   {
    "duration": 17,
    "start_time": "2024-05-15T13:38:47.491Z"
   },
   {
    "duration": 6,
    "start_time": "2024-05-15T13:38:47.510Z"
   },
   {
    "duration": 15,
    "start_time": "2024-05-15T13:38:47.518Z"
   },
   {
    "duration": 10,
    "start_time": "2024-05-15T13:38:47.535Z"
   },
   {
    "duration": 151,
    "start_time": "2024-05-15T13:38:47.547Z"
   },
   {
    "duration": 106,
    "start_time": "2024-05-15T13:38:47.701Z"
   },
   {
    "duration": 148,
    "start_time": "2024-05-15T13:38:47.811Z"
   },
   {
    "duration": 4,
    "start_time": "2024-05-15T13:38:47.965Z"
   },
   {
    "duration": 262,
    "start_time": "2024-05-15T13:38:47.971Z"
   },
   {
    "duration": 130,
    "start_time": "2024-05-15T13:38:48.235Z"
   },
   {
    "duration": 7,
    "start_time": "2024-05-15T13:38:48.367Z"
   },
   {
    "duration": 12,
    "start_time": "2024-05-15T13:38:48.376Z"
   },
   {
    "duration": 10,
    "start_time": "2024-05-15T13:38:48.389Z"
   },
   {
    "duration": 18,
    "start_time": "2024-05-15T13:38:48.401Z"
   },
   {
    "duration": 53,
    "start_time": "2024-05-15T13:38:48.421Z"
   },
   {
    "duration": 17,
    "start_time": "2024-05-15T13:38:48.476Z"
   },
   {
    "duration": 410,
    "start_time": "2024-05-15T13:38:48.494Z"
   },
   {
    "duration": 239,
    "start_time": "2024-05-15T13:38:48.906Z"
   },
   {
    "duration": 3,
    "start_time": "2024-05-15T13:38:49.147Z"
   },
   {
    "duration": 157,
    "start_time": "2024-05-15T13:38:49.152Z"
   },
   {
    "duration": 173,
    "start_time": "2024-05-15T13:38:49.311Z"
   },
   {
    "duration": 20,
    "start_time": "2024-05-15T13:38:49.486Z"
   },
   {
    "duration": 12,
    "start_time": "2024-05-15T13:41:56.364Z"
   },
   {
    "duration": 116,
    "start_time": "2024-05-15T13:45:40.764Z"
   },
   {
    "duration": 16,
    "start_time": "2024-05-15T13:48:41.915Z"
   },
   {
    "duration": 3,
    "start_time": "2024-05-15T13:48:42.794Z"
   },
   {
    "duration": 44,
    "start_time": "2024-05-15T13:48:56.680Z"
   },
   {
    "duration": 1042,
    "start_time": "2024-05-15T13:49:16.241Z"
   },
   {
    "duration": 97,
    "start_time": "2024-05-15T13:49:17.284Z"
   },
   {
    "duration": 13,
    "start_time": "2024-05-15T13:49:17.383Z"
   },
   {
    "duration": 35,
    "start_time": "2024-05-15T13:49:17.399Z"
   },
   {
    "duration": 324,
    "start_time": "2024-05-15T13:49:17.436Z"
   },
   {
    "duration": 11,
    "start_time": "2024-05-15T13:49:17.765Z"
   },
   {
    "duration": 71,
    "start_time": "2024-05-15T13:49:17.778Z"
   },
   {
    "duration": 405,
    "start_time": "2024-05-15T13:49:17.851Z"
   },
   {
    "duration": 9,
    "start_time": "2024-05-15T13:49:18.258Z"
   },
   {
    "duration": 44,
    "start_time": "2024-05-15T13:49:18.269Z"
   },
   {
    "duration": 50,
    "start_time": "2024-05-15T13:49:18.315Z"
   },
   {
    "duration": 21,
    "start_time": "2024-05-15T13:49:18.366Z"
   },
   {
    "duration": 21,
    "start_time": "2024-05-15T13:49:18.389Z"
   },
   {
    "duration": 17,
    "start_time": "2024-05-15T13:49:18.412Z"
   },
   {
    "duration": 15,
    "start_time": "2024-05-15T13:49:18.431Z"
   },
   {
    "duration": 19,
    "start_time": "2024-05-15T13:49:18.448Z"
   },
   {
    "duration": 7,
    "start_time": "2024-05-15T13:49:18.469Z"
   },
   {
    "duration": 6,
    "start_time": "2024-05-15T13:49:18.478Z"
   },
   {
    "duration": 11,
    "start_time": "2024-05-15T13:49:18.486Z"
   },
   {
    "duration": 5,
    "start_time": "2024-05-15T13:49:18.499Z"
   },
   {
    "duration": 61,
    "start_time": "2024-05-15T13:49:18.506Z"
   },
   {
    "duration": 10,
    "start_time": "2024-05-15T13:49:18.568Z"
   },
   {
    "duration": 13,
    "start_time": "2024-05-15T13:49:18.579Z"
   },
   {
    "duration": 6,
    "start_time": "2024-05-15T13:49:18.594Z"
   },
   {
    "duration": 7,
    "start_time": "2024-05-15T13:49:18.601Z"
   },
   {
    "duration": 167,
    "start_time": "2024-05-15T13:49:18.609Z"
   },
   {
    "duration": 99,
    "start_time": "2024-05-15T13:49:18.778Z"
   },
   {
    "duration": 168,
    "start_time": "2024-05-15T13:49:18.880Z"
   },
   {
    "duration": 4,
    "start_time": "2024-05-15T13:49:19.049Z"
   },
   {
    "duration": 288,
    "start_time": "2024-05-15T13:49:19.055Z"
   },
   {
    "duration": 168,
    "start_time": "2024-05-15T13:49:19.344Z"
   },
   {
    "duration": 7,
    "start_time": "2024-05-15T13:49:19.514Z"
   },
   {
    "duration": 49,
    "start_time": "2024-05-15T13:49:19.523Z"
   },
   {
    "duration": 21,
    "start_time": "2024-05-15T13:49:19.574Z"
   },
   {
    "duration": 23,
    "start_time": "2024-05-15T13:49:19.602Z"
   },
   {
    "duration": 414,
    "start_time": "2024-05-15T13:49:19.627Z"
   },
   {
    "duration": 165,
    "start_time": "2024-05-15T13:49:20.042Z"
   },
   {
    "duration": 10,
    "start_time": "2024-05-15T13:49:20.208Z"
   },
   {
    "duration": 154,
    "start_time": "2024-05-15T13:49:20.219Z"
   },
   {
    "duration": 161,
    "start_time": "2024-05-15T13:49:20.375Z"
   },
   {
    "duration": 110,
    "start_time": "2024-05-15T13:49:20.537Z"
   },
   {
    "duration": 4,
    "start_time": "2024-05-15T13:53:26.796Z"
   },
   {
    "duration": 16,
    "start_time": "2024-05-15T13:54:40.810Z"
   },
   {
    "duration": 1108,
    "start_time": "2024-05-15T13:55:32.934Z"
   },
   {
    "duration": 107,
    "start_time": "2024-05-15T13:55:34.044Z"
   },
   {
    "duration": 17,
    "start_time": "2024-05-15T13:55:34.153Z"
   },
   {
    "duration": 15,
    "start_time": "2024-05-15T13:55:34.174Z"
   },
   {
    "duration": 301,
    "start_time": "2024-05-15T13:55:34.191Z"
   },
   {
    "duration": 11,
    "start_time": "2024-05-15T13:55:34.494Z"
   },
   {
    "duration": 38,
    "start_time": "2024-05-15T13:55:34.506Z"
   },
   {
    "duration": 335,
    "start_time": "2024-05-15T13:55:34.545Z"
   },
   {
    "duration": 9,
    "start_time": "2024-05-15T13:55:34.882Z"
   },
   {
    "duration": 13,
    "start_time": "2024-05-15T13:55:34.895Z"
   },
   {
    "duration": 8,
    "start_time": "2024-05-15T13:55:34.910Z"
   },
   {
    "duration": 9,
    "start_time": "2024-05-15T13:55:34.920Z"
   },
   {
    "duration": 35,
    "start_time": "2024-05-15T13:55:34.931Z"
   },
   {
    "duration": 6,
    "start_time": "2024-05-15T13:55:34.967Z"
   },
   {
    "duration": 8,
    "start_time": "2024-05-15T13:55:34.974Z"
   },
   {
    "duration": 5,
    "start_time": "2024-05-15T13:55:34.984Z"
   },
   {
    "duration": 11,
    "start_time": "2024-05-15T13:55:34.991Z"
   },
   {
    "duration": 4,
    "start_time": "2024-05-15T13:55:35.004Z"
   },
   {
    "duration": 7,
    "start_time": "2024-05-15T13:55:35.010Z"
   },
   {
    "duration": 47,
    "start_time": "2024-05-15T13:55:35.019Z"
   },
   {
    "duration": 5,
    "start_time": "2024-05-15T13:55:35.068Z"
   },
   {
    "duration": 9,
    "start_time": "2024-05-15T13:55:35.074Z"
   },
   {
    "duration": 20,
    "start_time": "2024-05-15T13:55:35.085Z"
   },
   {
    "duration": 10,
    "start_time": "2024-05-15T13:55:35.106Z"
   },
   {
    "duration": 16,
    "start_time": "2024-05-15T13:55:35.118Z"
   },
   {
    "duration": 155,
    "start_time": "2024-05-15T13:55:35.136Z"
   },
   {
    "duration": 110,
    "start_time": "2024-05-15T13:55:35.293Z"
   },
   {
    "duration": 191,
    "start_time": "2024-05-15T13:55:35.407Z"
   },
   {
    "duration": 5,
    "start_time": "2024-05-15T13:55:35.600Z"
   },
   {
    "duration": 318,
    "start_time": "2024-05-15T13:55:35.607Z"
   },
   {
    "duration": 139,
    "start_time": "2024-05-15T13:55:35.927Z"
   },
   {
    "duration": 7,
    "start_time": "2024-05-15T13:55:36.068Z"
   },
   {
    "duration": 33,
    "start_time": "2024-05-15T13:55:36.076Z"
   },
   {
    "duration": 17,
    "start_time": "2024-05-15T13:55:36.111Z"
   },
   {
    "duration": 44,
    "start_time": "2024-05-15T13:55:36.130Z"
   },
   {
    "duration": 374,
    "start_time": "2024-05-15T13:55:36.176Z"
   },
   {
    "duration": 206,
    "start_time": "2024-05-15T13:55:36.552Z"
   },
   {
    "duration": 10,
    "start_time": "2024-05-15T13:55:36.765Z"
   },
   {
    "duration": 150,
    "start_time": "2024-05-15T13:55:36.776Z"
   },
   {
    "duration": 183,
    "start_time": "2024-05-15T13:55:36.927Z"
   },
   {
    "duration": 71,
    "start_time": "2024-05-15T13:55:37.112Z"
   },
   {
    "duration": 5,
    "start_time": "2024-05-15T13:55:37.185Z"
   },
   {
    "duration": 90,
    "start_time": "2024-05-15T13:55:51.403Z"
   },
   {
    "duration": 83,
    "start_time": "2024-05-15T13:56:58.156Z"
   },
   {
    "duration": 91,
    "start_time": "2024-05-15T13:57:09.029Z"
   },
   {
    "duration": 56,
    "start_time": "2024-05-15T14:07:12.252Z"
   },
   {
    "duration": 91,
    "start_time": "2024-05-15T14:07:44.780Z"
   },
   {
    "duration": 103,
    "start_time": "2024-05-15T14:08:00.584Z"
   },
   {
    "duration": 100,
    "start_time": "2024-05-15T14:08:46.722Z"
   },
   {
    "duration": 101,
    "start_time": "2024-05-15T14:08:59.900Z"
   },
   {
    "duration": 1207,
    "start_time": "2024-05-15T17:12:31.222Z"
   },
   {
    "duration": 260,
    "start_time": "2024-05-15T17:12:32.431Z"
   },
   {
    "duration": 14,
    "start_time": "2024-05-15T17:12:32.692Z"
   },
   {
    "duration": 10,
    "start_time": "2024-05-15T17:12:32.708Z"
   },
   {
    "duration": 280,
    "start_time": "2024-05-15T17:12:32.720Z"
   },
   {
    "duration": 10,
    "start_time": "2024-05-15T17:12:33.001Z"
   },
   {
    "duration": 13,
    "start_time": "2024-05-15T17:12:33.012Z"
   },
   {
    "duration": 345,
    "start_time": "2024-05-15T17:12:33.026Z"
   },
   {
    "duration": 7,
    "start_time": "2024-05-15T17:12:33.373Z"
   },
   {
    "duration": 11,
    "start_time": "2024-05-15T17:12:33.382Z"
   },
   {
    "duration": 9,
    "start_time": "2024-05-15T17:12:33.395Z"
   },
   {
    "duration": 5,
    "start_time": "2024-05-15T17:12:33.405Z"
   },
   {
    "duration": 8,
    "start_time": "2024-05-15T17:12:33.411Z"
   },
   {
    "duration": 6,
    "start_time": "2024-05-15T17:12:33.420Z"
   },
   {
    "duration": 31,
    "start_time": "2024-05-15T17:12:33.427Z"
   },
   {
    "duration": 5,
    "start_time": "2024-05-15T17:12:33.459Z"
   },
   {
    "duration": 5,
    "start_time": "2024-05-15T17:12:33.466Z"
   },
   {
    "duration": 5,
    "start_time": "2024-05-15T17:12:33.472Z"
   },
   {
    "duration": 8,
    "start_time": "2024-05-15T17:12:33.479Z"
   },
   {
    "duration": 7,
    "start_time": "2024-05-15T17:12:33.488Z"
   },
   {
    "duration": 4,
    "start_time": "2024-05-15T17:12:33.497Z"
   },
   {
    "duration": 7,
    "start_time": "2024-05-15T17:12:33.502Z"
   },
   {
    "duration": 4,
    "start_time": "2024-05-15T17:12:33.511Z"
   },
   {
    "duration": 43,
    "start_time": "2024-05-15T17:12:33.516Z"
   },
   {
    "duration": 8,
    "start_time": "2024-05-15T17:12:33.560Z"
   },
   {
    "duration": 126,
    "start_time": "2024-05-15T17:12:33.570Z"
   },
   {
    "duration": 87,
    "start_time": "2024-05-15T17:12:33.698Z"
   },
   {
    "duration": 153,
    "start_time": "2024-05-15T17:12:33.788Z"
   },
   {
    "duration": 3,
    "start_time": "2024-05-15T17:12:33.943Z"
   },
   {
    "duration": 276,
    "start_time": "2024-05-15T17:12:33.947Z"
   },
   {
    "duration": 149,
    "start_time": "2024-05-15T17:12:34.225Z"
   },
   {
    "duration": 7,
    "start_time": "2024-05-15T17:12:34.376Z"
   },
   {
    "duration": 29,
    "start_time": "2024-05-15T17:12:34.384Z"
   },
   {
    "duration": 17,
    "start_time": "2024-05-15T17:12:34.415Z"
   },
   {
    "duration": 37,
    "start_time": "2024-05-15T17:12:34.433Z"
   },
   {
    "duration": 376,
    "start_time": "2024-05-15T17:12:34.472Z"
   },
   {
    "duration": 166,
    "start_time": "2024-05-15T17:12:34.849Z"
   },
   {
    "duration": 11,
    "start_time": "2024-05-15T17:12:35.016Z"
   },
   {
    "duration": 165,
    "start_time": "2024-05-15T17:12:35.028Z"
   },
   {
    "duration": 164,
    "start_time": "2024-05-15T17:12:35.194Z"
   },
   {
    "duration": 86,
    "start_time": "2024-05-15T17:12:35.360Z"
   },
   {
    "duration": 60,
    "start_time": "2024-05-15T17:12:35.447Z"
   },
   {
    "duration": 3,
    "start_time": "2024-05-15T17:12:35.509Z"
   },
   {
    "duration": 89,
    "start_time": "2024-05-15T17:32:00.942Z"
   },
   {
    "duration": 84,
    "start_time": "2024-05-15T17:32:13.406Z"
   },
   {
    "duration": 107,
    "start_time": "2024-05-15T17:32:23.960Z"
   },
   {
    "duration": 94,
    "start_time": "2024-05-15T17:33:31.734Z"
   },
   {
    "duration": 89,
    "start_time": "2024-05-15T17:36:54.075Z"
   },
   {
    "duration": 88,
    "start_time": "2024-05-15T17:37:06.615Z"
   },
   {
    "duration": 86,
    "start_time": "2024-05-15T17:37:24.485Z"
   },
   {
    "duration": 169,
    "start_time": "2024-05-15T17:40:48.302Z"
   },
   {
    "duration": 322,
    "start_time": "2024-05-15T17:41:04.709Z"
   },
   {
    "duration": 85,
    "start_time": "2024-05-15T17:41:31.012Z"
   },
   {
    "duration": 930,
    "start_time": "2024-05-15T17:43:14.446Z"
   },
   {
    "duration": 12,
    "start_time": "2024-05-15T17:44:19.648Z"
   },
   {
    "duration": 889,
    "start_time": "2024-05-15T17:44:33.846Z"
   },
   {
    "duration": 13,
    "start_time": "2024-05-15T17:45:11.772Z"
   },
   {
    "duration": 104,
    "start_time": "2024-05-15T17:46:11.977Z"
   },
   {
    "duration": 97,
    "start_time": "2024-05-15T18:01:04.014Z"
   },
   {
    "duration": 92,
    "start_time": "2024-05-15T18:05:32.445Z"
   },
   {
    "duration": 100,
    "start_time": "2024-05-15T18:07:56.904Z"
   },
   {
    "duration": 95,
    "start_time": "2024-05-15T18:13:24.911Z"
   },
   {
    "duration": 60,
    "start_time": "2024-05-15T18:14:36.895Z"
   },
   {
    "duration": 44,
    "start_time": "2024-05-15T18:14:45.464Z"
   },
   {
    "duration": 17,
    "start_time": "2024-05-15T18:15:44.620Z"
   },
   {
    "duration": 30,
    "start_time": "2024-05-15T18:16:03.120Z"
   },
   {
    "duration": 60,
    "start_time": "2024-05-15T18:16:32.489Z"
   },
   {
    "duration": 66,
    "start_time": "2024-05-15T18:16:42.945Z"
   },
   {
    "duration": 44,
    "start_time": "2024-05-15T18:16:52.179Z"
   },
   {
    "duration": 62,
    "start_time": "2024-05-15T18:17:00.744Z"
   },
   {
    "duration": 31,
    "start_time": "2024-05-15T18:17:20.875Z"
   },
   {
    "duration": 32,
    "start_time": "2024-05-15T18:17:28.826Z"
   },
   {
    "duration": 29,
    "start_time": "2024-05-15T18:17:42.397Z"
   },
   {
    "duration": 29,
    "start_time": "2024-05-15T18:18:08.784Z"
   },
   {
    "duration": 1007,
    "start_time": "2024-05-15T18:19:02.813Z"
   },
   {
    "duration": 39,
    "start_time": "2024-05-15T18:19:12.975Z"
   },
   {
    "duration": 34,
    "start_time": "2024-05-15T18:21:33.188Z"
   },
   {
    "duration": 33,
    "start_time": "2024-05-15T18:26:44.773Z"
   },
   {
    "duration": 29,
    "start_time": "2024-05-15T18:34:07.518Z"
   },
   {
    "duration": 944,
    "start_time": "2024-05-15T18:34:15.064Z"
   },
   {
    "duration": 28,
    "start_time": "2024-05-15T18:34:47.672Z"
   },
   {
    "duration": 35,
    "start_time": "2024-05-15T18:35:05.774Z"
   },
   {
    "duration": 35,
    "start_time": "2024-05-15T18:40:06.666Z"
   },
   {
    "duration": 37,
    "start_time": "2024-05-15T18:40:34.441Z"
   },
   {
    "duration": 969,
    "start_time": "2024-05-15T18:43:38.526Z"
   },
   {
    "duration": 919,
    "start_time": "2024-05-15T18:43:52.044Z"
   },
   {
    "duration": 36,
    "start_time": "2024-05-15T18:44:11.871Z"
   },
   {
    "duration": 34,
    "start_time": "2024-05-15T18:44:36.182Z"
   },
   {
    "duration": 28,
    "start_time": "2024-05-15T18:44:47.340Z"
   },
   {
    "duration": 27,
    "start_time": "2024-05-15T18:44:56.040Z"
   },
   {
    "duration": 62,
    "start_time": "2024-05-15T18:45:52.271Z"
   },
   {
    "duration": 46,
    "start_time": "2024-05-15T18:46:09.807Z"
   },
   {
    "duration": 1070,
    "start_time": "2024-05-15T18:46:28.914Z"
   },
   {
    "duration": 1983,
    "start_time": "2024-05-15T18:46:57.919Z"
   },
   {
    "duration": 32,
    "start_time": "2024-05-15T18:47:20.891Z"
   },
   {
    "duration": 33,
    "start_time": "2024-05-15T18:48:46.094Z"
   },
   {
    "duration": 34,
    "start_time": "2024-05-15T18:49:00.741Z"
   },
   {
    "duration": 4,
    "start_time": "2024-05-15T18:49:56.632Z"
   },
   {
    "duration": 33,
    "start_time": "2024-05-15T18:56:55.339Z"
   },
   {
    "duration": 33,
    "start_time": "2024-05-15T18:57:06.427Z"
   },
   {
    "duration": 40,
    "start_time": "2024-05-15T18:57:11.911Z"
   },
   {
    "duration": 36,
    "start_time": "2024-05-15T18:57:24.187Z"
   },
   {
    "duration": 10,
    "start_time": "2024-05-15T19:27:40.023Z"
   },
   {
    "duration": 95,
    "start_time": "2024-05-15T19:27:49.347Z"
   },
   {
    "duration": 35,
    "start_time": "2024-05-15T19:27:50.261Z"
   },
   {
    "duration": 35,
    "start_time": "2024-05-15T19:28:05.480Z"
   },
   {
    "duration": 10,
    "start_time": "2024-05-15T19:28:22.797Z"
   },
   {
    "duration": 1017,
    "start_time": "2024-05-15T19:28:35.352Z"
   },
   {
    "duration": 107,
    "start_time": "2024-05-15T19:28:36.370Z"
   },
   {
    "duration": 12,
    "start_time": "2024-05-15T19:28:36.479Z"
   },
   {
    "duration": 27,
    "start_time": "2024-05-15T19:28:36.493Z"
   },
   {
    "duration": 260,
    "start_time": "2024-05-15T19:28:36.521Z"
   },
   {
    "duration": 10,
    "start_time": "2024-05-15T19:28:36.782Z"
   },
   {
    "duration": 24,
    "start_time": "2024-05-15T19:28:36.793Z"
   },
   {
    "duration": 303,
    "start_time": "2024-05-15T19:28:36.818Z"
   },
   {
    "duration": 7,
    "start_time": "2024-05-15T19:28:37.122Z"
   },
   {
    "duration": 18,
    "start_time": "2024-05-15T19:28:37.132Z"
   },
   {
    "duration": 19,
    "start_time": "2024-05-15T19:28:37.152Z"
   },
   {
    "duration": 23,
    "start_time": "2024-05-15T19:28:37.172Z"
   },
   {
    "duration": 12,
    "start_time": "2024-05-15T19:28:37.197Z"
   },
   {
    "duration": 21,
    "start_time": "2024-05-15T19:28:37.211Z"
   },
   {
    "duration": 21,
    "start_time": "2024-05-15T19:28:37.233Z"
   },
   {
    "duration": 22,
    "start_time": "2024-05-15T19:28:37.256Z"
   },
   {
    "duration": 26,
    "start_time": "2024-05-15T19:28:37.280Z"
   },
   {
    "duration": 10,
    "start_time": "2024-05-15T19:28:37.308Z"
   },
   {
    "duration": 12,
    "start_time": "2024-05-15T19:28:37.320Z"
   },
   {
    "duration": 12,
    "start_time": "2024-05-15T19:28:37.334Z"
   },
   {
    "duration": 18,
    "start_time": "2024-05-15T19:28:37.347Z"
   },
   {
    "duration": 22,
    "start_time": "2024-05-15T19:28:37.366Z"
   },
   {
    "duration": 19,
    "start_time": "2024-05-15T19:28:37.390Z"
   },
   {
    "duration": 19,
    "start_time": "2024-05-15T19:28:37.411Z"
   },
   {
    "duration": 21,
    "start_time": "2024-05-15T19:28:37.432Z"
   },
   {
    "duration": 140,
    "start_time": "2024-05-15T19:28:37.455Z"
   },
   {
    "duration": 87,
    "start_time": "2024-05-15T19:28:37.597Z"
   },
   {
    "duration": 148,
    "start_time": "2024-05-15T19:28:37.687Z"
   },
   {
    "duration": 3,
    "start_time": "2024-05-15T19:28:37.837Z"
   },
   {
    "duration": 272,
    "start_time": "2024-05-15T19:28:37.842Z"
   },
   {
    "duration": 125,
    "start_time": "2024-05-15T19:28:38.115Z"
   },
   {
    "duration": 16,
    "start_time": "2024-05-15T19:28:38.242Z"
   },
   {
    "duration": 28,
    "start_time": "2024-05-15T19:28:38.260Z"
   },
   {
    "duration": 16,
    "start_time": "2024-05-15T19:28:38.289Z"
   },
   {
    "duration": 14,
    "start_time": "2024-05-15T19:28:38.306Z"
   },
   {
    "duration": 370,
    "start_time": "2024-05-15T19:28:38.321Z"
   },
   {
    "duration": 152,
    "start_time": "2024-05-15T19:28:38.692Z"
   },
   {
    "duration": 2,
    "start_time": "2024-05-15T19:28:38.845Z"
   },
   {
    "duration": 152,
    "start_time": "2024-05-15T19:28:38.848Z"
   },
   {
    "duration": 155,
    "start_time": "2024-05-15T19:28:39.002Z"
   },
   {
    "duration": 4,
    "start_time": "2024-05-15T19:28:39.158Z"
   },
   {
    "duration": 36,
    "start_time": "2024-05-15T19:28:39.163Z"
   },
   {
    "duration": 109,
    "start_time": "2024-05-15T19:28:39.200Z"
   },
   {
    "duration": 0,
    "start_time": "2024-05-15T19:28:39.310Z"
   },
   {
    "duration": 21,
    "start_time": "2024-05-15T19:29:13.275Z"
   },
   {
    "duration": 25,
    "start_time": "2024-05-15T19:29:27.060Z"
   },
   {
    "duration": 10,
    "start_time": "2024-05-15T19:29:33.041Z"
   },
   {
    "duration": 27,
    "start_time": "2024-05-15T19:29:39.734Z"
   },
   {
    "duration": 979,
    "start_time": "2024-05-15T19:30:07.705Z"
   },
   {
    "duration": 115,
    "start_time": "2024-05-15T19:30:08.686Z"
   },
   {
    "duration": 14,
    "start_time": "2024-05-15T19:30:08.802Z"
   },
   {
    "duration": 11,
    "start_time": "2024-05-15T19:30:08.817Z"
   },
   {
    "duration": 267,
    "start_time": "2024-05-15T19:30:08.829Z"
   },
   {
    "duration": 10,
    "start_time": "2024-05-15T19:30:09.098Z"
   },
   {
    "duration": 11,
    "start_time": "2024-05-15T19:30:09.110Z"
   },
   {
    "duration": 344,
    "start_time": "2024-05-15T19:30:09.122Z"
   },
   {
    "duration": 7,
    "start_time": "2024-05-15T19:30:09.468Z"
   },
   {
    "duration": 10,
    "start_time": "2024-05-15T19:30:09.478Z"
   },
   {
    "duration": 7,
    "start_time": "2024-05-15T19:30:09.489Z"
   },
   {
    "duration": 5,
    "start_time": "2024-05-15T19:30:09.497Z"
   },
   {
    "duration": 9,
    "start_time": "2024-05-15T19:30:09.503Z"
   },
   {
    "duration": 17,
    "start_time": "2024-05-15T19:30:09.513Z"
   },
   {
    "duration": 28,
    "start_time": "2024-05-15T19:30:09.532Z"
   },
   {
    "duration": 9,
    "start_time": "2024-05-15T19:30:09.562Z"
   },
   {
    "duration": 8,
    "start_time": "2024-05-15T19:30:09.578Z"
   },
   {
    "duration": 8,
    "start_time": "2024-05-15T19:30:09.588Z"
   },
   {
    "duration": 6,
    "start_time": "2024-05-15T19:30:09.598Z"
   },
   {
    "duration": 4,
    "start_time": "2024-05-15T19:30:09.605Z"
   },
   {
    "duration": 7,
    "start_time": "2024-05-15T19:30:09.610Z"
   },
   {
    "duration": 41,
    "start_time": "2024-05-15T19:30:09.619Z"
   },
   {
    "duration": 5,
    "start_time": "2024-05-15T19:30:09.662Z"
   },
   {
    "duration": 6,
    "start_time": "2024-05-15T19:30:09.668Z"
   },
   {
    "duration": 8,
    "start_time": "2024-05-15T19:30:09.675Z"
   },
   {
    "duration": 151,
    "start_time": "2024-05-15T19:30:09.684Z"
   },
   {
    "duration": 84,
    "start_time": "2024-05-15T19:30:09.836Z"
   },
   {
    "duration": 157,
    "start_time": "2024-05-15T19:30:09.923Z"
   },
   {
    "duration": 4,
    "start_time": "2024-05-15T19:30:10.081Z"
   },
   {
    "duration": 282,
    "start_time": "2024-05-15T19:30:10.087Z"
   },
   {
    "duration": 134,
    "start_time": "2024-05-15T19:30:10.370Z"
   },
   {
    "duration": 7,
    "start_time": "2024-05-15T19:30:10.506Z"
   },
   {
    "duration": 43,
    "start_time": "2024-05-15T19:30:10.515Z"
   },
   {
    "duration": 19,
    "start_time": "2024-05-15T19:30:10.560Z"
   },
   {
    "duration": 15,
    "start_time": "2024-05-15T19:30:10.581Z"
   },
   {
    "duration": 461,
    "start_time": "2024-05-15T19:30:10.597Z"
   },
   {
    "duration": 248,
    "start_time": "2024-05-15T19:30:11.060Z"
   },
   {
    "duration": 2,
    "start_time": "2024-05-15T19:30:11.310Z"
   },
   {
    "duration": 147,
    "start_time": "2024-05-15T19:30:11.313Z"
   },
   {
    "duration": 148,
    "start_time": "2024-05-15T19:30:11.461Z"
   },
   {
    "duration": 4,
    "start_time": "2024-05-15T19:30:11.611Z"
   },
   {
    "duration": 58,
    "start_time": "2024-05-15T19:30:11.617Z"
   },
   {
    "duration": 1053,
    "start_time": "2024-05-15T19:30:11.677Z"
   },
   {
    "duration": 0,
    "start_time": "2024-05-15T19:30:12.732Z"
   },
   {
    "duration": 992,
    "start_time": "2024-05-15T19:30:34.272Z"
   },
   {
    "duration": 117,
    "start_time": "2024-05-15T19:30:35.266Z"
   },
   {
    "duration": 13,
    "start_time": "2024-05-15T19:30:35.385Z"
   },
   {
    "duration": 19,
    "start_time": "2024-05-15T19:30:35.399Z"
   },
   {
    "duration": 285,
    "start_time": "2024-05-15T19:30:35.420Z"
   },
   {
    "duration": 9,
    "start_time": "2024-05-15T19:30:35.707Z"
   },
   {
    "duration": 14,
    "start_time": "2024-05-15T19:30:35.717Z"
   },
   {
    "duration": 394,
    "start_time": "2024-05-15T19:30:35.733Z"
   },
   {
    "duration": 6,
    "start_time": "2024-05-15T19:30:36.129Z"
   },
   {
    "duration": 23,
    "start_time": "2024-05-15T19:30:36.137Z"
   },
   {
    "duration": 13,
    "start_time": "2024-05-15T19:30:36.162Z"
   },
   {
    "duration": 7,
    "start_time": "2024-05-15T19:30:36.176Z"
   },
   {
    "duration": 15,
    "start_time": "2024-05-15T19:30:36.184Z"
   },
   {
    "duration": 10,
    "start_time": "2024-05-15T19:30:36.203Z"
   },
   {
    "duration": 7,
    "start_time": "2024-05-15T19:30:36.214Z"
   },
   {
    "duration": 7,
    "start_time": "2024-05-15T19:30:36.222Z"
   },
   {
    "duration": 27,
    "start_time": "2024-05-15T19:30:36.230Z"
   },
   {
    "duration": 6,
    "start_time": "2024-05-15T19:30:36.258Z"
   },
   {
    "duration": 6,
    "start_time": "2024-05-15T19:30:36.265Z"
   },
   {
    "duration": 8,
    "start_time": "2024-05-15T19:30:36.272Z"
   },
   {
    "duration": 5,
    "start_time": "2024-05-15T19:30:36.281Z"
   },
   {
    "duration": 8,
    "start_time": "2024-05-15T19:30:36.287Z"
   },
   {
    "duration": 4,
    "start_time": "2024-05-15T19:30:36.296Z"
   },
   {
    "duration": 5,
    "start_time": "2024-05-15T19:30:36.301Z"
   },
   {
    "duration": 5,
    "start_time": "2024-05-15T19:30:36.307Z"
   },
   {
    "duration": 166,
    "start_time": "2024-05-15T19:30:36.313Z"
   },
   {
    "duration": 99,
    "start_time": "2024-05-15T19:30:36.481Z"
   },
   {
    "duration": 145,
    "start_time": "2024-05-15T19:30:36.582Z"
   },
   {
    "duration": 4,
    "start_time": "2024-05-15T19:30:36.729Z"
   },
   {
    "duration": 282,
    "start_time": "2024-05-15T19:30:36.735Z"
   },
   {
    "duration": 120,
    "start_time": "2024-05-15T19:30:37.019Z"
   },
   {
    "duration": 20,
    "start_time": "2024-05-15T19:30:37.140Z"
   },
   {
    "duration": 28,
    "start_time": "2024-05-15T19:30:37.161Z"
   },
   {
    "duration": 17,
    "start_time": "2024-05-15T19:30:37.190Z"
   },
   {
    "duration": 14,
    "start_time": "2024-05-15T19:30:37.208Z"
   },
   {
    "duration": 370,
    "start_time": "2024-05-15T19:30:37.223Z"
   },
   {
    "duration": 183,
    "start_time": "2024-05-15T19:30:37.594Z"
   },
   {
    "duration": 2,
    "start_time": "2024-05-15T19:30:37.779Z"
   },
   {
    "duration": 155,
    "start_time": "2024-05-15T19:30:37.783Z"
   },
   {
    "duration": 176,
    "start_time": "2024-05-15T19:30:37.940Z"
   },
   {
    "duration": 3,
    "start_time": "2024-05-15T19:30:38.119Z"
   },
   {
    "duration": 45,
    "start_time": "2024-05-15T19:30:38.124Z"
   },
   {
    "duration": 98,
    "start_time": "2024-05-15T19:30:38.170Z"
   },
   {
    "duration": 0,
    "start_time": "2024-05-15T19:30:38.270Z"
   },
   {
    "duration": 1026,
    "start_time": "2024-05-15T19:30:51.752Z"
   },
   {
    "duration": 123,
    "start_time": "2024-05-15T19:30:52.780Z"
   },
   {
    "duration": 14,
    "start_time": "2024-05-15T19:30:52.904Z"
   },
   {
    "duration": 11,
    "start_time": "2024-05-15T19:30:52.920Z"
   },
   {
    "duration": 293,
    "start_time": "2024-05-15T19:30:52.932Z"
   },
   {
    "duration": 10,
    "start_time": "2024-05-15T19:30:53.227Z"
   },
   {
    "duration": 22,
    "start_time": "2024-05-15T19:30:53.238Z"
   },
   {
    "duration": 308,
    "start_time": "2024-05-15T19:30:53.262Z"
   },
   {
    "duration": 6,
    "start_time": "2024-05-15T19:30:53.572Z"
   },
   {
    "duration": 11,
    "start_time": "2024-05-15T19:30:53.582Z"
   },
   {
    "duration": 13,
    "start_time": "2024-05-15T19:30:53.595Z"
   },
   {
    "duration": 7,
    "start_time": "2024-05-15T19:30:53.610Z"
   },
   {
    "duration": 9,
    "start_time": "2024-05-15T19:30:53.619Z"
   },
   {
    "duration": 27,
    "start_time": "2024-05-15T19:30:53.630Z"
   },
   {
    "duration": 6,
    "start_time": "2024-05-15T19:30:53.659Z"
   },
   {
    "duration": 6,
    "start_time": "2024-05-15T19:30:53.667Z"
   },
   {
    "duration": 5,
    "start_time": "2024-05-15T19:30:53.675Z"
   },
   {
    "duration": 5,
    "start_time": "2024-05-15T19:30:53.682Z"
   },
   {
    "duration": 6,
    "start_time": "2024-05-15T19:30:53.688Z"
   },
   {
    "duration": 4,
    "start_time": "2024-05-15T19:30:53.695Z"
   },
   {
    "duration": 6,
    "start_time": "2024-05-15T19:30:53.700Z"
   },
   {
    "duration": 50,
    "start_time": "2024-05-15T19:30:53.708Z"
   },
   {
    "duration": 11,
    "start_time": "2024-05-15T19:30:53.760Z"
   },
   {
    "duration": 10,
    "start_time": "2024-05-15T19:30:53.772Z"
   },
   {
    "duration": 8,
    "start_time": "2024-05-15T19:30:53.784Z"
   },
   {
    "duration": 145,
    "start_time": "2024-05-15T19:30:53.793Z"
   },
   {
    "duration": 83,
    "start_time": "2024-05-15T19:30:53.939Z"
   },
   {
    "duration": 146,
    "start_time": "2024-05-15T19:30:54.025Z"
   },
   {
    "duration": 4,
    "start_time": "2024-05-15T19:30:54.173Z"
   },
   {
    "duration": 288,
    "start_time": "2024-05-15T19:30:54.179Z"
   },
   {
    "duration": 127,
    "start_time": "2024-05-15T19:30:54.468Z"
   },
   {
    "duration": 7,
    "start_time": "2024-05-15T19:30:54.596Z"
   },
   {
    "duration": 35,
    "start_time": "2024-05-15T19:30:54.605Z"
   },
   {
    "duration": 35,
    "start_time": "2024-05-15T19:30:54.641Z"
   },
   {
    "duration": 18,
    "start_time": "2024-05-15T19:30:54.678Z"
   },
   {
    "duration": 377,
    "start_time": "2024-05-15T19:30:54.698Z"
   },
   {
    "duration": 175,
    "start_time": "2024-05-15T19:30:55.077Z"
   },
   {
    "duration": 2,
    "start_time": "2024-05-15T19:30:55.254Z"
   },
   {
    "duration": 146,
    "start_time": "2024-05-15T19:30:55.258Z"
   },
   {
    "duration": 170,
    "start_time": "2024-05-15T19:30:55.405Z"
   },
   {
    "duration": 3,
    "start_time": "2024-05-15T19:30:55.577Z"
   },
   {
    "duration": 56,
    "start_time": "2024-05-15T19:30:55.581Z"
   },
   {
    "duration": 33,
    "start_time": "2024-05-15T19:30:55.639Z"
   },
   {
    "duration": 4,
    "start_time": "2024-05-15T19:30:55.673Z"
   },
   {
    "duration": 16,
    "start_time": "2024-05-15T19:31:24.075Z"
   },
   {
    "duration": 32,
    "start_time": "2024-05-15T19:31:29.755Z"
   },
   {
    "duration": 5,
    "start_time": "2024-05-15T19:44:15.905Z"
   },
   {
    "duration": 4,
    "start_time": "2024-05-15T19:44:32.093Z"
   },
   {
    "duration": 5,
    "start_time": "2024-05-15T19:44:50.175Z"
   },
   {
    "duration": 1071,
    "start_time": "2024-05-15T19:45:02.906Z"
   },
   {
    "duration": 123,
    "start_time": "2024-05-15T19:45:03.979Z"
   },
   {
    "duration": 14,
    "start_time": "2024-05-15T19:45:04.103Z"
   },
   {
    "duration": 11,
    "start_time": "2024-05-15T19:45:04.119Z"
   },
   {
    "duration": 277,
    "start_time": "2024-05-15T19:45:04.131Z"
   },
   {
    "duration": 11,
    "start_time": "2024-05-15T19:45:04.410Z"
   },
   {
    "duration": 23,
    "start_time": "2024-05-15T19:45:04.422Z"
   },
   {
    "duration": 363,
    "start_time": "2024-05-15T19:45:04.446Z"
   },
   {
    "duration": 6,
    "start_time": "2024-05-15T19:45:04.811Z"
   },
   {
    "duration": 11,
    "start_time": "2024-05-15T19:45:04.820Z"
   },
   {
    "duration": 24,
    "start_time": "2024-05-15T19:45:04.833Z"
   },
   {
    "duration": 5,
    "start_time": "2024-05-15T19:45:04.859Z"
   },
   {
    "duration": 12,
    "start_time": "2024-05-15T19:45:04.865Z"
   },
   {
    "duration": 6,
    "start_time": "2024-05-15T19:45:04.878Z"
   },
   {
    "duration": 5,
    "start_time": "2024-05-15T19:45:04.886Z"
   },
   {
    "duration": 6,
    "start_time": "2024-05-15T19:45:04.892Z"
   },
   {
    "duration": 5,
    "start_time": "2024-05-15T19:45:04.899Z"
   },
   {
    "duration": 54,
    "start_time": "2024-05-15T19:45:04.906Z"
   },
   {
    "duration": 6,
    "start_time": "2024-05-15T19:45:04.961Z"
   },
   {
    "duration": 5,
    "start_time": "2024-05-15T19:45:04.968Z"
   },
   {
    "duration": 10,
    "start_time": "2024-05-15T19:45:04.974Z"
   },
   {
    "duration": 9,
    "start_time": "2024-05-15T19:45:04.985Z"
   },
   {
    "duration": 8,
    "start_time": "2024-05-15T19:45:04.995Z"
   },
   {
    "duration": 6,
    "start_time": "2024-05-15T19:45:05.004Z"
   },
   {
    "duration": 6,
    "start_time": "2024-05-15T19:45:05.056Z"
   },
   {
    "duration": 142,
    "start_time": "2024-05-15T19:45:05.064Z"
   },
   {
    "duration": 99,
    "start_time": "2024-05-15T19:45:05.207Z"
   },
   {
    "duration": 149,
    "start_time": "2024-05-15T19:45:05.309Z"
   },
   {
    "duration": 4,
    "start_time": "2024-05-15T19:45:05.460Z"
   },
   {
    "duration": 294,
    "start_time": "2024-05-15T19:45:05.465Z"
   },
   {
    "duration": 154,
    "start_time": "2024-05-15T19:45:05.761Z"
   },
   {
    "duration": 8,
    "start_time": "2024-05-15T19:45:05.917Z"
   },
   {
    "duration": 58,
    "start_time": "2024-05-15T19:45:05.926Z"
   },
   {
    "duration": 20,
    "start_time": "2024-05-15T19:45:05.985Z"
   },
   {
    "duration": 16,
    "start_time": "2024-05-15T19:45:06.006Z"
   },
   {
    "duration": 386,
    "start_time": "2024-05-15T19:45:06.024Z"
   },
   {
    "duration": 179,
    "start_time": "2024-05-15T19:45:06.412Z"
   },
   {
    "duration": 4,
    "start_time": "2024-05-15T19:45:06.593Z"
   },
   {
    "duration": 161,
    "start_time": "2024-05-15T19:45:06.598Z"
   },
   {
    "duration": 165,
    "start_time": "2024-05-15T19:45:06.761Z"
   },
   {
    "duration": 3,
    "start_time": "2024-05-15T19:45:06.927Z"
   },
   {
    "duration": 54,
    "start_time": "2024-05-15T19:45:06.931Z"
   },
   {
    "duration": 22,
    "start_time": "2024-05-15T19:45:06.986Z"
   },
   {
    "duration": 3,
    "start_time": "2024-05-15T19:45:07.010Z"
   },
   {
    "duration": 5,
    "start_time": "2024-05-15T19:47:05.403Z"
   },
   {
    "duration": 6,
    "start_time": "2024-05-15T19:47:26.915Z"
   },
   {
    "duration": 3,
    "start_time": "2024-05-15T19:48:14.507Z"
   },
   {
    "duration": 52,
    "start_time": "2024-05-15T19:49:00.234Z"
   },
   {
    "duration": 42,
    "start_time": "2024-05-15T19:50:00.869Z"
   },
   {
    "duration": 45,
    "start_time": "2024-05-15T19:50:08.633Z"
   },
   {
    "duration": 26,
    "start_time": "2024-05-15T19:50:26.823Z"
   },
   {
    "duration": 23,
    "start_time": "2024-05-15T19:51:21.490Z"
   },
   {
    "duration": 991,
    "start_time": "2024-05-15T19:51:26.407Z"
   },
   {
    "duration": 99,
    "start_time": "2024-05-15T19:51:27.400Z"
   },
   {
    "duration": 13,
    "start_time": "2024-05-15T19:51:27.501Z"
   },
   {
    "duration": 11,
    "start_time": "2024-05-15T19:51:27.516Z"
   },
   {
    "duration": 276,
    "start_time": "2024-05-15T19:51:27.528Z"
   },
   {
    "duration": 10,
    "start_time": "2024-05-15T19:51:27.806Z"
   },
   {
    "duration": 12,
    "start_time": "2024-05-15T19:51:27.818Z"
   },
   {
    "duration": 347,
    "start_time": "2024-05-15T19:51:27.832Z"
   },
   {
    "duration": 7,
    "start_time": "2024-05-15T19:51:28.181Z"
   },
   {
    "duration": 10,
    "start_time": "2024-05-15T19:51:28.190Z"
   },
   {
    "duration": 6,
    "start_time": "2024-05-15T19:51:28.202Z"
   },
   {
    "duration": 5,
    "start_time": "2024-05-15T19:51:28.209Z"
   },
   {
    "duration": 8,
    "start_time": "2024-05-15T19:51:28.216Z"
   },
   {
    "duration": 32,
    "start_time": "2024-05-15T19:51:28.225Z"
   },
   {
    "duration": 5,
    "start_time": "2024-05-15T19:51:28.259Z"
   },
   {
    "duration": 11,
    "start_time": "2024-05-15T19:51:28.266Z"
   },
   {
    "duration": 6,
    "start_time": "2024-05-15T19:51:28.278Z"
   },
   {
    "duration": 4,
    "start_time": "2024-05-15T19:51:28.285Z"
   },
   {
    "duration": 5,
    "start_time": "2024-05-15T19:51:28.291Z"
   },
   {
    "duration": 4,
    "start_time": "2024-05-15T19:51:28.297Z"
   },
   {
    "duration": 5,
    "start_time": "2024-05-15T19:51:28.302Z"
   },
   {
    "duration": 9,
    "start_time": "2024-05-15T19:51:28.308Z"
   },
   {
    "duration": 6,
    "start_time": "2024-05-15T19:51:28.355Z"
   },
   {
    "duration": 7,
    "start_time": "2024-05-15T19:51:28.362Z"
   },
   {
    "duration": 8,
    "start_time": "2024-05-15T19:51:28.371Z"
   },
   {
    "duration": 150,
    "start_time": "2024-05-15T19:51:28.380Z"
   },
   {
    "duration": 85,
    "start_time": "2024-05-15T19:51:28.532Z"
   },
   {
    "duration": 163,
    "start_time": "2024-05-15T19:51:28.620Z"
   },
   {
    "duration": 5,
    "start_time": "2024-05-15T19:51:28.785Z"
   },
   {
    "duration": 269,
    "start_time": "2024-05-15T19:51:28.792Z"
   },
   {
    "duration": 130,
    "start_time": "2024-05-15T19:51:29.063Z"
   },
   {
    "duration": 7,
    "start_time": "2024-05-15T19:51:29.195Z"
   },
   {
    "duration": 29,
    "start_time": "2024-05-15T19:51:29.204Z"
   },
   {
    "duration": 18,
    "start_time": "2024-05-15T19:51:29.256Z"
   },
   {
    "duration": 18,
    "start_time": "2024-05-15T19:51:29.276Z"
   },
   {
    "duration": 381,
    "start_time": "2024-05-15T19:51:29.296Z"
   },
   {
    "duration": 170,
    "start_time": "2024-05-15T19:51:29.679Z"
   },
   {
    "duration": 2,
    "start_time": "2024-05-15T19:51:29.855Z"
   },
   {
    "duration": 158,
    "start_time": "2024-05-15T19:51:29.859Z"
   },
   {
    "duration": 184,
    "start_time": "2024-05-15T19:51:30.019Z"
   },
   {
    "duration": 4,
    "start_time": "2024-05-15T19:51:30.205Z"
   },
   {
    "duration": 79,
    "start_time": "2024-05-15T19:51:30.211Z"
   },
   {
    "duration": 61,
    "start_time": "2024-05-15T19:51:30.292Z"
   },
   {
    "duration": 24,
    "start_time": "2024-05-15T19:51:30.355Z"
   },
   {
    "duration": 2,
    "start_time": "2024-05-15T19:57:15.312Z"
   },
   {
    "duration": 7,
    "start_time": "2024-05-15T19:59:10.787Z"
   },
   {
    "duration": 8,
    "start_time": "2024-05-15T19:59:24.981Z"
   },
   {
    "duration": 9,
    "start_time": "2024-05-15T19:59:57.619Z"
   },
   {
    "duration": 24,
    "start_time": "2024-05-15T20:00:07.345Z"
   },
   {
    "duration": 7,
    "start_time": "2024-05-15T20:01:19.711Z"
   },
   {
    "duration": 8,
    "start_time": "2024-05-15T20:01:42.063Z"
   },
   {
    "duration": 24,
    "start_time": "2024-05-15T20:01:49.527Z"
   },
   {
    "duration": 34,
    "start_time": "2024-05-15T20:02:11.880Z"
   },
   {
    "duration": 24,
    "start_time": "2024-05-15T20:04:08.798Z"
   },
   {
    "duration": 5,
    "start_time": "2024-05-15T20:15:26.897Z"
   },
   {
    "duration": 98,
    "start_time": "2024-05-15T20:17:58.006Z"
   },
   {
    "duration": 9,
    "start_time": "2024-05-15T20:18:11.291Z"
   },
   {
    "duration": 8,
    "start_time": "2024-05-15T20:18:15.733Z"
   },
   {
    "duration": 9,
    "start_time": "2024-05-15T20:19:16.894Z"
   },
   {
    "duration": 11,
    "start_time": "2024-05-15T20:21:22.170Z"
   },
   {
    "duration": 9,
    "start_time": "2024-05-15T20:21:29.809Z"
   },
   {
    "duration": 9,
    "start_time": "2024-05-15T20:21:44.507Z"
   },
   {
    "duration": 11,
    "start_time": "2024-05-15T20:22:42.619Z"
   },
   {
    "duration": 8,
    "start_time": "2024-05-15T20:23:05.264Z"
   },
   {
    "duration": 209,
    "start_time": "2024-05-15T20:24:12.168Z"
   },
   {
    "duration": 125,
    "start_time": "2024-05-15T20:24:26.678Z"
   },
   {
    "duration": 10,
    "start_time": "2024-05-15T20:24:43.710Z"
   },
   {
    "duration": 145,
    "start_time": "2024-05-15T20:25:12.841Z"
   },
   {
    "duration": 122,
    "start_time": "2024-05-15T20:25:54.425Z"
   },
   {
    "duration": 4,
    "start_time": "2024-05-15T20:34:10.407Z"
   },
   {
    "duration": 17130,
    "start_time": "2024-05-15T20:34:34.983Z"
   },
   {
    "duration": 6315,
    "start_time": "2024-05-15T20:35:45.271Z"
   },
   {
    "duration": 35636,
    "start_time": "2024-05-15T20:35:54.468Z"
   },
   {
    "duration": 1412,
    "start_time": "2024-05-15T20:36:41.031Z"
   },
   {
    "duration": 1408,
    "start_time": "2024-05-15T20:36:54.118Z"
   },
   {
    "duration": 1413,
    "start_time": "2024-05-15T20:37:07.263Z"
   },
   {
    "duration": 9845,
    "start_time": "2024-05-15T20:38:48.255Z"
   },
   {
    "duration": 2,
    "start_time": "2024-05-15T20:39:40.498Z"
   },
   {
    "duration": 41,
    "start_time": "2024-05-15T20:40:17.411Z"
   },
   {
    "duration": 33,
    "start_time": "2024-05-15T20:40:28.317Z"
   },
   {
    "duration": 111,
    "start_time": "2024-05-15T20:43:02.178Z"
   },
   {
    "duration": 119,
    "start_time": "2024-05-15T20:43:22.024Z"
   },
   {
    "duration": 117,
    "start_time": "2024-05-15T20:45:08.700Z"
   },
   {
    "duration": 111,
    "start_time": "2024-05-15T20:45:37.933Z"
   },
   {
    "duration": 1145,
    "start_time": "2024-05-15T20:56:59.947Z"
   },
   {
    "duration": 127,
    "start_time": "2024-05-15T20:57:01.094Z"
   },
   {
    "duration": 14,
    "start_time": "2024-05-15T20:57:01.222Z"
   },
   {
    "duration": 83,
    "start_time": "2024-05-15T20:57:01.238Z"
   },
   {
    "duration": 340,
    "start_time": "2024-05-15T20:57:01.323Z"
   },
   {
    "duration": 10,
    "start_time": "2024-05-15T20:57:01.665Z"
   },
   {
    "duration": 43,
    "start_time": "2024-05-15T20:57:01.677Z"
   },
   {
    "duration": 381,
    "start_time": "2024-05-15T20:57:01.721Z"
   },
   {
    "duration": 6,
    "start_time": "2024-05-15T20:57:02.103Z"
   },
   {
    "duration": 27,
    "start_time": "2024-05-15T20:57:02.111Z"
   },
   {
    "duration": 28,
    "start_time": "2024-05-15T20:57:02.140Z"
   },
   {
    "duration": 33,
    "start_time": "2024-05-15T20:57:02.170Z"
   },
   {
    "duration": 10,
    "start_time": "2024-05-15T20:57:02.205Z"
   },
   {
    "duration": 37,
    "start_time": "2024-05-15T20:57:02.217Z"
   },
   {
    "duration": 34,
    "start_time": "2024-05-15T20:57:02.255Z"
   },
   {
    "duration": 27,
    "start_time": "2024-05-15T20:57:02.290Z"
   },
   {
    "duration": 24,
    "start_time": "2024-05-15T20:57:02.319Z"
   },
   {
    "duration": 19,
    "start_time": "2024-05-15T20:57:02.344Z"
   },
   {
    "duration": 41,
    "start_time": "2024-05-15T20:57:02.364Z"
   },
   {
    "duration": 22,
    "start_time": "2024-05-15T20:57:02.407Z"
   },
   {
    "duration": 13,
    "start_time": "2024-05-15T20:57:02.431Z"
   },
   {
    "duration": 36,
    "start_time": "2024-05-15T20:57:02.445Z"
   },
   {
    "duration": 34,
    "start_time": "2024-05-15T20:57:02.482Z"
   },
   {
    "duration": 24,
    "start_time": "2024-05-15T20:57:02.518Z"
   },
   {
    "duration": 37,
    "start_time": "2024-05-15T20:57:02.543Z"
   },
   {
    "duration": 162,
    "start_time": "2024-05-15T20:57:02.582Z"
   },
   {
    "duration": 75,
    "start_time": "2024-05-15T20:57:02.746Z"
   },
   {
    "duration": 147,
    "start_time": "2024-05-15T20:57:02.823Z"
   },
   {
    "duration": 3,
    "start_time": "2024-05-15T20:57:02.972Z"
   },
   {
    "duration": 280,
    "start_time": "2024-05-15T20:57:02.976Z"
   },
   {
    "duration": 123,
    "start_time": "2024-05-15T20:57:03.258Z"
   },
   {
    "duration": 9,
    "start_time": "2024-05-15T20:57:03.383Z"
   },
   {
    "duration": 44,
    "start_time": "2024-05-15T20:57:03.393Z"
   },
   {
    "duration": 37,
    "start_time": "2024-05-15T20:57:03.438Z"
   },
   {
    "duration": 16,
    "start_time": "2024-05-15T20:57:03.476Z"
   },
   {
    "duration": 364,
    "start_time": "2024-05-15T20:57:03.493Z"
   },
   {
    "duration": 169,
    "start_time": "2024-05-15T20:57:03.858Z"
   },
   {
    "duration": 2,
    "start_time": "2024-05-15T20:57:04.029Z"
   },
   {
    "duration": 153,
    "start_time": "2024-05-15T20:57:04.032Z"
   },
   {
    "duration": 156,
    "start_time": "2024-05-15T20:57:04.186Z"
   },
   {
    "duration": 12,
    "start_time": "2024-05-15T20:57:04.344Z"
   },
   {
    "duration": 99,
    "start_time": "2024-05-15T20:57:04.358Z"
   },
   {
    "duration": 0,
    "start_time": "2024-05-15T20:57:04.458Z"
   },
   {
    "duration": 0,
    "start_time": "2024-05-15T20:57:04.460Z"
   },
   {
    "duration": 0,
    "start_time": "2024-05-15T20:57:04.461Z"
   },
   {
    "duration": 1005,
    "start_time": "2024-05-15T20:57:21.778Z"
   },
   {
    "duration": 124,
    "start_time": "2024-05-15T20:57:22.784Z"
   },
   {
    "duration": 13,
    "start_time": "2024-05-15T20:57:22.909Z"
   },
   {
    "duration": 39,
    "start_time": "2024-05-15T20:57:22.924Z"
   },
   {
    "duration": 297,
    "start_time": "2024-05-15T20:57:22.965Z"
   },
   {
    "duration": 10,
    "start_time": "2024-05-15T20:57:23.264Z"
   },
   {
    "duration": 25,
    "start_time": "2024-05-15T20:57:23.276Z"
   },
   {
    "duration": 319,
    "start_time": "2024-05-15T20:57:23.303Z"
   },
   {
    "duration": 6,
    "start_time": "2024-05-15T20:57:23.623Z"
   },
   {
    "duration": 35,
    "start_time": "2024-05-15T20:57:23.631Z"
   },
   {
    "duration": 36,
    "start_time": "2024-05-15T20:57:23.668Z"
   },
   {
    "duration": 36,
    "start_time": "2024-05-15T20:57:23.706Z"
   },
   {
    "duration": 44,
    "start_time": "2024-05-15T20:57:23.744Z"
   },
   {
    "duration": 46,
    "start_time": "2024-05-15T20:57:23.789Z"
   },
   {
    "duration": 29,
    "start_time": "2024-05-15T20:57:23.836Z"
   },
   {
    "duration": 33,
    "start_time": "2024-05-15T20:57:23.867Z"
   },
   {
    "duration": 39,
    "start_time": "2024-05-15T20:57:23.902Z"
   },
   {
    "duration": 20,
    "start_time": "2024-05-15T20:57:23.942Z"
   },
   {
    "duration": 36,
    "start_time": "2024-05-15T20:57:23.963Z"
   },
   {
    "duration": 15,
    "start_time": "2024-05-15T20:57:24.000Z"
   },
   {
    "duration": 24,
    "start_time": "2024-05-15T20:57:24.017Z"
   },
   {
    "duration": 25,
    "start_time": "2024-05-15T20:57:24.042Z"
   },
   {
    "duration": 19,
    "start_time": "2024-05-15T20:57:24.068Z"
   },
   {
    "duration": 21,
    "start_time": "2024-05-15T20:57:24.089Z"
   },
   {
    "duration": 16,
    "start_time": "2024-05-15T20:57:24.111Z"
   },
   {
    "duration": 160,
    "start_time": "2024-05-15T20:57:24.128Z"
   },
   {
    "duration": 90,
    "start_time": "2024-05-15T20:57:24.289Z"
   },
   {
    "duration": 145,
    "start_time": "2024-05-15T20:57:24.383Z"
   },
   {
    "duration": 5,
    "start_time": "2024-05-15T20:57:24.530Z"
   },
   {
    "duration": 269,
    "start_time": "2024-05-15T20:57:24.536Z"
   },
   {
    "duration": 124,
    "start_time": "2024-05-15T20:57:24.806Z"
   },
   {
    "duration": 7,
    "start_time": "2024-05-15T20:57:24.932Z"
   },
   {
    "duration": 45,
    "start_time": "2024-05-15T20:57:24.941Z"
   },
   {
    "duration": 17,
    "start_time": "2024-05-15T20:57:24.988Z"
   },
   {
    "duration": 15,
    "start_time": "2024-05-15T20:57:25.007Z"
   },
   {
    "duration": 362,
    "start_time": "2024-05-15T20:57:25.023Z"
   },
   {
    "duration": 185,
    "start_time": "2024-05-15T20:57:25.387Z"
   },
   {
    "duration": 2,
    "start_time": "2024-05-15T20:57:25.574Z"
   },
   {
    "duration": 152,
    "start_time": "2024-05-15T20:57:25.578Z"
   },
   {
    "duration": 185,
    "start_time": "2024-05-15T20:57:25.732Z"
   },
   {
    "duration": 3,
    "start_time": "2024-05-15T20:57:25.918Z"
   },
   {
    "duration": 44,
    "start_time": "2024-05-15T20:57:25.923Z"
   },
   {
    "duration": 123,
    "start_time": "2024-05-15T20:57:25.969Z"
   },
   {
    "duration": 4,
    "start_time": "2024-05-15T20:57:26.093Z"
   },
   {
    "duration": 5,
    "start_time": "2024-05-15T21:03:31.323Z"
   },
   {
    "duration": 6,
    "start_time": "2024-05-15T21:03:42.825Z"
   },
   {
    "duration": 5,
    "start_time": "2024-05-15T21:03:57.198Z"
   },
   {
    "duration": 5,
    "start_time": "2024-05-15T21:04:51.568Z"
   },
   {
    "duration": 5,
    "start_time": "2024-05-15T21:06:06.207Z"
   },
   {
    "duration": 5,
    "start_time": "2024-05-15T21:06:25.210Z"
   },
   {
    "duration": 6,
    "start_time": "2024-05-15T21:07:00.052Z"
   },
   {
    "duration": 1183,
    "start_time": "2024-05-16T06:17:53.355Z"
   },
   {
    "duration": 274,
    "start_time": "2024-05-16T06:17:54.541Z"
   },
   {
    "duration": 13,
    "start_time": "2024-05-16T06:17:54.816Z"
   },
   {
    "duration": 12,
    "start_time": "2024-05-16T06:17:54.830Z"
   },
   {
    "duration": 280,
    "start_time": "2024-05-16T06:17:54.844Z"
   },
   {
    "duration": 10,
    "start_time": "2024-05-16T06:17:55.125Z"
   },
   {
    "duration": 12,
    "start_time": "2024-05-16T06:17:55.136Z"
   },
   {
    "duration": 331,
    "start_time": "2024-05-16T06:17:55.150Z"
   },
   {
    "duration": 7,
    "start_time": "2024-05-16T06:17:55.482Z"
   },
   {
    "duration": 26,
    "start_time": "2024-05-16T06:17:55.490Z"
   },
   {
    "duration": 13,
    "start_time": "2024-05-16T06:17:55.518Z"
   },
   {
    "duration": 12,
    "start_time": "2024-05-16T06:17:55.532Z"
   },
   {
    "duration": 10,
    "start_time": "2024-05-16T06:17:55.545Z"
   },
   {
    "duration": 17,
    "start_time": "2024-05-16T06:17:55.557Z"
   },
   {
    "duration": 24,
    "start_time": "2024-05-16T06:17:55.575Z"
   },
   {
    "duration": 23,
    "start_time": "2024-05-16T06:17:55.600Z"
   },
   {
    "duration": 7,
    "start_time": "2024-05-16T06:17:55.625Z"
   },
   {
    "duration": 14,
    "start_time": "2024-05-16T06:17:55.633Z"
   },
   {
    "duration": 9,
    "start_time": "2024-05-16T06:17:55.648Z"
   },
   {
    "duration": 7,
    "start_time": "2024-05-16T06:17:55.658Z"
   },
   {
    "duration": 4,
    "start_time": "2024-05-16T06:17:55.667Z"
   },
   {
    "duration": 12,
    "start_time": "2024-05-16T06:17:55.673Z"
   },
   {
    "duration": 5,
    "start_time": "2024-05-16T06:17:55.686Z"
   },
   {
    "duration": 6,
    "start_time": "2024-05-16T06:17:55.692Z"
   },
   {
    "duration": 8,
    "start_time": "2024-05-16T06:17:55.699Z"
   },
   {
    "duration": 157,
    "start_time": "2024-05-16T06:17:55.708Z"
   },
   {
    "duration": 77,
    "start_time": "2024-05-16T06:17:55.866Z"
   },
   {
    "duration": 151,
    "start_time": "2024-05-16T06:17:55.945Z"
   },
   {
    "duration": 4,
    "start_time": "2024-05-16T06:17:56.098Z"
   },
   {
    "duration": 285,
    "start_time": "2024-05-16T06:17:56.104Z"
   },
   {
    "duration": 122,
    "start_time": "2024-05-16T06:17:56.390Z"
   },
   {
    "duration": 7,
    "start_time": "2024-05-16T06:17:56.513Z"
   },
   {
    "duration": 44,
    "start_time": "2024-05-16T06:17:56.521Z"
   },
   {
    "duration": 17,
    "start_time": "2024-05-16T06:17:56.566Z"
   },
   {
    "duration": 14,
    "start_time": "2024-05-16T06:17:56.584Z"
   },
   {
    "duration": 369,
    "start_time": "2024-05-16T06:17:56.599Z"
   },
   {
    "duration": 162,
    "start_time": "2024-05-16T06:17:56.969Z"
   },
   {
    "duration": 2,
    "start_time": "2024-05-16T06:17:57.132Z"
   },
   {
    "duration": 165,
    "start_time": "2024-05-16T06:17:57.136Z"
   },
   {
    "duration": 155,
    "start_time": "2024-05-16T06:17:57.302Z"
   },
   {
    "duration": 3,
    "start_time": "2024-05-16T06:17:57.464Z"
   },
   {
    "duration": 42,
    "start_time": "2024-05-16T06:17:57.469Z"
   },
   {
    "duration": 155,
    "start_time": "2024-05-16T06:17:57.513Z"
   },
   {
    "duration": 4,
    "start_time": "2024-05-16T06:17:57.670Z"
   },
   {
    "duration": 9,
    "start_time": "2024-05-16T06:17:57.676Z"
   },
   {
    "duration": 5,
    "start_time": "2024-05-16T06:18:57.364Z"
   },
   {
    "duration": 6,
    "start_time": "2024-05-16T06:20:56.004Z"
   },
   {
    "duration": 6,
    "start_time": "2024-05-16T06:21:40.545Z"
   },
   {
    "duration": 92,
    "start_time": "2024-05-16T06:48:10.976Z"
   },
   {
    "duration": 5,
    "start_time": "2024-05-16T06:48:25.615Z"
   },
   {
    "duration": 6,
    "start_time": "2024-05-16T06:51:24.284Z"
   },
   {
    "duration": 5,
    "start_time": "2024-05-16T06:51:34.585Z"
   },
   {
    "duration": 5,
    "start_time": "2024-05-16T06:51:44.031Z"
   },
   {
    "duration": 1121,
    "start_time": "2024-05-16T15:56:55.775Z"
   },
   {
    "duration": 255,
    "start_time": "2024-05-16T15:56:56.898Z"
   },
   {
    "duration": 13,
    "start_time": "2024-05-16T15:56:57.155Z"
   },
   {
    "duration": 9,
    "start_time": "2024-05-16T15:56:57.170Z"
   },
   {
    "duration": 222,
    "start_time": "2024-05-16T15:56:57.181Z"
   },
   {
    "duration": 9,
    "start_time": "2024-05-16T15:56:57.404Z"
   },
   {
    "duration": 10,
    "start_time": "2024-05-16T15:56:57.414Z"
   },
   {
    "duration": 269,
    "start_time": "2024-05-16T15:56:57.425Z"
   },
   {
    "duration": 9,
    "start_time": "2024-05-16T15:56:57.696Z"
   },
   {
    "duration": 8,
    "start_time": "2024-05-16T15:56:57.707Z"
   },
   {
    "duration": 8,
    "start_time": "2024-05-16T15:56:57.716Z"
   },
   {
    "duration": 4,
    "start_time": "2024-05-16T15:56:57.725Z"
   },
   {
    "duration": 12,
    "start_time": "2024-05-16T15:56:57.730Z"
   },
   {
    "duration": 15,
    "start_time": "2024-05-16T15:56:57.743Z"
   },
   {
    "duration": 10,
    "start_time": "2024-05-16T15:56:57.759Z"
   },
   {
    "duration": 6,
    "start_time": "2024-05-16T15:56:57.770Z"
   },
   {
    "duration": 7,
    "start_time": "2024-05-16T15:56:57.777Z"
   },
   {
    "duration": 18,
    "start_time": "2024-05-16T15:56:57.785Z"
   },
   {
    "duration": 4,
    "start_time": "2024-05-16T15:56:57.804Z"
   },
   {
    "duration": 10,
    "start_time": "2024-05-16T15:56:57.810Z"
   },
   {
    "duration": 10,
    "start_time": "2024-05-16T15:56:57.821Z"
   },
   {
    "duration": 9,
    "start_time": "2024-05-16T15:56:57.832Z"
   },
   {
    "duration": 21,
    "start_time": "2024-05-16T15:56:57.842Z"
   },
   {
    "duration": 50,
    "start_time": "2024-05-16T15:56:57.864Z"
   },
   {
    "duration": 14,
    "start_time": "2024-05-16T15:56:57.916Z"
   },
   {
    "duration": 113,
    "start_time": "2024-05-16T15:56:57.932Z"
   },
   {
    "duration": 70,
    "start_time": "2024-05-16T15:56:58.046Z"
   },
   {
    "duration": 119,
    "start_time": "2024-05-16T15:56:58.120Z"
   },
   {
    "duration": 4,
    "start_time": "2024-05-16T15:56:58.240Z"
   },
   {
    "duration": 220,
    "start_time": "2024-05-16T15:56:58.245Z"
   },
   {
    "duration": 100,
    "start_time": "2024-05-16T15:56:58.466Z"
   },
   {
    "duration": 6,
    "start_time": "2024-05-16T15:56:58.568Z"
   },
   {
    "duration": 38,
    "start_time": "2024-05-16T15:56:58.575Z"
   },
   {
    "duration": 15,
    "start_time": "2024-05-16T15:56:58.614Z"
   },
   {
    "duration": 12,
    "start_time": "2024-05-16T15:56:58.630Z"
   },
   {
    "duration": 287,
    "start_time": "2024-05-16T15:56:58.643Z"
   },
   {
    "duration": 132,
    "start_time": "2024-05-16T15:56:58.932Z"
   },
   {
    "duration": 2,
    "start_time": "2024-05-16T15:56:59.065Z"
   },
   {
    "duration": 137,
    "start_time": "2024-05-16T15:56:59.068Z"
   },
   {
    "duration": 130,
    "start_time": "2024-05-16T15:56:59.206Z"
   },
   {
    "duration": 2,
    "start_time": "2024-05-16T15:56:59.338Z"
   },
   {
    "duration": 30,
    "start_time": "2024-05-16T15:56:59.341Z"
   },
   {
    "duration": 110,
    "start_time": "2024-05-16T15:56:59.372Z"
   },
   {
    "duration": 4,
    "start_time": "2024-05-16T15:56:59.483Z"
   },
   {
    "duration": 16,
    "start_time": "2024-05-16T15:56:59.488Z"
   },
   {
    "duration": 5,
    "start_time": "2024-05-16T15:56:59.505Z"
   },
   {
    "duration": 8,
    "start_time": "2024-05-16T15:58:10.024Z"
   },
   {
    "duration": 94,
    "start_time": "2024-05-16T15:58:32.676Z"
   },
   {
    "duration": 7,
    "start_time": "2024-05-16T15:58:50.941Z"
   },
   {
    "duration": 8,
    "start_time": "2024-05-16T15:58:59.749Z"
   },
   {
    "duration": 15,
    "start_time": "2024-05-16T16:00:06.564Z"
   },
   {
    "duration": 13,
    "start_time": "2024-05-16T16:00:25.975Z"
   },
   {
    "duration": 27,
    "start_time": "2024-05-16T16:00:39.022Z"
   },
   {
    "duration": 35,
    "start_time": "2024-05-16T16:00:59.921Z"
   },
   {
    "duration": 12,
    "start_time": "2024-05-16T16:01:14.342Z"
   },
   {
    "duration": 36,
    "start_time": "2024-05-16T16:01:21.853Z"
   },
   {
    "duration": 176,
    "start_time": "2024-05-16T16:01:48.994Z"
   },
   {
    "duration": 9,
    "start_time": "2024-05-16T16:02:05.819Z"
   },
   {
    "duration": 216,
    "start_time": "2024-05-16T16:02:11.749Z"
   },
   {
    "duration": 189,
    "start_time": "2024-05-16T16:02:27.172Z"
   },
   {
    "duration": 326,
    "start_time": "2024-05-16T16:02:39.988Z"
   },
   {
    "duration": 282,
    "start_time": "2024-05-16T16:02:58.699Z"
   },
   {
    "duration": 283,
    "start_time": "2024-05-16T16:03:17.911Z"
   },
   {
    "duration": 284,
    "start_time": "2024-05-16T16:04:33.655Z"
   },
   {
    "duration": 47280,
    "start_time": "2024-05-16T16:05:57.969Z"
   },
   {
    "duration": 45338,
    "start_time": "2024-05-16T16:08:34.344Z"
   },
   {
    "duration": 42,
    "start_time": "2024-05-16T16:10:40.492Z"
   },
   {
    "duration": 226,
    "start_time": "2024-05-16T16:10:47.462Z"
   },
   {
    "duration": 380,
    "start_time": "2024-05-16T16:11:14.982Z"
   },
   {
    "duration": 234,
    "start_time": "2024-05-16T16:11:26.525Z"
   },
   {
    "duration": 1945,
    "start_time": "2024-05-16T16:11:38.185Z"
   },
   {
    "duration": 56,
    "start_time": "2024-05-16T16:12:25.519Z"
   },
   {
    "duration": 8,
    "start_time": "2024-05-16T16:12:34.690Z"
   },
   {
    "duration": 202,
    "start_time": "2024-05-16T16:13:13.565Z"
   },
   {
    "duration": 229,
    "start_time": "2024-05-16T16:13:35.643Z"
   },
   {
    "duration": 33,
    "start_time": "2024-05-16T16:15:20.877Z"
   },
   {
    "duration": 11,
    "start_time": "2024-05-16T16:17:01.436Z"
   },
   {
    "duration": 10,
    "start_time": "2024-05-16T16:17:11.969Z"
   },
   {
    "duration": 15,
    "start_time": "2024-05-16T16:17:21.309Z"
   },
   {
    "duration": 372,
    "start_time": "2024-05-16T16:18:51.961Z"
   },
   {
    "duration": 361,
    "start_time": "2024-05-16T16:19:01.633Z"
   },
   {
    "duration": 364,
    "start_time": "2024-05-16T16:19:10.079Z"
   },
   {
    "duration": 375,
    "start_time": "2024-05-16T16:19:17.401Z"
   },
   {
    "duration": 330,
    "start_time": "2024-05-16T16:29:08.549Z"
   },
   {
    "duration": 374,
    "start_time": "2024-05-16T16:29:50.438Z"
   },
   {
    "duration": 221,
    "start_time": "2024-05-16T16:30:38.090Z"
   },
   {
    "duration": 9,
    "start_time": "2024-05-16T16:40:21.575Z"
   },
   {
    "duration": 33,
    "start_time": "2024-05-16T16:41:04.218Z"
   },
   {
    "duration": 34,
    "start_time": "2024-05-16T16:41:27.933Z"
   },
   {
    "duration": 225,
    "start_time": "2024-05-16T16:41:55.236Z"
   },
   {
    "duration": 18,
    "start_time": "2024-05-16T16:43:43.689Z"
   },
   {
    "duration": 8,
    "start_time": "2024-05-16T16:44:05.859Z"
   },
   {
    "duration": 12,
    "start_time": "2024-05-16T16:44:40.279Z"
   },
   {
    "duration": 223,
    "start_time": "2024-05-16T16:44:50.322Z"
   },
   {
    "duration": 6,
    "start_time": "2024-05-16T16:51:31.874Z"
   },
   {
    "duration": 5,
    "start_time": "2024-05-16T16:51:39.843Z"
   },
   {
    "duration": 5,
    "start_time": "2024-05-16T16:51:49.953Z"
   },
   {
    "duration": 5,
    "start_time": "2024-05-16T16:52:25.123Z"
   },
   {
    "duration": 44,
    "start_time": "2024-05-16T17:09:55.497Z"
   },
   {
    "duration": 226,
    "start_time": "2024-05-16T17:10:00.796Z"
   },
   {
    "duration": 23,
    "start_time": "2024-05-16T17:12:40.455Z"
   },
   {
    "duration": 17,
    "start_time": "2024-05-16T17:12:49.937Z"
   },
   {
    "duration": 628,
    "start_time": "2024-05-16T17:14:48.536Z"
   },
   {
    "duration": 12,
    "start_time": "2024-05-16T17:15:46.087Z"
   },
   {
    "duration": 11,
    "start_time": "2024-05-16T17:16:09.465Z"
   },
   {
    "duration": 64,
    "start_time": "2024-05-16T17:16:27.155Z"
   },
   {
    "duration": 11,
    "start_time": "2024-05-16T17:16:32.625Z"
   },
   {
    "duration": 10,
    "start_time": "2024-05-16T17:17:39.586Z"
   },
   {
    "duration": 907,
    "start_time": "2024-05-16T17:18:58.911Z"
   },
   {
    "duration": 9,
    "start_time": "2024-05-16T17:19:20.525Z"
   },
   {
    "duration": 8,
    "start_time": "2024-05-16T17:20:29.072Z"
   },
   {
    "duration": 8,
    "start_time": "2024-05-16T17:20:48.158Z"
   },
   {
    "duration": 1046,
    "start_time": "2024-05-16T17:20:59.237Z"
   },
   {
    "duration": 3,
    "start_time": "2024-05-16T17:21:30.099Z"
   },
   {
    "duration": 1013,
    "start_time": "2024-05-16T17:21:39.579Z"
   },
   {
    "duration": 74,
    "start_time": "2024-05-16T17:21:40.594Z"
   },
   {
    "duration": 14,
    "start_time": "2024-05-16T17:21:40.669Z"
   },
   {
    "duration": 23,
    "start_time": "2024-05-16T17:21:40.685Z"
   },
   {
    "duration": 216,
    "start_time": "2024-05-16T17:21:40.709Z"
   },
   {
    "duration": 8,
    "start_time": "2024-05-16T17:21:40.926Z"
   },
   {
    "duration": 14,
    "start_time": "2024-05-16T17:21:40.935Z"
   },
   {
    "duration": 272,
    "start_time": "2024-05-16T17:21:40.950Z"
   },
   {
    "duration": 6,
    "start_time": "2024-05-16T17:21:41.223Z"
   },
   {
    "duration": 35,
    "start_time": "2024-05-16T17:21:41.231Z"
   },
   {
    "duration": 8,
    "start_time": "2024-05-16T17:21:41.268Z"
   },
   {
    "duration": 22,
    "start_time": "2024-05-16T17:21:41.277Z"
   },
   {
    "duration": 9,
    "start_time": "2024-05-16T17:21:41.301Z"
   },
   {
    "duration": 6,
    "start_time": "2024-05-16T17:21:41.311Z"
   },
   {
    "duration": 8,
    "start_time": "2024-05-16T17:21:41.318Z"
   },
   {
    "duration": 6,
    "start_time": "2024-05-16T17:21:41.327Z"
   },
   {
    "duration": 12,
    "start_time": "2024-05-16T17:21:41.334Z"
   },
   {
    "duration": 4,
    "start_time": "2024-05-16T17:21:41.347Z"
   },
   {
    "duration": 4,
    "start_time": "2024-05-16T17:21:41.353Z"
   },
   {
    "duration": 3,
    "start_time": "2024-05-16T17:21:41.358Z"
   },
   {
    "duration": 8,
    "start_time": "2024-05-16T17:21:41.363Z"
   },
   {
    "duration": 15,
    "start_time": "2024-05-16T17:21:41.372Z"
   },
   {
    "duration": 14,
    "start_time": "2024-05-16T17:21:41.388Z"
   },
   {
    "duration": 30,
    "start_time": "2024-05-16T17:21:41.403Z"
   },
   {
    "duration": 88,
    "start_time": "2024-05-16T17:21:41.434Z"
   },
   {
    "duration": 136,
    "start_time": "2024-05-16T17:21:41.524Z"
   },
   {
    "duration": 80,
    "start_time": "2024-05-16T17:21:41.661Z"
   },
   {
    "duration": 136,
    "start_time": "2024-05-16T17:21:41.744Z"
   },
   {
    "duration": 4,
    "start_time": "2024-05-16T17:21:41.882Z"
   },
   {
    "duration": 216,
    "start_time": "2024-05-16T17:21:41.902Z"
   },
   {
    "duration": 103,
    "start_time": "2024-05-16T17:21:42.120Z"
   },
   {
    "duration": 6,
    "start_time": "2024-05-16T17:21:42.224Z"
   },
   {
    "duration": 32,
    "start_time": "2024-05-16T17:21:42.231Z"
   },
   {
    "duration": 15,
    "start_time": "2024-05-16T17:21:42.264Z"
   },
   {
    "duration": 27,
    "start_time": "2024-05-16T17:21:42.280Z"
   },
   {
    "duration": 285,
    "start_time": "2024-05-16T17:21:42.308Z"
   },
   {
    "duration": 137,
    "start_time": "2024-05-16T17:21:42.594Z"
   },
   {
    "duration": 2,
    "start_time": "2024-05-16T17:21:42.732Z"
   },
   {
    "duration": 121,
    "start_time": "2024-05-16T17:21:42.735Z"
   },
   {
    "duration": 124,
    "start_time": "2024-05-16T17:21:42.858Z"
   },
   {
    "duration": 3,
    "start_time": "2024-05-16T17:21:42.983Z"
   },
   {
    "duration": 46,
    "start_time": "2024-05-16T17:21:42.987Z"
   },
   {
    "duration": 107,
    "start_time": "2024-05-16T17:21:43.034Z"
   },
   {
    "duration": 248,
    "start_time": "2024-05-16T17:21:43.143Z"
   },
   {
    "duration": 4,
    "start_time": "2024-05-16T17:21:43.392Z"
   },
   {
    "duration": 6,
    "start_time": "2024-05-16T17:21:43.397Z"
   },
   {
    "duration": 4,
    "start_time": "2024-05-16T17:21:43.404Z"
   },
   {
    "duration": 3,
    "start_time": "2024-05-16T17:21:43.410Z"
   },
   {
    "duration": 965,
    "start_time": "2024-05-16T17:21:43.414Z"
   },
   {
    "duration": 12,
    "start_time": "2024-05-16T17:22:39.785Z"
   },
   {
    "duration": 11,
    "start_time": "2024-05-16T17:23:25.303Z"
   },
   {
    "duration": 7,
    "start_time": "2024-05-16T17:23:33.956Z"
   },
   {
    "duration": 7,
    "start_time": "2024-05-16T17:24:25.732Z"
   },
   {
    "duration": 10,
    "start_time": "2024-05-16T17:31:35.585Z"
   },
   {
    "duration": 11,
    "start_time": "2024-05-16T17:31:48.448Z"
   },
   {
    "duration": 9,
    "start_time": "2024-05-16T17:32:06.919Z"
   },
   {
    "duration": 8,
    "start_time": "2024-05-16T17:32:12.160Z"
   },
   {
    "duration": 38,
    "start_time": "2024-05-16T17:33:05.355Z"
   },
   {
    "duration": 962,
    "start_time": "2024-05-16T17:33:13.850Z"
   },
   {
    "duration": 95,
    "start_time": "2024-05-16T17:33:14.814Z"
   },
   {
    "duration": 10,
    "start_time": "2024-05-16T17:33:14.911Z"
   },
   {
    "duration": 13,
    "start_time": "2024-05-16T17:33:14.923Z"
   },
   {
    "duration": 236,
    "start_time": "2024-05-16T17:33:14.937Z"
   },
   {
    "duration": 8,
    "start_time": "2024-05-16T17:33:15.174Z"
   },
   {
    "duration": 49,
    "start_time": "2024-05-16T17:33:15.184Z"
   },
   {
    "duration": 283,
    "start_time": "2024-05-16T17:33:15.234Z"
   },
   {
    "duration": 6,
    "start_time": "2024-05-16T17:33:15.518Z"
   },
   {
    "duration": 20,
    "start_time": "2024-05-16T17:33:15.525Z"
   },
   {
    "duration": 12,
    "start_time": "2024-05-16T17:33:15.546Z"
   },
   {
    "duration": 12,
    "start_time": "2024-05-16T17:33:15.560Z"
   },
   {
    "duration": 11,
    "start_time": "2024-05-16T17:33:15.573Z"
   },
   {
    "duration": 17,
    "start_time": "2024-05-16T17:33:15.586Z"
   },
   {
    "duration": 10,
    "start_time": "2024-05-16T17:33:15.604Z"
   },
   {
    "duration": 6,
    "start_time": "2024-05-16T17:33:15.616Z"
   },
   {
    "duration": 10,
    "start_time": "2024-05-16T17:33:15.623Z"
   },
   {
    "duration": 15,
    "start_time": "2024-05-16T17:33:15.634Z"
   },
   {
    "duration": 13,
    "start_time": "2024-05-16T17:33:15.651Z"
   },
   {
    "duration": 17,
    "start_time": "2024-05-16T17:33:15.665Z"
   },
   {
    "duration": 8,
    "start_time": "2024-05-16T17:33:15.684Z"
   },
   {
    "duration": 33,
    "start_time": "2024-05-16T17:33:15.693Z"
   },
   {
    "duration": 16,
    "start_time": "2024-05-16T17:33:15.727Z"
   },
   {
    "duration": 16,
    "start_time": "2024-05-16T17:33:15.744Z"
   },
   {
    "duration": 15,
    "start_time": "2024-05-16T17:33:15.761Z"
   },
   {
    "duration": 112,
    "start_time": "2024-05-16T17:33:15.777Z"
   },
   {
    "duration": 66,
    "start_time": "2024-05-16T17:33:15.891Z"
   },
   {
    "duration": 115,
    "start_time": "2024-05-16T17:33:15.960Z"
   },
   {
    "duration": 3,
    "start_time": "2024-05-16T17:33:16.076Z"
   },
   {
    "duration": 214,
    "start_time": "2024-05-16T17:33:16.080Z"
   },
   {
    "duration": 92,
    "start_time": "2024-05-16T17:33:16.302Z"
   },
   {
    "duration": 10,
    "start_time": "2024-05-16T17:33:16.396Z"
   },
   {
    "duration": 31,
    "start_time": "2024-05-16T17:33:16.407Z"
   },
   {
    "duration": 15,
    "start_time": "2024-05-16T17:33:16.439Z"
   },
   {
    "duration": 12,
    "start_time": "2024-05-16T17:33:16.455Z"
   },
   {
    "duration": 297,
    "start_time": "2024-05-16T17:33:16.469Z"
   },
   {
    "duration": 146,
    "start_time": "2024-05-16T17:33:16.767Z"
   },
   {
    "duration": 2,
    "start_time": "2024-05-16T17:33:16.915Z"
   },
   {
    "duration": 122,
    "start_time": "2024-05-16T17:33:16.919Z"
   },
   {
    "duration": 132,
    "start_time": "2024-05-16T17:33:17.043Z"
   },
   {
    "duration": 3,
    "start_time": "2024-05-16T17:33:17.176Z"
   },
   {
    "duration": 67,
    "start_time": "2024-05-16T17:33:17.181Z"
   },
   {
    "duration": 96,
    "start_time": "2024-05-16T17:33:17.249Z"
   },
   {
    "duration": 217,
    "start_time": "2024-05-16T17:33:17.346Z"
   },
   {
    "duration": 3,
    "start_time": "2024-05-16T17:33:17.565Z"
   },
   {
    "duration": 34,
    "start_time": "2024-05-16T17:33:17.569Z"
   },
   {
    "duration": 3,
    "start_time": "2024-05-16T17:33:17.605Z"
   },
   {
    "duration": 13,
    "start_time": "2024-05-16T17:33:17.609Z"
   },
   {
    "duration": 87,
    "start_time": "2024-05-16T17:33:17.624Z"
   },
   {
    "duration": 108,
    "start_time": "2024-05-16T17:33:47.115Z"
   },
   {
    "duration": 151,
    "start_time": "2024-05-16T17:34:00.326Z"
   },
   {
    "duration": 6,
    "start_time": "2024-05-16T17:35:39.755Z"
   },
   {
    "duration": 4,
    "start_time": "2024-05-16T17:43:17.509Z"
   },
   {
    "duration": 5,
    "start_time": "2024-05-16T17:43:22.167Z"
   },
   {
    "duration": 4,
    "start_time": "2024-05-16T17:44:40.115Z"
   },
   {
    "duration": 4,
    "start_time": "2024-05-16T17:44:49.319Z"
   },
   {
    "duration": 4,
    "start_time": "2024-05-16T17:45:00.658Z"
   },
   {
    "duration": 4,
    "start_time": "2024-05-16T17:45:04.391Z"
   },
   {
    "duration": 4,
    "start_time": "2024-05-16T17:45:07.454Z"
   },
   {
    "duration": 5,
    "start_time": "2024-05-16T17:45:27.835Z"
   },
   {
    "duration": 4,
    "start_time": "2024-05-16T17:45:39.527Z"
   },
   {
    "duration": 4,
    "start_time": "2024-05-16T17:46:51.696Z"
   },
   {
    "duration": 145,
    "start_time": "2024-05-16T17:48:27.723Z"
   },
   {
    "duration": 66969,
    "start_time": "2024-05-16T17:48:46.808Z"
   },
   {
    "duration": 844,
    "start_time": "2024-05-16T17:52:03.369Z"
   },
   {
    "duration": 853,
    "start_time": "2024-05-16T17:52:21.544Z"
   },
   {
    "duration": 67632,
    "start_time": "2024-05-16T17:53:24.335Z"
   },
   {
    "duration": 102,
    "start_time": "2024-05-16T17:56:09.960Z"
   },
   {
    "duration": 1132,
    "start_time": "2024-05-16T18:27:49.152Z"
   },
   {
    "duration": 105,
    "start_time": "2024-05-16T18:27:50.286Z"
   },
   {
    "duration": 14,
    "start_time": "2024-05-16T18:27:50.392Z"
   },
   {
    "duration": 25,
    "start_time": "2024-05-16T18:27:50.407Z"
   },
   {
    "duration": 221,
    "start_time": "2024-05-16T18:27:50.433Z"
   },
   {
    "duration": 9,
    "start_time": "2024-05-16T18:27:50.655Z"
   },
   {
    "duration": 18,
    "start_time": "2024-05-16T18:27:50.665Z"
   },
   {
    "duration": 301,
    "start_time": "2024-05-16T18:27:50.684Z"
   },
   {
    "duration": 6,
    "start_time": "2024-05-16T18:27:50.986Z"
   },
   {
    "duration": 35,
    "start_time": "2024-05-16T18:27:51.001Z"
   },
   {
    "duration": 9,
    "start_time": "2024-05-16T18:27:51.038Z"
   },
   {
    "duration": 7,
    "start_time": "2024-05-16T18:27:51.048Z"
   },
   {
    "duration": 20,
    "start_time": "2024-05-16T18:27:51.056Z"
   },
   {
    "duration": 20,
    "start_time": "2024-05-16T18:27:51.077Z"
   },
   {
    "duration": 25,
    "start_time": "2024-05-16T18:27:51.098Z"
   },
   {
    "duration": 16,
    "start_time": "2024-05-16T18:27:51.125Z"
   },
   {
    "duration": 9,
    "start_time": "2024-05-16T18:27:51.142Z"
   },
   {
    "duration": 31,
    "start_time": "2024-05-16T18:27:51.152Z"
   },
   {
    "duration": 31,
    "start_time": "2024-05-16T18:27:51.184Z"
   },
   {
    "duration": 6,
    "start_time": "2024-05-16T18:27:51.216Z"
   },
   {
    "duration": 16,
    "start_time": "2024-05-16T18:27:51.223Z"
   },
   {
    "duration": 14,
    "start_time": "2024-05-16T18:27:51.241Z"
   },
   {
    "duration": 13,
    "start_time": "2024-05-16T18:27:51.256Z"
   },
   {
    "duration": 14,
    "start_time": "2024-05-16T18:27:51.270Z"
   },
   {
    "duration": 18,
    "start_time": "2024-05-16T18:27:51.285Z"
   },
   {
    "duration": 110,
    "start_time": "2024-05-16T18:27:51.304Z"
   },
   {
    "duration": 64,
    "start_time": "2024-05-16T18:27:51.416Z"
   },
   {
    "duration": 123,
    "start_time": "2024-05-16T18:27:51.483Z"
   },
   {
    "duration": 3,
    "start_time": "2024-05-16T18:27:51.608Z"
   },
   {
    "duration": 254,
    "start_time": "2024-05-16T18:27:51.613Z"
   },
   {
    "duration": 114,
    "start_time": "2024-05-16T18:27:51.868Z"
   },
   {
    "duration": 7,
    "start_time": "2024-05-16T18:27:51.983Z"
   },
   {
    "duration": 28,
    "start_time": "2024-05-16T18:27:52.001Z"
   },
   {
    "duration": 15,
    "start_time": "2024-05-16T18:27:52.030Z"
   },
   {
    "duration": 19,
    "start_time": "2024-05-16T18:27:52.046Z"
   },
   {
    "duration": 314,
    "start_time": "2024-05-16T18:27:52.067Z"
   },
   {
    "duration": 135,
    "start_time": "2024-05-16T18:27:52.382Z"
   },
   {
    "duration": 2,
    "start_time": "2024-05-16T18:27:52.519Z"
   },
   {
    "duration": 119,
    "start_time": "2024-05-16T18:27:52.522Z"
   },
   {
    "duration": 132,
    "start_time": "2024-05-16T18:27:52.642Z"
   },
   {
    "duration": 2,
    "start_time": "2024-05-16T18:27:52.776Z"
   },
   {
    "duration": 49,
    "start_time": "2024-05-16T18:27:52.780Z"
   },
   {
    "duration": 106,
    "start_time": "2024-05-16T18:27:52.831Z"
   },
   {
    "duration": 220,
    "start_time": "2024-05-16T18:27:52.938Z"
   },
   {
    "duration": 4,
    "start_time": "2024-05-16T18:27:53.159Z"
   },
   {
    "duration": 8,
    "start_time": "2024-05-16T18:27:53.164Z"
   },
   {
    "duration": 43,
    "start_time": "2024-05-16T18:27:53.173Z"
   },
   {
    "duration": 18,
    "start_time": "2024-05-16T18:27:53.217Z"
   },
   {
    "duration": 961,
    "start_time": "2024-05-16T18:53:00.358Z"
   },
   {
    "duration": 82,
    "start_time": "2024-05-16T18:53:01.320Z"
   },
   {
    "duration": 12,
    "start_time": "2024-05-16T18:53:01.403Z"
   },
   {
    "duration": 36,
    "start_time": "2024-05-16T18:53:01.416Z"
   },
   {
    "duration": 283,
    "start_time": "2024-05-16T18:53:01.454Z"
   },
   {
    "duration": 8,
    "start_time": "2024-05-16T18:53:01.738Z"
   },
   {
    "duration": 42,
    "start_time": "2024-05-16T18:53:01.747Z"
   },
   {
    "duration": 335,
    "start_time": "2024-05-16T18:53:01.790Z"
   },
   {
    "duration": 6,
    "start_time": "2024-05-16T18:53:02.126Z"
   },
   {
    "duration": 15,
    "start_time": "2024-05-16T18:53:02.135Z"
   },
   {
    "duration": 31,
    "start_time": "2024-05-16T18:53:02.151Z"
   },
   {
    "duration": 32,
    "start_time": "2024-05-16T18:53:02.183Z"
   },
   {
    "duration": 29,
    "start_time": "2024-05-16T18:53:02.216Z"
   },
   {
    "duration": 17,
    "start_time": "2024-05-16T18:53:02.246Z"
   },
   {
    "duration": 12,
    "start_time": "2024-05-16T18:53:02.264Z"
   },
   {
    "duration": 16,
    "start_time": "2024-05-16T18:53:02.277Z"
   },
   {
    "duration": 35,
    "start_time": "2024-05-16T18:53:02.294Z"
   },
   {
    "duration": 4,
    "start_time": "2024-05-16T18:53:02.330Z"
   },
   {
    "duration": 6,
    "start_time": "2024-05-16T18:53:02.335Z"
   },
   {
    "duration": 3,
    "start_time": "2024-05-16T18:53:02.342Z"
   },
   {
    "duration": 12,
    "start_time": "2024-05-16T18:53:02.347Z"
   },
   {
    "duration": 22,
    "start_time": "2024-05-16T18:53:02.360Z"
   },
   {
    "duration": 8,
    "start_time": "2024-05-16T18:53:02.384Z"
   },
   {
    "duration": 40,
    "start_time": "2024-05-16T18:53:02.394Z"
   },
   {
    "duration": 19,
    "start_time": "2024-05-16T18:53:02.436Z"
   },
   {
    "duration": 134,
    "start_time": "2024-05-16T18:53:02.456Z"
   },
   {
    "duration": 68,
    "start_time": "2024-05-16T18:53:02.591Z"
   },
   {
    "duration": 115,
    "start_time": "2024-05-16T18:53:02.662Z"
   },
   {
    "duration": 3,
    "start_time": "2024-05-16T18:53:02.779Z"
   },
   {
    "duration": 240,
    "start_time": "2024-05-16T18:53:02.783Z"
   },
   {
    "duration": 105,
    "start_time": "2024-05-16T18:53:03.024Z"
   },
   {
    "duration": 6,
    "start_time": "2024-05-16T18:53:03.131Z"
   },
   {
    "duration": 78,
    "start_time": "2024-05-16T18:53:03.138Z"
   },
   {
    "duration": 15,
    "start_time": "2024-05-16T18:53:03.217Z"
   },
   {
    "duration": 12,
    "start_time": "2024-05-16T18:53:03.234Z"
   },
   {
    "duration": 285,
    "start_time": "2024-05-16T18:53:03.247Z"
   },
   {
    "duration": 130,
    "start_time": "2024-05-16T18:53:03.533Z"
   },
   {
    "duration": 2,
    "start_time": "2024-05-16T18:53:03.664Z"
   },
   {
    "duration": 124,
    "start_time": "2024-05-16T18:53:03.667Z"
   },
   {
    "duration": 124,
    "start_time": "2024-05-16T18:53:03.792Z"
   },
   {
    "duration": 3,
    "start_time": "2024-05-16T18:53:03.918Z"
   },
   {
    "duration": 43,
    "start_time": "2024-05-16T18:53:03.922Z"
   },
   {
    "duration": 104,
    "start_time": "2024-05-16T18:53:03.966Z"
   },
   {
    "duration": 236,
    "start_time": "2024-05-16T18:53:04.071Z"
   },
   {
    "duration": 4,
    "start_time": "2024-05-16T18:53:04.308Z"
   },
   {
    "duration": 16,
    "start_time": "2024-05-16T18:53:04.314Z"
   },
   {
    "duration": 5,
    "start_time": "2024-05-16T18:53:04.331Z"
   },
   {
    "duration": 12,
    "start_time": "2024-05-16T18:53:04.337Z"
   },
   {
    "duration": 910,
    "start_time": "2024-05-16T19:07:43.027Z"
   },
   {
    "duration": 98,
    "start_time": "2024-05-16T19:07:43.938Z"
   },
   {
    "duration": 11,
    "start_time": "2024-05-16T19:07:44.038Z"
   },
   {
    "duration": 18,
    "start_time": "2024-05-16T19:07:44.051Z"
   },
   {
    "duration": 232,
    "start_time": "2024-05-16T19:07:44.071Z"
   },
   {
    "duration": 8,
    "start_time": "2024-05-16T19:07:44.304Z"
   },
   {
    "duration": 9,
    "start_time": "2024-05-16T19:07:44.314Z"
   },
   {
    "duration": 271,
    "start_time": "2024-05-16T19:07:44.324Z"
   },
   {
    "duration": 9,
    "start_time": "2024-05-16T19:07:44.596Z"
   },
   {
    "duration": 13,
    "start_time": "2024-05-16T19:07:44.607Z"
   },
   {
    "duration": 6,
    "start_time": "2024-05-16T19:07:44.621Z"
   },
   {
    "duration": 17,
    "start_time": "2024-05-16T19:07:44.628Z"
   },
   {
    "duration": 10,
    "start_time": "2024-05-16T19:07:44.646Z"
   },
   {
    "duration": 8,
    "start_time": "2024-05-16T19:07:44.657Z"
   },
   {
    "duration": 12,
    "start_time": "2024-05-16T19:07:44.666Z"
   },
   {
    "duration": 11,
    "start_time": "2024-05-16T19:07:44.679Z"
   },
   {
    "duration": 12,
    "start_time": "2024-05-16T19:07:44.691Z"
   },
   {
    "duration": 5,
    "start_time": "2024-05-16T19:07:44.704Z"
   },
   {
    "duration": 8,
    "start_time": "2024-05-16T19:07:44.710Z"
   },
   {
    "duration": 7,
    "start_time": "2024-05-16T19:07:44.720Z"
   },
   {
    "duration": 9,
    "start_time": "2024-05-16T19:07:44.728Z"
   },
   {
    "duration": 7,
    "start_time": "2024-05-16T19:07:44.738Z"
   },
   {
    "duration": 6,
    "start_time": "2024-05-16T19:07:44.747Z"
   },
   {
    "duration": 4,
    "start_time": "2024-05-16T19:07:44.754Z"
   },
   {
    "duration": 6,
    "start_time": "2024-05-16T19:07:44.760Z"
   },
   {
    "duration": 140,
    "start_time": "2024-05-16T19:07:44.767Z"
   },
   {
    "duration": 64,
    "start_time": "2024-05-16T19:07:44.909Z"
   },
   {
    "duration": 130,
    "start_time": "2024-05-16T19:07:44.977Z"
   },
   {
    "duration": 3,
    "start_time": "2024-05-16T19:07:45.109Z"
   },
   {
    "duration": 241,
    "start_time": "2024-05-16T19:07:45.113Z"
   },
   {
    "duration": 108,
    "start_time": "2024-05-16T19:07:45.355Z"
   },
   {
    "duration": 6,
    "start_time": "2024-05-16T19:07:45.464Z"
   },
   {
    "duration": 39,
    "start_time": "2024-05-16T19:07:45.472Z"
   },
   {
    "duration": 15,
    "start_time": "2024-05-16T19:07:45.513Z"
   },
   {
    "duration": 303,
    "start_time": "2024-05-16T19:07:45.529Z"
   },
   {
    "duration": 130,
    "start_time": "2024-05-16T19:07:45.834Z"
   },
   {
    "duration": 2,
    "start_time": "2024-05-16T19:07:45.965Z"
   },
   {
    "duration": 19,
    "start_time": "2024-05-16T19:07:45.969Z"
   },
   {
    "duration": 118,
    "start_time": "2024-05-16T19:07:45.989Z"
   },
   {
    "duration": 131,
    "start_time": "2024-05-16T19:07:46.109Z"
   },
   {
    "duration": 3,
    "start_time": "2024-05-16T19:07:46.242Z"
   },
   {
    "duration": 40,
    "start_time": "2024-05-16T19:07:46.246Z"
   },
   {
    "duration": 116,
    "start_time": "2024-05-16T19:07:46.287Z"
   },
   {
    "duration": 221,
    "start_time": "2024-05-16T19:07:46.405Z"
   },
   {
    "duration": 4,
    "start_time": "2024-05-16T19:07:46.627Z"
   },
   {
    "duration": 7,
    "start_time": "2024-05-16T19:07:46.632Z"
   },
   {
    "duration": 17,
    "start_time": "2024-05-16T19:07:46.641Z"
   },
   {
    "duration": 11,
    "start_time": "2024-05-16T19:07:46.660Z"
   },
   {
    "duration": 910,
    "start_time": "2024-05-16T19:41:40.537Z"
   },
   {
    "duration": 77,
    "start_time": "2024-05-16T19:41:41.448Z"
   },
   {
    "duration": 10,
    "start_time": "2024-05-16T19:41:41.527Z"
   },
   {
    "duration": 8,
    "start_time": "2024-05-16T19:41:41.538Z"
   },
   {
    "duration": 223,
    "start_time": "2024-05-16T19:41:41.547Z"
   },
   {
    "duration": 8,
    "start_time": "2024-05-16T19:41:41.771Z"
   },
   {
    "duration": 18,
    "start_time": "2024-05-16T19:41:41.780Z"
   },
   {
    "duration": 263,
    "start_time": "2024-05-16T19:41:41.799Z"
   },
   {
    "duration": 5,
    "start_time": "2024-05-16T19:41:42.063Z"
   },
   {
    "duration": 13,
    "start_time": "2024-05-16T19:41:42.070Z"
   },
   {
    "duration": 10,
    "start_time": "2024-05-16T19:41:42.084Z"
   },
   {
    "duration": 8,
    "start_time": "2024-05-16T19:41:42.095Z"
   },
   {
    "duration": 36,
    "start_time": "2024-05-16T19:41:42.104Z"
   },
   {
    "duration": 15,
    "start_time": "2024-05-16T19:41:42.141Z"
   },
   {
    "duration": 15,
    "start_time": "2024-05-16T19:41:42.157Z"
   },
   {
    "duration": 4,
    "start_time": "2024-05-16T19:41:42.173Z"
   },
   {
    "duration": 15,
    "start_time": "2024-05-16T19:41:42.178Z"
   },
   {
    "duration": 4,
    "start_time": "2024-05-16T19:41:42.194Z"
   },
   {
    "duration": 9,
    "start_time": "2024-05-16T19:41:42.199Z"
   },
   {
    "duration": 10,
    "start_time": "2024-05-16T19:41:42.209Z"
   },
   {
    "duration": 17,
    "start_time": "2024-05-16T19:41:42.220Z"
   },
   {
    "duration": 8,
    "start_time": "2024-05-16T19:41:42.238Z"
   },
   {
    "duration": 4,
    "start_time": "2024-05-16T19:41:42.247Z"
   },
   {
    "duration": 12,
    "start_time": "2024-05-16T19:41:42.252Z"
   },
   {
    "duration": 8,
    "start_time": "2024-05-16T19:41:42.265Z"
   },
   {
    "duration": 116,
    "start_time": "2024-05-16T19:41:42.274Z"
   },
   {
    "duration": 72,
    "start_time": "2024-05-16T19:41:42.391Z"
   },
   {
    "duration": 122,
    "start_time": "2024-05-16T19:41:42.469Z"
   },
   {
    "duration": 9,
    "start_time": "2024-05-16T19:41:42.592Z"
   },
   {
    "duration": 211,
    "start_time": "2024-05-16T19:41:42.603Z"
   },
   {
    "duration": 108,
    "start_time": "2024-05-16T19:41:42.816Z"
   },
   {
    "duration": 7,
    "start_time": "2024-05-16T19:41:42.925Z"
   },
   {
    "duration": 25,
    "start_time": "2024-05-16T19:41:42.933Z"
   },
   {
    "duration": 15,
    "start_time": "2024-05-16T19:41:42.959Z"
   },
   {
    "duration": 287,
    "start_time": "2024-05-16T19:41:42.975Z"
   },
   {
    "duration": 137,
    "start_time": "2024-05-16T19:41:43.264Z"
   },
   {
    "duration": 2,
    "start_time": "2024-05-16T19:41:43.403Z"
   },
   {
    "duration": 63,
    "start_time": "2024-05-16T19:41:43.406Z"
   },
   {
    "duration": 109,
    "start_time": "2024-05-16T19:41:43.471Z"
   },
   {
    "duration": 134,
    "start_time": "2024-05-16T19:41:43.581Z"
   },
   {
    "duration": 3,
    "start_time": "2024-05-16T19:41:43.716Z"
   },
   {
    "duration": 63,
    "start_time": "2024-05-16T19:41:43.720Z"
   },
   {
    "duration": 96,
    "start_time": "2024-05-16T19:41:43.784Z"
   },
   {
    "duration": 4,
    "start_time": "2024-05-16T19:41:43.881Z"
   },
   {
    "duration": 241,
    "start_time": "2024-05-16T19:41:43.887Z"
   },
   {
    "duration": 4,
    "start_time": "2024-05-16T19:41:44.130Z"
   },
   {
    "duration": 29,
    "start_time": "2024-05-16T19:41:44.135Z"
   },
   {
    "duration": 41,
    "start_time": "2024-05-16T19:41:44.165Z"
   },
   {
    "duration": 46,
    "start_time": "2024-05-16T19:41:44.208Z"
   },
   {
    "duration": 83,
    "start_time": "2024-05-16T19:41:55.534Z"
   },
   {
    "duration": 627,
    "start_time": "2024-05-16T19:45:38.388Z"
   },
   {
    "duration": 263,
    "start_time": "2024-05-16T19:45:47.520Z"
   },
   {
    "duration": 260,
    "start_time": "2024-05-16T19:46:01.914Z"
   },
   {
    "duration": 278,
    "start_time": "2024-05-16T19:47:26.668Z"
   },
   {
    "duration": 7,
    "start_time": "2024-05-16T19:49:28.424Z"
   },
   {
    "duration": 10,
    "start_time": "2024-05-16T19:49:50.673Z"
   },
   {
    "duration": 164,
    "start_time": "2024-05-16T19:56:54.042Z"
   },
   {
    "duration": 406,
    "start_time": "2024-05-16T19:57:45.012Z"
   },
   {
    "duration": 1219,
    "start_time": "2024-05-16T19:57:55.448Z"
   },
   {
    "duration": 1233,
    "start_time": "2024-05-16T19:58:03.603Z"
   },
   {
    "duration": 1252,
    "start_time": "2024-05-16T19:59:22.626Z"
   },
   {
    "duration": 1288,
    "start_time": "2024-05-16T19:59:29.745Z"
   },
   {
    "duration": 1538,
    "start_time": "2024-05-16T20:08:28.187Z"
   },
   {
    "duration": 804,
    "start_time": "2024-05-16T20:08:46.405Z"
   },
   {
    "duration": 4,
    "start_time": "2024-05-16T20:10:33.043Z"
   },
   {
    "duration": 3,
    "start_time": "2024-05-16T20:10:43.071Z"
   },
   {
    "duration": 4,
    "start_time": "2024-05-16T20:12:52.829Z"
   },
   {
    "duration": 45,
    "start_time": "2024-05-16T20:25:49.807Z"
   },
   {
    "duration": 4,
    "start_time": "2024-05-16T20:30:30.413Z"
   },
   {
    "duration": 8,
    "start_time": "2024-05-16T20:35:05.294Z"
   },
   {
    "duration": 4,
    "start_time": "2024-05-16T20:44:55.397Z"
   },
   {
    "duration": 3,
    "start_time": "2024-05-16T20:45:33.170Z"
   },
   {
    "duration": 4,
    "start_time": "2024-05-16T20:45:39.757Z"
   },
   {
    "duration": 6,
    "start_time": "2024-05-16T20:47:09.362Z"
   },
   {
    "duration": 770,
    "start_time": "2024-05-16T20:47:13.374Z"
   },
   {
    "duration": 846,
    "start_time": "2024-05-16T20:48:05.408Z"
   },
   {
    "duration": 883,
    "start_time": "2024-05-16T20:48:17.774Z"
   },
   {
    "duration": 884,
    "start_time": "2024-05-16T20:48:24.783Z"
   },
   {
    "duration": 921,
    "start_time": "2024-05-16T20:48:33.450Z"
   },
   {
    "duration": 635,
    "start_time": "2024-05-16T20:48:52.131Z"
   },
   {
    "duration": 10,
    "start_time": "2024-05-16T20:49:27.800Z"
   },
   {
    "duration": 137,
    "start_time": "2024-05-16T20:53:05.025Z"
   },
   {
    "duration": 132,
    "start_time": "2024-05-16T20:53:15.995Z"
   },
   {
    "duration": 136,
    "start_time": "2024-05-16T20:53:20.483Z"
   },
   {
    "duration": 924,
    "start_time": "2024-05-16T20:53:28.227Z"
   },
   {
    "duration": 100,
    "start_time": "2024-05-16T20:53:29.153Z"
   },
   {
    "duration": 12,
    "start_time": "2024-05-16T20:53:29.254Z"
   },
   {
    "duration": 15,
    "start_time": "2024-05-16T20:53:29.267Z"
   },
   {
    "duration": 248,
    "start_time": "2024-05-16T20:53:29.283Z"
   },
   {
    "duration": 9,
    "start_time": "2024-05-16T20:53:29.532Z"
   },
   {
    "duration": 46,
    "start_time": "2024-05-16T20:53:29.542Z"
   },
   {
    "duration": 273,
    "start_time": "2024-05-16T20:53:29.590Z"
   },
   {
    "duration": 5,
    "start_time": "2024-05-16T20:53:29.865Z"
   },
   {
    "duration": 27,
    "start_time": "2024-05-16T20:53:29.873Z"
   },
   {
    "duration": 22,
    "start_time": "2024-05-16T20:53:29.901Z"
   },
   {
    "duration": 23,
    "start_time": "2024-05-16T20:53:29.924Z"
   },
   {
    "duration": 33,
    "start_time": "2024-05-16T20:53:29.948Z"
   },
   {
    "duration": 25,
    "start_time": "2024-05-16T20:53:29.982Z"
   },
   {
    "duration": 51,
    "start_time": "2024-05-16T20:53:30.008Z"
   },
   {
    "duration": 39,
    "start_time": "2024-05-16T20:53:30.060Z"
   },
   {
    "duration": 65,
    "start_time": "2024-05-16T20:53:30.101Z"
   },
   {
    "duration": 48,
    "start_time": "2024-05-16T20:53:30.168Z"
   },
   {
    "duration": 76,
    "start_time": "2024-05-16T20:53:30.217Z"
   },
   {
    "duration": 113,
    "start_time": "2024-05-16T20:53:30.295Z"
   },
   {
    "duration": 82,
    "start_time": "2024-05-16T20:53:30.409Z"
   },
   {
    "duration": 115,
    "start_time": "2024-05-16T20:53:30.493Z"
   },
   {
    "duration": 91,
    "start_time": "2024-05-16T20:53:30.609Z"
   },
   {
    "duration": 48,
    "start_time": "2024-05-16T20:53:30.701Z"
   },
   {
    "duration": 46,
    "start_time": "2024-05-16T20:53:30.750Z"
   },
   {
    "duration": 164,
    "start_time": "2024-05-16T20:53:30.798Z"
   },
   {
    "duration": 70,
    "start_time": "2024-05-16T20:53:30.964Z"
   },
   {
    "duration": 115,
    "start_time": "2024-05-16T20:53:31.037Z"
   },
   {
    "duration": 6,
    "start_time": "2024-05-16T20:53:31.154Z"
   },
   {
    "duration": 248,
    "start_time": "2024-05-16T20:53:31.161Z"
   },
   {
    "duration": 103,
    "start_time": "2024-05-16T20:53:31.411Z"
   },
   {
    "duration": 5,
    "start_time": "2024-05-16T20:53:31.516Z"
   },
   {
    "duration": 52,
    "start_time": "2024-05-16T20:53:31.522Z"
   },
   {
    "duration": 70,
    "start_time": "2024-05-16T20:53:31.575Z"
   },
   {
    "duration": 288,
    "start_time": "2024-05-16T20:53:31.646Z"
   },
   {
    "duration": 2,
    "start_time": "2024-05-16T20:53:31.935Z"
   },
   {
    "duration": 148,
    "start_time": "2024-05-16T20:53:31.938Z"
   },
   {
    "duration": 19,
    "start_time": "2024-05-16T20:53:32.087Z"
   },
   {
    "duration": 115,
    "start_time": "2024-05-16T20:53:32.108Z"
   },
   {
    "duration": 133,
    "start_time": "2024-05-16T20:53:32.224Z"
   },
   {
    "duration": 3,
    "start_time": "2024-05-16T20:53:32.358Z"
   },
   {
    "duration": 44,
    "start_time": "2024-05-16T20:53:32.362Z"
   },
   {
    "duration": 105,
    "start_time": "2024-05-16T20:53:32.407Z"
   },
   {
    "duration": 3,
    "start_time": "2024-05-16T20:53:32.513Z"
   },
   {
    "duration": 225,
    "start_time": "2024-05-16T20:53:32.517Z"
   },
   {
    "duration": 4,
    "start_time": "2024-05-16T20:53:32.744Z"
   },
   {
    "duration": 19,
    "start_time": "2024-05-16T20:53:32.749Z"
   },
   {
    "duration": 10,
    "start_time": "2024-05-16T20:53:32.769Z"
   },
   {
    "duration": 3,
    "start_time": "2024-05-16T20:53:32.781Z"
   },
   {
    "duration": 142,
    "start_time": "2024-05-16T20:54:15.053Z"
   },
   {
    "duration": 140,
    "start_time": "2024-05-16T20:54:25.769Z"
   },
   {
    "duration": 113,
    "start_time": "2024-05-16T20:57:14.853Z"
   },
   {
    "duration": 173,
    "start_time": "2024-05-16T20:59:09.616Z"
   },
   {
    "duration": 111,
    "start_time": "2024-05-16T20:59:31.013Z"
   },
   {
    "duration": 112,
    "start_time": "2024-05-16T20:59:39.924Z"
   },
   {
    "duration": 7,
    "start_time": "2024-05-16T20:59:53.295Z"
   },
   {
    "duration": 163,
    "start_time": "2024-05-16T21:01:04.524Z"
   },
   {
    "duration": 7,
    "start_time": "2024-05-16T21:01:22.198Z"
   },
   {
    "duration": 155,
    "start_time": "2024-05-16T21:01:24.737Z"
   },
   {
    "duration": 6,
    "start_time": "2024-05-16T21:01:36.239Z"
   },
   {
    "duration": 149,
    "start_time": "2024-05-16T21:26:40.277Z"
   },
   {
    "duration": 88,
    "start_time": "2024-05-16T21:27:30.035Z"
   },
   {
    "duration": 101,
    "start_time": "2024-05-16T21:27:40.477Z"
   },
   {
    "duration": 118,
    "start_time": "2024-05-16T21:27:59.864Z"
   },
   {
    "duration": 110,
    "start_time": "2024-05-16T21:28:13.300Z"
   },
   {
    "duration": 183,
    "start_time": "2024-05-16T21:28:38.372Z"
   },
   {
    "duration": 121,
    "start_time": "2024-05-16T21:29:08.931Z"
   },
   {
    "duration": 122,
    "start_time": "2024-05-16T21:29:14.649Z"
   },
   {
    "duration": 901,
    "start_time": "2024-05-16T21:34:21.361Z"
   },
   {
    "duration": 98,
    "start_time": "2024-05-16T21:34:22.264Z"
   },
   {
    "duration": 11,
    "start_time": "2024-05-16T21:34:22.363Z"
   },
   {
    "duration": 9,
    "start_time": "2024-05-16T21:34:22.375Z"
   },
   {
    "duration": 234,
    "start_time": "2024-05-16T21:34:22.385Z"
   },
   {
    "duration": 8,
    "start_time": "2024-05-16T21:34:22.621Z"
   },
   {
    "duration": 9,
    "start_time": "2024-05-16T21:34:22.630Z"
   },
   {
    "duration": 267,
    "start_time": "2024-05-16T21:34:22.640Z"
   },
   {
    "duration": 6,
    "start_time": "2024-05-16T21:34:22.908Z"
   },
   {
    "duration": 26,
    "start_time": "2024-05-16T21:34:22.916Z"
   },
   {
    "duration": 7,
    "start_time": "2024-05-16T21:34:22.943Z"
   },
   {
    "duration": 4,
    "start_time": "2024-05-16T21:34:22.952Z"
   },
   {
    "duration": 8,
    "start_time": "2024-05-16T21:34:22.958Z"
   },
   {
    "duration": 6,
    "start_time": "2024-05-16T21:34:22.968Z"
   },
   {
    "duration": 6,
    "start_time": "2024-05-16T21:34:22.975Z"
   },
   {
    "duration": 6,
    "start_time": "2024-05-16T21:34:22.982Z"
   },
   {
    "duration": 19,
    "start_time": "2024-05-16T21:34:22.989Z"
   },
   {
    "duration": 6,
    "start_time": "2024-05-16T21:34:23.009Z"
   },
   {
    "duration": 8,
    "start_time": "2024-05-16T21:34:23.016Z"
   },
   {
    "duration": 6,
    "start_time": "2024-05-16T21:34:23.025Z"
   },
   {
    "duration": 7,
    "start_time": "2024-05-16T21:34:23.033Z"
   },
   {
    "duration": 13,
    "start_time": "2024-05-16T21:34:23.041Z"
   },
   {
    "duration": 3,
    "start_time": "2024-05-16T21:34:23.055Z"
   },
   {
    "duration": 4,
    "start_time": "2024-05-16T21:34:23.059Z"
   },
   {
    "duration": 7,
    "start_time": "2024-05-16T21:34:23.064Z"
   },
   {
    "duration": 120,
    "start_time": "2024-05-16T21:34:23.072Z"
   },
   {
    "duration": 71,
    "start_time": "2024-05-16T21:34:23.194Z"
   },
   {
    "duration": 120,
    "start_time": "2024-05-16T21:34:23.268Z"
   },
   {
    "duration": 13,
    "start_time": "2024-05-16T21:34:23.389Z"
   },
   {
    "duration": 219,
    "start_time": "2024-05-16T21:34:23.403Z"
   },
   {
    "duration": 106,
    "start_time": "2024-05-16T21:34:23.624Z"
   },
   {
    "duration": 6,
    "start_time": "2024-05-16T21:34:23.731Z"
   },
   {
    "duration": 24,
    "start_time": "2024-05-16T21:34:23.738Z"
   },
   {
    "duration": 19,
    "start_time": "2024-05-16T21:34:23.763Z"
   },
   {
    "duration": 32,
    "start_time": "2024-05-16T21:34:23.783Z"
   },
   {
    "duration": 204,
    "start_time": "2024-05-16T21:34:23.817Z"
   },
   {
    "duration": 121,
    "start_time": "2024-05-16T21:34:24.023Z"
   },
   {
    "duration": 6,
    "start_time": "2024-05-16T21:34:24.145Z"
   },
   {
    "duration": 165,
    "start_time": "2024-05-16T21:34:24.153Z"
   },
   {
    "duration": 6,
    "start_time": "2024-05-16T21:34:24.320Z"
   },
   {
    "duration": 6,
    "start_time": "2024-05-16T21:34:24.327Z"
   },
   {
    "duration": 1,
    "start_time": "2024-05-16T21:34:24.334Z"
   },
   {
    "duration": 10,
    "start_time": "2024-05-16T21:34:24.336Z"
   },
   {
    "duration": 34,
    "start_time": "2024-05-16T21:34:24.347Z"
   },
   {
    "duration": 137,
    "start_time": "2024-05-16T21:34:24.383Z"
   },
   {
    "duration": 107,
    "start_time": "2024-05-16T21:34:24.521Z"
   },
   {
    "duration": 4,
    "start_time": "2024-05-16T21:34:24.630Z"
   },
   {
    "duration": 233,
    "start_time": "2024-05-16T21:34:24.635Z"
   },
   {
    "duration": 7,
    "start_time": "2024-05-16T21:34:24.870Z"
   },
   {
    "duration": 4,
    "start_time": "2024-05-16T21:34:24.878Z"
   },
   {
    "duration": 22,
    "start_time": "2024-05-16T21:34:24.884Z"
   },
   {
    "duration": 5,
    "start_time": "2024-05-16T21:34:24.907Z"
   },
   {
    "duration": 130,
    "start_time": "2024-05-16T21:36:10.003Z"
   },
   {
    "duration": 131,
    "start_time": "2024-05-16T21:36:25.685Z"
   },
   {
    "duration": 164,
    "start_time": "2024-05-16T21:36:31.200Z"
   },
   {
    "duration": 169,
    "start_time": "2024-05-16T21:36:42.671Z"
   },
   {
    "duration": 247,
    "start_time": "2024-05-16T21:37:01.224Z"
   },
   {
    "duration": 175,
    "start_time": "2024-05-16T21:37:06.657Z"
   },
   {
    "duration": 170,
    "start_time": "2024-05-16T21:37:12.444Z"
   },
   {
    "duration": 266,
    "start_time": "2024-05-16T21:37:35.595Z"
   },
   {
    "duration": 173,
    "start_time": "2024-05-16T21:37:40.464Z"
   },
   {
    "duration": 968,
    "start_time": "2024-05-16T22:46:28.913Z"
   },
   {
    "duration": 83,
    "start_time": "2024-05-16T22:46:29.883Z"
   },
   {
    "duration": 11,
    "start_time": "2024-05-16T22:46:29.967Z"
   },
   {
    "duration": 8,
    "start_time": "2024-05-16T22:46:29.980Z"
   },
   {
    "duration": 241,
    "start_time": "2024-05-16T22:46:29.990Z"
   },
   {
    "duration": 9,
    "start_time": "2024-05-16T22:46:30.233Z"
   },
   {
    "duration": 42,
    "start_time": "2024-05-16T22:46:30.243Z"
   },
   {
    "duration": 343,
    "start_time": "2024-05-16T22:46:30.287Z"
   },
   {
    "duration": 6,
    "start_time": "2024-05-16T22:46:30.632Z"
   },
   {
    "duration": 50,
    "start_time": "2024-05-16T22:46:30.639Z"
   },
   {
    "duration": 40,
    "start_time": "2024-05-16T22:46:30.690Z"
   },
   {
    "duration": 34,
    "start_time": "2024-05-16T22:46:30.732Z"
   },
   {
    "duration": 54,
    "start_time": "2024-05-16T22:46:30.767Z"
   },
   {
    "duration": 76,
    "start_time": "2024-05-16T22:46:30.823Z"
   },
   {
    "duration": 46,
    "start_time": "2024-05-16T22:46:30.901Z"
   },
   {
    "duration": 35,
    "start_time": "2024-05-16T22:46:30.948Z"
   },
   {
    "duration": 37,
    "start_time": "2024-05-16T22:46:30.984Z"
   },
   {
    "duration": 35,
    "start_time": "2024-05-16T22:46:31.023Z"
   },
   {
    "duration": 45,
    "start_time": "2024-05-16T22:46:31.060Z"
   },
   {
    "duration": 24,
    "start_time": "2024-05-16T22:46:31.107Z"
   },
   {
    "duration": 35,
    "start_time": "2024-05-16T22:46:31.132Z"
   },
   {
    "duration": 26,
    "start_time": "2024-05-16T22:46:31.169Z"
   },
   {
    "duration": 28,
    "start_time": "2024-05-16T22:46:31.196Z"
   },
   {
    "duration": 35,
    "start_time": "2024-05-16T22:46:31.226Z"
   },
   {
    "duration": 43,
    "start_time": "2024-05-16T22:46:31.262Z"
   },
   {
    "duration": 139,
    "start_time": "2024-05-16T22:46:31.307Z"
   },
   {
    "duration": 76,
    "start_time": "2024-05-16T22:46:31.447Z"
   },
   {
    "duration": 127,
    "start_time": "2024-05-16T22:46:31.526Z"
   },
   {
    "duration": 6,
    "start_time": "2024-05-16T22:46:31.655Z"
   },
   {
    "duration": 247,
    "start_time": "2024-05-16T22:46:31.662Z"
   },
   {
    "duration": 106,
    "start_time": "2024-05-16T22:46:31.911Z"
   },
   {
    "duration": 6,
    "start_time": "2024-05-16T22:46:32.019Z"
   },
   {
    "duration": 28,
    "start_time": "2024-05-16T22:46:32.026Z"
   },
   {
    "duration": 14,
    "start_time": "2024-05-16T22:46:32.055Z"
   },
   {
    "duration": 35,
    "start_time": "2024-05-16T22:46:32.070Z"
   },
   {
    "duration": 210,
    "start_time": "2024-05-16T22:46:32.106Z"
   },
   {
    "duration": 129,
    "start_time": "2024-05-16T22:46:32.318Z"
   },
   {
    "duration": 6,
    "start_time": "2024-05-16T22:46:32.448Z"
   },
   {
    "duration": 194,
    "start_time": "2024-05-16T22:46:32.455Z"
   },
   {
    "duration": 8,
    "start_time": "2024-05-16T22:46:32.651Z"
   },
   {
    "duration": 11,
    "start_time": "2024-05-16T22:46:32.660Z"
   },
   {
    "duration": 12,
    "start_time": "2024-05-16T22:46:32.673Z"
   },
   {
    "duration": 6,
    "start_time": "2024-05-16T22:46:32.686Z"
   },
   {
    "duration": 41,
    "start_time": "2024-05-16T22:46:32.702Z"
   },
   {
    "duration": 196,
    "start_time": "2024-05-16T22:46:32.744Z"
   },
   {
    "duration": 108,
    "start_time": "2024-05-16T22:46:32.941Z"
   },
   {
    "duration": 3,
    "start_time": "2024-05-16T22:46:33.051Z"
   },
   {
    "duration": 249,
    "start_time": "2024-05-16T22:46:33.055Z"
   },
   {
    "duration": 5,
    "start_time": "2024-05-16T22:46:33.306Z"
   },
   {
    "duration": 6,
    "start_time": "2024-05-16T22:46:33.312Z"
   },
   {
    "duration": 9,
    "start_time": "2024-05-16T22:46:33.319Z"
   },
   {
    "duration": 253,
    "start_time": "2024-05-16T22:50:20.825Z"
   },
   {
    "duration": 184,
    "start_time": "2024-05-16T22:50:29.698Z"
   },
   {
    "duration": 235,
    "start_time": "2024-05-16T22:50:57.224Z"
   },
   {
    "duration": 45,
    "start_time": "2024-05-16T22:51:19.662Z"
   },
   {
    "duration": 103,
    "start_time": "2024-05-16T22:51:25.973Z"
   },
   {
    "duration": 102,
    "start_time": "2024-05-16T22:51:47.481Z"
   },
   {
    "duration": 201,
    "start_time": "2024-05-16T22:51:55.129Z"
   },
   {
    "duration": 9,
    "start_time": "2024-05-16T22:52:18.682Z"
   },
   {
    "duration": 7,
    "start_time": "2024-05-16T22:52:39.174Z"
   },
   {
    "duration": 183,
    "start_time": "2024-05-16T22:53:04.645Z"
   },
   {
    "duration": 1016,
    "start_time": "2024-05-16T22:53:55.014Z"
   },
   {
    "duration": 1009,
    "start_time": "2024-05-16T22:54:28.281Z"
   },
   {
    "duration": 171,
    "start_time": "2024-05-16T22:54:59.814Z"
   },
   {
    "duration": 169,
    "start_time": "2024-05-16T22:55:19.413Z"
   },
   {
    "duration": 4,
    "start_time": "2024-05-16T22:55:47.151Z"
   },
   {
    "duration": 4,
    "start_time": "2024-05-16T22:55:59.429Z"
   },
   {
    "duration": 5,
    "start_time": "2024-05-16T22:56:11.963Z"
   },
   {
    "duration": 4,
    "start_time": "2024-05-16T22:56:19.208Z"
   },
   {
    "duration": 1069,
    "start_time": "2024-05-16T23:22:03.760Z"
   },
   {
    "duration": 258,
    "start_time": "2024-05-16T23:22:04.833Z"
   },
   {
    "duration": 11,
    "start_time": "2024-05-16T23:22:05.092Z"
   },
   {
    "duration": 23,
    "start_time": "2024-05-16T23:22:05.104Z"
   },
   {
    "duration": 235,
    "start_time": "2024-05-16T23:22:05.128Z"
   },
   {
    "duration": 8,
    "start_time": "2024-05-16T23:22:05.364Z"
   },
   {
    "duration": 21,
    "start_time": "2024-05-16T23:22:05.373Z"
   },
   {
    "duration": 256,
    "start_time": "2024-05-16T23:22:05.395Z"
   },
   {
    "duration": 6,
    "start_time": "2024-05-16T23:22:05.652Z"
   },
   {
    "duration": 10,
    "start_time": "2024-05-16T23:22:05.659Z"
   },
   {
    "duration": 11,
    "start_time": "2024-05-16T23:22:05.670Z"
   },
   {
    "duration": 15,
    "start_time": "2024-05-16T23:22:05.683Z"
   },
   {
    "duration": 14,
    "start_time": "2024-05-16T23:22:05.699Z"
   },
   {
    "duration": 9,
    "start_time": "2024-05-16T23:22:05.714Z"
   },
   {
    "duration": 6,
    "start_time": "2024-05-16T23:22:05.724Z"
   },
   {
    "duration": 10,
    "start_time": "2024-05-16T23:22:05.731Z"
   },
   {
    "duration": 11,
    "start_time": "2024-05-16T23:22:05.742Z"
   },
   {
    "duration": 11,
    "start_time": "2024-05-16T23:22:05.754Z"
   },
   {
    "duration": 13,
    "start_time": "2024-05-16T23:22:05.766Z"
   },
   {
    "duration": 4,
    "start_time": "2024-05-16T23:22:05.780Z"
   },
   {
    "duration": 11,
    "start_time": "2024-05-16T23:22:05.785Z"
   },
   {
    "duration": 9,
    "start_time": "2024-05-16T23:22:05.797Z"
   },
   {
    "duration": 16,
    "start_time": "2024-05-16T23:22:05.807Z"
   },
   {
    "duration": 22,
    "start_time": "2024-05-16T23:22:05.824Z"
   },
   {
    "duration": 9,
    "start_time": "2024-05-16T23:22:05.847Z"
   },
   {
    "duration": 111,
    "start_time": "2024-05-16T23:22:05.857Z"
   },
   {
    "duration": 69,
    "start_time": "2024-05-16T23:22:05.970Z"
   },
   {
    "duration": 116,
    "start_time": "2024-05-16T23:22:06.042Z"
   },
   {
    "duration": 7,
    "start_time": "2024-05-16T23:22:06.159Z"
   },
   {
    "duration": 235,
    "start_time": "2024-05-16T23:22:06.167Z"
   },
   {
    "duration": 102,
    "start_time": "2024-05-16T23:22:06.403Z"
   },
   {
    "duration": 6,
    "start_time": "2024-05-16T23:22:06.506Z"
   },
   {
    "duration": 101,
    "start_time": "2024-05-16T23:22:06.513Z"
   },
   {
    "duration": 53,
    "start_time": "2024-05-16T23:22:06.615Z"
   },
   {
    "duration": 55,
    "start_time": "2024-05-16T23:22:06.670Z"
   },
   {
    "duration": 193,
    "start_time": "2024-05-16T23:22:06.727Z"
   },
   {
    "duration": 117,
    "start_time": "2024-05-16T23:22:06.921Z"
   },
   {
    "duration": 6,
    "start_time": "2024-05-16T23:22:07.039Z"
   },
   {
    "duration": 171,
    "start_time": "2024-05-16T23:22:07.046Z"
   },
   {
    "duration": 7,
    "start_time": "2024-05-16T23:22:07.218Z"
   },
   {
    "duration": 13,
    "start_time": "2024-05-16T23:22:07.226Z"
   },
   {
    "duration": 16,
    "start_time": "2024-05-16T23:22:07.240Z"
   },
   {
    "duration": 18,
    "start_time": "2024-05-16T23:22:07.257Z"
   },
   {
    "duration": 42,
    "start_time": "2024-05-16T23:22:07.276Z"
   },
   {
    "duration": 4,
    "start_time": "2024-05-16T23:22:07.319Z"
   },
   {
    "duration": 182,
    "start_time": "2024-05-16T23:22:07.324Z"
   },
   {
    "duration": 110,
    "start_time": "2024-05-16T23:22:07.507Z"
   },
   {
    "duration": 4,
    "start_time": "2024-05-16T23:22:07.618Z"
   },
   {
    "duration": 239,
    "start_time": "2024-05-16T23:22:07.623Z"
   },
   {
    "duration": 5,
    "start_time": "2024-05-16T23:22:07.863Z"
   },
   {
    "duration": 36,
    "start_time": "2024-05-16T23:22:07.869Z"
   },
   {
    "duration": 7,
    "start_time": "2024-05-16T23:22:07.906Z"
   },
   {
    "duration": 1137,
    "start_time": "2024-05-17T09:10:09.590Z"
   },
   {
    "duration": 359,
    "start_time": "2024-05-17T09:10:10.729Z"
   },
   {
    "duration": 12,
    "start_time": "2024-05-17T09:10:11.091Z"
   },
   {
    "duration": 9,
    "start_time": "2024-05-17T09:10:11.105Z"
   },
   {
    "duration": 249,
    "start_time": "2024-05-17T09:10:11.115Z"
   },
   {
    "duration": 9,
    "start_time": "2024-05-17T09:10:11.365Z"
   },
   {
    "duration": 17,
    "start_time": "2024-05-17T09:10:11.375Z"
   },
   {
    "duration": 279,
    "start_time": "2024-05-17T09:10:11.393Z"
   },
   {
    "duration": 11,
    "start_time": "2024-05-17T09:10:11.674Z"
   },
   {
    "duration": 13,
    "start_time": "2024-05-17T09:10:11.686Z"
   },
   {
    "duration": 8,
    "start_time": "2024-05-17T09:10:11.701Z"
   },
   {
    "duration": 15,
    "start_time": "2024-05-17T09:10:11.710Z"
   },
   {
    "duration": 7,
    "start_time": "2024-05-17T09:10:11.727Z"
   },
   {
    "duration": 8,
    "start_time": "2024-05-17T09:10:11.735Z"
   },
   {
    "duration": 13,
    "start_time": "2024-05-17T09:10:11.744Z"
   },
   {
    "duration": 4,
    "start_time": "2024-05-17T09:10:11.759Z"
   },
   {
    "duration": 4,
    "start_time": "2024-05-17T09:10:11.765Z"
   },
   {
    "duration": 3,
    "start_time": "2024-05-17T09:10:11.771Z"
   },
   {
    "duration": 5,
    "start_time": "2024-05-17T09:10:11.784Z"
   },
   {
    "duration": 8,
    "start_time": "2024-05-17T09:10:11.790Z"
   },
   {
    "duration": 5,
    "start_time": "2024-05-17T09:10:11.799Z"
   },
   {
    "duration": 7,
    "start_time": "2024-05-17T09:10:11.805Z"
   },
   {
    "duration": 9,
    "start_time": "2024-05-17T09:10:11.813Z"
   },
   {
    "duration": 4,
    "start_time": "2024-05-17T09:10:11.823Z"
   },
   {
    "duration": 6,
    "start_time": "2024-05-17T09:10:11.828Z"
   },
   {
    "duration": 128,
    "start_time": "2024-05-17T09:10:11.835Z"
   },
   {
    "duration": 88,
    "start_time": "2024-05-17T09:10:11.966Z"
   },
   {
    "duration": 131,
    "start_time": "2024-05-17T09:10:12.055Z"
   },
   {
    "duration": 7,
    "start_time": "2024-05-17T09:10:12.188Z"
   },
   {
    "duration": 237,
    "start_time": "2024-05-17T09:10:12.197Z"
   },
   {
    "duration": 110,
    "start_time": "2024-05-17T09:10:12.436Z"
   },
   {
    "duration": 7,
    "start_time": "2024-05-17T09:10:12.547Z"
   },
   {
    "duration": 42,
    "start_time": "2024-05-17T09:10:12.555Z"
   },
   {
    "duration": 15,
    "start_time": "2024-05-17T09:10:12.599Z"
   },
   {
    "duration": 150,
    "start_time": "2024-05-17T09:10:12.615Z"
   },
   {
    "duration": 203,
    "start_time": "2024-05-17T09:10:12.767Z"
   },
   {
    "duration": 123,
    "start_time": "2024-05-17T09:10:12.971Z"
   },
   {
    "duration": 6,
    "start_time": "2024-05-17T09:10:13.096Z"
   },
   {
    "duration": 176,
    "start_time": "2024-05-17T09:10:13.103Z"
   },
   {
    "duration": 9,
    "start_time": "2024-05-17T09:10:13.280Z"
   },
   {
    "duration": 6,
    "start_time": "2024-05-17T09:10:13.290Z"
   },
   {
    "duration": 9,
    "start_time": "2024-05-17T09:10:13.298Z"
   },
   {
    "duration": 19,
    "start_time": "2024-05-17T09:10:13.309Z"
   },
   {
    "duration": 43,
    "start_time": "2024-05-17T09:10:13.329Z"
   },
   {
    "duration": 3,
    "start_time": "2024-05-17T09:10:13.374Z"
   },
   {
    "duration": 195,
    "start_time": "2024-05-17T09:10:13.378Z"
   },
   {
    "duration": 114,
    "start_time": "2024-05-17T09:10:13.575Z"
   },
   {
    "duration": 3,
    "start_time": "2024-05-17T09:10:13.691Z"
   },
   {
    "duration": 259,
    "start_time": "2024-05-17T09:10:13.696Z"
   },
   {
    "duration": 5,
    "start_time": "2024-05-17T09:10:13.957Z"
   },
   {
    "duration": 25,
    "start_time": "2024-05-17T09:10:13.963Z"
   },
   {
    "duration": 21,
    "start_time": "2024-05-17T09:10:13.990Z"
   },
   {
    "duration": 7,
    "start_time": "2024-05-17T09:41:48.007Z"
   },
   {
    "duration": 999,
    "start_time": "2024-05-17T09:45:12.966Z"
   },
   {
    "duration": 76,
    "start_time": "2024-05-17T09:45:13.967Z"
   },
   {
    "duration": 12,
    "start_time": "2024-05-17T09:45:14.044Z"
   },
   {
    "duration": 43,
    "start_time": "2024-05-17T09:45:14.057Z"
   },
   {
    "duration": 290,
    "start_time": "2024-05-17T09:45:14.103Z"
   },
   {
    "duration": 10,
    "start_time": "2024-05-17T09:45:14.394Z"
   },
   {
    "duration": 58,
    "start_time": "2024-05-17T09:45:14.405Z"
   },
   {
    "duration": 393,
    "start_time": "2024-05-17T09:45:14.465Z"
   },
   {
    "duration": 6,
    "start_time": "2024-05-17T09:45:14.860Z"
   },
   {
    "duration": 59,
    "start_time": "2024-05-17T09:45:14.867Z"
   },
   {
    "duration": 42,
    "start_time": "2024-05-17T09:45:14.927Z"
   },
   {
    "duration": 51,
    "start_time": "2024-05-17T09:45:14.970Z"
   },
   {
    "duration": 47,
    "start_time": "2024-05-17T09:45:15.022Z"
   },
   {
    "duration": 147,
    "start_time": "2024-05-17T09:45:15.071Z"
   },
   {
    "duration": 41,
    "start_time": "2024-05-17T09:45:15.219Z"
   },
   {
    "duration": 73,
    "start_time": "2024-05-17T09:45:15.261Z"
   },
   {
    "duration": 79,
    "start_time": "2024-05-17T09:45:15.335Z"
   },
   {
    "duration": 12,
    "start_time": "2024-05-17T09:45:15.415Z"
   },
   {
    "duration": 56,
    "start_time": "2024-05-17T09:45:15.428Z"
   },
   {
    "duration": 33,
    "start_time": "2024-05-17T09:45:15.486Z"
   },
   {
    "duration": 48,
    "start_time": "2024-05-17T09:45:15.520Z"
   },
   {
    "duration": 65,
    "start_time": "2024-05-17T09:45:15.569Z"
   },
   {
    "duration": 43,
    "start_time": "2024-05-17T09:45:15.635Z"
   },
   {
    "duration": 41,
    "start_time": "2024-05-17T09:45:15.679Z"
   },
   {
    "duration": 57,
    "start_time": "2024-05-17T09:45:15.722Z"
   },
   {
    "duration": 154,
    "start_time": "2024-05-17T09:45:15.780Z"
   },
   {
    "duration": 78,
    "start_time": "2024-05-17T09:45:15.936Z"
   },
   {
    "duration": 126,
    "start_time": "2024-05-17T09:45:16.016Z"
   },
   {
    "duration": 6,
    "start_time": "2024-05-17T09:45:16.144Z"
   },
   {
    "duration": 258,
    "start_time": "2024-05-17T09:45:16.152Z"
   },
   {
    "duration": 148,
    "start_time": "2024-05-17T09:45:16.412Z"
   },
   {
    "duration": 7,
    "start_time": "2024-05-17T09:45:16.561Z"
   },
   {
    "duration": 44,
    "start_time": "2024-05-17T09:45:16.569Z"
   },
   {
    "duration": 29,
    "start_time": "2024-05-17T09:45:16.614Z"
   },
   {
    "duration": 88,
    "start_time": "2024-05-17T09:45:16.645Z"
   },
   {
    "duration": 298,
    "start_time": "2024-05-17T09:45:16.735Z"
   },
   {
    "duration": 124,
    "start_time": "2024-05-17T09:45:17.035Z"
   },
   {
    "duration": 7,
    "start_time": "2024-05-17T09:45:17.161Z"
   },
   {
    "duration": 185,
    "start_time": "2024-05-17T09:45:17.170Z"
   },
   {
    "duration": 7,
    "start_time": "2024-05-17T09:45:17.356Z"
   },
   {
    "duration": 34,
    "start_time": "2024-05-17T09:45:17.367Z"
   },
   {
    "duration": 24,
    "start_time": "2024-05-17T09:45:17.402Z"
   },
   {
    "duration": 42,
    "start_time": "2024-05-17T09:45:17.428Z"
   },
   {
    "duration": 100,
    "start_time": "2024-05-17T09:45:17.472Z"
   },
   {
    "duration": 31,
    "start_time": "2024-05-17T09:45:17.574Z"
   },
   {
    "duration": 259,
    "start_time": "2024-05-17T09:45:17.607Z"
   },
   {
    "duration": 107,
    "start_time": "2024-05-17T09:45:17.867Z"
   },
   {
    "duration": 11,
    "start_time": "2024-05-17T09:45:17.975Z"
   },
   {
    "duration": 233,
    "start_time": "2024-05-17T09:45:17.987Z"
   },
   {
    "duration": 5,
    "start_time": "2024-05-17T09:45:18.221Z"
   },
   {
    "duration": 26,
    "start_time": "2024-05-17T09:45:18.227Z"
   },
   {
    "duration": 19,
    "start_time": "2024-05-17T09:45:18.254Z"
   },
   {
    "duration": 956,
    "start_time": "2024-05-17T09:46:20.603Z"
   },
   {
    "duration": 89,
    "start_time": "2024-05-17T09:46:21.561Z"
   },
   {
    "duration": 12,
    "start_time": "2024-05-17T09:46:21.651Z"
   },
   {
    "duration": 13,
    "start_time": "2024-05-17T09:46:21.665Z"
   },
   {
    "duration": 240,
    "start_time": "2024-05-17T09:46:21.681Z"
   },
   {
    "duration": 8,
    "start_time": "2024-05-17T09:46:21.922Z"
   },
   {
    "duration": 11,
    "start_time": "2024-05-17T09:46:21.932Z"
   },
   {
    "duration": 304,
    "start_time": "2024-05-17T09:46:21.945Z"
   },
   {
    "duration": 6,
    "start_time": "2024-05-17T09:46:22.251Z"
   },
   {
    "duration": 9,
    "start_time": "2024-05-17T09:46:22.258Z"
   },
   {
    "duration": 17,
    "start_time": "2024-05-17T09:46:22.268Z"
   },
   {
    "duration": 5,
    "start_time": "2024-05-17T09:46:22.287Z"
   },
   {
    "duration": 15,
    "start_time": "2024-05-17T09:46:22.293Z"
   },
   {
    "duration": 80,
    "start_time": "2024-05-17T09:46:22.310Z"
   },
   {
    "duration": 5,
    "start_time": "2024-05-17T09:46:22.391Z"
   },
   {
    "duration": 16,
    "start_time": "2024-05-17T09:46:22.397Z"
   },
   {
    "duration": 6,
    "start_time": "2024-05-17T09:46:22.414Z"
   },
   {
    "duration": 5,
    "start_time": "2024-05-17T09:46:22.421Z"
   },
   {
    "duration": 4,
    "start_time": "2024-05-17T09:46:22.427Z"
   },
   {
    "duration": 3,
    "start_time": "2024-05-17T09:46:22.432Z"
   },
   {
    "duration": 4,
    "start_time": "2024-05-17T09:46:22.436Z"
   },
   {
    "duration": 7,
    "start_time": "2024-05-17T09:46:22.441Z"
   },
   {
    "duration": 4,
    "start_time": "2024-05-17T09:46:22.449Z"
   },
   {
    "duration": 4,
    "start_time": "2024-05-17T09:46:22.454Z"
   },
   {
    "duration": 76,
    "start_time": "2024-05-17T09:46:22.459Z"
   },
   {
    "duration": 119,
    "start_time": "2024-05-17T09:46:22.536Z"
   },
   {
    "duration": 86,
    "start_time": "2024-05-17T09:46:22.664Z"
   },
   {
    "duration": 131,
    "start_time": "2024-05-17T09:46:22.751Z"
   },
   {
    "duration": 7,
    "start_time": "2024-05-17T09:46:22.883Z"
   },
   {
    "duration": 239,
    "start_time": "2024-05-17T09:46:22.891Z"
   },
   {
    "duration": 112,
    "start_time": "2024-05-17T09:46:23.132Z"
   },
   {
    "duration": 7,
    "start_time": "2024-05-17T09:46:23.246Z"
   },
   {
    "duration": 45,
    "start_time": "2024-05-17T09:46:23.255Z"
   },
   {
    "duration": 16,
    "start_time": "2024-05-17T09:46:23.302Z"
   },
   {
    "duration": 16,
    "start_time": "2024-05-17T09:46:23.320Z"
   },
   {
    "duration": 235,
    "start_time": "2024-05-17T09:46:23.338Z"
   },
   {
    "duration": 137,
    "start_time": "2024-05-17T09:46:23.575Z"
   },
   {
    "duration": 7,
    "start_time": "2024-05-17T09:46:23.714Z"
   },
   {
    "duration": 191,
    "start_time": "2024-05-17T09:46:23.722Z"
   },
   {
    "duration": 7,
    "start_time": "2024-05-17T09:46:23.914Z"
   },
   {
    "duration": 12,
    "start_time": "2024-05-17T09:46:23.924Z"
   },
   {
    "duration": 4,
    "start_time": "2024-05-17T09:46:23.938Z"
   },
   {
    "duration": 4,
    "start_time": "2024-05-17T09:46:23.943Z"
   },
   {
    "duration": 64,
    "start_time": "2024-05-17T09:46:23.948Z"
   },
   {
    "duration": 4,
    "start_time": "2024-05-17T09:46:24.013Z"
   },
   {
    "duration": 213,
    "start_time": "2024-05-17T09:46:24.018Z"
   },
   {
    "duration": 119,
    "start_time": "2024-05-17T09:46:24.232Z"
   },
   {
    "duration": 4,
    "start_time": "2024-05-17T09:46:24.352Z"
   },
   {
    "duration": 277,
    "start_time": "2024-05-17T09:46:24.358Z"
   },
   {
    "duration": 4,
    "start_time": "2024-05-17T09:46:24.636Z"
   },
   {
    "duration": 11,
    "start_time": "2024-05-17T09:46:24.642Z"
   },
   {
    "duration": 195,
    "start_time": "2024-05-17T09:46:24.655Z"
   },
   {
    "duration": 1340,
    "start_time": "2024-05-17T13:54:10.422Z"
   },
   {
    "duration": 363,
    "start_time": "2024-05-17T13:54:11.765Z"
   },
   {
    "duration": 15,
    "start_time": "2024-05-17T13:54:12.129Z"
   },
   {
    "duration": 12,
    "start_time": "2024-05-17T13:54:12.146Z"
   },
   {
    "duration": 342,
    "start_time": "2024-05-17T13:54:12.160Z"
   },
   {
    "duration": 11,
    "start_time": "2024-05-17T13:54:12.503Z"
   },
   {
    "duration": 96,
    "start_time": "2024-05-17T13:54:12.515Z"
   },
   {
    "duration": 411,
    "start_time": "2024-05-17T13:54:12.612Z"
   },
   {
    "duration": 10,
    "start_time": "2024-05-17T13:54:13.025Z"
   },
   {
    "duration": 26,
    "start_time": "2024-05-17T13:54:13.037Z"
   },
   {
    "duration": 13,
    "start_time": "2024-05-17T13:54:13.065Z"
   },
   {
    "duration": 28,
    "start_time": "2024-05-17T13:54:13.080Z"
   },
   {
    "duration": 9,
    "start_time": "2024-05-17T13:54:13.110Z"
   },
   {
    "duration": 11,
    "start_time": "2024-05-17T13:54:13.122Z"
   },
   {
    "duration": 15,
    "start_time": "2024-05-17T13:54:13.135Z"
   },
   {
    "duration": 7,
    "start_time": "2024-05-17T13:54:13.152Z"
   },
   {
    "duration": 9,
    "start_time": "2024-05-17T13:54:13.160Z"
   },
   {
    "duration": 4,
    "start_time": "2024-05-17T13:54:13.171Z"
   },
   {
    "duration": 15,
    "start_time": "2024-05-17T13:54:13.177Z"
   },
   {
    "duration": 22,
    "start_time": "2024-05-17T13:54:13.194Z"
   },
   {
    "duration": 26,
    "start_time": "2024-05-17T13:54:13.218Z"
   },
   {
    "duration": 15,
    "start_time": "2024-05-17T13:54:13.246Z"
   },
   {
    "duration": 13,
    "start_time": "2024-05-17T13:54:13.263Z"
   },
   {
    "duration": 76,
    "start_time": "2024-05-17T13:54:13.277Z"
   },
   {
    "duration": 12,
    "start_time": "2024-05-17T13:54:13.354Z"
   },
   {
    "duration": 142,
    "start_time": "2024-05-17T13:54:13.368Z"
   },
   {
    "duration": 103,
    "start_time": "2024-05-17T13:54:13.511Z"
   },
   {
    "duration": 157,
    "start_time": "2024-05-17T13:54:13.616Z"
   },
   {
    "duration": 8,
    "start_time": "2024-05-17T13:54:13.775Z"
   },
   {
    "duration": 302,
    "start_time": "2024-05-17T13:54:13.784Z"
   },
   {
    "duration": 136,
    "start_time": "2024-05-17T13:54:14.088Z"
   },
   {
    "duration": 7,
    "start_time": "2024-05-17T13:54:14.225Z"
   },
   {
    "duration": 45,
    "start_time": "2024-05-17T13:54:14.234Z"
   },
   {
    "duration": 71,
    "start_time": "2024-05-17T13:54:14.280Z"
   },
   {
    "duration": 19,
    "start_time": "2024-05-17T13:54:14.352Z"
   },
   {
    "duration": 276,
    "start_time": "2024-05-17T13:54:14.373Z"
   },
   {
    "duration": 162,
    "start_time": "2024-05-17T13:54:14.650Z"
   },
   {
    "duration": 7,
    "start_time": "2024-05-17T13:54:14.814Z"
   },
   {
    "duration": 230,
    "start_time": "2024-05-17T13:54:14.823Z"
   },
   {
    "duration": 9,
    "start_time": "2024-05-17T13:54:15.059Z"
   },
   {
    "duration": 36,
    "start_time": "2024-05-17T13:54:15.072Z"
   },
   {
    "duration": 53,
    "start_time": "2024-05-17T13:54:15.109Z"
   },
   {
    "duration": 22,
    "start_time": "2024-05-17T13:54:15.164Z"
   },
   {
    "duration": 80,
    "start_time": "2024-05-17T13:54:15.188Z"
   },
   {
    "duration": 4,
    "start_time": "2024-05-17T13:54:15.270Z"
   },
   {
    "duration": 346,
    "start_time": "2024-05-17T13:54:15.276Z"
   },
   {
    "duration": 148,
    "start_time": "2024-05-17T13:54:15.623Z"
   },
   {
    "duration": 5,
    "start_time": "2024-05-17T13:54:15.773Z"
   },
   {
    "duration": 309,
    "start_time": "2024-05-17T13:54:15.779Z"
   },
   {
    "duration": 8,
    "start_time": "2024-05-17T13:54:16.089Z"
   },
   {
    "duration": 16,
    "start_time": "2024-05-17T13:54:16.099Z"
   },
   {
    "duration": 23,
    "start_time": "2024-05-17T13:54:16.117Z"
   },
   {
    "duration": 110,
    "start_time": "2024-05-17T14:01:01.226Z"
   },
   {
    "duration": 10,
    "start_time": "2024-05-17T14:01:32.335Z"
   },
   {
    "duration": 6,
    "start_time": "2024-05-17T14:01:44.436Z"
   },
   {
    "duration": 153,
    "start_time": "2024-05-17T14:11:54.673Z"
   },
   {
    "duration": 134,
    "start_time": "2024-05-17T14:12:18.079Z"
   },
   {
    "duration": 138,
    "start_time": "2024-05-17T14:12:23.237Z"
   },
   {
    "duration": 145,
    "start_time": "2024-05-17T14:12:29.428Z"
   },
   {
    "duration": 250,
    "start_time": "2024-05-17T14:13:14.677Z"
   },
   {
    "duration": 16,
    "start_time": "2024-05-17T14:15:05.953Z"
   },
   {
    "duration": 10,
    "start_time": "2024-05-17T14:15:42.405Z"
   },
   {
    "duration": 196,
    "start_time": "2024-05-17T14:15:49.754Z"
   },
   {
    "duration": 13,
    "start_time": "2024-05-17T14:16:36.711Z"
   },
   {
    "duration": 19,
    "start_time": "2024-05-17T14:17:11.548Z"
   },
   {
    "duration": 156,
    "start_time": "2024-05-17T14:17:25.284Z"
   },
   {
    "duration": 156,
    "start_time": "2024-05-17T14:17:35.177Z"
   },
   {
    "duration": 1243,
    "start_time": "2024-05-17T19:31:34.445Z"
   },
   {
    "duration": 359,
    "start_time": "2024-05-17T19:31:35.689Z"
   },
   {
    "duration": 13,
    "start_time": "2024-05-17T19:31:36.050Z"
   },
   {
    "duration": 20,
    "start_time": "2024-05-17T19:31:36.065Z"
   },
   {
    "duration": 249,
    "start_time": "2024-05-17T19:31:36.087Z"
   },
   {
    "duration": 10,
    "start_time": "2024-05-17T19:31:36.338Z"
   },
   {
    "duration": 74,
    "start_time": "2024-05-17T19:31:36.349Z"
   },
   {
    "duration": 331,
    "start_time": "2024-05-17T19:31:36.425Z"
   },
   {
    "duration": 7,
    "start_time": "2024-05-17T19:31:36.757Z"
   },
   {
    "duration": 15,
    "start_time": "2024-05-17T19:31:36.766Z"
   },
   {
    "duration": 11,
    "start_time": "2024-05-17T19:31:36.783Z"
   },
   {
    "duration": 10,
    "start_time": "2024-05-17T19:31:36.795Z"
   },
   {
    "duration": 7,
    "start_time": "2024-05-17T19:31:36.807Z"
   },
   {
    "duration": 12,
    "start_time": "2024-05-17T19:31:36.816Z"
   },
   {
    "duration": 16,
    "start_time": "2024-05-17T19:31:36.829Z"
   },
   {
    "duration": 12,
    "start_time": "2024-05-17T19:31:36.847Z"
   },
   {
    "duration": 14,
    "start_time": "2024-05-17T19:31:36.860Z"
   },
   {
    "duration": 11,
    "start_time": "2024-05-17T19:31:36.875Z"
   },
   {
    "duration": 6,
    "start_time": "2024-05-17T19:31:36.887Z"
   },
   {
    "duration": 6,
    "start_time": "2024-05-17T19:31:36.894Z"
   },
   {
    "duration": 105,
    "start_time": "2024-05-17T19:31:36.902Z"
   },
   {
    "duration": 12,
    "start_time": "2024-05-17T19:31:37.009Z"
   },
   {
    "duration": 10,
    "start_time": "2024-05-17T19:31:37.022Z"
   },
   {
    "duration": 4,
    "start_time": "2024-05-17T19:31:37.033Z"
   },
   {
    "duration": 9,
    "start_time": "2024-05-17T19:31:37.038Z"
   },
   {
    "duration": 18,
    "start_time": "2024-05-17T19:31:37.049Z"
   },
   {
    "duration": 153,
    "start_time": "2024-05-17T19:31:37.069Z"
   },
   {
    "duration": 79,
    "start_time": "2024-05-17T19:31:37.225Z"
   },
   {
    "duration": 142,
    "start_time": "2024-05-17T19:31:37.305Z"
   },
   {
    "duration": 7,
    "start_time": "2024-05-17T19:31:37.448Z"
   },
   {
    "duration": 278,
    "start_time": "2024-05-17T19:31:37.457Z"
   },
   {
    "duration": 122,
    "start_time": "2024-05-17T19:31:37.737Z"
   },
   {
    "duration": 6,
    "start_time": "2024-05-17T19:31:37.860Z"
   },
   {
    "duration": 44,
    "start_time": "2024-05-17T19:31:37.868Z"
   },
   {
    "duration": 18,
    "start_time": "2024-05-17T19:31:37.913Z"
   },
   {
    "duration": 27,
    "start_time": "2024-05-17T19:31:37.933Z"
   },
   {
    "duration": 264,
    "start_time": "2024-05-17T19:31:37.961Z"
   },
   {
    "duration": 148,
    "start_time": "2024-05-17T19:31:38.227Z"
   },
   {
    "duration": 7,
    "start_time": "2024-05-17T19:31:38.376Z"
   },
   {
    "duration": 211,
    "start_time": "2024-05-17T19:31:38.394Z"
   },
   {
    "duration": 8,
    "start_time": "2024-05-17T19:31:38.607Z"
   },
   {
    "duration": 125,
    "start_time": "2024-05-17T19:31:38.617Z"
   },
   {
    "duration": 16,
    "start_time": "2024-05-17T19:31:38.743Z"
   },
   {
    "duration": 14,
    "start_time": "2024-05-17T19:31:38.761Z"
   },
   {
    "duration": 50,
    "start_time": "2024-05-17T19:31:38.777Z"
   },
   {
    "duration": 3,
    "start_time": "2024-05-17T19:31:38.829Z"
   },
   {
    "duration": 272,
    "start_time": "2024-05-17T19:31:38.834Z"
   },
   {
    "duration": 120,
    "start_time": "2024-05-17T19:31:39.108Z"
   },
   {
    "duration": 4,
    "start_time": "2024-05-17T19:31:39.230Z"
   },
   {
    "duration": 336,
    "start_time": "2024-05-17T19:31:39.235Z"
   },
   {
    "duration": 5,
    "start_time": "2024-05-17T19:31:39.572Z"
   },
   {
    "duration": 39,
    "start_time": "2024-05-17T19:31:39.578Z"
   },
   {
    "duration": 58,
    "start_time": "2024-05-17T19:31:39.619Z"
   },
   {
    "duration": 1334,
    "start_time": "2024-05-17T22:07:48.941Z"
   },
   {
    "duration": 382,
    "start_time": "2024-05-17T22:07:50.277Z"
   },
   {
    "duration": 15,
    "start_time": "2024-05-17T22:07:50.661Z"
   },
   {
    "duration": 15,
    "start_time": "2024-05-17T22:07:50.678Z"
   },
   {
    "duration": 349,
    "start_time": "2024-05-17T22:07:50.694Z"
   },
   {
    "duration": 11,
    "start_time": "2024-05-17T22:07:51.044Z"
   },
   {
    "duration": 36,
    "start_time": "2024-05-17T22:07:51.056Z"
   },
   {
    "duration": 374,
    "start_time": "2024-05-17T22:07:51.095Z"
   },
   {
    "duration": 10,
    "start_time": "2024-05-17T22:07:51.471Z"
   },
   {
    "duration": 18,
    "start_time": "2024-05-17T22:07:51.485Z"
   },
   {
    "duration": 13,
    "start_time": "2024-05-17T22:07:51.505Z"
   },
   {
    "duration": 9,
    "start_time": "2024-05-17T22:07:51.520Z"
   },
   {
    "duration": 7,
    "start_time": "2024-05-17T22:07:51.530Z"
   },
   {
    "duration": 54,
    "start_time": "2024-05-17T22:07:51.539Z"
   },
   {
    "duration": 29,
    "start_time": "2024-05-17T22:07:51.595Z"
   },
   {
    "duration": 12,
    "start_time": "2024-05-17T22:07:51.626Z"
   },
   {
    "duration": 139,
    "start_time": "2024-05-17T22:07:51.640Z"
   },
   {
    "duration": 111,
    "start_time": "2024-05-17T22:07:51.781Z"
   },
   {
    "duration": 9,
    "start_time": "2024-05-17T22:07:51.895Z"
   },
   {
    "duration": 16,
    "start_time": "2024-05-17T22:07:51.906Z"
   },
   {
    "duration": 17,
    "start_time": "2024-05-17T22:07:51.924Z"
   },
   {
    "duration": 36,
    "start_time": "2024-05-17T22:07:51.943Z"
   },
   {
    "duration": 29,
    "start_time": "2024-05-17T22:07:51.981Z"
   },
   {
    "duration": 12,
    "start_time": "2024-05-17T22:07:52.012Z"
   },
   {
    "duration": 16,
    "start_time": "2024-05-17T22:07:52.025Z"
   },
   {
    "duration": 41,
    "start_time": "2024-05-17T22:07:52.042Z"
   },
   {
    "duration": 210,
    "start_time": "2024-05-17T22:07:52.085Z"
   },
   {
    "duration": 106,
    "start_time": "2024-05-17T22:07:52.301Z"
   },
   {
    "duration": 174,
    "start_time": "2024-05-17T22:07:52.409Z"
   },
   {
    "duration": 10,
    "start_time": "2024-05-17T22:07:52.585Z"
   },
   {
    "duration": 343,
    "start_time": "2024-05-17T22:07:52.596Z"
   },
   {
    "duration": 148,
    "start_time": "2024-05-17T22:07:52.941Z"
   },
   {
    "duration": 9,
    "start_time": "2024-05-17T22:07:53.091Z"
   },
   {
    "duration": 45,
    "start_time": "2024-05-17T22:07:53.102Z"
   },
   {
    "duration": 28,
    "start_time": "2024-05-17T22:07:53.148Z"
   },
   {
    "duration": 18,
    "start_time": "2024-05-17T22:07:53.178Z"
   },
   {
    "duration": 338,
    "start_time": "2024-05-17T22:07:53.198Z"
   },
   {
    "duration": 175,
    "start_time": "2024-05-17T22:07:53.538Z"
   },
   {
    "duration": 8,
    "start_time": "2024-05-17T22:07:53.714Z"
   },
   {
    "duration": 364,
    "start_time": "2024-05-17T22:07:53.723Z"
   },
   {
    "duration": 11,
    "start_time": "2024-05-17T22:07:54.089Z"
   },
   {
    "duration": 32,
    "start_time": "2024-05-17T22:07:54.102Z"
   },
   {
    "duration": 63,
    "start_time": "2024-05-17T22:07:54.136Z"
   },
   {
    "duration": 23,
    "start_time": "2024-05-17T22:07:54.201Z"
   },
   {
    "duration": 55,
    "start_time": "2024-05-17T22:07:54.225Z"
   },
   {
    "duration": 5,
    "start_time": "2024-05-17T22:07:54.282Z"
   },
   {
    "duration": 278,
    "start_time": "2024-05-17T22:07:54.289Z"
   },
   {
    "duration": 142,
    "start_time": "2024-05-17T22:07:54.573Z"
   },
   {
    "duration": 6,
    "start_time": "2024-05-17T22:07:54.717Z"
   },
   {
    "duration": 399,
    "start_time": "2024-05-17T22:07:54.724Z"
   },
   {
    "duration": 6,
    "start_time": "2024-05-17T22:07:55.125Z"
   },
   {
    "duration": 56,
    "start_time": "2024-05-17T22:07:55.133Z"
   },
   {
    "duration": 15,
    "start_time": "2024-05-17T22:07:55.191Z"
   },
   {
    "duration": 62,
    "start_time": "2024-05-17T22:25:46.701Z"
   },
   {
    "duration": 186,
    "start_time": "2024-05-17T22:43:04.010Z"
   },
   {
    "duration": 158,
    "start_time": "2024-05-17T22:45:44.220Z"
   },
   {
    "duration": 149,
    "start_time": "2024-05-17T22:46:02.996Z"
   },
   {
    "duration": 223,
    "start_time": "2024-05-17T22:46:07.652Z"
   },
   {
    "duration": 254,
    "start_time": "2024-05-17T22:46:12.345Z"
   },
   {
    "duration": 155,
    "start_time": "2024-05-17T22:47:02.984Z"
   },
   {
    "duration": 169,
    "start_time": "2024-05-17T22:47:44.821Z"
   },
   {
    "duration": 150,
    "start_time": "2024-05-17T22:47:55.091Z"
   },
   {
    "duration": 146,
    "start_time": "2024-05-17T22:47:59.209Z"
   },
   {
    "duration": 156,
    "start_time": "2024-05-17T22:48:20.705Z"
   },
   {
    "duration": 69,
    "start_time": "2024-05-17T22:48:25.702Z"
   },
   {
    "duration": 154,
    "start_time": "2024-05-17T22:48:35.394Z"
   },
   {
    "duration": 153,
    "start_time": "2024-05-17T22:48:56.310Z"
   },
   {
    "duration": 75,
    "start_time": "2024-05-17T22:49:04.068Z"
   },
   {
    "duration": 69,
    "start_time": "2024-05-17T22:49:10.562Z"
   },
   {
    "duration": 69,
    "start_time": "2024-05-17T22:49:14.355Z"
   },
   {
    "duration": 158,
    "start_time": "2024-05-17T22:49:20.417Z"
   },
   {
    "duration": 170,
    "start_time": "2024-05-17T22:49:31.139Z"
   },
   {
    "duration": 165,
    "start_time": "2024-05-17T22:50:34.066Z"
   },
   {
    "duration": 143,
    "start_time": "2024-05-17T22:50:52.370Z"
   },
   {
    "duration": 273,
    "start_time": "2024-05-17T22:51:01.968Z"
   },
   {
    "duration": 170,
    "start_time": "2024-05-17T22:51:17.387Z"
   },
   {
    "duration": 65,
    "start_time": "2024-05-17T22:51:46.704Z"
   },
   {
    "duration": 289,
    "start_time": "2024-05-17T22:52:00.838Z"
   },
   {
    "duration": 151,
    "start_time": "2024-05-17T22:55:47.891Z"
   },
   {
    "duration": 65,
    "start_time": "2024-05-17T22:56:11.498Z"
   },
   {
    "duration": 156,
    "start_time": "2024-05-17T22:56:22.360Z"
   },
   {
    "duration": 165,
    "start_time": "2024-05-17T22:58:42.232Z"
   },
   {
    "duration": 176,
    "start_time": "2024-05-17T22:59:51.629Z"
   },
   {
    "duration": 199,
    "start_time": "2024-05-17T23:00:16.932Z"
   },
   {
    "duration": 165,
    "start_time": "2024-05-17T23:01:48.267Z"
   },
   {
    "duration": 159,
    "start_time": "2024-05-17T23:02:07.806Z"
   },
   {
    "duration": 157,
    "start_time": "2024-05-17T23:02:14.655Z"
   },
   {
    "duration": 167,
    "start_time": "2024-05-17T23:02:40.633Z"
   },
   {
    "duration": 163,
    "start_time": "2024-05-17T23:02:46.469Z"
   },
   {
    "duration": 182,
    "start_time": "2024-05-17T23:02:53.229Z"
   },
   {
    "duration": 132,
    "start_time": "2024-05-17T23:03:21.782Z"
   },
   {
    "duration": 194,
    "start_time": "2024-05-17T23:03:27.286Z"
   },
   {
    "duration": 93,
    "start_time": "2024-05-17T23:09:32.747Z"
   },
   {
    "duration": 104,
    "start_time": "2024-05-17T23:10:17.887Z"
   },
   {
    "duration": 101,
    "start_time": "2024-05-17T23:11:00.385Z"
   },
   {
    "duration": 103,
    "start_time": "2024-05-17T23:11:14.421Z"
   },
   {
    "duration": 234,
    "start_time": "2024-05-17T23:11:36.277Z"
   },
   {
    "duration": 96,
    "start_time": "2024-05-17T23:12:03.081Z"
   },
   {
    "duration": 151,
    "start_time": "2024-05-17T23:15:30.902Z"
   },
   {
    "duration": 70,
    "start_time": "2024-05-17T23:17:15.577Z"
   },
   {
    "duration": 157,
    "start_time": "2024-05-17T23:17:43.051Z"
   },
   {
    "duration": 147,
    "start_time": "2024-05-17T23:17:55.603Z"
   },
   {
    "duration": 149,
    "start_time": "2024-05-17T23:18:02.849Z"
   },
   {
    "duration": 161,
    "start_time": "2024-05-17T23:18:09.955Z"
   },
   {
    "duration": 166,
    "start_time": "2024-05-17T23:18:26.419Z"
   },
   {
    "duration": 173,
    "start_time": "2024-05-17T23:18:40.955Z"
   },
   {
    "duration": 285,
    "start_time": "2024-05-17T23:20:27.169Z"
   },
   {
    "duration": 288,
    "start_time": "2024-05-17T23:21:03.536Z"
   },
   {
    "duration": 305,
    "start_time": "2024-05-17T23:22:08.143Z"
   },
   {
    "duration": 177,
    "start_time": "2024-05-17T23:22:34.908Z"
   },
   {
    "duration": 167,
    "start_time": "2024-05-17T23:22:43.637Z"
   },
   {
    "duration": 471,
    "start_time": "2024-05-17T23:23:49.132Z"
   },
   {
    "duration": 173,
    "start_time": "2024-05-17T23:24:06.509Z"
   },
   {
    "duration": 160,
    "start_time": "2024-05-17T23:24:15.524Z"
   },
   {
    "duration": 1136,
    "start_time": "2024-05-17T23:24:24.769Z"
   },
   {
    "duration": 129,
    "start_time": "2024-05-17T23:24:25.908Z"
   },
   {
    "duration": 14,
    "start_time": "2024-05-17T23:24:26.039Z"
   },
   {
    "duration": 30,
    "start_time": "2024-05-17T23:24:26.055Z"
   },
   {
    "duration": 341,
    "start_time": "2024-05-17T23:24:26.086Z"
   },
   {
    "duration": 11,
    "start_time": "2024-05-17T23:24:26.429Z"
   },
   {
    "duration": 80,
    "start_time": "2024-05-17T23:24:26.442Z"
   },
   {
    "duration": 369,
    "start_time": "2024-05-17T23:24:26.524Z"
   },
   {
    "duration": 7,
    "start_time": "2024-05-17T23:24:26.895Z"
   },
   {
    "duration": 14,
    "start_time": "2024-05-17T23:24:26.905Z"
   },
   {
    "duration": 105,
    "start_time": "2024-05-17T23:24:26.921Z"
   },
   {
    "duration": 35,
    "start_time": "2024-05-17T23:24:27.028Z"
   },
   {
    "duration": 20,
    "start_time": "2024-05-17T23:24:27.064Z"
   },
   {
    "duration": 21,
    "start_time": "2024-05-17T23:24:27.085Z"
   },
   {
    "duration": 11,
    "start_time": "2024-05-17T23:24:27.109Z"
   },
   {
    "duration": 158,
    "start_time": "2024-05-17T23:24:27.122Z"
   },
   {
    "duration": 8,
    "start_time": "2024-05-17T23:24:27.282Z"
   },
   {
    "duration": 7,
    "start_time": "2024-05-17T23:24:27.292Z"
   },
   {
    "duration": 5,
    "start_time": "2024-05-17T23:24:27.300Z"
   },
   {
    "duration": 11,
    "start_time": "2024-05-17T23:24:27.307Z"
   },
   {
    "duration": 5,
    "start_time": "2024-05-17T23:24:27.320Z"
   },
   {
    "duration": 6,
    "start_time": "2024-05-17T23:24:27.327Z"
   },
   {
    "duration": 14,
    "start_time": "2024-05-17T23:24:27.335Z"
   },
   {
    "duration": 15,
    "start_time": "2024-05-17T23:24:27.374Z"
   },
   {
    "duration": 5,
    "start_time": "2024-05-17T23:24:27.391Z"
   },
   {
    "duration": 188,
    "start_time": "2024-05-17T23:24:27.398Z"
   },
   {
    "duration": 104,
    "start_time": "2024-05-17T23:24:27.588Z"
   },
   {
    "duration": 178,
    "start_time": "2024-05-17T23:24:27.695Z"
   },
   {
    "duration": 8,
    "start_time": "2024-05-17T23:24:27.875Z"
   },
   {
    "duration": 271,
    "start_time": "2024-05-17T23:24:27.885Z"
   },
   {
    "duration": 144,
    "start_time": "2024-05-17T23:24:28.158Z"
   },
   {
    "duration": 8,
    "start_time": "2024-05-17T23:24:28.304Z"
   },
   {
    "duration": 53,
    "start_time": "2024-05-17T23:24:28.313Z"
   },
   {
    "duration": 20,
    "start_time": "2024-05-17T23:24:28.368Z"
   },
   {
    "duration": 16,
    "start_time": "2024-05-17T23:24:28.390Z"
   },
   {
    "duration": 265,
    "start_time": "2024-05-17T23:24:28.408Z"
   },
   {
    "duration": 239,
    "start_time": "2024-05-17T23:24:28.674Z"
   },
   {
    "duration": 11,
    "start_time": "2024-05-17T23:24:28.915Z"
   },
   {
    "duration": 245,
    "start_time": "2024-05-17T23:24:28.928Z"
   },
   {
    "duration": 9,
    "start_time": "2024-05-17T23:24:29.175Z"
   },
   {
    "duration": 127,
    "start_time": "2024-05-17T23:24:29.186Z"
   },
   {
    "duration": 3,
    "start_time": "2024-05-17T23:24:29.315Z"
   },
   {
    "duration": 14,
    "start_time": "2024-05-17T23:24:29.319Z"
   },
   {
    "duration": 55,
    "start_time": "2024-05-17T23:24:29.334Z"
   },
   {
    "duration": 4,
    "start_time": "2024-05-17T23:24:29.391Z"
   },
   {
    "duration": 253,
    "start_time": "2024-05-17T23:24:29.397Z"
   },
   {
    "duration": 131,
    "start_time": "2024-05-17T23:24:29.652Z"
   },
   {
    "duration": 4,
    "start_time": "2024-05-17T23:24:29.785Z"
   },
   {
    "duration": 318,
    "start_time": "2024-05-17T23:24:29.790Z"
   },
   {
    "duration": 5,
    "start_time": "2024-05-17T23:24:30.110Z"
   },
   {
    "duration": 204,
    "start_time": "2024-05-17T23:24:30.117Z"
   },
   {
    "duration": 160,
    "start_time": "2024-05-17T23:24:30.323Z"
   },
   {
    "duration": 185,
    "start_time": "2024-05-17T23:24:58.033Z"
   },
   {
    "duration": 316,
    "start_time": "2024-05-17T23:25:18.405Z"
   },
   {
    "duration": 118,
    "start_time": "2024-05-17T23:27:33.933Z"
   },
   {
    "duration": 11,
    "start_time": "2024-05-17T23:28:01.021Z"
   },
   {
    "duration": 10,
    "start_time": "2024-05-17T23:28:39.237Z"
   },
   {
    "duration": 142,
    "start_time": "2024-05-17T23:30:52.124Z"
   },
   {
    "duration": 223,
    "start_time": "2024-05-17T23:32:03.011Z"
   },
   {
    "duration": 145,
    "start_time": "2024-05-17T23:32:14.527Z"
   },
   {
    "duration": 140,
    "start_time": "2024-05-17T23:32:25.998Z"
   },
   {
    "duration": 159,
    "start_time": "2024-05-17T23:33:27.335Z"
   },
   {
    "duration": 158,
    "start_time": "2024-05-17T23:33:37.205Z"
   },
   {
    "duration": 172,
    "start_time": "2024-05-17T23:33:44.959Z"
   },
   {
    "duration": 357,
    "start_time": "2024-05-17T23:35:18.540Z"
   },
   {
    "duration": 9,
    "start_time": "2024-05-17T23:42:36.336Z"
   },
   {
    "duration": 14,
    "start_time": "2024-05-17T23:42:53.025Z"
   },
   {
    "duration": 1319,
    "start_time": "2024-05-18T21:09:24.149Z"
   },
   {
    "duration": 349,
    "start_time": "2024-05-18T21:09:25.470Z"
   },
   {
    "duration": 15,
    "start_time": "2024-05-18T21:09:25.820Z"
   },
   {
    "duration": 12,
    "start_time": "2024-05-18T21:09:25.837Z"
   },
   {
    "duration": 299,
    "start_time": "2024-05-18T21:09:25.850Z"
   },
   {
    "duration": 10,
    "start_time": "2024-05-18T21:09:26.151Z"
   },
   {
    "duration": 77,
    "start_time": "2024-05-18T21:09:26.163Z"
   },
   {
    "duration": 336,
    "start_time": "2024-05-18T21:09:26.242Z"
   },
   {
    "duration": 7,
    "start_time": "2024-05-18T21:09:26.580Z"
   },
   {
    "duration": 23,
    "start_time": "2024-05-18T21:09:26.589Z"
   },
   {
    "duration": 18,
    "start_time": "2024-05-18T21:09:26.614Z"
   },
   {
    "duration": 90,
    "start_time": "2024-05-18T21:09:26.633Z"
   },
   {
    "duration": 19,
    "start_time": "2024-05-18T21:09:26.724Z"
   },
   {
    "duration": 11,
    "start_time": "2024-05-18T21:09:26.745Z"
   },
   {
    "duration": 14,
    "start_time": "2024-05-18T21:09:26.758Z"
   },
   {
    "duration": 17,
    "start_time": "2024-05-18T21:09:26.773Z"
   },
   {
    "duration": 6,
    "start_time": "2024-05-18T21:09:26.792Z"
   },
   {
    "duration": 10,
    "start_time": "2024-05-18T21:09:26.799Z"
   },
   {
    "duration": 6,
    "start_time": "2024-05-18T21:09:26.811Z"
   },
   {
    "duration": 14,
    "start_time": "2024-05-18T21:09:26.819Z"
   },
   {
    "duration": 65,
    "start_time": "2024-05-18T21:09:26.834Z"
   },
   {
    "duration": 22,
    "start_time": "2024-05-18T21:09:26.901Z"
   },
   {
    "duration": 9,
    "start_time": "2024-05-18T21:09:26.925Z"
   },
   {
    "duration": 6,
    "start_time": "2024-05-18T21:09:26.936Z"
   },
   {
    "duration": 66,
    "start_time": "2024-05-18T21:09:26.943Z"
   },
   {
    "duration": 170,
    "start_time": "2024-05-18T21:09:27.011Z"
   },
   {
    "duration": 103,
    "start_time": "2024-05-18T21:09:27.183Z"
   },
   {
    "duration": 161,
    "start_time": "2024-05-18T21:09:27.291Z"
   },
   {
    "duration": 8,
    "start_time": "2024-05-18T21:09:27.453Z"
   },
   {
    "duration": 308,
    "start_time": "2024-05-18T21:09:27.462Z"
   },
   {
    "duration": 15,
    "start_time": "2024-05-18T21:09:27.771Z"
   },
   {
    "duration": 145,
    "start_time": "2024-05-18T21:09:27.787Z"
   },
   {
    "duration": 8,
    "start_time": "2024-05-18T21:09:27.933Z"
   },
   {
    "duration": 49,
    "start_time": "2024-05-18T21:09:27.944Z"
   },
   {
    "duration": 11,
    "start_time": "2024-05-18T21:09:27.994Z"
   },
   {
    "duration": 19,
    "start_time": "2024-05-18T21:09:28.007Z"
   },
   {
    "duration": 21,
    "start_time": "2024-05-18T21:09:28.028Z"
   },
   {
    "duration": 116,
    "start_time": "2024-05-18T21:09:28.051Z"
   },
   {
    "duration": 259,
    "start_time": "2024-05-18T21:09:28.169Z"
   },
   {
    "duration": 162,
    "start_time": "2024-05-18T21:09:28.429Z"
   },
   {
    "duration": 7,
    "start_time": "2024-05-18T21:09:28.593Z"
   },
   {
    "duration": 225,
    "start_time": "2024-05-18T21:09:28.602Z"
   },
   {
    "duration": 8,
    "start_time": "2024-05-18T21:09:28.829Z"
   },
   {
    "duration": 63,
    "start_time": "2024-05-18T21:09:28.839Z"
   },
   {
    "duration": 4,
    "start_time": "2024-05-18T21:09:28.904Z"
   },
   {
    "duration": 8,
    "start_time": "2024-05-18T21:09:28.909Z"
   },
   {
    "duration": 45,
    "start_time": "2024-05-18T21:09:28.918Z"
   },
   {
    "duration": 5,
    "start_time": "2024-05-18T21:09:28.964Z"
   },
   {
    "duration": 257,
    "start_time": "2024-05-18T21:09:28.970Z"
   },
   {
    "duration": 125,
    "start_time": "2024-05-18T21:09:29.229Z"
   },
   {
    "duration": 4,
    "start_time": "2024-05-18T21:09:29.355Z"
   },
   {
    "duration": 299,
    "start_time": "2024-05-18T21:09:29.360Z"
   },
   {
    "duration": 6,
    "start_time": "2024-05-18T21:09:29.660Z"
   },
   {
    "duration": 15,
    "start_time": "2024-05-18T21:09:29.667Z"
   },
   {
    "duration": 18,
    "start_time": "2024-05-18T21:09:29.684Z"
   },
   {
    "duration": 209,
    "start_time": "2024-05-18T21:11:08.153Z"
   },
   {
    "duration": 185,
    "start_time": "2024-05-18T21:11:28.749Z"
   },
   {
    "duration": 282,
    "start_time": "2024-05-18T21:12:18.840Z"
   },
   {
    "duration": 262,
    "start_time": "2024-05-18T21:12:32.976Z"
   },
   {
    "duration": 292,
    "start_time": "2024-05-18T21:12:42.810Z"
   },
   {
    "duration": 200,
    "start_time": "2024-05-18T21:12:57.510Z"
   },
   {
    "duration": 194,
    "start_time": "2024-05-18T21:13:33.672Z"
   },
   {
    "duration": 206,
    "start_time": "2024-05-18T21:15:54.010Z"
   },
   {
    "duration": 259,
    "start_time": "2024-05-18T21:17:57.473Z"
   },
   {
    "duration": 156,
    "start_time": "2024-05-18T21:18:34.883Z"
   },
   {
    "duration": 193,
    "start_time": "2024-05-18T21:19:09.028Z"
   },
   {
    "duration": 187,
    "start_time": "2024-05-18T21:20:21.389Z"
   },
   {
    "duration": 189,
    "start_time": "2024-05-18T21:20:52.152Z"
   },
   {
    "duration": 191,
    "start_time": "2024-05-18T21:21:30.659Z"
   },
   {
    "duration": 224,
    "start_time": "2024-05-18T21:21:35.792Z"
   },
   {
    "duration": 282,
    "start_time": "2024-05-18T21:21:55.529Z"
   },
   {
    "duration": 203,
    "start_time": "2024-05-18T21:22:08.386Z"
   },
   {
    "duration": 196,
    "start_time": "2024-05-18T21:24:19.084Z"
   },
   {
    "duration": 191,
    "start_time": "2024-05-18T21:24:26.958Z"
   },
   {
    "duration": 82,
    "start_time": "2024-05-18T21:24:58.324Z"
   },
   {
    "duration": 225,
    "start_time": "2024-05-18T21:25:02.051Z"
   },
   {
    "duration": 183,
    "start_time": "2024-05-18T21:25:15.767Z"
   },
   {
    "duration": 288,
    "start_time": "2024-05-18T21:25:38.413Z"
   },
   {
    "duration": 191,
    "start_time": "2024-05-18T21:25:47.889Z"
   },
   {
    "duration": 192,
    "start_time": "2024-05-18T21:26:50.091Z"
   },
   {
    "duration": 187,
    "start_time": "2024-05-18T21:28:46.709Z"
   },
   {
    "duration": 187,
    "start_time": "2024-05-18T21:28:52.795Z"
   },
   {
    "duration": 213,
    "start_time": "2024-05-18T21:29:06.837Z"
   },
   {
    "duration": 324,
    "start_time": "2024-05-18T21:29:15.900Z"
   },
   {
    "duration": 226,
    "start_time": "2024-05-18T21:29:22.399Z"
   },
   {
    "duration": 1067,
    "start_time": "2024-05-18T21:29:27.913Z"
   },
   {
    "duration": 118,
    "start_time": "2024-05-18T21:29:28.982Z"
   },
   {
    "duration": 13,
    "start_time": "2024-05-18T21:29:29.101Z"
   },
   {
    "duration": 10,
    "start_time": "2024-05-18T21:29:29.116Z"
   },
   {
    "duration": 283,
    "start_time": "2024-05-18T21:29:29.127Z"
   },
   {
    "duration": 11,
    "start_time": "2024-05-18T21:29:29.412Z"
   },
   {
    "duration": 11,
    "start_time": "2024-05-18T21:29:29.425Z"
   },
   {
    "duration": 348,
    "start_time": "2024-05-18T21:29:29.437Z"
   },
   {
    "duration": 7,
    "start_time": "2024-05-18T21:29:29.787Z"
   },
   {
    "duration": 15,
    "start_time": "2024-05-18T21:29:29.797Z"
   },
   {
    "duration": 12,
    "start_time": "2024-05-18T21:29:29.813Z"
   },
   {
    "duration": 9,
    "start_time": "2024-05-18T21:29:29.826Z"
   },
   {
    "duration": 4,
    "start_time": "2024-05-18T21:29:29.836Z"
   },
   {
    "duration": 13,
    "start_time": "2024-05-18T21:29:29.841Z"
   },
   {
    "duration": 4,
    "start_time": "2024-05-18T21:29:29.856Z"
   },
   {
    "duration": 5,
    "start_time": "2024-05-18T21:29:29.880Z"
   },
   {
    "duration": 8,
    "start_time": "2024-05-18T21:29:29.887Z"
   },
   {
    "duration": 8,
    "start_time": "2024-05-18T21:29:29.896Z"
   },
   {
    "duration": 8,
    "start_time": "2024-05-18T21:29:29.906Z"
   },
   {
    "duration": 5,
    "start_time": "2024-05-18T21:29:29.915Z"
   },
   {
    "duration": 22,
    "start_time": "2024-05-18T21:29:29.922Z"
   },
   {
    "duration": 13,
    "start_time": "2024-05-18T21:29:29.945Z"
   },
   {
    "duration": 10,
    "start_time": "2024-05-18T21:29:29.959Z"
   },
   {
    "duration": 31,
    "start_time": "2024-05-18T21:29:29.971Z"
   },
   {
    "duration": 66,
    "start_time": "2024-05-18T21:29:30.003Z"
   },
   {
    "duration": 258,
    "start_time": "2024-05-18T21:29:30.070Z"
   },
   {
    "duration": 101,
    "start_time": "2024-05-18T21:29:30.330Z"
   },
   {
    "duration": 216,
    "start_time": "2024-05-18T21:29:30.434Z"
   },
   {
    "duration": 105,
    "start_time": "2024-05-18T21:29:30.651Z"
   },
   {
    "duration": 656,
    "start_time": "2024-05-18T21:29:30.758Z"
   },
   {
    "duration": 9,
    "start_time": "2024-05-18T21:29:31.415Z"
   },
   {
    "duration": 588,
    "start_time": "2024-05-18T21:29:31.425Z"
   },
   {
    "duration": 39,
    "start_time": "2024-05-18T21:29:32.015Z"
   },
   {
    "duration": 107,
    "start_time": "2024-05-18T21:29:32.055Z"
   },
   {
    "duration": 17,
    "start_time": "2024-05-18T21:29:32.163Z"
   },
   {
    "duration": 88,
    "start_time": "2024-05-18T21:29:32.181Z"
   },
   {
    "duration": 372,
    "start_time": "2024-05-18T21:29:32.270Z"
   },
   {
    "duration": 38,
    "start_time": "2024-05-18T21:29:32.644Z"
   },
   {
    "duration": 330,
    "start_time": "2024-05-18T21:29:32.683Z"
   },
   {
    "duration": 141,
    "start_time": "2024-05-18T21:29:33.015Z"
   },
   {
    "duration": 240,
    "start_time": "2024-05-18T21:29:33.158Z"
   },
   {
    "duration": 208,
    "start_time": "2024-05-18T21:29:33.399Z"
   },
   {
    "duration": 7,
    "start_time": "2024-05-18T21:29:33.609Z"
   },
   {
    "duration": 82,
    "start_time": "2024-05-18T21:29:33.617Z"
   },
   {
    "duration": 3,
    "start_time": "2024-05-18T21:29:33.701Z"
   },
   {
    "duration": 12,
    "start_time": "2024-05-18T21:29:33.705Z"
   },
   {
    "duration": 54,
    "start_time": "2024-05-18T21:29:33.719Z"
   },
   {
    "duration": 5,
    "start_time": "2024-05-18T21:29:33.774Z"
   },
   {
    "duration": 275,
    "start_time": "2024-05-18T21:29:33.780Z"
   },
   {
    "duration": 126,
    "start_time": "2024-05-18T21:29:34.057Z"
   },
   {
    "duration": 73,
    "start_time": "2024-05-18T21:29:34.184Z"
   },
   {
    "duration": 578,
    "start_time": "2024-05-18T21:29:34.259Z"
   },
   {
    "duration": 6,
    "start_time": "2024-05-18T21:29:34.839Z"
   },
   {
    "duration": 39,
    "start_time": "2024-05-18T21:29:34.847Z"
   },
   {
    "duration": 15,
    "start_time": "2024-05-18T21:29:34.888Z"
   },
   {
    "duration": 222,
    "start_time": "2024-05-18T21:30:28.566Z"
   },
   {
    "duration": 74,
    "start_time": "2024-05-18T21:30:59.176Z"
   },
   {
    "duration": 71,
    "start_time": "2024-05-18T21:31:15.366Z"
   },
   {
    "duration": 66,
    "start_time": "2024-05-18T21:31:23.319Z"
   },
   {
    "duration": 109,
    "start_time": "2024-05-18T21:31:29.781Z"
   },
   {
    "duration": 73,
    "start_time": "2024-05-18T21:31:33.558Z"
   },
   {
    "duration": 201,
    "start_time": "2024-05-18T21:31:59.654Z"
   },
   {
    "duration": 11,
    "start_time": "2024-05-18T21:34:01.294Z"
   },
   {
    "duration": 9,
    "start_time": "2024-05-18T21:34:09.056Z"
   },
   {
    "duration": 235,
    "start_time": "2024-05-18T21:34:32.440Z"
   },
   {
    "duration": 185,
    "start_time": "2024-05-18T21:35:02.816Z"
   },
   {
    "duration": 146,
    "start_time": "2024-05-18T21:35:24.683Z"
   },
   {
    "duration": 145,
    "start_time": "2024-05-18T21:35:40.756Z"
   },
   {
    "duration": 163,
    "start_time": "2024-05-18T21:36:05.924Z"
   },
   {
    "duration": 244,
    "start_time": "2024-05-18T21:36:13.731Z"
   },
   {
    "duration": 141,
    "start_time": "2024-05-18T21:36:19.855Z"
   },
   {
    "duration": 147,
    "start_time": "2024-05-18T21:36:30.386Z"
   },
   {
    "duration": 8,
    "start_time": "2024-05-18T21:36:36.284Z"
   },
   {
    "duration": 207,
    "start_time": "2024-05-18T21:45:08.862Z"
   },
   {
    "duration": 211,
    "start_time": "2024-05-18T21:45:18.773Z"
   },
   {
    "duration": 9,
    "start_time": "2024-05-18T21:45:59.860Z"
   },
   {
    "duration": 10,
    "start_time": "2024-05-18T21:46:02.923Z"
   },
   {
    "duration": 8,
    "start_time": "2024-05-18T21:53:27.675Z"
   },
   {
    "duration": 11,
    "start_time": "2024-05-18T21:53:49.315Z"
   },
   {
    "duration": 3,
    "start_time": "2024-05-18T21:54:01.636Z"
   },
   {
    "duration": 4,
    "start_time": "2024-05-18T21:55:10.386Z"
   },
   {
    "duration": 318,
    "start_time": "2024-05-18T22:03:15.433Z"
   },
   {
    "duration": 191,
    "start_time": "2024-05-18T22:03:20.197Z"
   },
   {
    "duration": 232,
    "start_time": "2024-05-18T22:03:27.215Z"
   },
   {
    "duration": 195,
    "start_time": "2024-05-18T22:03:48.272Z"
   },
   {
    "duration": 238,
    "start_time": "2024-05-18T22:04:16.272Z"
   },
   {
    "duration": 326,
    "start_time": "2024-05-18T22:04:48.165Z"
   },
   {
    "duration": 284,
    "start_time": "2024-05-18T22:05:14.511Z"
   },
   {
    "duration": 224,
    "start_time": "2024-05-18T22:05:31.688Z"
   },
   {
    "duration": 221,
    "start_time": "2024-05-18T22:05:40.798Z"
   },
   {
    "duration": 221,
    "start_time": "2024-05-18T22:06:36.307Z"
   },
   {
    "duration": 221,
    "start_time": "2024-05-18T22:06:50.837Z"
   },
   {
    "duration": 255,
    "start_time": "2024-05-18T22:08:21.712Z"
   },
   {
    "duration": 6,
    "start_time": "2024-05-18T22:12:09.992Z"
   },
   {
    "duration": 265,
    "start_time": "2024-05-18T22:26:42.019Z"
   },
   {
    "duration": 285,
    "start_time": "2024-05-18T22:27:30.520Z"
   },
   {
    "duration": 268,
    "start_time": "2024-05-18T22:28:02.773Z"
   },
   {
    "duration": 239,
    "start_time": "2024-05-18T22:28:21.678Z"
   },
   {
    "duration": 233,
    "start_time": "2024-05-18T22:28:56.823Z"
   },
   {
    "duration": 343,
    "start_time": "2024-05-18T22:29:23.579Z"
   },
   {
    "duration": 117,
    "start_time": "2024-05-18T22:30:13.103Z"
   },
   {
    "duration": 129,
    "start_time": "2024-05-18T22:30:39.736Z"
   },
   {
    "duration": 288,
    "start_time": "2024-05-18T22:32:10.092Z"
   },
   {
    "duration": 22,
    "start_time": "2024-05-18T23:02:19.795Z"
   },
   {
    "duration": 36,
    "start_time": "2024-05-18T23:02:39.063Z"
   },
   {
    "duration": 22,
    "start_time": "2024-05-18T23:03:45.182Z"
   },
   {
    "duration": 19,
    "start_time": "2024-05-18T23:03:53.035Z"
   },
   {
    "duration": 23,
    "start_time": "2024-05-18T23:04:00.527Z"
   },
   {
    "duration": 21,
    "start_time": "2024-05-18T23:04:04.009Z"
   },
   {
    "duration": 20,
    "start_time": "2024-05-18T23:04:11.470Z"
   },
   {
    "duration": 19,
    "start_time": "2024-05-18T23:04:21.137Z"
   },
   {
    "duration": 9,
    "start_time": "2024-05-18T23:05:02.237Z"
   },
   {
    "duration": 675,
    "start_time": "2024-05-18T23:05:11.418Z"
   },
   {
    "duration": 693,
    "start_time": "2024-05-18T23:05:24.769Z"
   },
   {
    "duration": 20,
    "start_time": "2024-05-18T23:05:35.331Z"
   },
   {
    "duration": 6,
    "start_time": "2024-05-18T23:05:48.817Z"
   },
   {
    "duration": 20,
    "start_time": "2024-05-18T23:05:57.579Z"
   },
   {
    "duration": 17,
    "start_time": "2024-05-18T23:06:38.641Z"
   },
   {
    "duration": 7,
    "start_time": "2024-05-18T23:07:16.447Z"
   },
   {
    "duration": 8,
    "start_time": "2024-05-18T23:07:29.178Z"
   },
   {
    "duration": 9,
    "start_time": "2024-05-18T23:09:37.096Z"
   },
   {
    "duration": 9,
    "start_time": "2024-05-18T23:09:41.284Z"
   },
   {
    "duration": 809,
    "start_time": "2024-05-18T23:17:22.381Z"
   },
   {
    "duration": 6,
    "start_time": "2024-05-18T23:17:30.450Z"
   },
   {
    "duration": 9,
    "start_time": "2024-05-18T23:17:32.573Z"
   },
   {
    "duration": 1114,
    "start_time": "2024-05-18T23:17:40.440Z"
   },
   {
    "duration": 173,
    "start_time": "2024-05-18T23:17:41.556Z"
   },
   {
    "duration": 50,
    "start_time": "2024-05-18T23:17:41.730Z"
   },
   {
    "duration": 10,
    "start_time": "2024-05-18T23:17:41.783Z"
   },
   {
    "duration": 392,
    "start_time": "2024-05-18T23:17:41.795Z"
   },
   {
    "duration": 9,
    "start_time": "2024-05-18T23:17:42.189Z"
   },
   {
    "duration": 22,
    "start_time": "2024-05-18T23:17:42.200Z"
   },
   {
    "duration": 373,
    "start_time": "2024-05-18T23:17:42.223Z"
   },
   {
    "duration": 6,
    "start_time": "2024-05-18T23:17:42.598Z"
   },
   {
    "duration": 13,
    "start_time": "2024-05-18T23:17:42.606Z"
   },
   {
    "duration": 8,
    "start_time": "2024-05-18T23:17:42.621Z"
   },
   {
    "duration": 10,
    "start_time": "2024-05-18T23:17:42.630Z"
   },
   {
    "duration": 7,
    "start_time": "2024-05-18T23:17:42.642Z"
   },
   {
    "duration": 33,
    "start_time": "2024-05-18T23:17:42.650Z"
   },
   {
    "duration": 13,
    "start_time": "2024-05-18T23:17:42.685Z"
   },
   {
    "duration": 7,
    "start_time": "2024-05-18T23:17:42.700Z"
   },
   {
    "duration": 16,
    "start_time": "2024-05-18T23:17:42.709Z"
   },
   {
    "duration": 9,
    "start_time": "2024-05-18T23:17:42.727Z"
   },
   {
    "duration": 5,
    "start_time": "2024-05-18T23:17:42.737Z"
   },
   {
    "duration": 8,
    "start_time": "2024-05-18T23:17:42.743Z"
   },
   {
    "duration": 18,
    "start_time": "2024-05-18T23:17:42.752Z"
   },
   {
    "duration": 11,
    "start_time": "2024-05-18T23:17:42.772Z"
   },
   {
    "duration": 14,
    "start_time": "2024-05-18T23:17:42.785Z"
   },
   {
    "duration": 23,
    "start_time": "2024-05-18T23:17:42.800Z"
   },
   {
    "duration": 10,
    "start_time": "2024-05-18T23:17:42.825Z"
   },
   {
    "duration": 173,
    "start_time": "2024-05-18T23:17:42.836Z"
   },
   {
    "duration": 101,
    "start_time": "2024-05-18T23:17:43.010Z"
   },
   {
    "duration": 174,
    "start_time": "2024-05-18T23:17:43.114Z"
   },
   {
    "duration": 7,
    "start_time": "2024-05-18T23:17:43.289Z"
   },
   {
    "duration": 357,
    "start_time": "2024-05-18T23:17:43.298Z"
   },
   {
    "duration": 8,
    "start_time": "2024-05-18T23:17:43.657Z"
   },
   {
    "duration": 148,
    "start_time": "2024-05-18T23:17:43.666Z"
   },
   {
    "duration": 8,
    "start_time": "2024-05-18T23:17:43.815Z"
   },
   {
    "duration": 68,
    "start_time": "2024-05-18T23:17:43.826Z"
   },
   {
    "duration": 14,
    "start_time": "2024-05-18T23:17:43.896Z"
   },
   {
    "duration": 14,
    "start_time": "2024-05-18T23:17:43.911Z"
   },
   {
    "duration": 18,
    "start_time": "2024-05-18T23:17:43.927Z"
   },
   {
    "duration": 44,
    "start_time": "2024-05-18T23:17:43.946Z"
   },
   {
    "duration": 328,
    "start_time": "2024-05-18T23:17:43.991Z"
   },
   {
    "duration": 167,
    "start_time": "2024-05-18T23:17:44.320Z"
   },
   {
    "duration": 10,
    "start_time": "2024-05-18T23:17:44.489Z"
   },
   {
    "duration": 266,
    "start_time": "2024-05-18T23:17:44.501Z"
   },
   {
    "duration": 12,
    "start_time": "2024-05-18T23:17:44.769Z"
   },
   {
    "duration": 8,
    "start_time": "2024-05-18T23:17:44.783Z"
   },
   {
    "duration": 13,
    "start_time": "2024-05-18T23:17:44.792Z"
   },
   {
    "duration": 20,
    "start_time": "2024-05-18T23:17:44.806Z"
   },
   {
    "duration": 15,
    "start_time": "2024-05-18T23:17:44.828Z"
   },
   {
    "duration": 13,
    "start_time": "2024-05-18T23:17:44.844Z"
   },
   {
    "duration": 51,
    "start_time": "2024-05-18T23:17:44.858Z"
   },
   {
    "duration": 4,
    "start_time": "2024-05-18T23:17:44.911Z"
   },
   {
    "duration": 249,
    "start_time": "2024-05-18T23:17:44.916Z"
   },
   {
    "duration": 153,
    "start_time": "2024-05-18T23:17:45.166Z"
   },
   {
    "duration": 4,
    "start_time": "2024-05-18T23:17:45.320Z"
   },
   {
    "duration": 369,
    "start_time": "2024-05-18T23:17:45.326Z"
   },
   {
    "duration": 7,
    "start_time": "2024-05-18T23:17:45.696Z"
   },
   {
    "duration": 17,
    "start_time": "2024-05-18T23:17:45.704Z"
   },
   {
    "duration": 24,
    "start_time": "2024-05-18T23:17:45.723Z"
   },
   {
    "duration": 1218,
    "start_time": "2024-05-18T23:25:33.682Z"
   },
   {
    "duration": 125,
    "start_time": "2024-05-18T23:25:34.902Z"
   },
   {
    "duration": 13,
    "start_time": "2024-05-18T23:25:35.028Z"
   },
   {
    "duration": 16,
    "start_time": "2024-05-18T23:25:35.043Z"
   },
   {
    "duration": 284,
    "start_time": "2024-05-18T23:25:35.081Z"
   },
   {
    "duration": 14,
    "start_time": "2024-05-18T23:25:35.367Z"
   },
   {
    "duration": 129,
    "start_time": "2024-05-18T23:25:35.383Z"
   },
   {
    "duration": 343,
    "start_time": "2024-05-18T23:25:35.514Z"
   },
   {
    "duration": 8,
    "start_time": "2024-05-18T23:25:35.858Z"
   },
   {
    "duration": 10,
    "start_time": "2024-05-18T23:25:35.881Z"
   },
   {
    "duration": 9,
    "start_time": "2024-05-18T23:25:35.893Z"
   },
   {
    "duration": 18,
    "start_time": "2024-05-18T23:25:35.903Z"
   },
   {
    "duration": 6,
    "start_time": "2024-05-18T23:25:35.923Z"
   },
   {
    "duration": 9,
    "start_time": "2024-05-18T23:25:35.931Z"
   },
   {
    "duration": 6,
    "start_time": "2024-05-18T23:25:35.942Z"
   },
   {
    "duration": 36,
    "start_time": "2024-05-18T23:25:35.950Z"
   },
   {
    "duration": 5,
    "start_time": "2024-05-18T23:25:35.988Z"
   },
   {
    "duration": 6,
    "start_time": "2024-05-18T23:25:35.995Z"
   },
   {
    "duration": 5,
    "start_time": "2024-05-18T23:25:36.003Z"
   },
   {
    "duration": 11,
    "start_time": "2024-05-18T23:25:36.009Z"
   },
   {
    "duration": 5,
    "start_time": "2024-05-18T23:25:36.021Z"
   },
   {
    "duration": 8,
    "start_time": "2024-05-18T23:25:36.027Z"
   },
   {
    "duration": 14,
    "start_time": "2024-05-18T23:25:36.037Z"
   },
   {
    "duration": 6,
    "start_time": "2024-05-18T23:25:36.080Z"
   },
   {
    "duration": 10,
    "start_time": "2024-05-18T23:25:36.087Z"
   },
   {
    "duration": 181,
    "start_time": "2024-05-18T23:25:36.099Z"
   },
   {
    "duration": 104,
    "start_time": "2024-05-18T23:25:36.282Z"
   },
   {
    "duration": 173,
    "start_time": "2024-05-18T23:25:36.391Z"
   },
   {
    "duration": 15,
    "start_time": "2024-05-18T23:25:36.566Z"
   },
   {
    "duration": 299,
    "start_time": "2024-05-18T23:25:36.582Z"
   },
   {
    "duration": 9,
    "start_time": "2024-05-18T23:25:36.883Z"
   },
   {
    "duration": 146,
    "start_time": "2024-05-18T23:25:36.894Z"
   },
   {
    "duration": 7,
    "start_time": "2024-05-18T23:25:37.041Z"
   },
   {
    "duration": 111,
    "start_time": "2024-05-18T23:25:37.049Z"
   },
   {
    "duration": 0,
    "start_time": "2024-05-18T23:25:37.161Z"
   },
   {
    "duration": 0,
    "start_time": "2024-05-18T23:25:37.163Z"
   },
   {
    "duration": 0,
    "start_time": "2024-05-18T23:25:37.164Z"
   },
   {
    "duration": 0,
    "start_time": "2024-05-18T23:25:37.165Z"
   },
   {
    "duration": 0,
    "start_time": "2024-05-18T23:25:37.180Z"
   },
   {
    "duration": 0,
    "start_time": "2024-05-18T23:25:37.181Z"
   },
   {
    "duration": 0,
    "start_time": "2024-05-18T23:25:37.182Z"
   },
   {
    "duration": 0,
    "start_time": "2024-05-18T23:25:37.183Z"
   },
   {
    "duration": 0,
    "start_time": "2024-05-18T23:25:37.184Z"
   },
   {
    "duration": 0,
    "start_time": "2024-05-18T23:25:37.185Z"
   },
   {
    "duration": 0,
    "start_time": "2024-05-18T23:25:37.186Z"
   },
   {
    "duration": 0,
    "start_time": "2024-05-18T23:25:37.187Z"
   },
   {
    "duration": 0,
    "start_time": "2024-05-18T23:25:37.188Z"
   },
   {
    "duration": 0,
    "start_time": "2024-05-18T23:25:37.190Z"
   },
   {
    "duration": 0,
    "start_time": "2024-05-18T23:25:37.190Z"
   },
   {
    "duration": 0,
    "start_time": "2024-05-18T23:25:37.191Z"
   },
   {
    "duration": 0,
    "start_time": "2024-05-18T23:25:37.192Z"
   },
   {
    "duration": 0,
    "start_time": "2024-05-18T23:25:37.193Z"
   },
   {
    "duration": 0,
    "start_time": "2024-05-18T23:25:37.194Z"
   },
   {
    "duration": 0,
    "start_time": "2024-05-18T23:25:37.196Z"
   },
   {
    "duration": 0,
    "start_time": "2024-05-18T23:25:37.197Z"
   },
   {
    "duration": 0,
    "start_time": "2024-05-18T23:25:37.198Z"
   },
   {
    "duration": 0,
    "start_time": "2024-05-18T23:25:37.199Z"
   },
   {
    "duration": 0,
    "start_time": "2024-05-18T23:25:37.200Z"
   },
   {
    "duration": 1025,
    "start_time": "2024-05-18T23:26:43.819Z"
   },
   {
    "duration": 119,
    "start_time": "2024-05-18T23:26:44.845Z"
   },
   {
    "duration": 13,
    "start_time": "2024-05-18T23:26:44.966Z"
   },
   {
    "duration": 45,
    "start_time": "2024-05-18T23:26:44.980Z"
   },
   {
    "duration": 325,
    "start_time": "2024-05-18T23:26:45.027Z"
   },
   {
    "duration": 11,
    "start_time": "2024-05-18T23:26:45.353Z"
   },
   {
    "duration": 172,
    "start_time": "2024-05-18T23:26:45.366Z"
   },
   {
    "duration": 339,
    "start_time": "2024-05-18T23:26:45.541Z"
   },
   {
    "duration": 7,
    "start_time": "2024-05-18T23:26:45.881Z"
   },
   {
    "duration": 21,
    "start_time": "2024-05-18T23:26:45.890Z"
   },
   {
    "duration": 20,
    "start_time": "2024-05-18T23:26:45.912Z"
   },
   {
    "duration": 7,
    "start_time": "2024-05-18T23:26:45.933Z"
   },
   {
    "duration": 5,
    "start_time": "2024-05-18T23:26:45.941Z"
   },
   {
    "duration": 10,
    "start_time": "2024-05-18T23:26:45.947Z"
   },
   {
    "duration": 18,
    "start_time": "2024-05-18T23:26:45.959Z"
   },
   {
    "duration": 6,
    "start_time": "2024-05-18T23:26:45.979Z"
   },
   {
    "duration": 5,
    "start_time": "2024-05-18T23:26:45.987Z"
   },
   {
    "duration": 7,
    "start_time": "2024-05-18T23:26:45.994Z"
   },
   {
    "duration": 5,
    "start_time": "2024-05-18T23:26:46.002Z"
   },
   {
    "duration": 11,
    "start_time": "2024-05-18T23:26:46.009Z"
   },
   {
    "duration": 4,
    "start_time": "2024-05-18T23:26:46.022Z"
   },
   {
    "duration": 9,
    "start_time": "2024-05-18T23:26:46.027Z"
   },
   {
    "duration": 27,
    "start_time": "2024-05-18T23:26:46.037Z"
   },
   {
    "duration": 17,
    "start_time": "2024-05-18T23:26:46.065Z"
   },
   {
    "duration": 25,
    "start_time": "2024-05-18T23:26:46.083Z"
   },
   {
    "duration": 178,
    "start_time": "2024-05-18T23:26:46.110Z"
   },
   {
    "duration": 99,
    "start_time": "2024-05-18T23:26:46.289Z"
   },
   {
    "duration": 165,
    "start_time": "2024-05-18T23:26:46.391Z"
   },
   {
    "duration": 8,
    "start_time": "2024-05-18T23:26:46.557Z"
   },
   {
    "duration": 302,
    "start_time": "2024-05-18T23:26:46.567Z"
   },
   {
    "duration": 15,
    "start_time": "2024-05-18T23:26:46.871Z"
   },
   {
    "duration": 158,
    "start_time": "2024-05-18T23:26:46.887Z"
   },
   {
    "duration": 7,
    "start_time": "2024-05-18T23:26:47.046Z"
   },
   {
    "duration": 26,
    "start_time": "2024-05-18T23:26:47.055Z"
   },
   {
    "duration": 14,
    "start_time": "2024-05-18T23:26:47.082Z"
   },
   {
    "duration": 30,
    "start_time": "2024-05-18T23:26:47.097Z"
   },
   {
    "duration": 10,
    "start_time": "2024-05-18T23:26:47.129Z"
   },
   {
    "duration": 142,
    "start_time": "2024-05-18T23:26:47.140Z"
   },
   {
    "duration": 23,
    "start_time": "2024-05-18T23:26:47.285Z"
   },
   {
    "duration": 20,
    "start_time": "2024-05-18T23:26:47.310Z"
   },
   {
    "duration": 419,
    "start_time": "2024-05-18T23:26:47.332Z"
   },
   {
    "duration": 160,
    "start_time": "2024-05-18T23:26:47.753Z"
   },
   {
    "duration": 7,
    "start_time": "2024-05-18T23:26:47.914Z"
   },
   {
    "duration": 232,
    "start_time": "2024-05-18T23:26:47.923Z"
   },
   {
    "duration": 8,
    "start_time": "2024-05-18T23:26:48.156Z"
   },
   {
    "duration": 19,
    "start_time": "2024-05-18T23:26:48.166Z"
   },
   {
    "duration": 8,
    "start_time": "2024-05-18T23:26:48.186Z"
   },
   {
    "duration": 105,
    "start_time": "2024-05-18T23:26:48.195Z"
   },
   {
    "duration": 0,
    "start_time": "2024-05-18T23:26:48.301Z"
   },
   {
    "duration": 0,
    "start_time": "2024-05-18T23:26:48.302Z"
   },
   {
    "duration": 0,
    "start_time": "2024-05-18T23:26:48.303Z"
   },
   {
    "duration": 0,
    "start_time": "2024-05-18T23:26:48.305Z"
   },
   {
    "duration": 0,
    "start_time": "2024-05-18T23:26:48.306Z"
   },
   {
    "duration": 0,
    "start_time": "2024-05-18T23:26:48.307Z"
   },
   {
    "duration": 1,
    "start_time": "2024-05-18T23:26:48.307Z"
   },
   {
    "duration": 0,
    "start_time": "2024-05-18T23:26:48.308Z"
   },
   {
    "duration": 0,
    "start_time": "2024-05-18T23:26:48.310Z"
   },
   {
    "duration": 0,
    "start_time": "2024-05-18T23:26:48.311Z"
   },
   {
    "duration": 2,
    "start_time": "2024-05-18T23:27:19.468Z"
   },
   {
    "duration": 1140,
    "start_time": "2024-05-18T23:27:33.375Z"
   },
   {
    "duration": 172,
    "start_time": "2024-05-18T23:27:34.517Z"
   },
   {
    "duration": 18,
    "start_time": "2024-05-18T23:27:34.691Z"
   },
   {
    "duration": 14,
    "start_time": "2024-05-18T23:27:34.711Z"
   },
   {
    "duration": 380,
    "start_time": "2024-05-18T23:27:34.728Z"
   },
   {
    "duration": 9,
    "start_time": "2024-05-18T23:27:35.110Z"
   },
   {
    "duration": 12,
    "start_time": "2024-05-18T23:27:35.120Z"
   },
   {
    "duration": 417,
    "start_time": "2024-05-18T23:27:35.134Z"
   },
   {
    "duration": 7,
    "start_time": "2024-05-18T23:27:35.553Z"
   },
   {
    "duration": 131,
    "start_time": "2024-05-18T23:27:35.561Z"
   },
   {
    "duration": 21,
    "start_time": "2024-05-18T23:27:35.694Z"
   },
   {
    "duration": 8,
    "start_time": "2024-05-18T23:27:35.717Z"
   },
   {
    "duration": 7,
    "start_time": "2024-05-18T23:27:35.726Z"
   },
   {
    "duration": 25,
    "start_time": "2024-05-18T23:27:35.736Z"
   },
   {
    "duration": 21,
    "start_time": "2024-05-18T23:27:35.763Z"
   },
   {
    "duration": 24,
    "start_time": "2024-05-18T23:27:35.786Z"
   },
   {
    "duration": 69,
    "start_time": "2024-05-18T23:27:35.812Z"
   },
   {
    "duration": 43,
    "start_time": "2024-05-18T23:27:35.882Z"
   },
   {
    "duration": 23,
    "start_time": "2024-05-18T23:27:35.926Z"
   },
   {
    "duration": 11,
    "start_time": "2024-05-18T23:27:35.951Z"
   },
   {
    "duration": 6,
    "start_time": "2024-05-18T23:27:35.964Z"
   },
   {
    "duration": 16,
    "start_time": "2024-05-18T23:27:35.972Z"
   },
   {
    "duration": 22,
    "start_time": "2024-05-18T23:27:35.990Z"
   },
   {
    "duration": 5,
    "start_time": "2024-05-18T23:27:36.014Z"
   },
   {
    "duration": 23,
    "start_time": "2024-05-18T23:27:36.020Z"
   },
   {
    "duration": 178,
    "start_time": "2024-05-18T23:27:36.044Z"
   },
   {
    "duration": 96,
    "start_time": "2024-05-18T23:27:36.223Z"
   },
   {
    "duration": 157,
    "start_time": "2024-05-18T23:27:36.320Z"
   },
   {
    "duration": 8,
    "start_time": "2024-05-18T23:27:36.480Z"
   },
   {
    "duration": 320,
    "start_time": "2024-05-18T23:27:36.489Z"
   },
   {
    "duration": 9,
    "start_time": "2024-05-18T23:27:36.810Z"
   },
   {
    "duration": 144,
    "start_time": "2024-05-18T23:27:36.820Z"
   },
   {
    "duration": 19,
    "start_time": "2024-05-18T23:27:36.965Z"
   },
   {
    "duration": 9,
    "start_time": "2024-05-18T23:27:36.985Z"
   },
   {
    "duration": 17,
    "start_time": "2024-05-18T23:27:36.995Z"
   },
   {
    "duration": 30,
    "start_time": "2024-05-18T23:27:37.014Z"
   },
   {
    "duration": 8,
    "start_time": "2024-05-18T23:27:37.046Z"
   },
   {
    "duration": 36,
    "start_time": "2024-05-18T23:27:37.056Z"
   },
   {
    "duration": 40,
    "start_time": "2024-05-18T23:27:37.094Z"
   },
   {
    "duration": 135,
    "start_time": "2024-05-18T23:27:37.135Z"
   },
   {
    "duration": 320,
    "start_time": "2024-05-18T23:27:37.275Z"
   },
   {
    "duration": 160,
    "start_time": "2024-05-18T23:27:37.597Z"
   },
   {
    "duration": 22,
    "start_time": "2024-05-18T23:27:37.758Z"
   },
   {
    "duration": 230,
    "start_time": "2024-05-18T23:27:37.781Z"
   },
   {
    "duration": 9,
    "start_time": "2024-05-18T23:27:38.012Z"
   },
   {
    "duration": 7,
    "start_time": "2024-05-18T23:27:38.023Z"
   },
   {
    "duration": 2,
    "start_time": "2024-05-18T23:27:38.032Z"
   },
   {
    "duration": 17,
    "start_time": "2024-05-18T23:27:38.035Z"
   },
   {
    "duration": 58,
    "start_time": "2024-05-18T23:27:38.053Z"
   },
   {
    "duration": 4,
    "start_time": "2024-05-18T23:27:38.113Z"
   },
   {
    "duration": 239,
    "start_time": "2024-05-18T23:27:38.119Z"
   },
   {
    "duration": 128,
    "start_time": "2024-05-18T23:27:38.359Z"
   },
   {
    "duration": 4,
    "start_time": "2024-05-18T23:27:38.489Z"
   },
   {
    "duration": 318,
    "start_time": "2024-05-18T23:27:38.495Z"
   },
   {
    "duration": 7,
    "start_time": "2024-05-18T23:27:38.815Z"
   },
   {
    "duration": 7,
    "start_time": "2024-05-18T23:27:38.824Z"
   },
   {
    "duration": 8,
    "start_time": "2024-05-18T23:27:38.833Z"
   },
   {
    "duration": 10,
    "start_time": "2024-05-18T23:32:04.123Z"
   },
   {
    "duration": 8,
    "start_time": "2024-05-18T23:34:23.196Z"
   },
   {
    "duration": 7,
    "start_time": "2024-05-18T23:37:17.512Z"
   },
   {
    "duration": 9,
    "start_time": "2024-05-18T23:37:32.128Z"
   },
   {
    "duration": 8,
    "start_time": "2024-05-18T23:37:45.327Z"
   },
   {
    "duration": 96,
    "start_time": "2024-05-18T23:38:37.400Z"
   },
   {
    "duration": 6,
    "start_time": "2024-05-18T23:39:21.078Z"
   },
   {
    "duration": 12,
    "start_time": "2024-05-18T23:40:07.707Z"
   },
   {
    "duration": 12,
    "start_time": "2024-05-18T23:40:24.803Z"
   },
   {
    "duration": 19,
    "start_time": "2024-05-18T23:40:35.113Z"
   },
   {
    "duration": 21,
    "start_time": "2024-05-18T23:40:57.689Z"
   },
   {
    "duration": 17,
    "start_time": "2024-05-18T23:41:22.671Z"
   },
   {
    "duration": 14,
    "start_time": "2024-05-18T23:42:06.249Z"
   },
   {
    "duration": 9,
    "start_time": "2024-05-18T23:46:47.530Z"
   },
   {
    "duration": 11,
    "start_time": "2024-05-18T23:47:25.807Z"
   },
   {
    "duration": 1026,
    "start_time": "2024-05-18T23:47:36.517Z"
   },
   {
    "duration": 111,
    "start_time": "2024-05-18T23:47:37.545Z"
   },
   {
    "duration": 13,
    "start_time": "2024-05-18T23:47:37.658Z"
   },
   {
    "duration": 10,
    "start_time": "2024-05-18T23:47:37.672Z"
   },
   {
    "duration": 270,
    "start_time": "2024-05-18T23:47:37.683Z"
   },
   {
    "duration": 10,
    "start_time": "2024-05-18T23:47:37.954Z"
   },
   {
    "duration": 21,
    "start_time": "2024-05-18T23:47:37.965Z"
   },
   {
    "duration": 319,
    "start_time": "2024-05-18T23:47:37.988Z"
   },
   {
    "duration": 7,
    "start_time": "2024-05-18T23:47:38.308Z"
   },
   {
    "duration": 14,
    "start_time": "2024-05-18T23:47:38.317Z"
   },
   {
    "duration": 19,
    "start_time": "2024-05-18T23:47:38.332Z"
   },
   {
    "duration": 5,
    "start_time": "2024-05-18T23:47:38.353Z"
   },
   {
    "duration": 4,
    "start_time": "2024-05-18T23:47:38.360Z"
   },
   {
    "duration": 21,
    "start_time": "2024-05-18T23:47:38.366Z"
   },
   {
    "duration": 7,
    "start_time": "2024-05-18T23:47:38.389Z"
   },
   {
    "duration": 6,
    "start_time": "2024-05-18T23:47:38.397Z"
   },
   {
    "duration": 5,
    "start_time": "2024-05-18T23:47:38.405Z"
   },
   {
    "duration": 11,
    "start_time": "2024-05-18T23:47:38.411Z"
   },
   {
    "duration": 4,
    "start_time": "2024-05-18T23:47:38.423Z"
   },
   {
    "duration": 7,
    "start_time": "2024-05-18T23:47:38.429Z"
   },
   {
    "duration": 4,
    "start_time": "2024-05-18T23:47:38.437Z"
   },
   {
    "duration": 63,
    "start_time": "2024-05-18T23:47:38.481Z"
   },
   {
    "duration": 15,
    "start_time": "2024-05-18T23:47:38.546Z"
   },
   {
    "duration": 7,
    "start_time": "2024-05-18T23:47:38.563Z"
   },
   {
    "duration": 18,
    "start_time": "2024-05-18T23:47:38.572Z"
   },
   {
    "duration": 198,
    "start_time": "2024-05-18T23:47:38.593Z"
   },
   {
    "duration": 105,
    "start_time": "2024-05-18T23:47:38.793Z"
   },
   {
    "duration": 180,
    "start_time": "2024-05-18T23:47:38.902Z"
   },
   {
    "duration": 8,
    "start_time": "2024-05-18T23:47:39.084Z"
   },
   {
    "duration": 309,
    "start_time": "2024-05-18T23:47:39.093Z"
   },
   {
    "duration": 8,
    "start_time": "2024-05-18T23:47:39.404Z"
   },
   {
    "duration": 74,
    "start_time": "2024-05-18T23:47:39.414Z"
   },
   {
    "duration": 17,
    "start_time": "2024-05-18T23:47:39.489Z"
   },
   {
    "duration": 11,
    "start_time": "2024-05-18T23:47:39.508Z"
   },
   {
    "duration": 139,
    "start_time": "2024-05-18T23:47:39.520Z"
   },
   {
    "duration": 7,
    "start_time": "2024-05-18T23:47:39.660Z"
   },
   {
    "duration": 11,
    "start_time": "2024-05-18T23:47:39.680Z"
   },
   {
    "duration": 90,
    "start_time": "2024-05-18T23:47:39.693Z"
   },
   {
    "duration": 9,
    "start_time": "2024-05-18T23:47:39.785Z"
   },
   {
    "duration": 61,
    "start_time": "2024-05-18T23:47:39.795Z"
   },
   {
    "duration": 10,
    "start_time": "2024-05-18T23:47:39.858Z"
   },
   {
    "duration": 16,
    "start_time": "2024-05-18T23:47:39.869Z"
   },
   {
    "duration": 22,
    "start_time": "2024-05-18T23:47:39.887Z"
   },
   {
    "duration": 321,
    "start_time": "2024-05-18T23:47:39.910Z"
   },
   {
    "duration": 166,
    "start_time": "2024-05-18T23:47:40.233Z"
   },
   {
    "duration": 10,
    "start_time": "2024-05-18T23:47:40.402Z"
   },
   {
    "duration": 281,
    "start_time": "2024-05-18T23:47:40.413Z"
   },
   {
    "duration": 10,
    "start_time": "2024-05-18T23:47:40.696Z"
   },
   {
    "duration": 10,
    "start_time": "2024-05-18T23:47:40.708Z"
   },
   {
    "duration": 3,
    "start_time": "2024-05-18T23:47:40.719Z"
   },
   {
    "duration": 4,
    "start_time": "2024-05-18T23:47:40.724Z"
   },
   {
    "duration": 79,
    "start_time": "2024-05-18T23:47:40.730Z"
   },
   {
    "duration": 5,
    "start_time": "2024-05-18T23:47:40.811Z"
   },
   {
    "duration": 248,
    "start_time": "2024-05-18T23:47:40.817Z"
   },
   {
    "duration": 129,
    "start_time": "2024-05-18T23:47:41.067Z"
   },
   {
    "duration": 4,
    "start_time": "2024-05-18T23:47:41.198Z"
   },
   {
    "duration": 314,
    "start_time": "2024-05-18T23:47:41.203Z"
   },
   {
    "duration": 5,
    "start_time": "2024-05-18T23:47:41.519Z"
   },
   {
    "duration": 6,
    "start_time": "2024-05-18T23:47:41.525Z"
   },
   {
    "duration": 7,
    "start_time": "2024-05-18T23:47:41.533Z"
   },
   {
    "duration": 3,
    "start_time": "2024-05-18T23:50:54.234Z"
   },
   {
    "duration": 2,
    "start_time": "2024-05-18T23:51:09.995Z"
   },
   {
    "duration": 1043,
    "start_time": "2024-05-19T11:32:16.994Z"
   },
   {
    "duration": 104,
    "start_time": "2024-05-19T11:32:18.039Z"
   },
   {
    "duration": 14,
    "start_time": "2024-05-19T11:32:18.145Z"
   },
   {
    "duration": 35,
    "start_time": "2024-05-19T11:32:18.161Z"
   },
   {
    "duration": 299,
    "start_time": "2024-05-19T11:32:18.198Z"
   },
   {
    "duration": 11,
    "start_time": "2024-05-19T11:32:18.499Z"
   },
   {
    "duration": 105,
    "start_time": "2024-05-19T11:32:18.511Z"
   },
   {
    "duration": 368,
    "start_time": "2024-05-19T11:32:18.619Z"
   },
   {
    "duration": 8,
    "start_time": "2024-05-19T11:32:18.989Z"
   },
   {
    "duration": 32,
    "start_time": "2024-05-19T11:32:19.000Z"
   },
   {
    "duration": 11,
    "start_time": "2024-05-19T11:32:19.035Z"
   },
   {
    "duration": 7,
    "start_time": "2024-05-19T11:32:19.048Z"
   },
   {
    "duration": 17,
    "start_time": "2024-05-19T11:32:19.057Z"
   },
   {
    "duration": 9,
    "start_time": "2024-05-19T11:32:19.075Z"
   },
   {
    "duration": 17,
    "start_time": "2024-05-19T11:32:19.086Z"
   },
   {
    "duration": 10,
    "start_time": "2024-05-19T11:32:19.105Z"
   },
   {
    "duration": 9,
    "start_time": "2024-05-19T11:32:19.117Z"
   },
   {
    "duration": 13,
    "start_time": "2024-05-19T11:32:19.128Z"
   },
   {
    "duration": 9,
    "start_time": "2024-05-19T11:32:19.143Z"
   },
   {
    "duration": 17,
    "start_time": "2024-05-19T11:32:19.153Z"
   },
   {
    "duration": 20,
    "start_time": "2024-05-19T11:32:19.171Z"
   },
   {
    "duration": 7,
    "start_time": "2024-05-19T11:32:19.192Z"
   },
   {
    "duration": 16,
    "start_time": "2024-05-19T11:32:19.201Z"
   },
   {
    "duration": 5,
    "start_time": "2024-05-19T11:32:19.218Z"
   },
   {
    "duration": 5,
    "start_time": "2024-05-19T11:32:19.225Z"
   },
   {
    "duration": 180,
    "start_time": "2024-05-19T11:32:19.232Z"
   },
   {
    "duration": 106,
    "start_time": "2024-05-19T11:32:19.413Z"
   },
   {
    "duration": 193,
    "start_time": "2024-05-19T11:32:19.523Z"
   },
   {
    "duration": 7,
    "start_time": "2024-05-19T11:32:19.718Z"
   },
   {
    "duration": 346,
    "start_time": "2024-05-19T11:32:19.727Z"
   },
   {
    "duration": 11,
    "start_time": "2024-05-19T11:32:20.075Z"
   },
   {
    "duration": 18,
    "start_time": "2024-05-19T11:32:20.090Z"
   },
   {
    "duration": 17,
    "start_time": "2024-05-19T11:32:20.110Z"
   },
   {
    "duration": 12,
    "start_time": "2024-05-19T11:32:20.128Z"
   },
   {
    "duration": 205,
    "start_time": "2024-05-19T11:32:20.142Z"
   },
   {
    "duration": 9,
    "start_time": "2024-05-19T11:32:20.348Z"
   },
   {
    "duration": 11,
    "start_time": "2024-05-19T11:32:20.372Z"
   },
   {
    "duration": 35,
    "start_time": "2024-05-19T11:32:20.385Z"
   },
   {
    "duration": 10,
    "start_time": "2024-05-19T11:32:20.422Z"
   },
   {
    "duration": 190,
    "start_time": "2024-05-19T11:32:20.433Z"
   },
   {
    "duration": 36,
    "start_time": "2024-05-19T11:32:20.625Z"
   },
   {
    "duration": 47,
    "start_time": "2024-05-19T11:32:20.663Z"
   },
   {
    "duration": 37,
    "start_time": "2024-05-19T11:32:20.712Z"
   },
   {
    "duration": 376,
    "start_time": "2024-05-19T11:32:20.751Z"
   },
   {
    "duration": 181,
    "start_time": "2024-05-19T11:32:21.129Z"
   },
   {
    "duration": 8,
    "start_time": "2024-05-19T11:32:21.312Z"
   },
   {
    "duration": 300,
    "start_time": "2024-05-19T11:32:21.322Z"
   },
   {
    "duration": 11,
    "start_time": "2024-05-19T11:32:21.624Z"
   },
   {
    "duration": 23,
    "start_time": "2024-05-19T11:32:21.637Z"
   },
   {
    "duration": 24,
    "start_time": "2024-05-19T11:32:21.661Z"
   },
   {
    "duration": 65,
    "start_time": "2024-05-19T11:32:21.686Z"
   },
   {
    "duration": 100,
    "start_time": "2024-05-19T11:32:21.752Z"
   },
   {
    "duration": 5,
    "start_time": "2024-05-19T11:32:21.853Z"
   },
   {
    "duration": 279,
    "start_time": "2024-05-19T11:32:21.859Z"
   },
   {
    "duration": 141,
    "start_time": "2024-05-19T11:32:22.140Z"
   },
   {
    "duration": 4,
    "start_time": "2024-05-19T11:32:22.283Z"
   },
   {
    "duration": 351,
    "start_time": "2024-05-19T11:32:22.288Z"
   },
   {
    "duration": 6,
    "start_time": "2024-05-19T11:32:22.641Z"
   },
   {
    "duration": 30,
    "start_time": "2024-05-19T11:32:22.648Z"
   },
   {
    "duration": 53,
    "start_time": "2024-05-19T11:32:22.680Z"
   },
   {
    "duration": 1063,
    "start_time": "2024-05-19T11:47:12.404Z"
   },
   {
    "duration": 124,
    "start_time": "2024-05-19T11:47:13.470Z"
   },
   {
    "duration": 93,
    "start_time": "2024-05-19T11:47:13.596Z"
   },
   {
    "duration": 11,
    "start_time": "2024-05-19T11:47:13.690Z"
   },
   {
    "duration": 306,
    "start_time": "2024-05-19T11:47:13.704Z"
   },
   {
    "duration": 11,
    "start_time": "2024-05-19T11:47:14.011Z"
   },
   {
    "duration": 15,
    "start_time": "2024-05-19T11:47:14.023Z"
   },
   {
    "duration": 381,
    "start_time": "2024-05-19T11:47:14.039Z"
   },
   {
    "duration": 7,
    "start_time": "2024-05-19T11:47:14.422Z"
   },
   {
    "duration": 20,
    "start_time": "2024-05-19T11:47:14.430Z"
   },
   {
    "duration": 82,
    "start_time": "2024-05-19T11:47:14.452Z"
   },
   {
    "duration": 116,
    "start_time": "2024-05-19T11:47:14.536Z"
   },
   {
    "duration": 12,
    "start_time": "2024-05-19T11:47:14.654Z"
   },
   {
    "duration": 16,
    "start_time": "2024-05-19T11:47:14.670Z"
   },
   {
    "duration": 10,
    "start_time": "2024-05-19T11:47:14.687Z"
   },
   {
    "duration": 17,
    "start_time": "2024-05-19T11:47:14.699Z"
   },
   {
    "duration": 19,
    "start_time": "2024-05-19T11:47:14.718Z"
   },
   {
    "duration": 26,
    "start_time": "2024-05-19T11:47:14.738Z"
   },
   {
    "duration": 8,
    "start_time": "2024-05-19T11:47:14.766Z"
   },
   {
    "duration": 6,
    "start_time": "2024-05-19T11:47:14.775Z"
   },
   {
    "duration": 8,
    "start_time": "2024-05-19T11:47:14.782Z"
   },
   {
    "duration": 6,
    "start_time": "2024-05-19T11:47:14.791Z"
   },
   {
    "duration": 14,
    "start_time": "2024-05-19T11:47:14.798Z"
   },
   {
    "duration": 5,
    "start_time": "2024-05-19T11:47:14.814Z"
   },
   {
    "duration": 7,
    "start_time": "2024-05-19T11:47:14.820Z"
   },
   {
    "duration": 190,
    "start_time": "2024-05-19T11:47:14.828Z"
   },
   {
    "duration": 107,
    "start_time": "2024-05-19T11:47:15.020Z"
   },
   {
    "duration": 182,
    "start_time": "2024-05-19T11:47:15.129Z"
   },
   {
    "duration": 9,
    "start_time": "2024-05-19T11:47:15.313Z"
   },
   {
    "duration": 405,
    "start_time": "2024-05-19T11:47:15.323Z"
   },
   {
    "duration": 13,
    "start_time": "2024-05-19T11:47:15.730Z"
   },
   {
    "duration": 28,
    "start_time": "2024-05-19T11:47:15.745Z"
   },
   {
    "duration": 9,
    "start_time": "2024-05-19T11:47:15.774Z"
   },
   {
    "duration": 29,
    "start_time": "2024-05-19T11:47:15.785Z"
   },
   {
    "duration": 161,
    "start_time": "2024-05-19T11:47:15.816Z"
   },
   {
    "duration": 8,
    "start_time": "2024-05-19T11:47:15.979Z"
   },
   {
    "duration": 23,
    "start_time": "2024-05-19T11:47:15.989Z"
   },
   {
    "duration": 33,
    "start_time": "2024-05-19T11:47:16.014Z"
   },
   {
    "duration": 10,
    "start_time": "2024-05-19T11:47:16.049Z"
   },
   {
    "duration": 26,
    "start_time": "2024-05-19T11:47:16.060Z"
   },
   {
    "duration": 10,
    "start_time": "2024-05-19T11:47:16.091Z"
   },
   {
    "duration": 29,
    "start_time": "2024-05-19T11:47:16.102Z"
   },
   {
    "duration": 61,
    "start_time": "2024-05-19T11:47:16.133Z"
   },
   {
    "duration": 371,
    "start_time": "2024-05-19T11:47:16.196Z"
   },
   {
    "duration": 181,
    "start_time": "2024-05-19T11:47:16.573Z"
   },
   {
    "duration": 21,
    "start_time": "2024-05-19T11:47:16.756Z"
   },
   {
    "duration": 259,
    "start_time": "2024-05-19T11:47:16.779Z"
   },
   {
    "duration": 10,
    "start_time": "2024-05-19T11:47:17.040Z"
   },
   {
    "duration": 28,
    "start_time": "2024-05-19T11:47:17.051Z"
   },
   {
    "duration": 3,
    "start_time": "2024-05-19T11:47:17.081Z"
   },
   {
    "duration": 6,
    "start_time": "2024-05-19T11:47:17.086Z"
   },
   {
    "duration": 49,
    "start_time": "2024-05-19T11:47:17.094Z"
   },
   {
    "duration": 4,
    "start_time": "2024-05-19T11:47:17.145Z"
   },
   {
    "duration": 276,
    "start_time": "2024-05-19T11:47:17.174Z"
   },
   {
    "duration": 139,
    "start_time": "2024-05-19T11:47:17.451Z"
   },
   {
    "duration": 5,
    "start_time": "2024-05-19T11:47:17.591Z"
   },
   {
    "duration": 402,
    "start_time": "2024-05-19T11:47:17.597Z"
   },
   {
    "duration": 6,
    "start_time": "2024-05-19T11:47:18.000Z"
   },
   {
    "duration": 30,
    "start_time": "2024-05-19T11:47:18.007Z"
   },
   {
    "duration": 20,
    "start_time": "2024-05-19T11:47:18.039Z"
   },
   {
    "duration": 1113,
    "start_time": "2024-05-19T11:56:17.836Z"
   },
   {
    "duration": 126,
    "start_time": "2024-05-19T11:56:18.952Z"
   },
   {
    "duration": 14,
    "start_time": "2024-05-19T11:56:19.079Z"
   },
   {
    "duration": 11,
    "start_time": "2024-05-19T11:56:19.095Z"
   },
   {
    "duration": 313,
    "start_time": "2024-05-19T11:56:19.108Z"
   },
   {
    "duration": 11,
    "start_time": "2024-05-19T11:56:19.423Z"
   },
   {
    "duration": 23,
    "start_time": "2024-05-19T11:56:19.435Z"
   },
   {
    "duration": 361,
    "start_time": "2024-05-19T11:56:19.460Z"
   },
   {
    "duration": 7,
    "start_time": "2024-05-19T11:56:19.822Z"
   },
   {
    "duration": 22,
    "start_time": "2024-05-19T11:56:19.831Z"
   },
   {
    "duration": 18,
    "start_time": "2024-05-19T11:56:19.855Z"
   },
   {
    "duration": 6,
    "start_time": "2024-05-19T11:56:19.874Z"
   },
   {
    "duration": 19,
    "start_time": "2024-05-19T11:56:19.882Z"
   },
   {
    "duration": 8,
    "start_time": "2024-05-19T11:56:19.905Z"
   },
   {
    "duration": 27,
    "start_time": "2024-05-19T11:56:19.915Z"
   },
   {
    "duration": 20,
    "start_time": "2024-05-19T11:56:19.944Z"
   },
   {
    "duration": 15,
    "start_time": "2024-05-19T11:56:19.966Z"
   },
   {
    "duration": 21,
    "start_time": "2024-05-19T11:56:19.984Z"
   },
   {
    "duration": 11,
    "start_time": "2024-05-19T11:56:20.007Z"
   },
   {
    "duration": 46,
    "start_time": "2024-05-19T11:56:20.020Z"
   },
   {
    "duration": 37,
    "start_time": "2024-05-19T11:56:20.068Z"
   },
   {
    "duration": 12,
    "start_time": "2024-05-19T11:56:20.107Z"
   },
   {
    "duration": 51,
    "start_time": "2024-05-19T11:56:20.121Z"
   },
   {
    "duration": 7,
    "start_time": "2024-05-19T11:56:20.174Z"
   },
   {
    "duration": 6,
    "start_time": "2024-05-19T11:56:20.183Z"
   },
   {
    "duration": 259,
    "start_time": "2024-05-19T11:56:20.191Z"
   },
   {
    "duration": 101,
    "start_time": "2024-05-19T11:56:20.452Z"
   },
   {
    "duration": 229,
    "start_time": "2024-05-19T11:56:20.555Z"
   },
   {
    "duration": 9,
    "start_time": "2024-05-19T11:56:20.786Z"
   },
   {
    "duration": 326,
    "start_time": "2024-05-19T11:56:20.797Z"
   },
   {
    "duration": 11,
    "start_time": "2024-05-19T11:56:21.125Z"
   },
   {
    "duration": 36,
    "start_time": "2024-05-19T11:56:21.138Z"
   },
   {
    "duration": 8,
    "start_time": "2024-05-19T11:56:21.176Z"
   },
   {
    "duration": 28,
    "start_time": "2024-05-19T11:56:21.186Z"
   },
   {
    "duration": 147,
    "start_time": "2024-05-19T11:56:21.215Z"
   },
   {
    "duration": 15,
    "start_time": "2024-05-19T11:56:21.364Z"
   },
   {
    "duration": 44,
    "start_time": "2024-05-19T11:56:21.380Z"
   },
   {
    "duration": 51,
    "start_time": "2024-05-19T11:56:21.426Z"
   },
   {
    "duration": 8,
    "start_time": "2024-05-19T11:56:21.479Z"
   },
   {
    "duration": 15,
    "start_time": "2024-05-19T11:56:21.489Z"
   },
   {
    "duration": 13,
    "start_time": "2024-05-19T11:56:21.508Z"
   },
   {
    "duration": 53,
    "start_time": "2024-05-19T11:56:21.523Z"
   },
   {
    "duration": 56,
    "start_time": "2024-05-19T11:56:21.578Z"
   },
   {
    "duration": 402,
    "start_time": "2024-05-19T11:56:21.636Z"
   },
   {
    "duration": 189,
    "start_time": "2024-05-19T11:56:22.040Z"
   },
   {
    "duration": 7,
    "start_time": "2024-05-19T11:56:22.231Z"
   },
   {
    "duration": 244,
    "start_time": "2024-05-19T11:56:22.240Z"
   },
   {
    "duration": 9,
    "start_time": "2024-05-19T11:56:22.485Z"
   },
   {
    "duration": 141,
    "start_time": "2024-05-19T11:56:22.495Z"
   },
   {
    "duration": 27,
    "start_time": "2024-05-19T11:56:22.637Z"
   },
   {
    "duration": 6,
    "start_time": "2024-05-19T11:56:22.665Z"
   },
   {
    "duration": 46,
    "start_time": "2024-05-19T11:56:22.672Z"
   },
   {
    "duration": 4,
    "start_time": "2024-05-19T11:56:22.720Z"
   },
   {
    "duration": 263,
    "start_time": "2024-05-19T11:56:22.726Z"
   },
   {
    "duration": 140,
    "start_time": "2024-05-19T11:56:22.990Z"
   },
   {
    "duration": 5,
    "start_time": "2024-05-19T11:56:23.132Z"
   },
   {
    "duration": 320,
    "start_time": "2024-05-19T11:56:23.139Z"
   },
   {
    "duration": 11,
    "start_time": "2024-05-19T11:56:23.463Z"
   },
   {
    "duration": 10,
    "start_time": "2024-05-19T11:56:23.476Z"
   },
   {
    "duration": 10,
    "start_time": "2024-05-19T11:56:23.488Z"
   },
   {
    "duration": 1286,
    "start_time": "2024-05-19T17:37:17.976Z"
   },
   {
    "duration": 360,
    "start_time": "2024-05-19T17:37:19.264Z"
   },
   {
    "duration": 14,
    "start_time": "2024-05-19T17:37:19.625Z"
   },
   {
    "duration": 11,
    "start_time": "2024-05-19T17:37:19.641Z"
   },
   {
    "duration": 313,
    "start_time": "2024-05-19T17:37:19.653Z"
   },
   {
    "duration": 13,
    "start_time": "2024-05-19T17:37:19.970Z"
   },
   {
    "duration": 33,
    "start_time": "2024-05-19T17:37:19.985Z"
   },
   {
    "duration": 334,
    "start_time": "2024-05-19T17:37:20.020Z"
   },
   {
    "duration": 6,
    "start_time": "2024-05-19T17:37:20.356Z"
   },
   {
    "duration": 18,
    "start_time": "2024-05-19T17:37:20.365Z"
   },
   {
    "duration": 11,
    "start_time": "2024-05-19T17:37:20.385Z"
   },
   {
    "duration": 7,
    "start_time": "2024-05-19T17:37:20.397Z"
   },
   {
    "duration": 5,
    "start_time": "2024-05-19T17:37:20.406Z"
   },
   {
    "duration": 12,
    "start_time": "2024-05-19T17:37:20.413Z"
   },
   {
    "duration": 7,
    "start_time": "2024-05-19T17:37:20.427Z"
   },
   {
    "duration": 38,
    "start_time": "2024-05-19T17:37:20.435Z"
   },
   {
    "duration": 11,
    "start_time": "2024-05-19T17:37:20.474Z"
   },
   {
    "duration": 10,
    "start_time": "2024-05-19T17:37:20.487Z"
   },
   {
    "duration": 9,
    "start_time": "2024-05-19T17:37:20.499Z"
   },
   {
    "duration": 12,
    "start_time": "2024-05-19T17:37:20.510Z"
   },
   {
    "duration": 5,
    "start_time": "2024-05-19T17:37:20.523Z"
   },
   {
    "duration": 6,
    "start_time": "2024-05-19T17:37:20.530Z"
   },
   {
    "duration": 11,
    "start_time": "2024-05-19T17:37:20.538Z"
   },
   {
    "duration": 23,
    "start_time": "2024-05-19T17:37:20.550Z"
   },
   {
    "duration": 6,
    "start_time": "2024-05-19T17:37:20.575Z"
   },
   {
    "duration": 178,
    "start_time": "2024-05-19T17:37:20.582Z"
   },
   {
    "duration": 109,
    "start_time": "2024-05-19T17:37:20.761Z"
   },
   {
    "duration": 181,
    "start_time": "2024-05-19T17:37:20.873Z"
   },
   {
    "duration": 14,
    "start_time": "2024-05-19T17:37:21.056Z"
   },
   {
    "duration": 313,
    "start_time": "2024-05-19T17:37:21.072Z"
   },
   {
    "duration": 9,
    "start_time": "2024-05-19T17:37:21.387Z"
   },
   {
    "duration": 71,
    "start_time": "2024-05-19T17:37:21.397Z"
   },
   {
    "duration": 9,
    "start_time": "2024-05-19T17:37:21.470Z"
   },
   {
    "duration": 17,
    "start_time": "2024-05-19T17:37:21.480Z"
   },
   {
    "duration": 209,
    "start_time": "2024-05-19T17:37:21.498Z"
   },
   {
    "duration": 7,
    "start_time": "2024-05-19T17:37:21.709Z"
   },
   {
    "duration": 14,
    "start_time": "2024-05-19T17:37:21.717Z"
   },
   {
    "duration": 47,
    "start_time": "2024-05-19T17:37:21.732Z"
   },
   {
    "duration": 9,
    "start_time": "2024-05-19T17:37:21.780Z"
   },
   {
    "duration": 17,
    "start_time": "2024-05-19T17:37:21.790Z"
   },
   {
    "duration": 33,
    "start_time": "2024-05-19T17:37:21.809Z"
   },
   {
    "duration": 49,
    "start_time": "2024-05-19T17:37:21.843Z"
   },
   {
    "duration": 121,
    "start_time": "2024-05-19T17:37:21.894Z"
   },
   {
    "duration": 316,
    "start_time": "2024-05-19T17:37:22.016Z"
   },
   {
    "duration": 197,
    "start_time": "2024-05-19T17:37:22.334Z"
   },
   {
    "duration": 10,
    "start_time": "2024-05-19T17:37:22.533Z"
   },
   {
    "duration": 257,
    "start_time": "2024-05-19T17:37:22.544Z"
   },
   {
    "duration": 9,
    "start_time": "2024-05-19T17:37:22.803Z"
   },
   {
    "duration": 23,
    "start_time": "2024-05-19T17:37:22.814Z"
   },
   {
    "duration": 3,
    "start_time": "2024-05-19T17:37:22.840Z"
   },
   {
    "duration": 10,
    "start_time": "2024-05-19T17:37:22.844Z"
   },
   {
    "duration": 68,
    "start_time": "2024-05-19T17:37:22.855Z"
   },
   {
    "duration": 7,
    "start_time": "2024-05-19T17:37:22.925Z"
   },
   {
    "duration": 238,
    "start_time": "2024-05-19T17:37:22.933Z"
   },
   {
    "duration": 136,
    "start_time": "2024-05-19T17:37:23.173Z"
   },
   {
    "duration": 5,
    "start_time": "2024-05-19T17:37:23.311Z"
   },
   {
    "duration": 392,
    "start_time": "2024-05-19T17:37:23.318Z"
   },
   {
    "duration": 6,
    "start_time": "2024-05-19T17:37:23.712Z"
   },
   {
    "duration": 15,
    "start_time": "2024-05-19T17:37:23.719Z"
   },
   {
    "duration": 34,
    "start_time": "2024-05-19T17:37:23.736Z"
   },
   {
    "duration": 3,
    "start_time": "2024-05-19T18:07:54.636Z"
   },
   {
    "duration": 3,
    "start_time": "2024-05-19T18:07:58.121Z"
   },
   {
    "duration": 1111,
    "start_time": "2024-05-19T18:08:05.143Z"
   },
   {
    "duration": 102,
    "start_time": "2024-05-19T18:08:06.256Z"
   },
   {
    "duration": 13,
    "start_time": "2024-05-19T18:08:06.360Z"
   },
   {
    "duration": 74,
    "start_time": "2024-05-19T18:08:06.376Z"
   },
   {
    "duration": 289,
    "start_time": "2024-05-19T18:08:06.452Z"
   },
   {
    "duration": 10,
    "start_time": "2024-05-19T18:08:06.743Z"
   },
   {
    "duration": 23,
    "start_time": "2024-05-19T18:08:06.755Z"
   },
   {
    "duration": 392,
    "start_time": "2024-05-19T18:08:06.780Z"
   },
   {
    "duration": 7,
    "start_time": "2024-05-19T18:08:07.174Z"
   },
   {
    "duration": 12,
    "start_time": "2024-05-19T18:08:07.184Z"
   },
   {
    "duration": 12,
    "start_time": "2024-05-19T18:08:07.198Z"
   },
   {
    "duration": 8,
    "start_time": "2024-05-19T18:08:07.212Z"
   },
   {
    "duration": 5,
    "start_time": "2024-05-19T18:08:07.222Z"
   },
   {
    "duration": 19,
    "start_time": "2024-05-19T18:08:07.228Z"
   },
   {
    "duration": 6,
    "start_time": "2024-05-19T18:08:07.269Z"
   },
   {
    "duration": 8,
    "start_time": "2024-05-19T18:08:07.277Z"
   },
   {
    "duration": 5,
    "start_time": "2024-05-19T18:08:07.287Z"
   },
   {
    "duration": 8,
    "start_time": "2024-05-19T18:08:07.294Z"
   },
   {
    "duration": 17,
    "start_time": "2024-05-19T18:08:07.303Z"
   },
   {
    "duration": 7,
    "start_time": "2024-05-19T18:08:07.322Z"
   },
   {
    "duration": 4,
    "start_time": "2024-05-19T18:08:07.330Z"
   },
   {
    "duration": 6,
    "start_time": "2024-05-19T18:08:07.335Z"
   },
   {
    "duration": 67,
    "start_time": "2024-05-19T18:08:07.370Z"
   },
   {
    "duration": 5,
    "start_time": "2024-05-19T18:08:07.438Z"
   },
   {
    "duration": 68,
    "start_time": "2024-05-19T18:08:07.445Z"
   },
   {
    "duration": 367,
    "start_time": "2024-05-19T18:08:07.515Z"
   },
   {
    "duration": 109,
    "start_time": "2024-05-19T18:08:07.884Z"
   },
   {
    "duration": 194,
    "start_time": "2024-05-19T18:08:07.997Z"
   },
   {
    "duration": 8,
    "start_time": "2024-05-19T18:08:08.193Z"
   },
   {
    "duration": 476,
    "start_time": "2024-05-19T18:08:08.203Z"
   },
   {
    "duration": 9,
    "start_time": "2024-05-19T18:08:08.681Z"
   },
   {
    "duration": 14,
    "start_time": "2024-05-19T18:08:08.691Z"
   },
   {
    "duration": 2,
    "start_time": "2024-05-19T18:08:08.707Z"
   },
   {
    "duration": 59,
    "start_time": "2024-05-19T18:08:08.710Z"
   },
   {
    "duration": 207,
    "start_time": "2024-05-19T18:08:08.771Z"
   },
   {
    "duration": 7,
    "start_time": "2024-05-19T18:08:08.980Z"
   },
   {
    "duration": 18,
    "start_time": "2024-05-19T18:08:08.989Z"
   },
   {
    "duration": 38,
    "start_time": "2024-05-19T18:08:09.009Z"
   },
   {
    "duration": 8,
    "start_time": "2024-05-19T18:08:09.048Z"
   },
   {
    "duration": 22,
    "start_time": "2024-05-19T18:08:09.058Z"
   },
   {
    "duration": 17,
    "start_time": "2024-05-19T18:08:09.081Z"
   },
   {
    "duration": 28,
    "start_time": "2024-05-19T18:08:09.099Z"
   },
   {
    "duration": 16,
    "start_time": "2024-05-19T18:08:09.128Z"
   },
   {
    "duration": 375,
    "start_time": "2024-05-19T18:08:09.145Z"
   },
   {
    "duration": 180,
    "start_time": "2024-05-19T18:08:09.522Z"
   },
   {
    "duration": 15,
    "start_time": "2024-05-19T18:08:09.704Z"
   },
   {
    "duration": 257,
    "start_time": "2024-05-19T18:08:09.720Z"
   },
   {
    "duration": 10,
    "start_time": "2024-05-19T18:08:09.979Z"
   },
   {
    "duration": 93,
    "start_time": "2024-05-19T18:08:09.990Z"
   },
   {
    "duration": 12,
    "start_time": "2024-05-19T18:08:10.085Z"
   },
   {
    "duration": 22,
    "start_time": "2024-05-19T18:08:10.098Z"
   },
   {
    "duration": 72,
    "start_time": "2024-05-19T18:08:10.121Z"
   },
   {
    "duration": 5,
    "start_time": "2024-05-19T18:08:10.194Z"
   },
   {
    "duration": 389,
    "start_time": "2024-05-19T18:08:10.200Z"
   },
   {
    "duration": 140,
    "start_time": "2024-05-19T18:08:10.590Z"
   },
   {
    "duration": 4,
    "start_time": "2024-05-19T18:08:10.732Z"
   },
   {
    "duration": 326,
    "start_time": "2024-05-19T18:08:10.738Z"
   },
   {
    "duration": 7,
    "start_time": "2024-05-19T18:08:11.065Z"
   },
   {
    "duration": 35,
    "start_time": "2024-05-19T18:08:11.073Z"
   },
   {
    "duration": 23,
    "start_time": "2024-05-19T18:08:11.109Z"
   },
   {
    "duration": 1057,
    "start_time": "2024-05-19T20:34:45.000Z"
   },
   {
    "duration": 119,
    "start_time": "2024-05-19T20:34:46.059Z"
   },
   {
    "duration": 13,
    "start_time": "2024-05-19T20:34:46.180Z"
   },
   {
    "duration": 183,
    "start_time": "2024-05-19T20:34:46.194Z"
   },
   {
    "duration": 311,
    "start_time": "2024-05-19T20:34:46.378Z"
   },
   {
    "duration": 10,
    "start_time": "2024-05-19T20:34:46.690Z"
   },
   {
    "duration": 13,
    "start_time": "2024-05-19T20:34:46.702Z"
   },
   {
    "duration": 515,
    "start_time": "2024-05-19T20:34:46.716Z"
   },
   {
    "duration": 7,
    "start_time": "2024-05-19T20:34:47.233Z"
   },
   {
    "duration": 28,
    "start_time": "2024-05-19T20:34:47.242Z"
   },
   {
    "duration": 14,
    "start_time": "2024-05-19T20:34:47.272Z"
   },
   {
    "duration": 7,
    "start_time": "2024-05-19T20:34:47.288Z"
   },
   {
    "duration": 11,
    "start_time": "2024-05-19T20:34:47.297Z"
   },
   {
    "duration": 9,
    "start_time": "2024-05-19T20:34:47.309Z"
   },
   {
    "duration": 10,
    "start_time": "2024-05-19T20:34:47.320Z"
   },
   {
    "duration": 6,
    "start_time": "2024-05-19T20:34:47.331Z"
   },
   {
    "duration": 5,
    "start_time": "2024-05-19T20:34:47.339Z"
   },
   {
    "duration": 28,
    "start_time": "2024-05-19T20:34:47.345Z"
   },
   {
    "duration": 10,
    "start_time": "2024-05-19T20:34:47.374Z"
   },
   {
    "duration": 20,
    "start_time": "2024-05-19T20:34:47.385Z"
   },
   {
    "duration": 4,
    "start_time": "2024-05-19T20:34:47.407Z"
   },
   {
    "duration": 6,
    "start_time": "2024-05-19T20:34:47.412Z"
   },
   {
    "duration": 11,
    "start_time": "2024-05-19T20:34:47.419Z"
   },
   {
    "duration": 7,
    "start_time": "2024-05-19T20:34:47.432Z"
   },
   {
    "duration": 10,
    "start_time": "2024-05-19T20:34:47.440Z"
   },
   {
    "duration": 172,
    "start_time": "2024-05-19T20:34:47.451Z"
   },
   {
    "duration": 104,
    "start_time": "2024-05-19T20:34:47.624Z"
   },
   {
    "duration": 175,
    "start_time": "2024-05-19T20:34:47.733Z"
   },
   {
    "duration": 8,
    "start_time": "2024-05-19T20:34:47.909Z"
   },
   {
    "duration": 359,
    "start_time": "2024-05-19T20:34:47.918Z"
   },
   {
    "duration": 9,
    "start_time": "2024-05-19T20:34:48.278Z"
   },
   {
    "duration": 105,
    "start_time": "2024-05-19T20:34:48.288Z"
   },
   {
    "duration": 15,
    "start_time": "2024-05-19T20:34:48.395Z"
   },
   {
    "duration": 5,
    "start_time": "2024-05-19T20:34:48.411Z"
   },
   {
    "duration": 134,
    "start_time": "2024-05-19T20:34:48.417Z"
   },
   {
    "duration": 7,
    "start_time": "2024-05-19T20:34:48.553Z"
   },
   {
    "duration": 2,
    "start_time": "2024-05-19T20:34:48.570Z"
   },
   {
    "duration": 21,
    "start_time": "2024-05-19T20:34:48.574Z"
   },
   {
    "duration": 101,
    "start_time": "2024-05-19T20:34:48.597Z"
   },
   {
    "duration": 9,
    "start_time": "2024-05-19T20:34:48.699Z"
   },
   {
    "duration": 14,
    "start_time": "2024-05-19T20:34:48.709Z"
   },
   {
    "duration": 10,
    "start_time": "2024-05-19T20:34:48.724Z"
   },
   {
    "duration": 38,
    "start_time": "2024-05-19T20:34:48.735Z"
   },
   {
    "duration": 16,
    "start_time": "2024-05-19T20:34:48.775Z"
   },
   {
    "duration": 318,
    "start_time": "2024-05-19T20:34:48.792Z"
   },
   {
    "duration": 165,
    "start_time": "2024-05-19T20:34:49.112Z"
   },
   {
    "duration": 9,
    "start_time": "2024-05-19T20:34:49.279Z"
   },
   {
    "duration": 262,
    "start_time": "2024-05-19T20:34:49.289Z"
   },
   {
    "duration": 20,
    "start_time": "2024-05-19T20:34:49.553Z"
   },
   {
    "duration": 11,
    "start_time": "2024-05-19T20:34:49.575Z"
   },
   {
    "duration": 20,
    "start_time": "2024-05-19T20:34:49.588Z"
   },
   {
    "duration": 7,
    "start_time": "2024-05-19T20:34:49.609Z"
   },
   {
    "duration": 48,
    "start_time": "2024-05-19T20:34:49.617Z"
   },
   {
    "duration": 4,
    "start_time": "2024-05-19T20:34:49.666Z"
   },
   {
    "duration": 243,
    "start_time": "2024-05-19T20:34:49.672Z"
   },
   {
    "duration": 149,
    "start_time": "2024-05-19T20:34:49.916Z"
   },
   {
    "duration": 4,
    "start_time": "2024-05-19T20:34:50.069Z"
   },
   {
    "duration": 313,
    "start_time": "2024-05-19T20:34:50.074Z"
   },
   {
    "duration": 6,
    "start_time": "2024-05-19T20:34:50.389Z"
   },
   {
    "duration": 6,
    "start_time": "2024-05-19T20:34:50.397Z"
   },
   {
    "duration": 8,
    "start_time": "2024-05-19T20:34:50.404Z"
   },
   {
    "duration": 4,
    "start_time": "2024-05-19T20:36:28.928Z"
   },
   {
    "duration": 5,
    "start_time": "2024-05-19T20:37:12.935Z"
   },
   {
    "duration": 6,
    "start_time": "2024-05-19T20:38:35.700Z"
   },
   {
    "duration": 5,
    "start_time": "2024-05-19T20:38:55.268Z"
   },
   {
    "duration": 44987,
    "start_time": "2024-05-19T20:45:18.168Z"
   },
   {
    "duration": 9,
    "start_time": "2024-05-19T20:46:38.277Z"
   },
   {
    "duration": 44976,
    "start_time": "2024-05-19T20:46:47.499Z"
   },
   {
    "duration": 8,
    "start_time": "2024-05-19T20:47:32.476Z"
   },
   {
    "duration": 5,
    "start_time": "2024-05-19T20:49:07.321Z"
   },
   {
    "duration": 45771,
    "start_time": "2024-05-19T20:49:13.881Z"
   },
   {
    "duration": 15,
    "start_time": "2024-05-19T20:49:59.654Z"
   },
   {
    "duration": 10,
    "start_time": "2024-05-19T20:55:14.926Z"
   },
   {
    "duration": 1065,
    "start_time": "2024-05-19T20:55:46.974Z"
   },
   {
    "duration": 113,
    "start_time": "2024-05-19T20:55:48.040Z"
   },
   {
    "duration": 14,
    "start_time": "2024-05-19T20:55:48.154Z"
   },
   {
    "duration": 22,
    "start_time": "2024-05-19T20:55:48.169Z"
   },
   {
    "duration": 286,
    "start_time": "2024-05-19T20:55:48.193Z"
   },
   {
    "duration": 10,
    "start_time": "2024-05-19T20:55:48.480Z"
   },
   {
    "duration": 13,
    "start_time": "2024-05-19T20:55:48.491Z"
   },
   {
    "duration": 356,
    "start_time": "2024-05-19T20:55:48.505Z"
   },
   {
    "duration": 11,
    "start_time": "2024-05-19T20:55:48.863Z"
   },
   {
    "duration": 11,
    "start_time": "2024-05-19T20:55:48.876Z"
   },
   {
    "duration": 8,
    "start_time": "2024-05-19T20:55:48.888Z"
   },
   {
    "duration": 15,
    "start_time": "2024-05-19T20:55:48.897Z"
   },
   {
    "duration": 5,
    "start_time": "2024-05-19T20:55:48.913Z"
   },
   {
    "duration": 9,
    "start_time": "2024-05-19T20:55:48.921Z"
   },
   {
    "duration": 71,
    "start_time": "2024-05-19T20:55:48.931Z"
   },
   {
    "duration": 124,
    "start_time": "2024-05-19T20:55:49.003Z"
   },
   {
    "duration": 24,
    "start_time": "2024-05-19T20:55:49.128Z"
   },
   {
    "duration": 12,
    "start_time": "2024-05-19T20:55:49.153Z"
   },
   {
    "duration": 4,
    "start_time": "2024-05-19T20:55:49.167Z"
   },
   {
    "duration": 6,
    "start_time": "2024-05-19T20:55:49.173Z"
   },
   {
    "duration": 4,
    "start_time": "2024-05-19T20:55:49.180Z"
   },
   {
    "duration": 18,
    "start_time": "2024-05-19T20:55:49.185Z"
   },
   {
    "duration": 119,
    "start_time": "2024-05-19T20:55:49.205Z"
   },
   {
    "duration": 23,
    "start_time": "2024-05-19T20:55:49.325Z"
   },
   {
    "duration": 16,
    "start_time": "2024-05-19T20:55:49.349Z"
   },
   {
    "duration": 148,
    "start_time": "2024-05-19T20:55:49.366Z"
   },
   {
    "duration": 92,
    "start_time": "2024-05-19T20:55:49.516Z"
   },
   {
    "duration": 149,
    "start_time": "2024-05-19T20:55:49.610Z"
   },
   {
    "duration": 13,
    "start_time": "2024-05-19T20:55:49.761Z"
   },
   {
    "duration": 298,
    "start_time": "2024-05-19T20:55:49.775Z"
   },
   {
    "duration": 8,
    "start_time": "2024-05-19T20:55:50.074Z"
   },
   {
    "duration": 36,
    "start_time": "2024-05-19T20:55:50.084Z"
   },
   {
    "duration": 38,
    "start_time": "2024-05-19T20:55:50.122Z"
   },
   {
    "duration": 24,
    "start_time": "2024-05-19T20:55:50.162Z"
   },
   {
    "duration": 260,
    "start_time": "2024-05-19T20:55:50.188Z"
   },
   {
    "duration": 8,
    "start_time": "2024-05-19T20:55:50.449Z"
   },
   {
    "duration": 4,
    "start_time": "2024-05-19T20:55:50.470Z"
   },
   {
    "duration": 19,
    "start_time": "2024-05-19T20:55:50.476Z"
   },
   {
    "duration": 5,
    "start_time": "2024-05-19T20:55:50.496Z"
   },
   {
    "duration": 42191,
    "start_time": "2024-05-19T20:55:50.502Z"
   },
   {
    "duration": 8,
    "start_time": "2024-05-19T20:56:32.697Z"
   },
   {
    "duration": 56,
    "start_time": "2024-05-19T20:56:32.707Z"
   },
   {
    "duration": 10,
    "start_time": "2024-05-19T20:56:32.764Z"
   },
   {
    "duration": 22,
    "start_time": "2024-05-19T20:56:32.775Z"
   },
   {
    "duration": 10,
    "start_time": "2024-05-19T20:56:32.799Z"
   },
   {
    "duration": 22,
    "start_time": "2024-05-19T20:56:32.810Z"
   },
   {
    "duration": 16,
    "start_time": "2024-05-19T20:56:32.833Z"
   },
   {
    "duration": 347,
    "start_time": "2024-05-19T20:56:32.850Z"
   },
   {
    "duration": 172,
    "start_time": "2024-05-19T20:56:33.199Z"
   },
   {
    "duration": 10,
    "start_time": "2024-05-19T20:56:33.372Z"
   },
   {
    "duration": 256,
    "start_time": "2024-05-19T20:56:33.384Z"
   },
   {
    "duration": 10,
    "start_time": "2024-05-19T20:56:33.642Z"
   },
   {
    "duration": 23,
    "start_time": "2024-05-19T20:56:33.654Z"
   },
   {
    "duration": 17,
    "start_time": "2024-05-19T20:56:33.679Z"
   },
   {
    "duration": 14,
    "start_time": "2024-05-19T20:56:33.698Z"
   },
   {
    "duration": 47,
    "start_time": "2024-05-19T20:56:33.714Z"
   },
   {
    "duration": 9,
    "start_time": "2024-05-19T20:56:33.763Z"
   },
   {
    "duration": 258,
    "start_time": "2024-05-19T20:56:33.773Z"
   },
   {
    "duration": 147,
    "start_time": "2024-05-19T20:56:34.033Z"
   },
   {
    "duration": 6,
    "start_time": "2024-05-19T20:56:34.182Z"
   },
   {
    "duration": 297,
    "start_time": "2024-05-19T20:56:34.189Z"
   },
   {
    "duration": 6,
    "start_time": "2024-05-19T20:56:34.488Z"
   },
   {
    "duration": 5,
    "start_time": "2024-05-19T20:56:34.496Z"
   },
   {
    "duration": 8,
    "start_time": "2024-05-19T20:56:34.502Z"
   },
   {
    "duration": 3,
    "start_time": "2024-05-19T20:59:41.233Z"
   },
   {
    "duration": 102,
    "start_time": "2024-05-19T21:01:01.733Z"
   },
   {
    "duration": 3,
    "start_time": "2024-05-19T21:01:30.285Z"
   },
   {
    "duration": 9,
    "start_time": "2024-05-19T21:01:32.333Z"
   },
   {
    "duration": 1011,
    "start_time": "2024-05-19T21:01:40.882Z"
   },
   {
    "duration": 114,
    "start_time": "2024-05-19T21:01:41.895Z"
   },
   {
    "duration": 11,
    "start_time": "2024-05-19T21:01:42.011Z"
   },
   {
    "duration": 8,
    "start_time": "2024-05-19T21:01:42.024Z"
   },
   {
    "duration": 278,
    "start_time": "2024-05-19T21:01:42.034Z"
   },
   {
    "duration": 9,
    "start_time": "2024-05-19T21:01:42.314Z"
   },
   {
    "duration": 72,
    "start_time": "2024-05-19T21:01:42.324Z"
   },
   {
    "duration": 298,
    "start_time": "2024-05-19T21:01:42.398Z"
   },
   {
    "duration": 6,
    "start_time": "2024-05-19T21:01:42.698Z"
   },
   {
    "duration": 69,
    "start_time": "2024-05-19T21:01:42.706Z"
   },
   {
    "duration": 11,
    "start_time": "2024-05-19T21:01:42.777Z"
   },
   {
    "duration": 7,
    "start_time": "2024-05-19T21:01:42.789Z"
   },
   {
    "duration": 18,
    "start_time": "2024-05-19T21:01:42.797Z"
   },
   {
    "duration": 33,
    "start_time": "2024-05-19T21:01:42.818Z"
   },
   {
    "duration": 21,
    "start_time": "2024-05-19T21:01:42.853Z"
   },
   {
    "duration": 23,
    "start_time": "2024-05-19T21:01:42.876Z"
   },
   {
    "duration": 22,
    "start_time": "2024-05-19T21:01:42.901Z"
   },
   {
    "duration": 10,
    "start_time": "2024-05-19T21:01:42.925Z"
   },
   {
    "duration": 6,
    "start_time": "2024-05-19T21:01:42.936Z"
   },
   {
    "duration": 79,
    "start_time": "2024-05-19T21:01:42.943Z"
   },
   {
    "duration": 60,
    "start_time": "2024-05-19T21:01:43.024Z"
   },
   {
    "duration": 79,
    "start_time": "2024-05-19T21:01:43.086Z"
   },
   {
    "duration": 83,
    "start_time": "2024-05-19T21:01:43.167Z"
   },
   {
    "duration": 19,
    "start_time": "2024-05-19T21:01:43.252Z"
   },
   {
    "duration": 35,
    "start_time": "2024-05-19T21:01:43.273Z"
   },
   {
    "duration": 180,
    "start_time": "2024-05-19T21:01:43.310Z"
   },
   {
    "duration": 89,
    "start_time": "2024-05-19T21:01:43.492Z"
   },
   {
    "duration": 166,
    "start_time": "2024-05-19T21:01:43.582Z"
   },
   {
    "duration": 8,
    "start_time": "2024-05-19T21:01:43.749Z"
   },
   {
    "duration": 306,
    "start_time": "2024-05-19T21:01:43.758Z"
   },
   {
    "duration": 8,
    "start_time": "2024-05-19T21:01:44.069Z"
   },
   {
    "duration": 14,
    "start_time": "2024-05-19T21:01:44.079Z"
   },
   {
    "duration": 2,
    "start_time": "2024-05-19T21:01:44.095Z"
   },
   {
    "duration": 10,
    "start_time": "2024-05-19T21:01:44.099Z"
   },
   {
    "duration": 148,
    "start_time": "2024-05-19T21:01:44.110Z"
   },
   {
    "duration": 15,
    "start_time": "2024-05-19T21:01:44.260Z"
   },
   {
    "duration": 143,
    "start_time": "2024-05-19T21:01:44.277Z"
   },
   {
    "duration": 19,
    "start_time": "2024-05-19T21:01:44.421Z"
   },
   {
    "duration": 5,
    "start_time": "2024-05-19T21:01:44.442Z"
   },
   {
    "duration": 11,
    "start_time": "2024-05-19T21:01:44.449Z"
   },
   {
    "duration": 4,
    "start_time": "2024-05-19T21:01:44.464Z"
   },
   {
    "duration": 11,
    "start_time": "2024-05-19T21:01:44.469Z"
   },
   {
    "duration": 29,
    "start_time": "2024-05-19T21:01:44.482Z"
   },
   {
    "duration": 9,
    "start_time": "2024-05-19T21:01:44.513Z"
   },
   {
    "duration": 14,
    "start_time": "2024-05-19T21:01:44.523Z"
   },
   {
    "duration": 33,
    "start_time": "2024-05-19T21:01:44.539Z"
   },
   {
    "duration": 18,
    "start_time": "2024-05-19T21:01:44.574Z"
   },
   {
    "duration": 36,
    "start_time": "2024-05-19T21:01:44.594Z"
   },
   {
    "duration": 299,
    "start_time": "2024-05-19T21:01:44.632Z"
   },
   {
    "duration": 160,
    "start_time": "2024-05-19T21:01:44.933Z"
   },
   {
    "duration": 9,
    "start_time": "2024-05-19T21:01:45.094Z"
   },
   {
    "duration": 446,
    "start_time": "2024-05-19T21:01:45.104Z"
   },
   {
    "duration": 9,
    "start_time": "2024-05-19T21:01:45.551Z"
   },
   {
    "duration": 179,
    "start_time": "2024-05-19T21:01:45.569Z"
   },
   {
    "duration": 83,
    "start_time": "2024-05-19T21:01:45.749Z"
   },
   {
    "duration": 106,
    "start_time": "2024-05-19T21:01:45.834Z"
   },
   {
    "duration": 66,
    "start_time": "2024-05-19T21:01:45.942Z"
   },
   {
    "duration": 4,
    "start_time": "2024-05-19T21:01:46.009Z"
   },
   {
    "duration": 262,
    "start_time": "2024-05-19T21:01:46.015Z"
   },
   {
    "duration": 137,
    "start_time": "2024-05-19T21:01:46.278Z"
   },
   {
    "duration": 108,
    "start_time": "2024-05-19T21:01:46.416Z"
   },
   {
    "duration": 274,
    "start_time": "2024-05-19T21:01:46.526Z"
   },
   {
    "duration": 6,
    "start_time": "2024-05-19T21:01:46.801Z"
   },
   {
    "duration": 9,
    "start_time": "2024-05-19T21:01:46.808Z"
   },
   {
    "duration": 8,
    "start_time": "2024-05-19T21:01:46.818Z"
   },
   {
    "duration": 13,
    "start_time": "2024-05-19T21:02:17.032Z"
   },
   {
    "duration": 96,
    "start_time": "2024-05-19T21:02:33.933Z"
   },
   {
    "duration": 7,
    "start_time": "2024-05-19T21:03:40.532Z"
   },
   {
    "duration": 6,
    "start_time": "2024-05-19T21:07:21.013Z"
   },
   {
    "duration": 10,
    "start_time": "2024-05-19T21:10:46.092Z"
   },
   {
    "duration": 8,
    "start_time": "2024-05-19T21:10:51.340Z"
   },
   {
    "duration": 12,
    "start_time": "2024-05-19T21:11:12.692Z"
   },
   {
    "duration": 9,
    "start_time": "2024-05-19T21:11:44.039Z"
   },
   {
    "duration": 13,
    "start_time": "2024-05-19T21:11:54.404Z"
   },
   {
    "duration": 10,
    "start_time": "2024-05-19T21:12:18.052Z"
   },
   {
    "duration": 6,
    "start_time": "2024-05-19T21:12:23.611Z"
   },
   {
    "duration": 7,
    "start_time": "2024-05-19T21:12:37.471Z"
   },
   {
    "duration": 8,
    "start_time": "2024-05-19T21:17:13.856Z"
   },
   {
    "duration": 478,
    "start_time": "2024-05-19T21:19:12.129Z"
   },
   {
    "duration": 74,
    "start_time": "2024-05-19T21:19:28.328Z"
   },
   {
    "duration": 415,
    "start_time": "2024-05-19T21:19:36.830Z"
   },
   {
    "duration": 439,
    "start_time": "2024-05-19T21:19:58.269Z"
   },
   {
    "duration": 12,
    "start_time": "2024-05-19T21:20:20.049Z"
   },
   {
    "duration": 7,
    "start_time": "2024-05-19T21:20:48.001Z"
   },
   {
    "duration": 2,
    "start_time": "2024-05-19T21:20:52.288Z"
   },
   {
    "duration": 9,
    "start_time": "2024-05-19T21:20:53.528Z"
   },
   {
    "duration": 19,
    "start_time": "2024-05-19T21:21:17.689Z"
   },
   {
    "duration": 2,
    "start_time": "2024-05-19T21:21:53.980Z"
   },
   {
    "duration": 12,
    "start_time": "2024-05-19T21:23:02.216Z"
   },
   {
    "duration": 3,
    "start_time": "2024-05-19T21:24:34.588Z"
   },
   {
    "duration": 6,
    "start_time": "2024-05-19T21:43:54.435Z"
   },
   {
    "duration": 7,
    "start_time": "2024-05-19T21:43:56.408Z"
   },
   {
    "duration": 7,
    "start_time": "2024-05-19T21:44:14.335Z"
   },
   {
    "duration": 5,
    "start_time": "2024-05-19T21:44:38.796Z"
   },
   {
    "duration": 5,
    "start_time": "2024-05-19T21:44:46.075Z"
   },
   {
    "duration": 7,
    "start_time": "2024-05-19T21:44:50.915Z"
   },
   {
    "duration": 12,
    "start_time": "2024-05-19T21:45:32.976Z"
   },
   {
    "duration": 14,
    "start_time": "2024-05-19T21:45:48.856Z"
   },
   {
    "duration": 9,
    "start_time": "2024-05-19T21:45:55.008Z"
   },
   {
    "duration": 1108,
    "start_time": "2024-05-19T21:46:02.236Z"
   },
   {
    "duration": 125,
    "start_time": "2024-05-19T21:46:03.346Z"
   },
   {
    "duration": 13,
    "start_time": "2024-05-19T21:46:03.472Z"
   },
   {
    "duration": 21,
    "start_time": "2024-05-19T21:46:03.486Z"
   },
   {
    "duration": 295,
    "start_time": "2024-05-19T21:46:03.509Z"
   },
   {
    "duration": 11,
    "start_time": "2024-05-19T21:46:03.805Z"
   },
   {
    "duration": 15,
    "start_time": "2024-05-19T21:46:03.817Z"
   },
   {
    "duration": 365,
    "start_time": "2024-05-19T21:46:03.833Z"
   },
   {
    "duration": 7,
    "start_time": "2024-05-19T21:46:04.200Z"
   },
   {
    "duration": 44,
    "start_time": "2024-05-19T21:46:04.209Z"
   },
   {
    "duration": 20,
    "start_time": "2024-05-19T21:46:04.255Z"
   },
   {
    "duration": 36,
    "start_time": "2024-05-19T21:46:04.277Z"
   },
   {
    "duration": 32,
    "start_time": "2024-05-19T21:46:04.314Z"
   },
   {
    "duration": 20,
    "start_time": "2024-05-19T21:46:04.349Z"
   },
   {
    "duration": 19,
    "start_time": "2024-05-19T21:46:04.371Z"
   },
   {
    "duration": 9,
    "start_time": "2024-05-19T21:46:04.391Z"
   },
   {
    "duration": 72,
    "start_time": "2024-05-19T21:46:04.401Z"
   },
   {
    "duration": 55,
    "start_time": "2024-05-19T21:46:04.474Z"
   },
   {
    "duration": 134,
    "start_time": "2024-05-19T21:46:04.530Z"
   },
   {
    "duration": 81,
    "start_time": "2024-05-19T21:46:04.666Z"
   },
   {
    "duration": 14,
    "start_time": "2024-05-19T21:46:04.749Z"
   },
   {
    "duration": 5,
    "start_time": "2024-05-19T21:46:04.765Z"
   },
   {
    "duration": 13,
    "start_time": "2024-05-19T21:46:04.771Z"
   },
   {
    "duration": 8,
    "start_time": "2024-05-19T21:46:04.786Z"
   },
   {
    "duration": 7,
    "start_time": "2024-05-19T21:46:04.795Z"
   },
   {
    "duration": 181,
    "start_time": "2024-05-19T21:46:04.804Z"
   },
   {
    "duration": 101,
    "start_time": "2024-05-19T21:46:04.986Z"
   },
   {
    "duration": 166,
    "start_time": "2024-05-19T21:46:05.088Z"
   },
   {
    "duration": 15,
    "start_time": "2024-05-19T21:46:05.256Z"
   },
   {
    "duration": 713,
    "start_time": "2024-05-19T21:46:05.272Z"
   },
   {
    "duration": 10,
    "start_time": "2024-05-19T21:46:05.986Z"
   },
   {
    "duration": 27,
    "start_time": "2024-05-19T21:46:05.997Z"
   },
   {
    "duration": 6,
    "start_time": "2024-05-19T21:46:06.070Z"
   },
   {
    "duration": 9,
    "start_time": "2024-05-19T21:46:06.077Z"
   },
   {
    "duration": 297,
    "start_time": "2024-05-19T21:46:06.088Z"
   },
   {
    "duration": 8,
    "start_time": "2024-05-19T21:46:06.387Z"
   },
   {
    "duration": 7,
    "start_time": "2024-05-19T21:46:06.396Z"
   },
   {
    "duration": 85,
    "start_time": "2024-05-19T21:46:06.405Z"
   },
   {
    "duration": 153,
    "start_time": "2024-05-19T21:46:06.492Z"
   },
   {
    "duration": 5,
    "start_time": "2024-05-19T21:46:06.647Z"
   },
   {
    "duration": 3,
    "start_time": "2024-05-19T21:46:06.672Z"
   },
   {
    "duration": 57,
    "start_time": "2024-05-19T21:46:06.676Z"
   },
   {
    "duration": 6,
    "start_time": "2024-05-19T21:46:06.735Z"
   },
   {
    "duration": 3,
    "start_time": "2024-05-19T21:46:06.743Z"
   },
   {
    "duration": 23,
    "start_time": "2024-05-19T21:46:06.747Z"
   },
   {
    "duration": 7,
    "start_time": "2024-05-19T21:46:06.771Z"
   },
   {
    "duration": 7,
    "start_time": "2024-05-19T21:46:06.780Z"
   },
   {
    "duration": 33,
    "start_time": "2024-05-19T21:46:06.788Z"
   },
   {
    "duration": 10,
    "start_time": "2024-05-19T21:46:06.823Z"
   },
   {
    "duration": 52,
    "start_time": "2024-05-19T21:46:06.834Z"
   },
   {
    "duration": 11,
    "start_time": "2024-05-19T21:46:06.887Z"
   },
   {
    "duration": 87,
    "start_time": "2024-05-19T21:46:06.899Z"
   },
   {
    "duration": 16,
    "start_time": "2024-05-19T21:46:06.987Z"
   },
   {
    "duration": 324,
    "start_time": "2024-05-19T21:46:07.004Z"
   },
   {
    "duration": 177,
    "start_time": "2024-05-19T21:46:07.330Z"
   },
   {
    "duration": 11,
    "start_time": "2024-05-19T21:46:07.509Z"
   },
   {
    "duration": 261,
    "start_time": "2024-05-19T21:46:07.522Z"
   },
   {
    "duration": 9,
    "start_time": "2024-05-19T21:46:07.785Z"
   },
   {
    "duration": 9,
    "start_time": "2024-05-19T21:46:07.796Z"
   },
   {
    "duration": 7,
    "start_time": "2024-05-19T21:46:07.807Z"
   },
   {
    "duration": 8,
    "start_time": "2024-05-19T21:46:07.816Z"
   },
   {
    "duration": 1000,
    "start_time": "2024-05-19T21:46:07.826Z"
   },
   {
    "duration": 4,
    "start_time": "2024-05-19T21:46:08.828Z"
   },
   {
    "duration": 232,
    "start_time": "2024-05-19T21:46:08.833Z"
   },
   {
    "duration": 132,
    "start_time": "2024-05-19T21:46:09.070Z"
   },
   {
    "duration": 4,
    "start_time": "2024-05-19T21:46:09.204Z"
   },
   {
    "duration": 276,
    "start_time": "2024-05-19T21:46:09.209Z"
   },
   {
    "duration": 6,
    "start_time": "2024-05-19T21:46:09.486Z"
   },
   {
    "duration": 104,
    "start_time": "2024-05-19T21:46:09.493Z"
   },
   {
    "duration": 0,
    "start_time": "2024-05-19T21:46:09.598Z"
   },
   {
    "duration": 7,
    "start_time": "2024-05-19T21:46:47.835Z"
   },
   {
    "duration": 5,
    "start_time": "2024-05-19T21:47:14.468Z"
   },
   {
    "duration": 4,
    "start_time": "2024-05-19T21:47:24.607Z"
   },
   {
    "duration": 3,
    "start_time": "2024-05-19T21:47:42.227Z"
   },
   {
    "duration": 4,
    "start_time": "2024-05-19T21:47:45.335Z"
   },
   {
    "duration": 4,
    "start_time": "2024-05-19T21:47:47.115Z"
   },
   {
    "duration": 8,
    "start_time": "2024-05-19T21:48:00.315Z"
   },
   {
    "duration": 32,
    "start_time": "2024-05-19T21:48:06.347Z"
   },
   {
    "duration": 10,
    "start_time": "2024-05-19T21:48:09.267Z"
   },
   {
    "duration": 17,
    "start_time": "2024-05-19T21:48:09.995Z"
   },
   {
    "duration": 11,
    "start_time": "2024-05-19T21:48:10.671Z"
   },
   {
    "duration": 18,
    "start_time": "2024-05-19T21:48:14.367Z"
   },
   {
    "duration": 16,
    "start_time": "2024-05-19T21:48:14.875Z"
   },
   {
    "duration": 227,
    "start_time": "2024-05-19T21:48:17.635Z"
   },
   {
    "duration": 159,
    "start_time": "2024-05-19T21:48:38.087Z"
   },
   {
    "duration": 10,
    "start_time": "2024-05-19T21:48:52.575Z"
   },
   {
    "duration": 319,
    "start_time": "2024-05-19T21:49:03.794Z"
   },
   {
    "duration": 9,
    "start_time": "2024-05-19T21:49:07.507Z"
   },
   {
    "duration": 1073,
    "start_time": "2024-05-19T21:49:14.736Z"
   },
   {
    "duration": 99,
    "start_time": "2024-05-19T21:49:15.811Z"
   },
   {
    "duration": 13,
    "start_time": "2024-05-19T21:49:15.912Z"
   },
   {
    "duration": 17,
    "start_time": "2024-05-19T21:49:15.926Z"
   },
   {
    "duration": 271,
    "start_time": "2024-05-19T21:49:15.945Z"
   },
   {
    "duration": 10,
    "start_time": "2024-05-19T21:49:16.217Z"
   },
   {
    "duration": 15,
    "start_time": "2024-05-19T21:49:16.229Z"
   },
   {
    "duration": 328,
    "start_time": "2024-05-19T21:49:16.246Z"
   },
   {
    "duration": 6,
    "start_time": "2024-05-19T21:49:16.575Z"
   },
   {
    "duration": 160,
    "start_time": "2024-05-19T21:49:16.582Z"
   },
   {
    "duration": 9,
    "start_time": "2024-05-19T21:49:16.744Z"
   },
   {
    "duration": 8,
    "start_time": "2024-05-19T21:49:16.755Z"
   },
   {
    "duration": 9,
    "start_time": "2024-05-19T21:49:16.764Z"
   },
   {
    "duration": 10,
    "start_time": "2024-05-19T21:49:16.776Z"
   },
   {
    "duration": 9,
    "start_time": "2024-05-19T21:49:16.788Z"
   },
   {
    "duration": 7,
    "start_time": "2024-05-19T21:49:16.799Z"
   },
   {
    "duration": 6,
    "start_time": "2024-05-19T21:49:16.807Z"
   },
   {
    "duration": 8,
    "start_time": "2024-05-19T21:49:16.815Z"
   },
   {
    "duration": 4,
    "start_time": "2024-05-19T21:49:16.825Z"
   },
   {
    "duration": 7,
    "start_time": "2024-05-19T21:49:16.831Z"
   },
   {
    "duration": 32,
    "start_time": "2024-05-19T21:49:16.839Z"
   },
   {
    "duration": 4,
    "start_time": "2024-05-19T21:49:16.873Z"
   },
   {
    "duration": 27,
    "start_time": "2024-05-19T21:49:16.878Z"
   },
   {
    "duration": 76,
    "start_time": "2024-05-19T21:49:16.906Z"
   },
   {
    "duration": 8,
    "start_time": "2024-05-19T21:49:16.983Z"
   },
   {
    "duration": 156,
    "start_time": "2024-05-19T21:49:16.992Z"
   },
   {
    "duration": 91,
    "start_time": "2024-05-19T21:49:17.150Z"
   },
   {
    "duration": 168,
    "start_time": "2024-05-19T21:49:17.242Z"
   },
   {
    "duration": 7,
    "start_time": "2024-05-19T21:49:17.411Z"
   },
   {
    "duration": 295,
    "start_time": "2024-05-19T21:49:17.419Z"
   },
   {
    "duration": 8,
    "start_time": "2024-05-19T21:49:17.715Z"
   },
   {
    "duration": 18,
    "start_time": "2024-05-19T21:49:17.725Z"
   },
   {
    "duration": 3,
    "start_time": "2024-05-19T21:49:17.744Z"
   },
   {
    "duration": 2,
    "start_time": "2024-05-19T21:49:17.770Z"
   },
   {
    "duration": 139,
    "start_time": "2024-05-19T21:49:17.774Z"
   },
   {
    "duration": 8,
    "start_time": "2024-05-19T21:49:17.914Z"
   },
   {
    "duration": 30,
    "start_time": "2024-05-19T21:49:17.923Z"
   },
   {
    "duration": 14,
    "start_time": "2024-05-19T21:49:17.954Z"
   },
   {
    "duration": 7,
    "start_time": "2024-05-19T21:49:17.969Z"
   },
   {
    "duration": 12,
    "start_time": "2024-05-19T21:49:17.978Z"
   },
   {
    "duration": 2,
    "start_time": "2024-05-19T21:49:17.994Z"
   },
   {
    "duration": 14,
    "start_time": "2024-05-19T21:49:17.998Z"
   },
   {
    "duration": 28,
    "start_time": "2024-05-19T21:49:18.014Z"
   },
   {
    "duration": 11,
    "start_time": "2024-05-19T21:49:18.044Z"
   },
   {
    "duration": 5,
    "start_time": "2024-05-19T21:49:18.056Z"
   },
   {
    "duration": 5,
    "start_time": "2024-05-19T21:49:18.062Z"
   },
   {
    "duration": 9,
    "start_time": "2024-05-19T21:49:18.069Z"
   },
   {
    "duration": 91,
    "start_time": "2024-05-19T21:49:18.080Z"
   },
   {
    "duration": 13,
    "start_time": "2024-05-19T21:49:18.172Z"
   },
   {
    "duration": 16,
    "start_time": "2024-05-19T21:49:18.187Z"
   },
   {
    "duration": 65,
    "start_time": "2024-05-19T21:49:18.205Z"
   },
   {
    "duration": 25,
    "start_time": "2024-05-19T21:49:18.272Z"
   },
   {
    "duration": 15,
    "start_time": "2024-05-19T21:49:18.299Z"
   },
   {
    "duration": 606,
    "start_time": "2024-05-19T21:49:18.370Z"
   },
   {
    "duration": 326,
    "start_time": "2024-05-19T21:49:18.978Z"
   },
   {
    "duration": 9,
    "start_time": "2024-05-19T21:49:19.305Z"
   },
   {
    "duration": 373,
    "start_time": "2024-05-19T21:49:19.370Z"
   },
   {
    "duration": 8,
    "start_time": "2024-05-19T21:49:19.745Z"
   },
   {
    "duration": 20,
    "start_time": "2024-05-19T21:49:19.755Z"
   },
   {
    "duration": 6,
    "start_time": "2024-05-19T21:49:19.777Z"
   },
   {
    "duration": 22,
    "start_time": "2024-05-19T21:49:19.785Z"
   },
   {
    "duration": 70,
    "start_time": "2024-05-19T21:49:19.809Z"
   },
   {
    "duration": 10,
    "start_time": "2024-05-19T21:49:19.881Z"
   },
   {
    "duration": 250,
    "start_time": "2024-05-19T21:49:19.892Z"
   },
   {
    "duration": 135,
    "start_time": "2024-05-19T21:49:20.144Z"
   },
   {
    "duration": 5,
    "start_time": "2024-05-19T21:49:20.280Z"
   },
   {
    "duration": 320,
    "start_time": "2024-05-19T21:49:20.287Z"
   },
   {
    "duration": 5,
    "start_time": "2024-05-19T21:49:20.609Z"
   },
   {
    "duration": 136,
    "start_time": "2024-05-19T21:49:20.616Z"
   },
   {
    "duration": 12,
    "start_time": "2024-05-19T21:49:20.754Z"
   },
   {
    "duration": 229,
    "start_time": "2024-05-19T21:55:52.573Z"
   },
   {
    "duration": 256,
    "start_time": "2024-05-19T21:56:05.314Z"
   },
   {
    "duration": 10,
    "start_time": "2024-05-19T22:01:29.513Z"
   },
   {
    "duration": 9,
    "start_time": "2024-05-19T22:03:02.992Z"
   },
   {
    "duration": 1125,
    "start_time": "2024-05-19T22:03:15.461Z"
   },
   {
    "duration": 157,
    "start_time": "2024-05-19T22:03:16.589Z"
   },
   {
    "duration": 31,
    "start_time": "2024-05-19T22:03:16.748Z"
   },
   {
    "duration": 11,
    "start_time": "2024-05-19T22:03:16.781Z"
   },
   {
    "duration": 317,
    "start_time": "2024-05-19T22:03:16.794Z"
   },
   {
    "duration": 11,
    "start_time": "2024-05-19T22:03:17.112Z"
   },
   {
    "duration": 22,
    "start_time": "2024-05-19T22:03:17.124Z"
   },
   {
    "duration": 332,
    "start_time": "2024-05-19T22:03:17.148Z"
   },
   {
    "duration": 7,
    "start_time": "2024-05-19T22:03:17.481Z"
   },
   {
    "duration": 31,
    "start_time": "2024-05-19T22:03:17.490Z"
   },
   {
    "duration": 14,
    "start_time": "2024-05-19T22:03:17.522Z"
   },
   {
    "duration": 6,
    "start_time": "2024-05-19T22:03:17.538Z"
   },
   {
    "duration": 16,
    "start_time": "2024-05-19T22:03:17.546Z"
   },
   {
    "duration": 27,
    "start_time": "2024-05-19T22:03:17.565Z"
   },
   {
    "duration": 10,
    "start_time": "2024-05-19T22:03:17.594Z"
   },
   {
    "duration": 8,
    "start_time": "2024-05-19T22:03:17.605Z"
   },
   {
    "duration": 23,
    "start_time": "2024-05-19T22:03:17.615Z"
   },
   {
    "duration": 6,
    "start_time": "2024-05-19T22:03:17.639Z"
   },
   {
    "duration": 5,
    "start_time": "2024-05-19T22:03:17.646Z"
   },
   {
    "duration": 11,
    "start_time": "2024-05-19T22:03:17.653Z"
   },
   {
    "duration": 18,
    "start_time": "2024-05-19T22:03:17.666Z"
   },
   {
    "duration": 6,
    "start_time": "2024-05-19T22:03:17.686Z"
   },
   {
    "duration": 18,
    "start_time": "2024-05-19T22:03:17.694Z"
   },
   {
    "duration": 4,
    "start_time": "2024-05-19T22:03:17.714Z"
   },
   {
    "duration": 10,
    "start_time": "2024-05-19T22:03:17.719Z"
   },
   {
    "duration": 169,
    "start_time": "2024-05-19T22:03:17.730Z"
   },
   {
    "duration": 102,
    "start_time": "2024-05-19T22:03:17.901Z"
   },
   {
    "duration": 172,
    "start_time": "2024-05-19T22:03:18.004Z"
   },
   {
    "duration": 9,
    "start_time": "2024-05-19T22:03:18.178Z"
   },
   {
    "duration": 295,
    "start_time": "2024-05-19T22:03:18.188Z"
   },
   {
    "duration": 8,
    "start_time": "2024-05-19T22:03:18.485Z"
   },
   {
    "duration": 63,
    "start_time": "2024-05-19T22:03:18.494Z"
   },
   {
    "duration": 4,
    "start_time": "2024-05-19T22:03:18.559Z"
   },
   {
    "duration": 14,
    "start_time": "2024-05-19T22:03:18.564Z"
   },
   {
    "duration": 327,
    "start_time": "2024-05-19T22:03:18.579Z"
   },
   {
    "duration": 8,
    "start_time": "2024-05-19T22:03:18.907Z"
   },
   {
    "duration": 11,
    "start_time": "2024-05-19T22:03:18.917Z"
   },
   {
    "duration": 7,
    "start_time": "2024-05-19T22:03:18.930Z"
   },
   {
    "duration": 6,
    "start_time": "2024-05-19T22:03:18.938Z"
   },
   {
    "duration": 10,
    "start_time": "2024-05-19T22:03:18.970Z"
   },
   {
    "duration": 77,
    "start_time": "2024-05-19T22:03:18.985Z"
   },
   {
    "duration": 9,
    "start_time": "2024-05-19T22:03:19.065Z"
   },
   {
    "duration": 14,
    "start_time": "2024-05-19T22:03:19.076Z"
   },
   {
    "duration": 11,
    "start_time": "2024-05-19T22:03:19.092Z"
   },
   {
    "duration": 19,
    "start_time": "2024-05-19T22:03:19.104Z"
   },
   {
    "duration": 44,
    "start_time": "2024-05-19T22:03:19.125Z"
   },
   {
    "duration": 359,
    "start_time": "2024-05-19T22:03:19.171Z"
   },
   {
    "duration": 166,
    "start_time": "2024-05-19T22:03:19.531Z"
   },
   {
    "duration": 8,
    "start_time": "2024-05-19T22:03:19.698Z"
   },
   {
    "duration": 241,
    "start_time": "2024-05-19T22:03:19.707Z"
   },
   {
    "duration": 19,
    "start_time": "2024-05-19T22:03:19.950Z"
   },
   {
    "duration": 8,
    "start_time": "2024-05-19T22:03:19.971Z"
   },
   {
    "duration": 2,
    "start_time": "2024-05-19T22:03:19.981Z"
   },
   {
    "duration": 6,
    "start_time": "2024-05-19T22:03:19.984Z"
   },
   {
    "duration": 40,
    "start_time": "2024-05-19T22:03:19.991Z"
   },
   {
    "duration": 262,
    "start_time": "2024-05-19T22:03:20.032Z"
   },
   {
    "duration": 135,
    "start_time": "2024-05-19T22:03:20.295Z"
   },
   {
    "duration": 5,
    "start_time": "2024-05-19T22:03:20.432Z"
   },
   {
    "duration": 296,
    "start_time": "2024-05-19T22:03:20.438Z"
   },
   {
    "duration": 5,
    "start_time": "2024-05-19T22:03:20.735Z"
   },
   {
    "duration": 28,
    "start_time": "2024-05-19T22:03:20.741Z"
   },
   {
    "duration": 18,
    "start_time": "2024-05-19T22:03:20.771Z"
   },
   {
    "duration": 11,
    "start_time": "2024-05-19T22:03:42.234Z"
   },
   {
    "duration": 95,
    "start_time": "2024-05-19T22:12:13.552Z"
   },
   {
    "duration": 10,
    "start_time": "2024-05-19T22:12:20.172Z"
   },
   {
    "duration": 1027,
    "start_time": "2024-05-19T22:19:34.072Z"
   },
   {
    "duration": 119,
    "start_time": "2024-05-19T22:19:35.101Z"
   },
   {
    "duration": 14,
    "start_time": "2024-05-19T22:19:35.222Z"
   },
   {
    "duration": 10,
    "start_time": "2024-05-19T22:19:35.237Z"
   },
   {
    "duration": 275,
    "start_time": "2024-05-19T22:19:35.249Z"
   },
   {
    "duration": 9,
    "start_time": "2024-05-19T22:19:35.525Z"
   },
   {
    "duration": 61,
    "start_time": "2024-05-19T22:19:35.535Z"
   },
   {
    "duration": 373,
    "start_time": "2024-05-19T22:19:35.597Z"
   },
   {
    "duration": 6,
    "start_time": "2024-05-19T22:19:35.971Z"
   },
   {
    "duration": 12,
    "start_time": "2024-05-19T22:19:35.979Z"
   },
   {
    "duration": 12,
    "start_time": "2024-05-19T22:19:35.993Z"
   },
   {
    "duration": 7,
    "start_time": "2024-05-19T22:19:36.007Z"
   },
   {
    "duration": 55,
    "start_time": "2024-05-19T22:19:36.015Z"
   },
   {
    "duration": 21,
    "start_time": "2024-05-19T22:19:36.073Z"
   },
   {
    "duration": 20,
    "start_time": "2024-05-19T22:19:36.095Z"
   },
   {
    "duration": 11,
    "start_time": "2024-05-19T22:19:36.116Z"
   },
   {
    "duration": 29,
    "start_time": "2024-05-19T22:19:36.129Z"
   },
   {
    "duration": 28,
    "start_time": "2024-05-19T22:19:36.160Z"
   },
   {
    "duration": 10,
    "start_time": "2024-05-19T22:19:36.189Z"
   },
   {
    "duration": 9,
    "start_time": "2024-05-19T22:19:36.201Z"
   },
   {
    "duration": 4,
    "start_time": "2024-05-19T22:19:36.212Z"
   },
   {
    "duration": 7,
    "start_time": "2024-05-19T22:19:36.218Z"
   },
   {
    "duration": 46,
    "start_time": "2024-05-19T22:19:36.227Z"
   },
   {
    "duration": 5,
    "start_time": "2024-05-19T22:19:36.275Z"
   },
   {
    "duration": 12,
    "start_time": "2024-05-19T22:19:36.282Z"
   },
   {
    "duration": 233,
    "start_time": "2024-05-19T22:19:36.295Z"
   },
   {
    "duration": 88,
    "start_time": "2024-05-19T22:19:36.529Z"
   },
   {
    "duration": 158,
    "start_time": "2024-05-19T22:19:36.618Z"
   },
   {
    "duration": 7,
    "start_time": "2024-05-19T22:19:36.778Z"
   },
   {
    "duration": 340,
    "start_time": "2024-05-19T22:19:36.786Z"
   },
   {
    "duration": 9,
    "start_time": "2024-05-19T22:19:37.127Z"
   },
   {
    "duration": 12,
    "start_time": "2024-05-19T22:19:37.137Z"
   },
   {
    "duration": 20,
    "start_time": "2024-05-19T22:19:37.150Z"
   },
   {
    "duration": 4,
    "start_time": "2024-05-19T22:19:37.171Z"
   },
   {
    "duration": 131,
    "start_time": "2024-05-19T22:19:37.177Z"
   },
   {
    "duration": 7,
    "start_time": "2024-05-19T22:19:37.310Z"
   },
   {
    "duration": 175,
    "start_time": "2024-05-19T22:19:37.319Z"
   },
   {
    "duration": 9,
    "start_time": "2024-05-19T22:19:37.495Z"
   },
   {
    "duration": 21,
    "start_time": "2024-05-19T22:19:37.505Z"
   },
   {
    "duration": 15,
    "start_time": "2024-05-19T22:19:37.528Z"
   },
   {
    "duration": 28,
    "start_time": "2024-05-19T22:19:37.547Z"
   },
   {
    "duration": 11,
    "start_time": "2024-05-19T22:19:37.577Z"
   },
   {
    "duration": 18,
    "start_time": "2024-05-19T22:19:37.590Z"
   },
   {
    "duration": 12,
    "start_time": "2024-05-19T22:19:37.610Z"
   },
   {
    "duration": 25,
    "start_time": "2024-05-19T22:19:37.623Z"
   },
   {
    "duration": 32,
    "start_time": "2024-05-19T22:19:37.649Z"
   },
   {
    "duration": 304,
    "start_time": "2024-05-19T22:19:37.682Z"
   },
   {
    "duration": 146,
    "start_time": "2024-05-19T22:19:37.987Z"
   },
   {
    "duration": 8,
    "start_time": "2024-05-19T22:19:38.135Z"
   },
   {
    "duration": 241,
    "start_time": "2024-05-19T22:19:38.145Z"
   },
   {
    "duration": 8,
    "start_time": "2024-05-19T22:19:38.388Z"
   },
   {
    "duration": 7,
    "start_time": "2024-05-19T22:19:38.397Z"
   },
   {
    "duration": 9,
    "start_time": "2024-05-19T22:19:38.405Z"
   },
   {
    "duration": 18,
    "start_time": "2024-05-19T22:19:38.415Z"
   },
   {
    "duration": 53,
    "start_time": "2024-05-19T22:19:38.434Z"
   },
   {
    "duration": 225,
    "start_time": "2024-05-19T22:19:38.488Z"
   },
   {
    "duration": 125,
    "start_time": "2024-05-19T22:19:38.714Z"
   },
   {
    "duration": 30,
    "start_time": "2024-05-19T22:19:38.840Z"
   },
   {
    "duration": 288,
    "start_time": "2024-05-19T22:19:38.871Z"
   },
   {
    "duration": 5,
    "start_time": "2024-05-19T22:19:39.160Z"
   },
   {
    "duration": 6,
    "start_time": "2024-05-19T22:19:39.169Z"
   },
   {
    "duration": 11,
    "start_time": "2024-05-19T22:19:39.176Z"
   },
   {
    "duration": 1197,
    "start_time": "2024-05-20T09:45:45.767Z"
   },
   {
    "duration": 263,
    "start_time": "2024-05-20T09:45:46.966Z"
   },
   {
    "duration": 12,
    "start_time": "2024-05-20T09:45:47.231Z"
   },
   {
    "duration": 10,
    "start_time": "2024-05-20T09:45:47.245Z"
   },
   {
    "duration": 274,
    "start_time": "2024-05-20T09:45:47.256Z"
   },
   {
    "duration": 9,
    "start_time": "2024-05-20T09:45:47.532Z"
   },
   {
    "duration": 12,
    "start_time": "2024-05-20T09:45:47.555Z"
   },
   {
    "duration": 353,
    "start_time": "2024-05-20T09:45:47.568Z"
   },
   {
    "duration": 6,
    "start_time": "2024-05-20T09:45:47.923Z"
   },
   {
    "duration": 16,
    "start_time": "2024-05-20T09:45:47.931Z"
   },
   {
    "duration": 23,
    "start_time": "2024-05-20T09:45:47.949Z"
   },
   {
    "duration": 7,
    "start_time": "2024-05-20T09:45:47.973Z"
   },
   {
    "duration": 12,
    "start_time": "2024-05-20T09:45:47.981Z"
   },
   {
    "duration": 9,
    "start_time": "2024-05-20T09:45:47.995Z"
   },
   {
    "duration": 5,
    "start_time": "2024-05-20T09:45:48.006Z"
   },
   {
    "duration": 9,
    "start_time": "2024-05-20T09:45:48.013Z"
   },
   {
    "duration": 5,
    "start_time": "2024-05-20T09:45:48.024Z"
   },
   {
    "duration": 10,
    "start_time": "2024-05-20T09:45:48.030Z"
   },
   {
    "duration": 17,
    "start_time": "2024-05-20T09:45:48.041Z"
   },
   {
    "duration": 6,
    "start_time": "2024-05-20T09:45:48.059Z"
   },
   {
    "duration": 4,
    "start_time": "2024-05-20T09:45:48.066Z"
   },
   {
    "duration": 5,
    "start_time": "2024-05-20T09:45:48.071Z"
   },
   {
    "duration": 8,
    "start_time": "2024-05-20T09:45:48.077Z"
   },
   {
    "duration": 5,
    "start_time": "2024-05-20T09:45:48.086Z"
   },
   {
    "duration": 20,
    "start_time": "2024-05-20T09:45:48.092Z"
   },
   {
    "duration": 194,
    "start_time": "2024-05-20T09:45:48.113Z"
   },
   {
    "duration": 92,
    "start_time": "2024-05-20T09:45:48.308Z"
   },
   {
    "duration": 156,
    "start_time": "2024-05-20T09:45:48.404Z"
   },
   {
    "duration": 8,
    "start_time": "2024-05-20T09:45:48.561Z"
   },
   {
    "duration": 282,
    "start_time": "2024-05-20T09:45:48.570Z"
   },
   {
    "duration": 9,
    "start_time": "2024-05-20T09:45:48.855Z"
   },
   {
    "duration": 26,
    "start_time": "2024-05-20T09:45:48.866Z"
   },
   {
    "duration": 5,
    "start_time": "2024-05-20T09:45:48.894Z"
   },
   {
    "duration": 24,
    "start_time": "2024-05-20T09:45:48.900Z"
   },
   {
    "duration": 153,
    "start_time": "2024-05-20T09:45:48.926Z"
   },
   {
    "duration": 7,
    "start_time": "2024-05-20T09:45:49.081Z"
   },
   {
    "duration": 28,
    "start_time": "2024-05-20T09:45:49.090Z"
   },
   {
    "duration": 31,
    "start_time": "2024-05-20T09:45:49.120Z"
   },
   {
    "duration": 30,
    "start_time": "2024-05-20T09:45:49.153Z"
   },
   {
    "duration": 21,
    "start_time": "2024-05-20T09:45:49.184Z"
   },
   {
    "duration": 52,
    "start_time": "2024-05-20T09:45:49.207Z"
   },
   {
    "duration": 18,
    "start_time": "2024-05-20T09:45:49.261Z"
   },
   {
    "duration": 22,
    "start_time": "2024-05-20T09:45:49.281Z"
   },
   {
    "duration": 12,
    "start_time": "2024-05-20T09:45:49.304Z"
   },
   {
    "duration": 27,
    "start_time": "2024-05-20T09:45:49.317Z"
   },
   {
    "duration": 42,
    "start_time": "2024-05-20T09:45:49.346Z"
   },
   {
    "duration": 339,
    "start_time": "2024-05-20T09:45:49.390Z"
   },
   {
    "duration": 154,
    "start_time": "2024-05-20T09:45:49.730Z"
   },
   {
    "duration": 7,
    "start_time": "2024-05-20T09:45:49.886Z"
   },
   {
    "duration": 236,
    "start_time": "2024-05-20T09:45:49.895Z"
   },
   {
    "duration": 8,
    "start_time": "2024-05-20T09:45:50.133Z"
   },
   {
    "duration": 15,
    "start_time": "2024-05-20T09:45:50.142Z"
   },
   {
    "duration": 9,
    "start_time": "2024-05-20T09:45:50.158Z"
   },
   {
    "duration": 25,
    "start_time": "2024-05-20T09:45:50.168Z"
   },
   {
    "duration": 71,
    "start_time": "2024-05-20T09:45:50.195Z"
   },
   {
    "duration": 238,
    "start_time": "2024-05-20T09:45:50.268Z"
   },
   {
    "duration": 148,
    "start_time": "2024-05-20T09:45:50.508Z"
   },
   {
    "duration": 4,
    "start_time": "2024-05-20T09:45:50.658Z"
   },
   {
    "duration": 288,
    "start_time": "2024-05-20T09:45:50.663Z"
   },
   {
    "duration": 4,
    "start_time": "2024-05-20T09:45:50.953Z"
   },
   {
    "duration": 19,
    "start_time": "2024-05-20T09:45:50.959Z"
   },
   {
    "duration": 19,
    "start_time": "2024-05-20T09:45:50.979Z"
   },
   {
    "duration": 993,
    "start_time": "2024-05-20T09:53:37.321Z"
   },
   {
    "duration": 115,
    "start_time": "2024-05-20T09:53:38.316Z"
   },
   {
    "duration": 13,
    "start_time": "2024-05-20T09:53:38.432Z"
   },
   {
    "duration": 36,
    "start_time": "2024-05-20T09:53:38.447Z"
   },
   {
    "duration": 298,
    "start_time": "2024-05-20T09:53:38.485Z"
   },
   {
    "duration": 10,
    "start_time": "2024-05-20T09:53:38.784Z"
   },
   {
    "duration": 35,
    "start_time": "2024-05-20T09:53:38.795Z"
   },
   {
    "duration": 327,
    "start_time": "2024-05-20T09:53:38.831Z"
   },
   {
    "duration": 6,
    "start_time": "2024-05-20T09:53:39.160Z"
   },
   {
    "duration": 14,
    "start_time": "2024-05-20T09:53:39.169Z"
   },
   {
    "duration": 8,
    "start_time": "2024-05-20T09:53:39.184Z"
   },
   {
    "duration": 7,
    "start_time": "2024-05-20T09:53:39.193Z"
   },
   {
    "duration": 5,
    "start_time": "2024-05-20T09:53:39.201Z"
   },
   {
    "duration": 8,
    "start_time": "2024-05-20T09:53:39.207Z"
   },
   {
    "duration": 6,
    "start_time": "2024-05-20T09:53:39.217Z"
   },
   {
    "duration": 33,
    "start_time": "2024-05-20T09:53:39.224Z"
   },
   {
    "duration": 6,
    "start_time": "2024-05-20T09:53:39.259Z"
   },
   {
    "duration": 8,
    "start_time": "2024-05-20T09:53:39.266Z"
   },
   {
    "duration": 5,
    "start_time": "2024-05-20T09:53:39.275Z"
   },
   {
    "duration": 6,
    "start_time": "2024-05-20T09:53:39.281Z"
   },
   {
    "duration": 4,
    "start_time": "2024-05-20T09:53:39.288Z"
   },
   {
    "duration": 6,
    "start_time": "2024-05-20T09:53:39.293Z"
   },
   {
    "duration": 11,
    "start_time": "2024-05-20T09:53:39.301Z"
   },
   {
    "duration": 42,
    "start_time": "2024-05-20T09:53:39.314Z"
   },
   {
    "duration": 4,
    "start_time": "2024-05-20T09:53:39.358Z"
   },
   {
    "duration": 170,
    "start_time": "2024-05-20T09:53:39.363Z"
   },
   {
    "duration": 97,
    "start_time": "2024-05-20T09:53:39.535Z"
   },
   {
    "duration": 181,
    "start_time": "2024-05-20T09:53:39.636Z"
   },
   {
    "duration": 10,
    "start_time": "2024-05-20T09:53:39.818Z"
   },
   {
    "duration": 308,
    "start_time": "2024-05-20T09:53:39.830Z"
   },
   {
    "duration": 22,
    "start_time": "2024-05-20T09:53:40.139Z"
   },
   {
    "duration": 13,
    "start_time": "2024-05-20T09:53:40.163Z"
   },
   {
    "duration": 2,
    "start_time": "2024-05-20T09:53:40.177Z"
   },
   {
    "duration": 6,
    "start_time": "2024-05-20T09:53:40.180Z"
   },
   {
    "duration": 150,
    "start_time": "2024-05-20T09:53:40.187Z"
   },
   {
    "duration": 7,
    "start_time": "2024-05-20T09:53:40.339Z"
   },
   {
    "duration": 10,
    "start_time": "2024-05-20T09:53:40.356Z"
   },
   {
    "duration": 6,
    "start_time": "2024-05-20T09:53:40.368Z"
   },
   {
    "duration": 5,
    "start_time": "2024-05-20T09:53:40.376Z"
   },
   {
    "duration": 10,
    "start_time": "2024-05-20T09:53:40.382Z"
   },
   {
    "duration": 28,
    "start_time": "2024-05-20T09:53:40.394Z"
   },
   {
    "duration": 38,
    "start_time": "2024-05-20T09:53:40.424Z"
   },
   {
    "duration": 19,
    "start_time": "2024-05-20T09:53:40.463Z"
   },
   {
    "duration": 10,
    "start_time": "2024-05-20T09:53:40.484Z"
   },
   {
    "duration": 21,
    "start_time": "2024-05-20T09:53:40.495Z"
   },
   {
    "duration": 15,
    "start_time": "2024-05-20T09:53:40.518Z"
   },
   {
    "duration": 329,
    "start_time": "2024-05-20T09:53:40.534Z"
   },
   {
    "duration": 158,
    "start_time": "2024-05-20T09:53:40.865Z"
   },
   {
    "duration": 8,
    "start_time": "2024-05-20T09:53:41.025Z"
   },
   {
    "duration": 259,
    "start_time": "2024-05-20T09:53:41.034Z"
   },
   {
    "duration": 9,
    "start_time": "2024-05-20T09:53:41.295Z"
   },
   {
    "duration": 9,
    "start_time": "2024-05-20T09:53:41.305Z"
   },
   {
    "duration": 3,
    "start_time": "2024-05-20T09:53:41.315Z"
   },
   {
    "duration": 6,
    "start_time": "2024-05-20T09:53:41.319Z"
   },
   {
    "duration": 72,
    "start_time": "2024-05-20T09:53:41.326Z"
   },
   {
    "duration": 250,
    "start_time": "2024-05-20T09:53:41.400Z"
   },
   {
    "duration": 138,
    "start_time": "2024-05-20T09:53:41.652Z"
   },
   {
    "duration": 6,
    "start_time": "2024-05-20T09:53:41.792Z"
   },
   {
    "duration": 284,
    "start_time": "2024-05-20T09:53:41.800Z"
   },
   {
    "duration": 5,
    "start_time": "2024-05-20T09:53:42.086Z"
   },
   {
    "duration": 5,
    "start_time": "2024-05-20T09:53:42.093Z"
   },
   {
    "duration": 7,
    "start_time": "2024-05-20T09:53:42.100Z"
   },
   {
    "duration": 1130,
    "start_time": "2024-05-24T17:15:29.994Z"
   },
   {
    "duration": 263,
    "start_time": "2024-05-24T17:15:31.126Z"
   },
   {
    "duration": 15,
    "start_time": "2024-05-24T17:15:31.391Z"
   },
   {
    "duration": 48,
    "start_time": "2024-05-24T17:15:31.409Z"
   },
   {
    "duration": 304,
    "start_time": "2024-05-24T17:15:31.459Z"
   },
   {
    "duration": 11,
    "start_time": "2024-05-24T17:15:31.764Z"
   },
   {
    "duration": 124,
    "start_time": "2024-05-24T17:15:31.776Z"
   },
   {
    "duration": 448,
    "start_time": "2024-05-24T17:15:31.902Z"
   },
   {
    "duration": 7,
    "start_time": "2024-05-24T17:15:32.352Z"
   },
   {
    "duration": 108,
    "start_time": "2024-05-24T17:15:32.362Z"
   },
   {
    "duration": 185,
    "start_time": "2024-05-24T17:15:32.472Z"
   },
   {
    "duration": 206,
    "start_time": "2024-05-24T17:15:32.658Z"
   },
   {
    "duration": 87,
    "start_time": "2024-05-24T17:15:32.866Z"
   },
   {
    "duration": 71,
    "start_time": "2024-05-24T17:15:32.955Z"
   },
   {
    "duration": 57,
    "start_time": "2024-05-24T17:15:33.028Z"
   },
   {
    "duration": 79,
    "start_time": "2024-05-24T17:15:33.087Z"
   },
   {
    "duration": 116,
    "start_time": "2024-05-24T17:15:33.167Z"
   },
   {
    "duration": 9,
    "start_time": "2024-05-24T17:15:33.284Z"
   },
   {
    "duration": 10,
    "start_time": "2024-05-24T17:15:33.295Z"
   },
   {
    "duration": 7,
    "start_time": "2024-05-24T17:15:33.306Z"
   },
   {
    "duration": 12,
    "start_time": "2024-05-24T17:15:33.314Z"
   },
   {
    "duration": 9,
    "start_time": "2024-05-24T17:15:33.328Z"
   },
   {
    "duration": 13,
    "start_time": "2024-05-24T17:15:33.339Z"
   },
   {
    "duration": 14,
    "start_time": "2024-05-24T17:15:33.354Z"
   },
   {
    "duration": 15,
    "start_time": "2024-05-24T17:15:33.369Z"
   },
   {
    "duration": 192,
    "start_time": "2024-05-24T17:15:33.386Z"
   },
   {
    "duration": 112,
    "start_time": "2024-05-24T17:15:33.580Z"
   },
   {
    "duration": 187,
    "start_time": "2024-05-24T17:15:33.697Z"
   },
   {
    "duration": 10,
    "start_time": "2024-05-24T17:15:33.886Z"
   },
   {
    "duration": 320,
    "start_time": "2024-05-24T17:15:33.897Z"
   },
   {
    "duration": 15,
    "start_time": "2024-05-24T17:15:34.218Z"
   },
   {
    "duration": 15,
    "start_time": "2024-05-24T17:15:34.235Z"
   },
   {
    "duration": 2,
    "start_time": "2024-05-24T17:15:34.251Z"
   },
   {
    "duration": 9,
    "start_time": "2024-05-24T17:15:34.255Z"
   },
   {
    "duration": 153,
    "start_time": "2024-05-24T17:15:34.266Z"
   },
   {
    "duration": 15,
    "start_time": "2024-05-24T17:15:34.421Z"
   },
   {
    "duration": 10,
    "start_time": "2024-05-24T17:15:34.437Z"
   },
   {
    "duration": 7,
    "start_time": "2024-05-24T17:15:34.449Z"
   },
   {
    "duration": 10,
    "start_time": "2024-05-24T17:15:34.458Z"
   },
   {
    "duration": 10,
    "start_time": "2024-05-24T17:15:34.469Z"
   },
   {
    "duration": 63,
    "start_time": "2024-05-24T17:15:34.480Z"
   },
   {
    "duration": 9,
    "start_time": "2024-05-24T17:15:34.545Z"
   },
   {
    "duration": 15,
    "start_time": "2024-05-24T17:15:34.555Z"
   },
   {
    "duration": 10,
    "start_time": "2024-05-24T17:15:34.571Z"
   },
   {
    "duration": 17,
    "start_time": "2024-05-24T17:15:34.582Z"
   },
   {
    "duration": 17,
    "start_time": "2024-05-24T17:15:34.630Z"
   },
   {
    "duration": 350,
    "start_time": "2024-05-24T17:15:34.648Z"
   },
   {
    "duration": 182,
    "start_time": "2024-05-24T17:15:35.000Z"
   },
   {
    "duration": 9,
    "start_time": "2024-05-24T17:15:35.184Z"
   },
   {
    "duration": 305,
    "start_time": "2024-05-24T17:15:35.195Z"
   },
   {
    "duration": 10,
    "start_time": "2024-05-24T17:15:35.501Z"
   },
   {
    "duration": 23,
    "start_time": "2024-05-24T17:15:35.513Z"
   },
   {
    "duration": 3,
    "start_time": "2024-05-24T17:15:35.538Z"
   },
   {
    "duration": 10,
    "start_time": "2024-05-24T17:15:35.542Z"
   },
   {
    "duration": 45,
    "start_time": "2024-05-24T17:15:35.554Z"
   },
   {
    "duration": 285,
    "start_time": "2024-05-24T17:15:35.601Z"
   },
   {
    "duration": 148,
    "start_time": "2024-05-24T17:15:35.887Z"
   },
   {
    "duration": 5,
    "start_time": "2024-05-24T17:15:36.036Z"
   },
   {
    "duration": 311,
    "start_time": "2024-05-24T17:15:36.042Z"
   },
   {
    "duration": 6,
    "start_time": "2024-05-24T17:15:36.354Z"
   },
   {
    "duration": 5,
    "start_time": "2024-05-24T17:15:36.362Z"
   },
   {
    "duration": 13,
    "start_time": "2024-05-24T17:15:36.368Z"
   },
   {
    "duration": 1050,
    "start_time": "2024-05-25T14:01:00.920Z"
   },
   {
    "duration": 250,
    "start_time": "2024-05-25T14:01:01.972Z"
   },
   {
    "duration": 15,
    "start_time": "2024-05-25T14:01:02.224Z"
   },
   {
    "duration": 18,
    "start_time": "2024-05-25T14:01:02.242Z"
   },
   {
    "duration": 310,
    "start_time": "2024-05-25T14:01:02.262Z"
   },
   {
    "duration": 10,
    "start_time": "2024-05-25T14:01:02.574Z"
   },
   {
    "duration": 20,
    "start_time": "2024-05-25T14:01:02.586Z"
   },
   {
    "duration": 375,
    "start_time": "2024-05-25T14:01:02.608Z"
   },
   {
    "duration": 7,
    "start_time": "2024-05-25T14:01:02.984Z"
   },
   {
    "duration": 16,
    "start_time": "2024-05-25T14:01:02.993Z"
   },
   {
    "duration": 18,
    "start_time": "2024-05-25T14:01:03.010Z"
   },
   {
    "duration": 11,
    "start_time": "2024-05-25T14:01:03.030Z"
   },
   {
    "duration": 6,
    "start_time": "2024-05-25T14:01:03.042Z"
   },
   {
    "duration": 19,
    "start_time": "2024-05-25T14:01:03.049Z"
   },
   {
    "duration": 19,
    "start_time": "2024-05-25T14:01:03.069Z"
   },
   {
    "duration": 10,
    "start_time": "2024-05-25T14:01:03.090Z"
   },
   {
    "duration": 6,
    "start_time": "2024-05-25T14:01:03.102Z"
   },
   {
    "duration": 7,
    "start_time": "2024-05-25T14:01:03.110Z"
   },
   {
    "duration": 15,
    "start_time": "2024-05-25T14:01:03.119Z"
   },
   {
    "duration": 22,
    "start_time": "2024-05-25T14:01:03.136Z"
   },
   {
    "duration": 8,
    "start_time": "2024-05-25T14:01:03.159Z"
   },
   {
    "duration": 10,
    "start_time": "2024-05-25T14:01:03.168Z"
   },
   {
    "duration": 12,
    "start_time": "2024-05-25T14:01:03.179Z"
   },
   {
    "duration": 6,
    "start_time": "2024-05-25T14:01:03.193Z"
   },
   {
    "duration": 5,
    "start_time": "2024-05-25T14:01:03.200Z"
   },
   {
    "duration": 179,
    "start_time": "2024-05-25T14:01:03.206Z"
   },
   {
    "duration": 101,
    "start_time": "2024-05-25T14:01:03.386Z"
   },
   {
    "duration": 169,
    "start_time": "2024-05-25T14:01:03.491Z"
   },
   {
    "duration": 8,
    "start_time": "2024-05-25T14:01:03.662Z"
   },
   {
    "duration": 316,
    "start_time": "2024-05-25T14:01:03.672Z"
   },
   {
    "duration": 9,
    "start_time": "2024-05-25T14:01:03.989Z"
   },
   {
    "duration": 14,
    "start_time": "2024-05-25T14:01:04.000Z"
   },
   {
    "duration": 2,
    "start_time": "2024-05-25T14:01:04.016Z"
   },
   {
    "duration": 15,
    "start_time": "2024-05-25T14:01:04.020Z"
   },
   {
    "duration": 172,
    "start_time": "2024-05-25T14:01:04.036Z"
   },
   {
    "duration": 10,
    "start_time": "2024-05-25T14:01:04.210Z"
   },
   {
    "duration": 16,
    "start_time": "2024-05-25T14:01:04.222Z"
   },
   {
    "duration": 25,
    "start_time": "2024-05-25T14:01:04.240Z"
   },
   {
    "duration": 9,
    "start_time": "2024-05-25T14:01:04.267Z"
   },
   {
    "duration": 12,
    "start_time": "2024-05-25T14:01:04.278Z"
   },
   {
    "duration": 40,
    "start_time": "2024-05-25T14:01:04.292Z"
   },
   {
    "duration": 41,
    "start_time": "2024-05-25T14:01:04.333Z"
   },
   {
    "duration": 21,
    "start_time": "2024-05-25T14:01:04.376Z"
   },
   {
    "duration": 11,
    "start_time": "2024-05-25T14:01:04.399Z"
   },
   {
    "duration": 50,
    "start_time": "2024-05-25T14:01:04.412Z"
   },
   {
    "duration": 17,
    "start_time": "2024-05-25T14:01:04.464Z"
   },
   {
    "duration": 328,
    "start_time": "2024-05-25T14:01:04.482Z"
   },
   {
    "duration": 163,
    "start_time": "2024-05-25T14:01:04.812Z"
   },
   {
    "duration": 9,
    "start_time": "2024-05-25T14:01:04.976Z"
   },
   {
    "duration": 251,
    "start_time": "2024-05-25T14:01:04.986Z"
   },
   {
    "duration": 10,
    "start_time": "2024-05-25T14:01:05.238Z"
   },
   {
    "duration": 8,
    "start_time": "2024-05-25T14:01:05.261Z"
   },
   {
    "duration": 26,
    "start_time": "2024-05-25T14:01:05.270Z"
   },
   {
    "duration": 16,
    "start_time": "2024-05-25T14:01:05.298Z"
   },
   {
    "duration": 53,
    "start_time": "2024-05-25T14:01:05.316Z"
   },
   {
    "duration": 272,
    "start_time": "2024-05-25T14:01:05.371Z"
   },
   {
    "duration": 138,
    "start_time": "2024-05-25T14:01:05.645Z"
   },
   {
    "duration": 5,
    "start_time": "2024-05-25T14:01:05.785Z"
   },
   {
    "duration": 316,
    "start_time": "2024-05-25T14:01:05.792Z"
   },
   {
    "duration": 6,
    "start_time": "2024-05-25T14:01:06.109Z"
   },
   {
    "duration": 9,
    "start_time": "2024-05-25T14:01:06.117Z"
   },
   {
    "duration": 19,
    "start_time": "2024-05-25T14:01:06.128Z"
   },
   {
    "duration": 1030,
    "start_time": "2024-07-09T19:32:19.503Z"
   },
   {
    "duration": 343,
    "start_time": "2024-07-09T19:32:20.535Z"
   },
   {
    "duration": 13,
    "start_time": "2024-07-09T19:32:20.879Z"
   },
   {
    "duration": 10,
    "start_time": "2024-07-09T19:32:20.895Z"
   },
   {
    "duration": 243,
    "start_time": "2024-07-09T19:32:20.906Z"
   },
   {
    "duration": 9,
    "start_time": "2024-07-09T19:32:21.151Z"
   },
   {
    "duration": 34,
    "start_time": "2024-07-09T19:32:21.162Z"
   },
   {
    "duration": 311,
    "start_time": "2024-07-09T19:32:21.197Z"
   },
   {
    "duration": 10,
    "start_time": "2024-07-09T19:32:21.510Z"
   },
   {
    "duration": 26,
    "start_time": "2024-07-09T19:32:21.522Z"
   },
   {
    "duration": 23,
    "start_time": "2024-07-09T19:32:21.549Z"
   },
   {
    "duration": 4,
    "start_time": "2024-07-09T19:32:21.574Z"
   },
   {
    "duration": 4,
    "start_time": "2024-07-09T19:32:21.580Z"
   },
   {
    "duration": 12,
    "start_time": "2024-07-09T19:32:21.585Z"
   },
   {
    "duration": 7,
    "start_time": "2024-07-09T19:32:21.598Z"
   },
   {
    "duration": 8,
    "start_time": "2024-07-09T19:32:21.607Z"
   },
   {
    "duration": 9,
    "start_time": "2024-07-09T19:32:21.617Z"
   },
   {
    "duration": 6,
    "start_time": "2024-07-09T19:32:21.628Z"
   },
   {
    "duration": 6,
    "start_time": "2024-07-09T19:32:21.635Z"
   },
   {
    "duration": 23,
    "start_time": "2024-07-09T19:32:21.643Z"
   },
   {
    "duration": 4,
    "start_time": "2024-07-09T19:32:21.667Z"
   },
   {
    "duration": 14,
    "start_time": "2024-07-09T19:32:21.672Z"
   },
   {
    "duration": 30,
    "start_time": "2024-07-09T19:32:21.688Z"
   },
   {
    "duration": 18,
    "start_time": "2024-07-09T19:32:21.719Z"
   },
   {
    "duration": 10,
    "start_time": "2024-07-09T19:32:21.738Z"
   },
   {
    "duration": 173,
    "start_time": "2024-07-09T19:32:21.750Z"
   },
   {
    "duration": 96,
    "start_time": "2024-07-09T19:32:21.924Z"
   },
   {
    "duration": 169,
    "start_time": "2024-07-09T19:32:22.026Z"
   },
   {
    "duration": 7,
    "start_time": "2024-07-09T19:32:22.197Z"
   },
   {
    "duration": 311,
    "start_time": "2024-07-09T19:32:22.205Z"
   },
   {
    "duration": 8,
    "start_time": "2024-07-09T19:32:22.519Z"
   },
   {
    "duration": 19,
    "start_time": "2024-07-09T19:32:22.528Z"
   },
   {
    "duration": 2,
    "start_time": "2024-07-09T19:32:22.549Z"
   },
   {
    "duration": 12,
    "start_time": "2024-07-09T19:32:22.553Z"
   },
   {
    "duration": 173,
    "start_time": "2024-07-09T19:32:22.567Z"
   },
   {
    "duration": 7,
    "start_time": "2024-07-09T19:32:22.742Z"
   },
   {
    "duration": 50,
    "start_time": "2024-07-09T19:32:22.750Z"
   },
   {
    "duration": 6,
    "start_time": "2024-07-09T19:32:22.802Z"
   },
   {
    "duration": 6,
    "start_time": "2024-07-09T19:32:22.809Z"
   },
   {
    "duration": 8,
    "start_time": "2024-07-09T19:32:22.816Z"
   },
   {
    "duration": 27,
    "start_time": "2024-07-09T19:32:22.825Z"
   },
   {
    "duration": 7,
    "start_time": "2024-07-09T19:32:22.854Z"
   },
   {
    "duration": 43,
    "start_time": "2024-07-09T19:32:22.862Z"
   },
   {
    "duration": 11,
    "start_time": "2024-07-09T19:32:22.906Z"
   },
   {
    "duration": 14,
    "start_time": "2024-07-09T19:32:22.919Z"
   },
   {
    "duration": 13,
    "start_time": "2024-07-09T19:32:22.935Z"
   },
   {
    "duration": 270,
    "start_time": "2024-07-09T19:32:22.950Z"
   },
   {
    "duration": 140,
    "start_time": "2024-07-09T19:32:23.222Z"
   },
   {
    "duration": 7,
    "start_time": "2024-07-09T19:32:23.363Z"
   },
   {
    "duration": 236,
    "start_time": "2024-07-09T19:32:23.371Z"
   },
   {
    "duration": 18,
    "start_time": "2024-07-09T19:32:23.609Z"
   },
   {
    "duration": 48,
    "start_time": "2024-07-09T19:32:23.628Z"
   },
   {
    "duration": 40,
    "start_time": "2024-07-09T19:32:23.677Z"
   },
   {
    "duration": 13,
    "start_time": "2024-07-09T19:32:23.719Z"
   },
   {
    "duration": 117,
    "start_time": "2024-07-09T19:32:23.734Z"
   },
   {
    "duration": 568,
    "start_time": "2024-07-09T19:32:23.853Z"
   },
   {
    "duration": 223,
    "start_time": "2024-07-09T19:32:24.423Z"
   },
   {
    "duration": 4,
    "start_time": "2024-07-09T19:32:24.647Z"
   },
   {
    "duration": 468,
    "start_time": "2024-07-09T19:32:24.653Z"
   },
   {
    "duration": 5,
    "start_time": "2024-07-09T19:32:25.122Z"
   },
   {
    "duration": 10,
    "start_time": "2024-07-09T19:32:25.129Z"
   },
   {
    "duration": 13,
    "start_time": "2024-07-09T19:32:25.141Z"
   },
   {
    "duration": 1164,
    "start_time": "2024-08-03T16:34:20.253Z"
   },
   {
    "duration": 330,
    "start_time": "2024-08-03T16:34:21.419Z"
   },
   {
    "duration": 15,
    "start_time": "2024-08-03T16:34:21.751Z"
   },
   {
    "duration": 11,
    "start_time": "2024-08-03T16:34:21.769Z"
   },
   {
    "duration": 312,
    "start_time": "2024-08-03T16:34:21.781Z"
   },
   {
    "duration": 9,
    "start_time": "2024-08-03T16:34:22.095Z"
   },
   {
    "duration": 11,
    "start_time": "2024-08-03T16:34:22.106Z"
   },
   {
    "duration": 338,
    "start_time": "2024-08-03T16:34:22.119Z"
   },
   {
    "duration": 8,
    "start_time": "2024-08-03T16:34:22.458Z"
   },
   {
    "duration": 10,
    "start_time": "2024-08-03T16:34:22.469Z"
   },
   {
    "duration": 8,
    "start_time": "2024-08-03T16:34:22.481Z"
   },
   {
    "duration": 12,
    "start_time": "2024-08-03T16:34:22.491Z"
   },
   {
    "duration": 5,
    "start_time": "2024-08-03T16:34:22.504Z"
   },
   {
    "duration": 36,
    "start_time": "2024-08-03T16:34:22.511Z"
   },
   {
    "duration": 6,
    "start_time": "2024-08-03T16:34:22.548Z"
   },
   {
    "duration": 8,
    "start_time": "2024-08-03T16:34:22.555Z"
   },
   {
    "duration": 6,
    "start_time": "2024-08-03T16:34:22.564Z"
   },
   {
    "duration": 8,
    "start_time": "2024-08-03T16:34:22.571Z"
   },
   {
    "duration": 6,
    "start_time": "2024-08-03T16:34:22.580Z"
   },
   {
    "duration": 6,
    "start_time": "2024-08-03T16:34:22.588Z"
   },
   {
    "duration": 5,
    "start_time": "2024-08-03T16:34:22.595Z"
   },
   {
    "duration": 47,
    "start_time": "2024-08-03T16:34:22.601Z"
   },
   {
    "duration": 8,
    "start_time": "2024-08-03T16:34:22.650Z"
   },
   {
    "duration": 5,
    "start_time": "2024-08-03T16:34:22.660Z"
   },
   {
    "duration": 23,
    "start_time": "2024-08-03T16:34:22.666Z"
   },
   {
    "duration": 170,
    "start_time": "2024-08-03T16:34:22.691Z"
   },
   {
    "duration": 103,
    "start_time": "2024-08-03T16:34:22.862Z"
   },
   {
    "duration": 178,
    "start_time": "2024-08-03T16:34:22.968Z"
   },
   {
    "duration": 9,
    "start_time": "2024-08-03T16:34:23.147Z"
   },
   {
    "duration": 319,
    "start_time": "2024-08-03T16:34:23.157Z"
   },
   {
    "duration": 9,
    "start_time": "2024-08-03T16:34:23.478Z"
   },
   {
    "duration": 142,
    "start_time": "2024-08-03T16:34:23.489Z"
   },
   {
    "duration": 48,
    "start_time": "2024-08-03T16:34:23.633Z"
   },
   {
    "duration": 242,
    "start_time": "2024-08-03T16:34:23.683Z"
   },
   {
    "duration": 154,
    "start_time": "2024-08-03T16:34:23.927Z"
   },
   {
    "duration": 8,
    "start_time": "2024-08-03T16:34:24.083Z"
   },
   {
    "duration": 24,
    "start_time": "2024-08-03T16:34:24.093Z"
   },
   {
    "duration": 12,
    "start_time": "2024-08-03T16:34:24.119Z"
   },
   {
    "duration": 17,
    "start_time": "2024-08-03T16:34:24.132Z"
   },
   {
    "duration": 46,
    "start_time": "2024-08-03T16:34:24.151Z"
   },
   {
    "duration": 61,
    "start_time": "2024-08-03T16:34:24.199Z"
   },
   {
    "duration": 14,
    "start_time": "2024-08-03T16:34:24.262Z"
   },
   {
    "duration": 20,
    "start_time": "2024-08-03T16:34:24.278Z"
   },
   {
    "duration": 10,
    "start_time": "2024-08-03T16:34:24.300Z"
   },
   {
    "duration": 43,
    "start_time": "2024-08-03T16:34:24.311Z"
   },
   {
    "duration": 16,
    "start_time": "2024-08-03T16:34:24.356Z"
   },
   {
    "duration": 352,
    "start_time": "2024-08-03T16:34:24.373Z"
   },
   {
    "duration": 160,
    "start_time": "2024-08-03T16:34:24.727Z"
   },
   {
    "duration": 9,
    "start_time": "2024-08-03T16:34:24.888Z"
   },
   {
    "duration": 262,
    "start_time": "2024-08-03T16:34:24.898Z"
   },
   {
    "duration": 9,
    "start_time": "2024-08-03T16:34:25.161Z"
   },
   {
    "duration": 16,
    "start_time": "2024-08-03T16:34:25.171Z"
   },
   {
    "duration": 2,
    "start_time": "2024-08-03T16:34:25.189Z"
   },
   {
    "duration": 14,
    "start_time": "2024-08-03T16:34:25.192Z"
   },
   {
    "duration": 63,
    "start_time": "2024-08-03T16:34:25.208Z"
   },
   {
    "duration": 272,
    "start_time": "2024-08-03T16:34:25.274Z"
   },
   {
    "duration": 138,
    "start_time": "2024-08-03T16:34:25.548Z"
   },
   {
    "duration": 4,
    "start_time": "2024-08-03T16:34:25.688Z"
   },
   {
    "duration": 469,
    "start_time": "2024-08-03T16:34:25.694Z"
   },
   {
    "duration": 6,
    "start_time": "2024-08-03T16:34:26.165Z"
   },
   {
    "duration": 19,
    "start_time": "2024-08-03T16:34:26.173Z"
   },
   {
    "duration": 8,
    "start_time": "2024-08-03T16:34:26.194Z"
   },
   {
    "duration": 1228,
    "start_time": "2024-11-25T17:24:25.855Z"
   },
   {
    "duration": 418,
    "start_time": "2024-11-25T17:24:27.085Z"
   },
   {
    "duration": 14,
    "start_time": "2024-11-25T17:24:27.504Z"
   },
   {
    "duration": 58,
    "start_time": "2024-11-25T17:24:27.520Z"
   },
   {
    "duration": 459,
    "start_time": "2024-11-25T17:24:27.580Z"
   },
   {
    "duration": 10,
    "start_time": "2024-11-25T17:24:28.041Z"
   },
   {
    "duration": 27,
    "start_time": "2024-11-25T17:24:28.052Z"
   },
   {
    "duration": 334,
    "start_time": "2024-11-25T17:24:28.081Z"
   },
   {
    "duration": 7,
    "start_time": "2024-11-25T17:24:28.417Z"
   },
   {
    "duration": 120,
    "start_time": "2024-11-25T17:24:28.427Z"
   },
   {
    "duration": 6,
    "start_time": "2024-11-25T17:24:28.549Z"
   },
   {
    "duration": 7,
    "start_time": "2024-11-25T17:24:28.557Z"
   },
   {
    "duration": 4,
    "start_time": "2024-11-25T17:24:28.565Z"
   },
   {
    "duration": 8,
    "start_time": "2024-11-25T17:24:28.571Z"
   },
   {
    "duration": 5,
    "start_time": "2024-11-25T17:24:28.581Z"
   },
   {
    "duration": 9,
    "start_time": "2024-11-25T17:24:28.588Z"
   },
   {
    "duration": 5,
    "start_time": "2024-11-25T17:24:28.599Z"
   },
   {
    "duration": 5,
    "start_time": "2024-11-25T17:24:28.605Z"
   },
   {
    "duration": 4,
    "start_time": "2024-11-25T17:24:28.612Z"
   },
   {
    "duration": 7,
    "start_time": "2024-11-25T17:24:28.617Z"
   },
   {
    "duration": 42,
    "start_time": "2024-11-25T17:24:28.625Z"
   },
   {
    "duration": 17,
    "start_time": "2024-11-25T17:24:28.668Z"
   },
   {
    "duration": 10,
    "start_time": "2024-11-25T17:24:28.686Z"
   },
   {
    "duration": 5,
    "start_time": "2024-11-25T17:24:28.698Z"
   },
   {
    "duration": 5,
    "start_time": "2024-11-25T17:24:28.705Z"
   },
   {
    "duration": 185,
    "start_time": "2024-11-25T17:24:28.712Z"
   },
   {
    "duration": 100,
    "start_time": "2024-11-25T17:24:28.899Z"
   },
   {
    "duration": 169,
    "start_time": "2024-11-25T17:24:29.003Z"
   },
   {
    "duration": 8,
    "start_time": "2024-11-25T17:24:29.173Z"
   },
   {
    "duration": 351,
    "start_time": "2024-11-25T17:24:29.183Z"
   },
   {
    "duration": 10,
    "start_time": "2024-11-25T17:24:29.535Z"
   },
   {
    "duration": 61,
    "start_time": "2024-11-25T17:24:29.546Z"
   },
   {
    "duration": 3,
    "start_time": "2024-11-25T17:24:29.608Z"
   },
   {
    "duration": 4,
    "start_time": "2024-11-25T17:24:29.612Z"
   },
   {
    "duration": 143,
    "start_time": "2024-11-25T17:24:29.618Z"
   },
   {
    "duration": 8,
    "start_time": "2024-11-25T17:24:29.765Z"
   },
   {
    "duration": 10,
    "start_time": "2024-11-25T17:24:29.775Z"
   },
   {
    "duration": 7,
    "start_time": "2024-11-25T17:24:29.786Z"
   },
   {
    "duration": 5,
    "start_time": "2024-11-25T17:24:29.795Z"
   },
   {
    "duration": 9,
    "start_time": "2024-11-25T17:24:29.801Z"
   },
   {
    "duration": 80,
    "start_time": "2024-11-25T17:24:29.812Z"
   },
   {
    "duration": 11,
    "start_time": "2024-11-25T17:24:29.893Z"
   },
   {
    "duration": 17,
    "start_time": "2024-11-25T17:24:29.906Z"
   },
   {
    "duration": 10,
    "start_time": "2024-11-25T17:24:29.925Z"
   },
   {
    "duration": 43,
    "start_time": "2024-11-25T17:24:29.937Z"
   },
   {
    "duration": 16,
    "start_time": "2024-11-25T17:24:29.981Z"
   },
   {
    "duration": 345,
    "start_time": "2024-11-25T17:24:29.999Z"
   },
   {
    "duration": 161,
    "start_time": "2024-11-25T17:24:30.346Z"
   },
   {
    "duration": 8,
    "start_time": "2024-11-25T17:24:30.508Z"
   },
   {
    "duration": 320,
    "start_time": "2024-11-25T17:24:30.517Z"
   },
   {
    "duration": 9,
    "start_time": "2024-11-25T17:24:30.839Z"
   },
   {
    "duration": 27,
    "start_time": "2024-11-25T17:24:30.849Z"
   },
   {
    "duration": 3,
    "start_time": "2024-11-25T17:24:30.877Z"
   },
   {
    "duration": 8,
    "start_time": "2024-11-25T17:24:30.881Z"
   },
   {
    "duration": 66,
    "start_time": "2024-11-25T17:24:30.890Z"
   },
   {
    "duration": 243,
    "start_time": "2024-11-25T17:24:30.958Z"
   },
   {
    "duration": 139,
    "start_time": "2024-11-25T17:24:31.203Z"
   },
   {
    "duration": 5,
    "start_time": "2024-11-25T17:24:31.343Z"
   },
   {
    "duration": 324,
    "start_time": "2024-11-25T17:24:31.349Z"
   },
   {
    "duration": 6,
    "start_time": "2024-11-25T17:24:31.674Z"
   },
   {
    "duration": 4,
    "start_time": "2024-11-25T17:24:31.681Z"
   },
   {
    "duration": 7,
    "start_time": "2024-11-25T17:24:31.687Z"
   },
   {
    "duration": 4,
    "start_time": "2024-11-25T17:24:51.136Z"
   },
   {
    "duration": 5,
    "start_time": "2024-11-25T17:25:00.187Z"
   }
  ],
  "kernelspec": {
   "display_name": "Python 3 (ipykernel)",
   "language": "python",
   "name": "python3"
  },
  "language_info": {
   "codemirror_mode": {
    "name": "ipython",
    "version": 3
   },
   "file_extension": ".py",
   "mimetype": "text/x-python",
   "name": "python",
   "nbconvert_exporter": "python",
   "pygments_lexer": "ipython3",
   "version": "3.9.5"
  },
  "toc": {
   "base_numbering": 1,
   "nav_menu": {
    "height": "97.4px",
    "width": "160px"
   },
   "number_sections": true,
   "sideBar": true,
   "skip_h1_title": true,
   "title_cell": "Table of Contents",
   "title_sidebar": "Contents",
   "toc_cell": false,
   "toc_position": {
    "height": "calc(100% - 180px)",
    "left": "10px",
    "top": "150px",
    "width": "300.267px"
   },
   "toc_section_display": true,
   "toc_window_display": true
  }
 },
 "nbformat": 4,
 "nbformat_minor": 5
}
